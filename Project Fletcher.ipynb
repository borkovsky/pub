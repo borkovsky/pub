{
 "cells": [
  {
   "cell_type": "markdown",
   "metadata": {},
   "source": [
    "# Importing Libraries"
   ]
  },
  {
   "cell_type": "code",
   "execution_count": 3,
   "metadata": {},
   "outputs": [],
   "source": [
    "import pandas as pd\n",
    "import numpy as np\n",
    "import itertools\n",
    "\n",
    "import matplotlib.pyplot as plt\n",
    "%matplotlib inline\n",
    "\n",
    "import seaborn as sns\n",
    "\n",
    "from sklearn import metrics\n",
    "from sklearn.metrics import pairwise_distances\n",
    "from sklearn.metrics import confusion_matrix\n",
    "from sklearn.metrics import silhouette_score\n",
    "from sklearn.preprocessing import scale\n",
    "from sklearn.cluster import KMeans\n",
    "from sklearn.utils import shuffle\n",
    "\n",
    "\n",
    "from sklearn.linear_model import LogisticRegression\n",
    "from sklearn.model_selection import train_test_split\n",
    "\n",
    "from sklearn.feature_extraction.text import CountVectorizer\n",
    "from sklearn.feature_extraction.text import TfidfVectorizer\n",
    "\n",
    "from nltk.corpus import stopwords\n",
    "from nltk.stem import PorterStemmer\n",
    "\n",
    "from gensim.models import Word2Vec             "
   ]
  },
  {
   "cell_type": "markdown",
   "metadata": {},
   "source": [
    "# EDA"
   ]
  },
  {
   "cell_type": "code",
   "execution_count": 86,
   "metadata": {},
   "outputs": [],
   "source": [
    "df = pd.read_csv('/Users/iris/Documents/projects/fletcher/Reviews.csv')"
   ]
  },
  {
   "cell_type": "code",
   "execution_count": 87,
   "metadata": {
    "collapsed": true
   },
   "outputs": [
    {
     "data": {
      "text/html": [
       "<div>\n",
       "<style scoped>\n",
       "    .dataframe tbody tr th:only-of-type {\n",
       "        vertical-align: middle;\n",
       "    }\n",
       "\n",
       "    .dataframe tbody tr th {\n",
       "        vertical-align: top;\n",
       "    }\n",
       "\n",
       "    .dataframe thead th {\n",
       "        text-align: right;\n",
       "    }\n",
       "</style>\n",
       "<table border=\"1\" class=\"dataframe\">\n",
       "  <thead>\n",
       "    <tr style=\"text-align: right;\">\n",
       "      <th></th>\n",
       "      <th>Id</th>\n",
       "      <th>ProductId</th>\n",
       "      <th>UserId</th>\n",
       "      <th>ProfileName</th>\n",
       "      <th>HelpfulnessNumerator</th>\n",
       "      <th>HelpfulnessDenominator</th>\n",
       "      <th>Score</th>\n",
       "      <th>Time</th>\n",
       "      <th>Summary</th>\n",
       "      <th>Text</th>\n",
       "    </tr>\n",
       "  </thead>\n",
       "  <tbody>\n",
       "    <tr>\n",
       "      <th>0</th>\n",
       "      <td>1</td>\n",
       "      <td>B001E4KFG0</td>\n",
       "      <td>A3SGXH7AUHU8GW</td>\n",
       "      <td>delmartian</td>\n",
       "      <td>1</td>\n",
       "      <td>1</td>\n",
       "      <td>5</td>\n",
       "      <td>1303862400</td>\n",
       "      <td>Good Quality Dog Food</td>\n",
       "      <td>I have bought several of the Vitality canned d...</td>\n",
       "    </tr>\n",
       "    <tr>\n",
       "      <th>1</th>\n",
       "      <td>2</td>\n",
       "      <td>B00813GRG4</td>\n",
       "      <td>A1D87F6ZCVE5NK</td>\n",
       "      <td>dll pa</td>\n",
       "      <td>0</td>\n",
       "      <td>0</td>\n",
       "      <td>1</td>\n",
       "      <td>1346976000</td>\n",
       "      <td>Not as Advertised</td>\n",
       "      <td>Product arrived labeled as Jumbo Salted Peanut...</td>\n",
       "    </tr>\n",
       "  </tbody>\n",
       "</table>\n",
       "</div>"
      ],
      "text/plain": [
       "   Id   ProductId          UserId ProfileName  HelpfulnessNumerator  \\\n",
       "0   1  B001E4KFG0  A3SGXH7AUHU8GW  delmartian                     1   \n",
       "1   2  B00813GRG4  A1D87F6ZCVE5NK      dll pa                     0   \n",
       "\n",
       "   HelpfulnessDenominator  Score        Time                Summary  \\\n",
       "0                       1      5  1303862400  Good Quality Dog Food   \n",
       "1                       0      1  1346976000      Not as Advertised   \n",
       "\n",
       "                                                Text  \n",
       "0  I have bought several of the Vitality canned d...  \n",
       "1  Product arrived labeled as Jumbo Salted Peanut...  "
      ]
     },
     "execution_count": 87,
     "metadata": {},
     "output_type": "execute_result"
    }
   ],
   "source": [
    "df.head(2)"
   ]
  },
  {
   "cell_type": "code",
   "execution_count": 88,
   "metadata": {
    "collapsed": true
   },
   "outputs": [
    {
     "name": "stdout",
     "output_type": "stream",
     "text": [
      "<class 'pandas.core.frame.DataFrame'>\n",
      "RangeIndex: 568454 entries, 0 to 568453\n",
      "Data columns (total 10 columns):\n",
      "Id                        568454 non-null int64\n",
      "ProductId                 568454 non-null object\n",
      "UserId                    568454 non-null object\n",
      "ProfileName               568438 non-null object\n",
      "HelpfulnessNumerator      568454 non-null int64\n",
      "HelpfulnessDenominator    568454 non-null int64\n",
      "Score                     568454 non-null int64\n",
      "Time                      568454 non-null int64\n",
      "Summary                   568427 non-null object\n",
      "Text                      568454 non-null object\n",
      "dtypes: int64(5), object(5)\n",
      "memory usage: 43.4+ MB\n"
     ]
    }
   ],
   "source": [
    "df.info()"
   ]
  },
  {
   "cell_type": "code",
   "execution_count": 89,
   "metadata": {
    "collapsed": true
   },
   "outputs": [
    {
     "data": {
      "text/html": [
       "<div>\n",
       "<style scoped>\n",
       "    .dataframe tbody tr th:only-of-type {\n",
       "        vertical-align: middle;\n",
       "    }\n",
       "\n",
       "    .dataframe tbody tr th {\n",
       "        vertical-align: top;\n",
       "    }\n",
       "\n",
       "    .dataframe thead th {\n",
       "        text-align: right;\n",
       "    }\n",
       "</style>\n",
       "<table border=\"1\" class=\"dataframe\">\n",
       "  <thead>\n",
       "    <tr style=\"text-align: right;\">\n",
       "      <th></th>\n",
       "      <th>Id</th>\n",
       "      <th>HelpfulnessNumerator</th>\n",
       "      <th>HelpfulnessDenominator</th>\n",
       "      <th>Score</th>\n",
       "      <th>Time</th>\n",
       "    </tr>\n",
       "  </thead>\n",
       "  <tbody>\n",
       "    <tr>\n",
       "      <th>count</th>\n",
       "      <td>568454.000000</td>\n",
       "      <td>568454.000000</td>\n",
       "      <td>568454.00000</td>\n",
       "      <td>568454.000000</td>\n",
       "      <td>5.684540e+05</td>\n",
       "    </tr>\n",
       "    <tr>\n",
       "      <th>mean</th>\n",
       "      <td>284227.500000</td>\n",
       "      <td>1.743817</td>\n",
       "      <td>2.22881</td>\n",
       "      <td>4.183199</td>\n",
       "      <td>1.296257e+09</td>\n",
       "    </tr>\n",
       "    <tr>\n",
       "      <th>std</th>\n",
       "      <td>164098.679298</td>\n",
       "      <td>7.636513</td>\n",
       "      <td>8.28974</td>\n",
       "      <td>1.310436</td>\n",
       "      <td>4.804331e+07</td>\n",
       "    </tr>\n",
       "    <tr>\n",
       "      <th>min</th>\n",
       "      <td>1.000000</td>\n",
       "      <td>0.000000</td>\n",
       "      <td>0.00000</td>\n",
       "      <td>1.000000</td>\n",
       "      <td>9.393408e+08</td>\n",
       "    </tr>\n",
       "    <tr>\n",
       "      <th>25%</th>\n",
       "      <td>142114.250000</td>\n",
       "      <td>0.000000</td>\n",
       "      <td>0.00000</td>\n",
       "      <td>4.000000</td>\n",
       "      <td>1.271290e+09</td>\n",
       "    </tr>\n",
       "    <tr>\n",
       "      <th>50%</th>\n",
       "      <td>284227.500000</td>\n",
       "      <td>0.000000</td>\n",
       "      <td>1.00000</td>\n",
       "      <td>5.000000</td>\n",
       "      <td>1.311120e+09</td>\n",
       "    </tr>\n",
       "    <tr>\n",
       "      <th>75%</th>\n",
       "      <td>426340.750000</td>\n",
       "      <td>2.000000</td>\n",
       "      <td>2.00000</td>\n",
       "      <td>5.000000</td>\n",
       "      <td>1.332720e+09</td>\n",
       "    </tr>\n",
       "    <tr>\n",
       "      <th>max</th>\n",
       "      <td>568454.000000</td>\n",
       "      <td>866.000000</td>\n",
       "      <td>923.00000</td>\n",
       "      <td>5.000000</td>\n",
       "      <td>1.351210e+09</td>\n",
       "    </tr>\n",
       "  </tbody>\n",
       "</table>\n",
       "</div>"
      ],
      "text/plain": [
       "                  Id  HelpfulnessNumerator  HelpfulnessDenominator  \\\n",
       "count  568454.000000         568454.000000            568454.00000   \n",
       "mean   284227.500000              1.743817                 2.22881   \n",
       "std    164098.679298              7.636513                 8.28974   \n",
       "min         1.000000              0.000000                 0.00000   \n",
       "25%    142114.250000              0.000000                 0.00000   \n",
       "50%    284227.500000              0.000000                 1.00000   \n",
       "75%    426340.750000              2.000000                 2.00000   \n",
       "max    568454.000000            866.000000               923.00000   \n",
       "\n",
       "               Score          Time  \n",
       "count  568454.000000  5.684540e+05  \n",
       "mean        4.183199  1.296257e+09  \n",
       "std         1.310436  4.804331e+07  \n",
       "min         1.000000  9.393408e+08  \n",
       "25%         4.000000  1.271290e+09  \n",
       "50%         5.000000  1.311120e+09  \n",
       "75%         5.000000  1.332720e+09  \n",
       "max         5.000000  1.351210e+09  "
      ]
     },
     "execution_count": 89,
     "metadata": {},
     "output_type": "execute_result"
    }
   ],
   "source": [
    "df.describe()"
   ]
  },
  {
   "cell_type": "code",
   "execution_count": 90,
   "metadata": {},
   "outputs": [
    {
     "data": {
      "text/plain": [
       "True"
      ]
     },
     "execution_count": 90,
     "metadata": {},
     "output_type": "execute_result"
    }
   ],
   "source": [
    "df.isnull().values.any()"
   ]
  },
  {
   "cell_type": "code",
   "execution_count": 91,
   "metadata": {
    "collapsed": true
   },
   "outputs": [
    {
     "data": {
      "text/plain": [
       "Id                         0\n",
       "ProductId                  0\n",
       "UserId                     0\n",
       "ProfileName               16\n",
       "HelpfulnessNumerator       0\n",
       "HelpfulnessDenominator     0\n",
       "Score                      0\n",
       "Time                       0\n",
       "Summary                   27\n",
       "Text                       0\n",
       "dtype: int64"
      ]
     },
     "execution_count": 91,
     "metadata": {},
     "output_type": "execute_result"
    }
   ],
   "source": [
    "df.isnull().sum()"
   ]
  },
  {
   "cell_type": "code",
   "execution_count": 92,
   "metadata": {},
   "outputs": [],
   "source": [
    "df_working = df.dropna()"
   ]
  },
  {
   "cell_type": "code",
   "execution_count": 93,
   "metadata": {
    "collapsed": true
   },
   "outputs": [
    {
     "name": "stdout",
     "output_type": "stream",
     "text": [
      "<class 'pandas.core.frame.DataFrame'>\n",
      "Int64Index: 568411 entries, 0 to 568453\n",
      "Data columns (total 10 columns):\n",
      "Id                        568411 non-null int64\n",
      "ProductId                 568411 non-null object\n",
      "UserId                    568411 non-null object\n",
      "ProfileName               568411 non-null object\n",
      "HelpfulnessNumerator      568411 non-null int64\n",
      "HelpfulnessDenominator    568411 non-null int64\n",
      "Score                     568411 non-null int64\n",
      "Time                      568411 non-null int64\n",
      "Summary                   568411 non-null object\n",
      "Text                      568411 non-null object\n",
      "dtypes: int64(5), object(5)\n",
      "memory usage: 47.7+ MB\n"
     ]
    }
   ],
   "source": [
    "df_working.info()"
   ]
  },
  {
   "cell_type": "markdown",
   "metadata": {},
   "source": [
    "Interestingly, most reviews are positive (mean is 4.18)"
   ]
  },
  {
   "cell_type": "code",
   "execution_count": 94,
   "metadata": {
    "collapsed": true
   },
   "outputs": [
    {
     "data": {
      "image/png": "[encoded data removed]",
      "text/plain": [
       "<Figure size 432x288 with 1 Axes>"
      ]
     },
     "metadata": {},
     "output_type": "display_data"
    }
   ],
   "source": [
    "df_working.hist(column = 'Score');"
   ]
  },
  {
   "cell_type": "code",
   "execution_count": 95,
   "metadata": {},
   "outputs": [
    {
     "data": {
      "text/plain": [
       "{5: 363111, 4: 80655, 1: 52264, 3: 42638, 2: 29743}"
      ]
     },
     "execution_count": 95,
     "metadata": {},
     "output_type": "execute_result"
    }
   ],
   "source": [
    "## Check out out how many of each score there is\n",
    "score_counts = df_working.Score.value_counts().to_dict()\n",
    "score_counts"
   ]
  },
  {
   "cell_type": "code",
   "execution_count": 96,
   "metadata": {
    "collapsed": true
   },
   "outputs": [
    {
     "data": {
      "text/html": [
       "<div>\n",
       "<style scoped>\n",
       "    .dataframe tbody tr th:only-of-type {\n",
       "        vertical-align: middle;\n",
       "    }\n",
       "\n",
       "    .dataframe tbody tr th {\n",
       "        vertical-align: top;\n",
       "    }\n",
       "\n",
       "    .dataframe thead th {\n",
       "        text-align: right;\n",
       "    }\n",
       "</style>\n",
       "<table border=\"1\" class=\"dataframe\">\n",
       "  <thead>\n",
       "    <tr style=\"text-align: right;\">\n",
       "      <th></th>\n",
       "      <th>Id</th>\n",
       "      <th>HelpfulnessNumerator</th>\n",
       "      <th>HelpfulnessDenominator</th>\n",
       "      <th>Score</th>\n",
       "      <th>Time</th>\n",
       "    </tr>\n",
       "  </thead>\n",
       "  <tbody>\n",
       "    <tr>\n",
       "      <th>count</th>\n",
       "      <td>568411.000000</td>\n",
       "      <td>568411.000000</td>\n",
       "      <td>568411.000000</td>\n",
       "      <td>568411.000000</td>\n",
       "      <td>5.684110e+05</td>\n",
       "    </tr>\n",
       "    <tr>\n",
       "      <th>mean</th>\n",
       "      <td>284227.440964</td>\n",
       "      <td>1.743874</td>\n",
       "      <td>2.227876</td>\n",
       "      <td>4.183309</td>\n",
       "      <td>1.296261e+09</td>\n",
       "    </tr>\n",
       "    <tr>\n",
       "      <th>std</th>\n",
       "      <td>164099.020907</td>\n",
       "      <td>7.636781</td>\n",
       "      <td>8.288752</td>\n",
       "      <td>1.310368</td>\n",
       "      <td>4.803792e+07</td>\n",
       "    </tr>\n",
       "    <tr>\n",
       "      <th>min</th>\n",
       "      <td>1.000000</td>\n",
       "      <td>0.000000</td>\n",
       "      <td>0.000000</td>\n",
       "      <td>1.000000</td>\n",
       "      <td>9.393408e+08</td>\n",
       "    </tr>\n",
       "    <tr>\n",
       "      <th>25%</th>\n",
       "      <td>142114.500000</td>\n",
       "      <td>0.000000</td>\n",
       "      <td>0.000000</td>\n",
       "      <td>4.000000</td>\n",
       "      <td>1.271290e+09</td>\n",
       "    </tr>\n",
       "    <tr>\n",
       "      <th>50%</th>\n",
       "      <td>284224.000000</td>\n",
       "      <td>0.000000</td>\n",
       "      <td>1.000000</td>\n",
       "      <td>5.000000</td>\n",
       "      <td>1.311120e+09</td>\n",
       "    </tr>\n",
       "    <tr>\n",
       "      <th>75%</th>\n",
       "      <td>426341.500000</td>\n",
       "      <td>2.000000</td>\n",
       "      <td>2.000000</td>\n",
       "      <td>5.000000</td>\n",
       "      <td>1.332720e+09</td>\n",
       "    </tr>\n",
       "    <tr>\n",
       "      <th>max</th>\n",
       "      <td>568454.000000</td>\n",
       "      <td>866.000000</td>\n",
       "      <td>923.000000</td>\n",
       "      <td>5.000000</td>\n",
       "      <td>1.351210e+09</td>\n",
       "    </tr>\n",
       "  </tbody>\n",
       "</table>\n",
       "</div>"
      ],
      "text/plain": [
       "                  Id  HelpfulnessNumerator  HelpfulnessDenominator  \\\n",
       "count  568411.000000         568411.000000           568411.000000   \n",
       "mean   284227.440964              1.743874                2.227876   \n",
       "std    164099.020907              7.636781                8.288752   \n",
       "min         1.000000              0.000000                0.000000   \n",
       "25%    142114.500000              0.000000                0.000000   \n",
       "50%    284224.000000              0.000000                1.000000   \n",
       "75%    426341.500000              2.000000                2.000000   \n",
       "max    568454.000000            866.000000              923.000000   \n",
       "\n",
       "               Score          Time  \n",
       "count  568411.000000  5.684110e+05  \n",
       "mean        4.183309  1.296261e+09  \n",
       "std         1.310368  4.803792e+07  \n",
       "min         1.000000  9.393408e+08  \n",
       "25%         4.000000  1.271290e+09  \n",
       "50%         5.000000  1.311120e+09  \n",
       "75%         5.000000  1.332720e+09  \n",
       "max         5.000000  1.351210e+09  "
      ]
     },
     "execution_count": 96,
     "metadata": {},
     "output_type": "execute_result"
    }
   ],
   "source": [
    "## What review was the most helpful one?\n",
    "df_working.describe()"
   ]
  },
  {
   "cell_type": "code",
   "execution_count": 97,
   "metadata": {
    "collapsed": true
   },
   "outputs": [
    {
     "data": {
      "text/html": [
       "<div>\n",
       "<style scoped>\n",
       "    .dataframe tbody tr th:only-of-type {\n",
       "        vertical-align: middle;\n",
       "    }\n",
       "\n",
       "    .dataframe tbody tr th {\n",
       "        vertical-align: top;\n",
       "    }\n",
       "\n",
       "    .dataframe thead th {\n",
       "        text-align: right;\n",
       "    }\n",
       "</style>\n",
       "<table border=\"1\" class=\"dataframe\">\n",
       "  <thead>\n",
       "    <tr style=\"text-align: right;\">\n",
       "      <th></th>\n",
       "      <th>Id</th>\n",
       "      <th>ProductId</th>\n",
       "      <th>UserId</th>\n",
       "      <th>ProfileName</th>\n",
       "      <th>HelpfulnessNumerator</th>\n",
       "      <th>HelpfulnessDenominator</th>\n",
       "      <th>Score</th>\n",
       "      <th>Time</th>\n",
       "      <th>Summary</th>\n",
       "      <th>Text</th>\n",
       "    </tr>\n",
       "  </thead>\n",
       "  <tbody>\n",
       "    <tr>\n",
       "      <th>0</th>\n",
       "      <td>1</td>\n",
       "      <td>B001E4KFG0</td>\n",
       "      <td>A3SGXH7AUHU8GW</td>\n",
       "      <td>delmartian</td>\n",
       "      <td>1</td>\n",
       "      <td>1</td>\n",
       "      <td>5</td>\n",
       "      <td>1303862400</td>\n",
       "      <td>Good Quality Dog Food</td>\n",
       "      <td>I have bought several of the Vitality canned d...</td>\n",
       "    </tr>\n",
       "    <tr>\n",
       "      <th>1</th>\n",
       "      <td>2</td>\n",
       "      <td>B00813GRG4</td>\n",
       "      <td>A1D87F6ZCVE5NK</td>\n",
       "      <td>dll pa</td>\n",
       "      <td>0</td>\n",
       "      <td>0</td>\n",
       "      <td>1</td>\n",
       "      <td>1346976000</td>\n",
       "      <td>Not as Advertised</td>\n",
       "      <td>Product arrived labeled as Jumbo Salted Peanut...</td>\n",
       "    </tr>\n",
       "    <tr>\n",
       "      <th>2</th>\n",
       "      <td>3</td>\n",
       "      <td>B000LQOCH0</td>\n",
       "      <td>ABXLMWJIXXAIN</td>\n",
       "      <td>Natalia Corres \"Natalia Corres\"</td>\n",
       "      <td>1</td>\n",
       "      <td>1</td>\n",
       "      <td>4</td>\n",
       "      <td>1219017600</td>\n",
       "      <td>\"Delight\" says it all</td>\n",
       "      <td>This is a confection that has been around a fe...</td>\n",
       "    </tr>\n",
       "    <tr>\n",
       "      <th>3</th>\n",
       "      <td>4</td>\n",
       "      <td>B000UA0QIQ</td>\n",
       "      <td>A395BORC6FGVXV</td>\n",
       "      <td>Karl</td>\n",
       "      <td>3</td>\n",
       "      <td>3</td>\n",
       "      <td>2</td>\n",
       "      <td>1307923200</td>\n",
       "      <td>Cough Medicine</td>\n",
       "      <td>If you are looking for the secret ingredient i...</td>\n",
       "    </tr>\n",
       "    <tr>\n",
       "      <th>4</th>\n",
       "      <td>5</td>\n",
       "      <td>B006K2ZZ7K</td>\n",
       "      <td>A1UQRSCLF8GW1T</td>\n",
       "      <td>Michael D. Bigham \"M. Wassir\"</td>\n",
       "      <td>0</td>\n",
       "      <td>0</td>\n",
       "      <td>5</td>\n",
       "      <td>1350777600</td>\n",
       "      <td>Great taffy</td>\n",
       "      <td>Great taffy at a great price.  There was a wid...</td>\n",
       "    </tr>\n",
       "  </tbody>\n",
       "</table>\n",
       "</div>"
      ],
      "text/plain": [
       "   Id   ProductId          UserId                      ProfileName  \\\n",
       "0   1  B001E4KFG0  A3SGXH7AUHU8GW                       delmartian   \n",
       "1   2  B00813GRG4  A1D87F6ZCVE5NK                           dll pa   \n",
       "2   3  B000LQOCH0   ABXLMWJIXXAIN  Natalia Corres \"Natalia Corres\"   \n",
       "3   4  B000UA0QIQ  A395BORC6FGVXV                             Karl   \n",
       "4   5  B006K2ZZ7K  A1UQRSCLF8GW1T    Michael D. Bigham \"M. Wassir\"   \n",
       "\n",
       "   HelpfulnessNumerator  HelpfulnessDenominator  Score        Time  \\\n",
       "0                     1                       1      5  1303862400   \n",
       "1                     0                       0      1  1346976000   \n",
       "2                     1                       1      4  1219017600   \n",
       "3                     3                       3      2  1307923200   \n",
       "4                     0                       0      5  1350777600   \n",
       "\n",
       "                 Summary                                               Text  \n",
       "0  Good Quality Dog Food  I have bought several of the Vitality canned d...  \n",
       "1      Not as Advertised  Product arrived labeled as Jumbo Salted Peanut...  \n",
       "2  \"Delight\" says it all  This is a confection that has been around a fe...  \n",
       "3         Cough Medicine  If you are looking for the secret ingredient i...  \n",
       "4            Great taffy  Great taffy at a great price.  There was a wid...  "
      ]
     },
     "execution_count": 97,
     "metadata": {},
     "output_type": "execute_result"
    }
   ],
   "source": [
    "## Log scale HelpfulnessNumerator to respond to skewness\n",
    "p = 0.0000001\n",
    "df_working['HelpfulnessNumerator'].apply(lambda x: np.log(p + x))\n",
    "df_working.head()"
   ]
  },
  {
   "cell_type": "code",
   "execution_count": 98,
   "metadata": {
    "collapsed": true
   },
   "outputs": [
    {
     "data": {
      "image/png": "[encoded data removed]",
      "text/plain": [
       "<Figure size 432x288 with 1 Axes>"
      ]
     },
     "metadata": {},
     "output_type": "display_data"
    }
   ],
   "source": [
    "plt.hist(df['HelpfulnessNumerator']);"
   ]
  },
  {
   "cell_type": "code",
   "execution_count": 99,
   "metadata": {
    "collapsed": true
   },
   "outputs": [
    {
     "data": {
      "image/png": "[encoded data removed]",
      "text/plain": [
       "<Figure size 432x288 with 1 Axes>"
      ]
     },
     "metadata": {},
     "output_type": "display_data"
    }
   ],
   "source": [
    "plt.hist(df['HelpfulnessNumerator'], log=True);"
   ]
  },
  {
   "cell_type": "code",
   "execution_count": 100,
   "metadata": {
    "collapsed": true
   },
   "outputs": [
    {
     "data": {
      "image/png": "[encoded data removed]",
      "text/plain": [
       "<Figure size 432x288 with 1 Axes>"
      ]
     },
     "metadata": {},
     "output_type": "display_data"
    }
   ],
   "source": [
    "plt.hist(df_working.HelpfulnessDenominator, log = True);"
   ]
  },
  {
   "cell_type": "code",
   "execution_count": 101,
   "metadata": {},
   "outputs": [],
   "source": [
    "## There are review that have been considered very helpful. Explore them further.\n",
    "\n",
    "super_help = pd.Series(range(600,1000))"
   ]
  },
  {
   "cell_type": "code",
   "execution_count": 102,
   "metadata": {
    "collapsed": true
   },
   "outputs": [
    {
     "data": {
      "text/html": [
       "<div>\n",
       "<style scoped>\n",
       "    .dataframe tbody tr th:only-of-type {\n",
       "        vertical-align: middle;\n",
       "    }\n",
       "\n",
       "    .dataframe tbody tr th {\n",
       "        vertical-align: top;\n",
       "    }\n",
       "\n",
       "    .dataframe thead th {\n",
       "        text-align: right;\n",
       "    }\n",
       "</style>\n",
       "<table border=\"1\" class=\"dataframe\">\n",
       "  <thead>\n",
       "    <tr style=\"text-align: right;\">\n",
       "      <th></th>\n",
       "      <th>Id</th>\n",
       "      <th>ProductId</th>\n",
       "      <th>UserId</th>\n",
       "      <th>ProfileName</th>\n",
       "      <th>HelpfulnessNumerator</th>\n",
       "      <th>HelpfulnessDenominator</th>\n",
       "      <th>Score</th>\n",
       "      <th>Time</th>\n",
       "      <th>Summary</th>\n",
       "      <th>Text</th>\n",
       "    </tr>\n",
       "  </thead>\n",
       "  <tbody>\n",
       "    <tr>\n",
       "      <th>190733</th>\n",
       "      <td>190734</td>\n",
       "      <td>B000FI4O90</td>\n",
       "      <td>A1GQGYROVZVW49</td>\n",
       "      <td>P. Schmidt</td>\n",
       "      <td>866</td>\n",
       "      <td>878</td>\n",
       "      <td>5</td>\n",
       "      <td>1164672000</td>\n",
       "      <td>Works as Advertised - Classy Product</td>\n",
       "      <td>see update at end of review&lt;br /&gt;&lt;br /&gt;*******...</td>\n",
       "    </tr>\n",
       "    <tr>\n",
       "      <th>207712</th>\n",
       "      <td>207713</td>\n",
       "      <td>B00012182G</td>\n",
       "      <td>A1JUGIQDY6UYSM</td>\n",
       "      <td>BabbChuck \"BabbChuck\"</td>\n",
       "      <td>844</td>\n",
       "      <td>923</td>\n",
       "      <td>3</td>\n",
       "      <td>1252368000</td>\n",
       "      <td>Whole Rabbit - NOT!</td>\n",
       "      <td>I ordered one of these Fresh \"Whole\" Rabbits, ...</td>\n",
       "    </tr>\n",
       "    <tr>\n",
       "      <th>566779</th>\n",
       "      <td>566780</td>\n",
       "      <td>B001PQTYN2</td>\n",
       "      <td>A1QB2Y8GSME58Y</td>\n",
       "      <td>Benjamin Chodroff</td>\n",
       "      <td>808</td>\n",
       "      <td>815</td>\n",
       "      <td>5</td>\n",
       "      <td>1260748800</td>\n",
       "      <td>sauce not for mortals</td>\n",
       "      <td>I purchased a burrito from a small shop a few ...</td>\n",
       "    </tr>\n",
       "  </tbody>\n",
       "</table>\n",
       "</div>"
      ],
      "text/plain": [
       "            Id   ProductId          UserId            ProfileName  \\\n",
       "190733  190734  B000FI4O90  A1GQGYROVZVW49             P. Schmidt   \n",
       "207712  207713  B00012182G  A1JUGIQDY6UYSM  BabbChuck \"BabbChuck\"   \n",
       "566779  566780  B001PQTYN2  A1QB2Y8GSME58Y      Benjamin Chodroff   \n",
       "\n",
       "        HelpfulnessNumerator  HelpfulnessDenominator  Score        Time  \\\n",
       "190733                   866                     878      5  1164672000   \n",
       "207712                   844                     923      3  1252368000   \n",
       "566779                   808                     815      5  1260748800   \n",
       "\n",
       "                                     Summary  \\\n",
       "190733  Works as Advertised - Classy Product   \n",
       "207712                   Whole Rabbit - NOT!   \n",
       "566779                 sauce not for mortals   \n",
       "\n",
       "                                                     Text  \n",
       "190733  see update at end of review<br /><br />*******...  \n",
       "207712  I ordered one of these Fresh \"Whole\" Rabbits, ...  \n",
       "566779  I purchased a burrito from a small shop a few ...  "
      ]
     },
     "execution_count": 102,
     "metadata": {},
     "output_type": "execute_result"
    }
   ],
   "source": [
    "df_working.loc[df_working['HelpfulnessNumerator'].isin(super_help)]"
   ]
  },
  {
   "cell_type": "code",
   "execution_count": 103,
   "metadata": {
    "collapsed": true
   },
   "outputs": [
    {
     "data": {
      "text/plain": [
       "Id                        303813\n",
       "ProductId                 303813\n",
       "UserId                    303813\n",
       "ProfileName               303813\n",
       "HelpfulnessNumerator      303813\n",
       "HelpfulnessDenominator    303813\n",
       "Score                     303813\n",
       "Time                      303813\n",
       "Summary                   303813\n",
       "Text                      303813\n",
       "dtype: int64"
      ]
     },
     "execution_count": 103,
     "metadata": {},
     "output_type": "execute_result"
    }
   ],
   "source": [
    "## Many reviews have not been voted for as either Helful or Not Helpful\n",
    "\n",
    "df_working.loc[df_working['HelpfulnessNumerator'] == 0].count()"
   ]
  },
  {
   "cell_type": "code",
   "execution_count": 104,
   "metadata": {
    "collapsed": true
   },
   "outputs": [
    {
     "data": {
      "text/plain": [
       "Id                        270039\n",
       "ProductId                 270039\n",
       "UserId                    270039\n",
       "ProfileName               270039\n",
       "HelpfulnessNumerator      270039\n",
       "HelpfulnessDenominator    270039\n",
       "Score                     270039\n",
       "Time                      270039\n",
       "Summary                   270039\n",
       "Text                      270039\n",
       "dtype: int64"
      ]
     },
     "execution_count": 104,
     "metadata": {},
     "output_type": "execute_result"
    }
   ],
   "source": [
    "df_working.loc[df_working['HelpfulnessDenominator'] == 0].count()"
   ]
  },
  {
   "cell_type": "markdown",
   "metadata": {},
   "source": [
    "More than half of the reviews (303813) have zero positive votes. <br>\n",
    "~ half of the reviews (270039) have zero negative votes. <br>"
   ]
  },
  {
   "cell_type": "code",
   "execution_count": 105,
   "metadata": {
    "collapsed": true
   },
   "outputs": [
    {
     "data": {
      "text/html": [
       "<div>\n",
       "<style scoped>\n",
       "    .dataframe tbody tr th:only-of-type {\n",
       "        vertical-align: middle;\n",
       "    }\n",
       "\n",
       "    .dataframe tbody tr th {\n",
       "        vertical-align: top;\n",
       "    }\n",
       "\n",
       "    .dataframe thead th {\n",
       "        text-align: right;\n",
       "    }\n",
       "</style>\n",
       "<table border=\"1\" class=\"dataframe\">\n",
       "  <thead>\n",
       "    <tr style=\"text-align: right;\">\n",
       "      <th></th>\n",
       "      <th>Id</th>\n",
       "      <th>ProductId</th>\n",
       "      <th>UserId</th>\n",
       "      <th>ProfileName</th>\n",
       "      <th>HelpfulnessNumerator</th>\n",
       "      <th>HelpfulnessDenominator</th>\n",
       "      <th>Score</th>\n",
       "      <th>Time</th>\n",
       "      <th>Summary</th>\n",
       "      <th>Text</th>\n",
       "    </tr>\n",
       "  </thead>\n",
       "  <tbody>\n",
       "    <tr>\n",
       "      <th>207712</th>\n",
       "      <td>207713</td>\n",
       "      <td>B00012182G</td>\n",
       "      <td>A1JUGIQDY6UYSM</td>\n",
       "      <td>BabbChuck \"BabbChuck\"</td>\n",
       "      <td>844</td>\n",
       "      <td>923</td>\n",
       "      <td>3</td>\n",
       "      <td>1252368000</td>\n",
       "      <td>Whole Rabbit - NOT!</td>\n",
       "      <td>I ordered one of these Fresh \"Whole\" Rabbits, ...</td>\n",
       "    </tr>\n",
       "  </tbody>\n",
       "</table>\n",
       "</div>"
      ],
      "text/plain": [
       "            Id   ProductId          UserId            ProfileName  \\\n",
       "207712  207713  B00012182G  A1JUGIQDY6UYSM  BabbChuck \"BabbChuck\"   \n",
       "\n",
       "        HelpfulnessNumerator  HelpfulnessDenominator  Score        Time  \\\n",
       "207712                   844                     923      3  1252368000   \n",
       "\n",
       "                    Summary                                               Text  \n",
       "207712  Whole Rabbit - NOT!  I ordered one of these Fresh \"Whole\" Rabbits, ...  "
      ]
     },
     "execution_count": 105,
     "metadata": {},
     "output_type": "execute_result"
    }
   ],
   "source": [
    "## What was the lest helpful review?\n",
    "\n",
    "df_working.loc[df_working['HelpfulnessDenominator'] == 923]"
   ]
  },
  {
   "cell_type": "code",
   "execution_count": 106,
   "metadata": {
    "collapsed": true
   },
   "outputs": [
    {
     "data": {
      "text/plain": [
       "'I ordered one of these Fresh \"Whole\" Rabbits, but when it arrived its head, fur and insides were missing.  Not exactly whole, I\\'d say!  Maybe it was just damaged during shipping, but I won\\'t be buying another one.  I mean - without the long ears, how do I know it even WAS a rabbit?  It was the same size and shape as a cat...not that I\\'ve seen a cat with its head, fur and insides missing.  I mean, not like really close or anything.<br /><br />On the plus side, it was delicious with a tall, cold glass of Tuscan Milk, so I give it three stars.  That\\'s three WHOLE stars, BTW.'"
      ]
     },
     "execution_count": 106,
     "metadata": {},
     "output_type": "execute_result"
    }
   ],
   "source": [
    "df_working.loc[df_working.HelpfulnessDenominator == 923, 'Text'].iloc[0]"
   ]
  },
  {
   "cell_type": "code",
   "execution_count": 107,
   "metadata": {
    "collapsed": true
   },
   "outputs": [
    {
     "data": {
      "text/plain": [
       "\"see update at end of review<br /><br />******************<br /><br />I was lamenting about only having frech lettuce, herbs, chives, and tomatoes from may garden during the long fall-winter-spring parts of the year. The refrigerated stuff from the grocery store goes bad right away and does not taste as good as the fresh stuff from the garden, either.<br /><br />Then I saw a Time Magazine page on the new AeroGrow AeroGarden, and I just had to try it out. After reading the AeroGrow website before making the purchase, I realized that buying one garden would not work for me, as the tomatoes cannot be grown in the same garden as lettuce & herbs. This is partially due to the large amount of room taken up by the tomatoes, and also because the lamp/watering cycle is different and finally because the nutrients are different.<br /><br />So, I bought two gardens, along with the Salad Greens seed kit and Cherry Tomato seed kit. Each garden comes with a mixed herb kit, so I figured to mix in a few herbs with the other seeds, and if they did not work, no big loss.<br /><br />The products came quickly and the instructions for assembly were very clear and well written with excellent diagrams. I came to realize that this somewhat pricey product at least comes from a company that produces a classy product (a rare thing these days). I found a space on a shelf beside the basement stairs, and placed both assembled gardens there. I also bought and placed a digital thermometer with maximum/minimum temperature memory readouts ($10 at Radio Shack), because I was unsure of what temperature extremes the plants might experience in that location (68-72 as it turns out).<br /><br />The seed kits contain pre-seeded planting pods. Each pod is basically a plastic cup shaped frame with two pieces of foam rubber inside the cup part, like two slices of bread with the seeds sandwiched between them. They simply insert into the seven holes in the top of the garden's water tank. The Salad Greens and Herbs come with seven pods per kit, while the Tomatos come with three pods plus four hole plugs-the plants are bigger so three of them take up thw whole space available. The hole plugs prevent evaporation of the water through the unoccupied holes.<br /><br />The water tank holds exactly one gallon of regular drinking water. Well water is not recommended, presumably because of impurities, and since I am on a well I bought two one-gallon plastic jugs of 'drinking water' at the store for 50 cents each and filled the tanks with their contents. A pump in the tank takes water and pipes it to the rim of each of the seven holes in the tank's top, and here the trickle of water flows into the foam sandwich of each seed pod. The foam stays moist and the rest of the water drips back down into the tank. The garden's 'computer' cycles the water flow on and off according to the amount recommended for the type of plant being grown. A water level sensor turns on a flashing red light when it is time to add more water to the tank.<br /><br />The top of the garden is a reflector with two compact-fluorescent lamps, of the variety that has the special ultraviolet (UV) coating that causes the emmitted light to resemble sunlight. The reflector rides on a vertical pole that extends up from the garden's base, so you can raise and lower the lamps as required to keep them the correct distance above the plants. The garden's 'computer' also turns the lamps on and off according to a schedule tailored to the type of plant. If using the gardens in a place where the light might be a problem at night, you can syncronize the computer so that the lights are on only during the daytime and off when you are trying to sleep.<br /><br />The seed kits come with little clear plastic cups that cover each pod until the seeds have germinated, then you can dispose of them. The kits also come with a bag of nutrient tablets, which you add to the water tank when the computer prompts you to by flashing a red light. The nutrients are tailored to the type of plant being grown, and there are enough of them to feed the plants during their anticipated life span.<br /><br />I planted one garden with five salad green (leaf lettuce) pods, plus one pod each from the Herb kit, chives and parsley. The other garden got the threee pods from the Cherry Tomato kit; two reds and one yellow variety.<br /><br />Each seed pod has a label that tells you how many days to wait for plants to appear after germination. All of my plants appeared like clockwork.<br /><br />I have had the gardens for about six weeks now, and have been enjoying salads containing lettuce, parsley and chives plus other odds and ends from the fridge, for the last two or three weeks. The lettuce and herbs are all beautiful, with no problems from bugs or too much/too little water, excessive temperatures, etc. No need to wash the plants or check for bugs or pick off bad spots, everything goes straight to the salad bowl. What a joy! Even with only five lettuce plants, I have to eat two meals including salad each day to keep up with the growth. This would easily feed two people, and if all seven salad green pods had been used, three people.<br /><br />The tomatoes are all doing well ahnd have been pruned according to instructions. It will be some time yet before they produce flowers, and then fruit. But based on the health of the plants, I expect a good yield.<br /><br />Each seed kit comes with a full color manual/booklet that covers all aspects of 'planting', germinating, feeding, pruning (if required) and then harvesting the plants. There are also photos of plants where things have gone wrong (leaves burned because the lamps were not raised up as the plants grew taller, etc) with clear instructions on how to recognize problems and correct them. Harvesting instructions clearly tell how much can be taken at a time without killing the plant, and so on.<br /><br />The AeroGrow gardens are a well designed, well built product with excellent documentation. All my visitors are amazed at how well the product works, and many have gone out and bought their own. I anticipate years of improved eating because of this product.<br /><br />*****************<br /><br />Update November 2007<br /><br />I used my two gardens all Winter (2006/2007) until it was time to start getting produce from my real (outdoor) garden in the Summer, at which time I put the little gardens to rest for the season. During their use, I got a large crop of cherry tomatoes, all of which were beautiful. I went through on crop of lettuce and salad greens, and when the lettuce finally bolted, I replanted with only lettuce (no chives, etc this time) and got another couple of months worth of lettuce. I have now fired them up again in the Fall, and have nice little plants popping up. Aerogrow has more seed options available now, so I have planted a more interesting kind of lettuce.\""
      ]
     },
     "execution_count": 107,
     "metadata": {},
     "output_type": "execute_result"
    }
   ],
   "source": [
    "df_working.loc[df_working.HelpfulnessNumerator == 866, 'Text'].iloc[0]"
   ]
  },
  {
   "cell_type": "code",
   "execution_count": 108,
   "metadata": {
    "collapsed": true
   },
   "outputs": [
    {
     "data": {
      "text/plain": [
       "'I purchased a burrito from a small shop a few blocks from home. I was unimpressed with their habanero \"hot\" salsa. Eager to kick it up a notch, I reached for a bottle of what I later found to be Dave\\'s Gourmet Ghost Pepper Jolokia Hot Sauce. I unscrewed the top and went to put a dab on. I quickly realized that there was no flow regulation but not before a large pool of the magma colored liquid dripped into my lunch. I decided to dab my finger in it and see what I was dealing with. It was formidable, sweet and flavorful with a long heat. I thought I could take the heat.<br /><br />I demolished the burrito, hot sauce and all, and shrugged off the pain. Every bite was saturated with the taste of a thousand tortured souls but the guacamole still tasted great. I wiped my tingling lips and while downing a glass of water I looked at the bottle. It claimed a heat rating of \"Insanity++.\" I headed home thinking surely the worst must be over. I\\'ve ate plenty of hot food and my stomach is battle tested. I was wrong.<br /><br />I walked no more than a block before I started to feel odd. It was in the forties in Cleveland but I could feel the sweat forming on my brow. I walked another block and I could literally feel the burning sensation outlining my stomach. My breaths were noticeably faster and shorter. People on the street looked at me weird. I figured it would go away by the time I got home but I decided to pick up the pace. By the time my apartment was in sight I was experiencing tunnel vision and it felt like a live agitated weasel had been placed inside me. I knew what I had to do. After flushing my lunch, a tablespoon of this sauce, half a gallon of milk, and my ego down the drain, I can honestly say I am just happy to be alive. This sauce is not for mortals.'"
      ]
     },
     "execution_count": 108,
     "metadata": {},
     "output_type": "execute_result"
    }
   ],
   "source": [
    "df_working.loc[df_working.HelpfulnessNumerator == 808, 'Text'].iloc[0]"
   ]
  },
  {
   "cell_type": "code",
   "execution_count": 109,
   "metadata": {
    "collapsed": true
   },
   "outputs": [
    {
     "name": "stderr",
     "output_type": "stream",
     "text": [
      "/Users/iris/anaconda3/lib/python3.6/site-packages/ipykernel_launcher.py:1: UserWarning: Boolean Series key will be reindexed to match DataFrame index.\n",
      "  \"\"\"Entry point for launching an IPython kernel.\n"
     ]
    },
    {
     "data": {
      "text/html": [
       "<div>\n",
       "<style scoped>\n",
       "    .dataframe tbody tr th:only-of-type {\n",
       "        vertical-align: middle;\n",
       "    }\n",
       "\n",
       "    .dataframe tbody tr th {\n",
       "        vertical-align: top;\n",
       "    }\n",
       "\n",
       "    .dataframe thead th {\n",
       "        text-align: right;\n",
       "    }\n",
       "</style>\n",
       "<table border=\"1\" class=\"dataframe\">\n",
       "  <thead>\n",
       "    <tr style=\"text-align: right;\">\n",
       "      <th></th>\n",
       "      <th>Id</th>\n",
       "      <th>ProductId</th>\n",
       "      <th>UserId</th>\n",
       "      <th>ProfileName</th>\n",
       "      <th>HelpfulnessNumerator</th>\n",
       "      <th>HelpfulnessDenominator</th>\n",
       "      <th>Score</th>\n",
       "      <th>Time</th>\n",
       "      <th>Summary</th>\n",
       "      <th>Text</th>\n",
       "    </tr>\n",
       "  </thead>\n",
       "  <tbody>\n",
       "    <tr>\n",
       "      <th>190733</th>\n",
       "      <td>190734</td>\n",
       "      <td>B000FI4O90</td>\n",
       "      <td>A1GQGYROVZVW49</td>\n",
       "      <td>P. Schmidt</td>\n",
       "      <td>866</td>\n",
       "      <td>878</td>\n",
       "      <td>5</td>\n",
       "      <td>1164672000</td>\n",
       "      <td>Works as Advertised - Classy Product</td>\n",
       "      <td>see update at end of review&lt;br /&gt;&lt;br /&gt;*******...</td>\n",
       "    </tr>\n",
       "    <tr>\n",
       "      <th>207712</th>\n",
       "      <td>207713</td>\n",
       "      <td>B00012182G</td>\n",
       "      <td>A1JUGIQDY6UYSM</td>\n",
       "      <td>BabbChuck \"BabbChuck\"</td>\n",
       "      <td>844</td>\n",
       "      <td>923</td>\n",
       "      <td>3</td>\n",
       "      <td>1252368000</td>\n",
       "      <td>Whole Rabbit - NOT!</td>\n",
       "      <td>I ordered one of these Fresh \"Whole\" Rabbits, ...</td>\n",
       "    </tr>\n",
       "    <tr>\n",
       "      <th>566779</th>\n",
       "      <td>566780</td>\n",
       "      <td>B001PQTYN2</td>\n",
       "      <td>A1QB2Y8GSME58Y</td>\n",
       "      <td>Benjamin Chodroff</td>\n",
       "      <td>808</td>\n",
       "      <td>815</td>\n",
       "      <td>5</td>\n",
       "      <td>1260748800</td>\n",
       "      <td>sauce not for mortals</td>\n",
       "      <td>I purchased a burrito from a small shop a few ...</td>\n",
       "    </tr>\n",
       "  </tbody>\n",
       "</table>\n",
       "</div>"
      ],
      "text/plain": [
       "            Id   ProductId          UserId            ProfileName  \\\n",
       "190733  190734  B000FI4O90  A1GQGYROVZVW49             P. Schmidt   \n",
       "207712  207713  B00012182G  A1JUGIQDY6UYSM  BabbChuck \"BabbChuck\"   \n",
       "566779  566780  B001PQTYN2  A1QB2Y8GSME58Y      Benjamin Chodroff   \n",
       "\n",
       "        HelpfulnessNumerator  HelpfulnessDenominator  Score        Time  \\\n",
       "190733                   866                     878      5  1164672000   \n",
       "207712                   844                     923      3  1252368000   \n",
       "566779                   808                     815      5  1260748800   \n",
       "\n",
       "                                     Summary  \\\n",
       "190733  Works as Advertised - Classy Product   \n",
       "207712                   Whole Rabbit - NOT!   \n",
       "566779                 sauce not for mortals   \n",
       "\n",
       "                                                     Text  \n",
       "190733  see update at end of review<br /><br />*******...  \n",
       "207712  I ordered one of these Fresh \"Whole\" Rabbits, ...  \n",
       "566779  I purchased a burrito from a small shop a few ...  "
      ]
     },
     "execution_count": 109,
     "metadata": {},
     "output_type": "execute_result"
    }
   ],
   "source": [
    "df_working[(df['HelpfulnessDenominator'] >= 700)]"
   ]
  },
  {
   "cell_type": "markdown",
   "metadata": {},
   "source": [
    "The three reviews with ultra high Numerator and Denominator scores can be eliminated from analysis as they can be deemed outliers. They generate a lot of engagement, however it is not something the model can learn much from."
   ]
  },
  {
   "cell_type": "code",
   "execution_count": 110,
   "metadata": {},
   "outputs": [],
   "source": [
    "## There are only 3 reviews with such high engagement. I will remove them as outliers.\n",
    "\n",
    "df_working = df_working[df_working.HelpfulnessDenominator < 800]"
   ]
  },
  {
   "cell_type": "code",
   "execution_count": 111,
   "metadata": {
    "collapsed": true
   },
   "outputs": [
    {
     "name": "stdout",
     "output_type": "stream",
     "text": [
      "Helpfulness Denominator without outliers\n"
     ]
    },
    {
     "data": {
      "image/png": "[encoded data removed]",
      "text/plain": [
       "<Figure size 432x288 with 1 Axes>"
      ]
     },
     "metadata": {},
     "output_type": "display_data"
    }
   ],
   "source": [
    "print('Helpfulness Denominator without outliers')\n",
    "plt.hist(df_working.HelpfulnessDenominator, log = True);"
   ]
  },
  {
   "cell_type": "code",
   "execution_count": 112,
   "metadata": {
    "collapsed": true
   },
   "outputs": [
    {
     "name": "stdout",
     "output_type": "stream",
     "text": [
      "Helpfulness Numerator without outliers\n"
     ]
    },
    {
     "data": {
      "image/png": "[encoded data removed]",
      "text/plain": [
       "<Figure size 432x288 with 1 Axes>"
      ]
     },
     "metadata": {},
     "output_type": "display_data"
    }
   ],
   "source": [
    "print('Helpfulness Numerator without outliers')\n",
    "plt.hist(df_working.HelpfulnessNumerator, log = True);"
   ]
  },
  {
   "cell_type": "code",
   "execution_count": 113,
   "metadata": {
    "collapsed": true
   },
   "outputs": [
    {
     "name": "stdout",
     "output_type": "stream",
     "text": [
      "<class 'pandas.core.frame.DataFrame'>\n",
      "Int64Index: 19817 entries, 32 to 568324\n",
      "Data columns (total 10 columns):\n",
      "Id                        19817 non-null int64\n",
      "ProductId                 19817 non-null object\n",
      "UserId                    19817 non-null object\n",
      "ProfileName               19817 non-null object\n",
      "HelpfulnessNumerator      19817 non-null int64\n",
      "HelpfulnessDenominator    19817 non-null int64\n",
      "Score                     19817 non-null int64\n",
      "Time                      19817 non-null int64\n",
      "Summary                   19817 non-null object\n",
      "Text                      19817 non-null object\n",
      "dtypes: int64(5), object(5)\n",
      "memory usage: 1.7+ MB\n"
     ]
    }
   ],
   "source": [
    "# Reviews with no up/ down votes are not useful. I will only explore reviews that have 10 or more votes to\n",
    "# \"learn\" from. Similarly drop neutral reviews (where Score = 3)\n",
    "df_10 = df_working[(df_working.HelpfulnessDenominator > 10)]\n",
    "df_10 = df_10[df_10['Score']!=3]\n",
    "df_10.info()"
   ]
  },
  {
   "cell_type": "code",
   "execution_count": 114,
   "metadata": {
    "collapsed": true
   },
   "outputs": [
    {
     "name": "stdout",
     "output_type": "stream",
     "text": [
      "<class 'pandas.core.frame.DataFrame'>\n",
      "Int64Index: 19817 entries, 32 to 568324\n",
      "Data columns (total 10 columns):\n",
      "Id                        19817 non-null int64\n",
      "ProductId                 19817 non-null object\n",
      "UserId                    19817 non-null object\n",
      "ProfileName               19817 non-null object\n",
      "HelpfulnessNumerator      19817 non-null int64\n",
      "HelpfulnessDenominator    19817 non-null int64\n",
      "Score                     19817 non-null int64\n",
      "Time                      19817 non-null int64\n",
      "Summary                   19817 non-null object\n",
      "Text                      19817 non-null object\n",
      "dtypes: int64(5), object(5)\n",
      "memory usage: 1.7+ MB\n"
     ]
    }
   ],
   "source": [
    "# The data set is significantly smaller\n",
    "df_10.info()"
   ]
  },
  {
   "cell_type": "markdown",
   "metadata": {},
   "source": [
    "# Text clean up"
   ]
  },
  {
   "cell_type": "markdown",
   "metadata": {},
   "source": [
    "### Make all characters in a string lower case"
   ]
  },
  {
   "cell_type": "code",
   "execution_count": 132,
   "metadata": {},
   "outputs": [],
   "source": [
    "## Convert all characters to lowercase\n",
    "df_10['Text'] = df_10['Text'].str.lower()\n",
    "df_10['Summary'] = df_10['Summary'].str.lower()"
   ]
  },
  {
   "cell_type": "markdown",
   "metadata": {},
   "source": [
    "### Tokenization"
   ]
  },
  {
   "cell_type": "code",
   "execution_count": 133,
   "metadata": {},
   "outputs": [],
   "source": [
    "## Tokenize Summary column\n",
    "import nltk\n",
    "tokens_s = []\n",
    "for elem in df_10.Summary:\n",
    "    sentence = elem\n",
    "    token = nltk.word_tokenize(sentence)\n",
    "    tokens_s.append(token)"
   ]
  },
  {
   "cell_type": "code",
   "execution_count": 134,
   "metadata": {},
   "outputs": [],
   "source": [
    "## Tokenize text column\n",
    "tokens_t = []\n",
    "for elem in df_10.Text:\n",
    "    sentence = elem\n",
    "    token = nltk.word_tokenize(sentence)\n",
    "    tokens_t.append(token)"
   ]
  },
  {
   "cell_type": "code",
   "execution_count": 135,
   "metadata": {},
   "outputs": [
    {
     "name": "stdout",
     "output_type": "stream",
     "text": [
      "19817\n",
      "19817\n"
     ]
    }
   ],
   "source": [
    "## Check to make sure there won't be any issues adding the tokens to the data frame\n",
    "print(len(tokens_t))\n",
    "print(len(tokens_s))"
   ]
  },
  {
   "cell_type": "markdown",
   "metadata": {},
   "source": [
    "### Lemmatization"
   ]
  },
  {
   "cell_type": "code",
   "execution_count": 136,
   "metadata": {},
   "outputs": [
    {
     "name": "stdout",
     "output_type": "stream",
     "text": [
      "[nltk_data] Downloading package wordnet to /Users/iris/nltk_data...\n",
      "[nltk_data]   Package wordnet is already up-to-date!\n"
     ]
    },
    {
     "data": {
      "text/plain": [
       "True"
      ]
     },
     "execution_count": 136,
     "metadata": {},
     "output_type": "execute_result"
    }
   ],
   "source": [
    "## Lemmanize\n",
    "import nltk\n",
    "nltk.download('wordnet')"
   ]
  },
  {
   "cell_type": "code",
   "execution_count": 137,
   "metadata": {},
   "outputs": [],
   "source": [
    "from nltk.stem.wordnet import WordNetLemmatizer\n",
    "lmtzr = WordNetLemmatizer()\n",
    "\n",
    "lemma_s = []\n",
    "for elem in tokens_s:\n",
    "    for word in elem:\n",
    "        lemmatized = lmtzr.lemmatize(word)\n",
    "        lemma_s.append(lemmatized)"
   ]
  },
  {
   "cell_type": "code",
   "execution_count": 138,
   "metadata": {},
   "outputs": [],
   "source": [
    "lemma_t = []\n",
    "\n",
    "for elem in tokens_t:\n",
    "    for word in elem:\n",
    "        lemmatized_t = lmtzr.lemmatize(word)\n",
    "        lemma_t.append(lemmatized_t)"
   ]
  },
  {
   "cell_type": "markdown",
   "metadata": {},
   "source": [
    "# Sentiment"
   ]
  },
  {
   "cell_type": "code",
   "execution_count": 139,
   "metadata": {},
   "outputs": [],
   "source": [
    "# Assign class to reviews in order to later classify sentiment\n",
    "X = df_10['Text']\n",
    "y_dict = {1:0, 2:0, 4:1, 5:1}\n",
    "y = df_10['Score'].map(y_dict)"
   ]
  },
  {
   "cell_type": "code",
   "execution_count": 152,
   "metadata": {},
   "outputs": [],
   "source": [
    "def text_fit(X, y, model,clf_model,coef_show=1):\n",
    "    \n",
    "    X_c = model.fit_transform(X)\n",
    "    print('# features: {}'.format(X_c.shape[1]))\n",
    "    X_train, X_test, y_train, y_test = train_test_split(X_c, y, random_state=0)\n",
    "    print('# train records: {}'.format(X_train.shape[0]))\n",
    "    print('# test records: {}'.format(X_test.shape[0]))\n",
    "    clf = clf_model.fit(X_train, y_train)\n",
    "    acc = clf.score(X_test, y_test)\n",
    "    print ('Model Accuracy: {}'.format(acc))\n",
    "    \n",
    "    if coef_show == 1: \n",
    "        w = model.get_feature_names()\n",
    "        coef = clf.coef_.tolist()[0]\n",
    "        coeff_df = pd.DataFrame({'Word:' : w, 'Impact Coefficient:' : coef})\n",
    "        coeff_df = coeff_df.sort_values(['Impact Coefficient:', 'Word:'], ascending=[0, 1])\n",
    "        print('')\n",
    "        print('Top 15 positive terms')\n",
    "        print(coeff_df.head(15).to_string(index=False))\n",
    "        print('')\n",
    "        print('Top 15 negative terms')        \n",
    "        print(coeff_df.tail(15).to_string(index=False))"
   ]
  },
  {
   "cell_type": "markdown",
   "metadata": {},
   "source": [
    "## Logistic Regression using Count Vec"
   ]
  },
  {
   "cell_type": "code",
   "execution_count": 153,
   "metadata": {
    "collapsed": true
   },
   "outputs": [
    {
     "name": "stdout",
     "output_type": "stream",
     "text": [
      "# features: 35057\n",
      "# train records: 14862\n",
      "# test records: 4955\n",
      "Model Accuracy: 0.8956609485368315\n",
      "\n",
      "Top 15 positive terms\n",
      "Word:  Impact Coefficient:\n",
      "    amazing             1.982681\n",
      "  delicious             1.979519\n",
      "    awesome             1.951293\n",
      "  excellent             1.933454\n",
      "outstanding             1.896564\n",
      "  fantastic             1.817464\n",
      "       beat             1.767583\n",
      "     highly             1.703538\n",
      "     smooth             1.601180\n",
      "       best             1.494907\n",
      "     slight             1.482466\n",
      "      yummy             1.445965\n",
      "    perfect             1.445832\n",
      "       eyes             1.439334\n",
      "    biscoff             1.419535\n",
      "\n",
      "Top 15 negative terms\n",
      "Word:  Impact Coefficient:\n",
      "         gross            -1.377102\n",
      "         money            -1.383871\n",
      "      returned            -1.406443\n",
      "         bland            -1.408578\n",
      "        refund            -1.491922\n",
      "       changed            -1.557197\n",
      "      crunchie            -1.675406\n",
      "         shame            -1.717101\n",
      " unfortunately            -1.892826\n",
      "         threw            -1.961243\n",
      "      terrible            -2.014072\n",
      "         awful            -2.110402\n",
      " disappointing            -2.183552\n",
      "disappointment            -2.356926\n",
      "         worst            -2.695568\n"
     ]
    }
   ],
   "source": [
    "c = CountVectorizer(stop_words = 'english')\n",
    "\n",
    "text_fit(X, y, c, LogisticRegression())"
   ]
  },
  {
   "cell_type": "markdown",
   "metadata": {},
   "source": [
    "## Logistic Regression using ngrams"
   ]
  },
  {
   "cell_type": "code",
   "execution_count": 156,
   "metadata": {
    "collapsed": true
   },
   "outputs": [
    {
     "name": "stdout",
     "output_type": "stream",
     "text": [
      "# features: 578895\n",
      "# train records: 14862\n",
      "# test records: 4955\n",
      "Model Accuracy: 0.8839556004036327\n",
      "\n",
      "Top 15 positive terms\n",
      "Word:  Impact Coefficient:\n",
      "    great             8.090148\n",
      "     best             6.474701\n",
      "     love             5.319236\n",
      "delicious             5.221381\n",
      "excellent             4.387633\n",
      "      use             4.014012\n",
      "   highly             3.481419\n",
      "       ve             3.427392\n",
      "     good             3.406608\n",
      "  perfect             3.329552\n",
      "   little             3.154747\n",
      "    fresh             3.104994\n",
      "     easy             3.001745\n",
      " favorite             2.996381\n",
      "      day             2.968095\n",
      "\n",
      "Top 15 negative terms\n",
      "Word:  Impact Coefficient:\n",
      "     received            -2.818296\n",
      "          box            -2.829946\n",
      "unfortunately            -2.850782\n",
      "       return            -2.884334\n",
      "   ingredient            -2.917677\n",
      "        awful            -3.109953\n",
      "  description            -3.130232\n",
      "      thought            -3.185526\n",
      "        worst            -3.245334\n",
      "     terrible            -3.273644\n",
      "        china            -3.295148\n",
      "      product            -3.533543\n",
      "          bad            -3.535908\n",
      " disappointed            -3.980175\n",
      "        money            -4.533328\n"
     ]
    }
   ],
   "source": [
    "#different n-gram\n",
    "tfidf_n2 = TfidfVectorizer(ngram_range=(1,2),stop_words = 'english')\n",
    "tfidf_n3 = TfidfVectorizer(ngram_range=(1,3),stop_words = 'english')\n",
    "\n",
    "text_fit(X, y, tfidf_n2, LogisticRegression())"
   ]
  },
  {
   "cell_type": "markdown",
   "metadata": {},
   "source": [
    "Model accuracy decreases in an n\n",
    "-gram model using 3-word combinations."
   ]
  },
  {
   "cell_type": "markdown",
   "metadata": {},
   "source": [
    "## Class Imbalance"
   ]
  },
  {
   "cell_type": "markdown",
   "metadata": {},
   "source": [
    "Can we do better by addressing the class imbalance?"
   ]
  },
  {
   "cell_type": "markdown",
   "metadata": {},
   "source": [
    "To address the existing class impbalance, I will restrict the Helpfulness Numerator column to be more than 10.\n",
    "I will try to instead only restrict the Denomincator. "
   ]
  },
  {
   "cell_type": "code",
   "execution_count": 167,
   "metadata": {},
   "outputs": [],
   "source": [
    "df_helpful = df_10[(df_10.HelpfulnessDenominator) > 10]"
   ]
  },
  {
   "cell_type": "code",
   "execution_count": 168,
   "metadata": {},
   "outputs": [],
   "source": [
    "df_helpful['helpfullness_ratio'] = (df_10.HelpfulnessNumerator/df_10.HelpfulnessDenominator)"
   ]
  },
  {
   "cell_type": "code",
   "execution_count": 169,
   "metadata": {},
   "outputs": [
    {
     "data": {
      "image/png": "[encoded data removed]",
      "text/plain": [
       "<Figure size 432x288 with 1 Axes>"
      ]
     },
     "metadata": {},
     "output_type": "display_data"
    }
   ],
   "source": [
    "df_helpful.helpfullness_ratio.hist();"
   ]
  },
  {
   "cell_type": "code",
   "execution_count": 170,
   "metadata": {
    "collapsed": true
   },
   "outputs": [
    {
     "data": {
      "text/html": [
       "<div>\n",
       "<style scoped>\n",
       "    .dataframe tbody tr th:only-of-type {\n",
       "        vertical-align: middle;\n",
       "    }\n",
       "\n",
       "    .dataframe tbody tr th {\n",
       "        vertical-align: top;\n",
       "    }\n",
       "\n",
       "    .dataframe thead th {\n",
       "        text-align: right;\n",
       "    }\n",
       "</style>\n",
       "<table border=\"1\" class=\"dataframe\">\n",
       "  <thead>\n",
       "    <tr style=\"text-align: right;\">\n",
       "      <th></th>\n",
       "      <th>Id</th>\n",
       "      <th>HelpfulnessNumerator</th>\n",
       "      <th>HelpfulnessDenominator</th>\n",
       "      <th>Score</th>\n",
       "      <th>Time</th>\n",
       "      <th>helpfullness_ratio</th>\n",
       "    </tr>\n",
       "  </thead>\n",
       "  <tbody>\n",
       "    <tr>\n",
       "      <th>count</th>\n",
       "      <td>19817.000000</td>\n",
       "      <td>19817.000000</td>\n",
       "      <td>19817.000000</td>\n",
       "      <td>19817.000000</td>\n",
       "      <td>1.981700e+04</td>\n",
       "      <td>19817.000000</td>\n",
       "    </tr>\n",
       "    <tr>\n",
       "      <th>mean</th>\n",
       "      <td>287035.380936</td>\n",
       "      <td>19.801635</td>\n",
       "      <td>24.528183</td>\n",
       "      <td>3.440329</td>\n",
       "      <td>1.251298e+09</td>\n",
       "      <td>0.770491</td>\n",
       "    </tr>\n",
       "    <tr>\n",
       "      <th>std</th>\n",
       "      <td>161501.466299</td>\n",
       "      <td>32.256627</td>\n",
       "      <td>33.007436</td>\n",
       "      <td>1.813934</td>\n",
       "      <td>5.694551e+07</td>\n",
       "      <td>0.290739</td>\n",
       "    </tr>\n",
       "    <tr>\n",
       "      <th>min</th>\n",
       "      <td>33.000000</td>\n",
       "      <td>0.000000</td>\n",
       "      <td>11.000000</td>\n",
       "      <td>1.000000</td>\n",
       "      <td>9.482400e+08</td>\n",
       "      <td>0.000000</td>\n",
       "    </tr>\n",
       "    <tr>\n",
       "      <th>25%</th>\n",
       "      <td>152118.000000</td>\n",
       "      <td>10.000000</td>\n",
       "      <td>13.000000</td>\n",
       "      <td>1.000000</td>\n",
       "      <td>1.211674e+09</td>\n",
       "      <td>0.666667</td>\n",
       "    </tr>\n",
       "    <tr>\n",
       "      <th>50%</th>\n",
       "      <td>288514.000000</td>\n",
       "      <td>13.000000</td>\n",
       "      <td>16.000000</td>\n",
       "      <td>5.000000</td>\n",
       "      <td>1.259971e+09</td>\n",
       "      <td>0.909091</td>\n",
       "    </tr>\n",
       "    <tr>\n",
       "      <th>75%</th>\n",
       "      <td>427428.000000</td>\n",
       "      <td>20.000000</td>\n",
       "      <td>24.000000</td>\n",
       "      <td>5.000000</td>\n",
       "      <td>1.295482e+09</td>\n",
       "      <td>1.000000</td>\n",
       "    </tr>\n",
       "    <tr>\n",
       "      <th>max</th>\n",
       "      <td>568325.000000</td>\n",
       "      <td>580.000000</td>\n",
       "      <td>593.000000</td>\n",
       "      <td>5.000000</td>\n",
       "      <td>1.350605e+09</td>\n",
       "      <td>1.000000</td>\n",
       "    </tr>\n",
       "  </tbody>\n",
       "</table>\n",
       "</div>"
      ],
      "text/plain": [
       "                  Id  HelpfulnessNumerator  HelpfulnessDenominator  \\\n",
       "count   19817.000000          19817.000000            19817.000000   \n",
       "mean   287035.380936             19.801635               24.528183   \n",
       "std    161501.466299             32.256627               33.007436   \n",
       "min        33.000000              0.000000               11.000000   \n",
       "25%    152118.000000             10.000000               13.000000   \n",
       "50%    288514.000000             13.000000               16.000000   \n",
       "75%    427428.000000             20.000000               24.000000   \n",
       "max    568325.000000            580.000000              593.000000   \n",
       "\n",
       "              Score          Time  helpfullness_ratio  \n",
       "count  19817.000000  1.981700e+04        19817.000000  \n",
       "mean       3.440329  1.251298e+09            0.770491  \n",
       "std        1.813934  5.694551e+07            0.290739  \n",
       "min        1.000000  9.482400e+08            0.000000  \n",
       "25%        1.000000  1.211674e+09            0.666667  \n",
       "50%        5.000000  1.259971e+09            0.909091  \n",
       "75%        5.000000  1.295482e+09            1.000000  \n",
       "max        5.000000  1.350605e+09            1.000000  "
      ]
     },
     "execution_count": 170,
     "metadata": {},
     "output_type": "execute_result"
    }
   ],
   "source": [
    "df_helpful.describe()"
   ]
  },
  {
   "cell_type": "code",
   "execution_count": 171,
   "metadata": {},
   "outputs": [],
   "source": [
    "helpfulness_array = (df_10.loc[:, 'HelpfulnessNumerator'] / df_10.loc[:, 'HelpfulnessDenominator'])"
   ]
  },
  {
   "cell_type": "code",
   "execution_count": 172,
   "metadata": {},
   "outputs": [
    {
     "data": {
      "text/plain": [
       "0.7704910269931855"
      ]
     },
     "execution_count": 172,
     "metadata": {},
     "output_type": "execute_result"
    }
   ],
   "source": [
    "helpfulness_array.mean()"
   ]
  },
  {
   "cell_type": "code",
   "execution_count": 173,
   "metadata": {
    "collapsed": true
   },
   "outputs": [
    {
     "data": {
      "text/html": [
       "<div>\n",
       "<style scoped>\n",
       "    .dataframe tbody tr th:only-of-type {\n",
       "        vertical-align: middle;\n",
       "    }\n",
       "\n",
       "    .dataframe tbody tr th {\n",
       "        vertical-align: top;\n",
       "    }\n",
       "\n",
       "    .dataframe thead th {\n",
       "        text-align: right;\n",
       "    }\n",
       "</style>\n",
       "<table border=\"1\" class=\"dataframe\">\n",
       "  <thead>\n",
       "    <tr style=\"text-align: right;\">\n",
       "      <th></th>\n",
       "      <th>Id</th>\n",
       "      <th>ProductId</th>\n",
       "      <th>UserId</th>\n",
       "      <th>ProfileName</th>\n",
       "      <th>HelpfulnessNumerator</th>\n",
       "      <th>HelpfulnessDenominator</th>\n",
       "      <th>Score</th>\n",
       "      <th>Time</th>\n",
       "      <th>Summary</th>\n",
       "      <th>Text</th>\n",
       "      <th>helpfullness_ratio</th>\n",
       "    </tr>\n",
       "  </thead>\n",
       "  <tbody>\n",
       "    <tr>\n",
       "      <th>32</th>\n",
       "      <td>33</td>\n",
       "      <td>B001EO5QW8</td>\n",
       "      <td>AOVROBZ8BNTP7</td>\n",
       "      <td>S. Potter</td>\n",
       "      <td>19</td>\n",
       "      <td>19</td>\n",
       "      <td>4</td>\n",
       "      <td>1163376000</td>\n",
       "      <td>best of the instant oatmeals</td>\n",
       "      <td>mccann's instant oatmeal is great if you must ...</td>\n",
       "      <td>1.0</td>\n",
       "    </tr>\n",
       "  </tbody>\n",
       "</table>\n",
       "</div>"
      ],
      "text/plain": [
       "    Id   ProductId         UserId ProfileName  HelpfulnessNumerator  \\\n",
       "32  33  B001EO5QW8  AOVROBZ8BNTP7   S. Potter                    19   \n",
       "\n",
       "    HelpfulnessDenominator  Score        Time                       Summary  \\\n",
       "32                      19      4  1163376000  best of the instant oatmeals   \n",
       "\n",
       "                                                 Text  helpfullness_ratio  \n",
       "32  mccann's instant oatmeal is great if you must ...                 1.0  "
      ]
     },
     "execution_count": 173,
     "metadata": {},
     "output_type": "execute_result"
    }
   ],
   "source": [
    "df_helpful.head(1)"
   ]
  },
  {
   "cell_type": "code",
   "execution_count": 174,
   "metadata": {
    "collapsed": true
   },
   "outputs": [
    {
     "data": {
      "text/html": [
       "<div>\n",
       "<style scoped>\n",
       "    .dataframe tbody tr th:only-of-type {\n",
       "        vertical-align: middle;\n",
       "    }\n",
       "\n",
       "    .dataframe tbody tr th {\n",
       "        vertical-align: top;\n",
       "    }\n",
       "\n",
       "    .dataframe thead th {\n",
       "        text-align: right;\n",
       "    }\n",
       "</style>\n",
       "<table border=\"1\" class=\"dataframe\">\n",
       "  <thead>\n",
       "    <tr style=\"text-align: right;\">\n",
       "      <th></th>\n",
       "      <th>Id</th>\n",
       "      <th>ProductId</th>\n",
       "      <th>UserId</th>\n",
       "      <th>ProfileName</th>\n",
       "      <th>HelpfulnessNumerator</th>\n",
       "      <th>HelpfulnessDenominator</th>\n",
       "      <th>Score</th>\n",
       "      <th>Time</th>\n",
       "      <th>Summary</th>\n",
       "      <th>Text</th>\n",
       "      <th>helpfullness_ratio</th>\n",
       "    </tr>\n",
       "  </thead>\n",
       "  <tbody>\n",
       "    <tr>\n",
       "      <th>58891</th>\n",
       "      <td>58892</td>\n",
       "      <td>B000ER1ER2</td>\n",
       "      <td>A18GKCC69KPR51</td>\n",
       "      <td>Norman Girard</td>\n",
       "      <td>0</td>\n",
       "      <td>26</td>\n",
       "      <td>2</td>\n",
       "      <td>1243036800</td>\n",
       "      <td>well</td>\n",
       "      <td>i really didn't notice elmo on the package? th...</td>\n",
       "      <td>0.0</td>\n",
       "    </tr>\n",
       "    <tr>\n",
       "      <th>386281</th>\n",
       "      <td>386282</td>\n",
       "      <td>B00073JVFU</td>\n",
       "      <td>A1CYNZMKTXO222</td>\n",
       "      <td>Nylsa V. Barris \"Nukelegs\"</td>\n",
       "      <td>0</td>\n",
       "      <td>12</td>\n",
       "      <td>1</td>\n",
       "      <td>1253664000</td>\n",
       "      <td>do not order this product....</td>\n",
       "      <td>it has been over three weeks and i still have ...</td>\n",
       "      <td>0.0</td>\n",
       "    </tr>\n",
       "    <tr>\n",
       "      <th>426976</th>\n",
       "      <td>426977</td>\n",
       "      <td>B0001PB98Q</td>\n",
       "      <td>A387KJ89FRUAUG</td>\n",
       "      <td>smusprincess \"smusprincess\"</td>\n",
       "      <td>0</td>\n",
       "      <td>19</td>\n",
       "      <td>1</td>\n",
       "      <td>1168473600</td>\n",
       "      <td>horrible seller</td>\n",
       "      <td>did not recieve on time and shipped to the wro...</td>\n",
       "      <td>0.0</td>\n",
       "    </tr>\n",
       "    <tr>\n",
       "      <th>31977</th>\n",
       "      <td>31978</td>\n",
       "      <td>B0062A87HA</td>\n",
       "      <td>A2NAGVAI22YXI9</td>\n",
       "      <td>B. Wyrick</td>\n",
       "      <td>0</td>\n",
       "      <td>11</td>\n",
       "      <td>4</td>\n",
       "      <td>1199664000</td>\n",
       "      <td>mistaken order</td>\n",
       "      <td>i did order this item in the fall of 2007, but...</td>\n",
       "      <td>0.0</td>\n",
       "    </tr>\n",
       "    <tr>\n",
       "      <th>519024</th>\n",
       "      <td>519025</td>\n",
       "      <td>B000E7SYLG</td>\n",
       "      <td>A2XNJJ9TF70P4J</td>\n",
       "      <td>Angie</td>\n",
       "      <td>0</td>\n",
       "      <td>17</td>\n",
       "      <td>1</td>\n",
       "      <td>1299283200</td>\n",
       "      <td>disgusting</td>\n",
       "      <td>i don't know where these rave reviews are comi...</td>\n",
       "      <td>0.0</td>\n",
       "    </tr>\n",
       "    <tr>\n",
       "      <th>357812</th>\n",
       "      <td>357813</td>\n",
       "      <td>B001GCTTRQ</td>\n",
       "      <td>A1CYNZMKTXO222</td>\n",
       "      <td>Nylsa V. Barris \"Nukelegs\"</td>\n",
       "      <td>0</td>\n",
       "      <td>12</td>\n",
       "      <td>1</td>\n",
       "      <td>1253664000</td>\n",
       "      <td>do not order this product....</td>\n",
       "      <td>it has been over three weeks and i still have ...</td>\n",
       "      <td>0.0</td>\n",
       "    </tr>\n",
       "    <tr>\n",
       "      <th>386742</th>\n",
       "      <td>386743</td>\n",
       "      <td>B007OXJLZQ</td>\n",
       "      <td>A6TUCK8W9L8MJ</td>\n",
       "      <td>Fooled By Great Marketing</td>\n",
       "      <td>0</td>\n",
       "      <td>11</td>\n",
       "      <td>1</td>\n",
       "      <td>1297036800</td>\n",
       "      <td>wrong product</td>\n",
       "      <td>they sent me hazelnut and i ordered vanilla--i...</td>\n",
       "      <td>0.0</td>\n",
       "    </tr>\n",
       "    <tr>\n",
       "      <th>320900</th>\n",
       "      <td>320901</td>\n",
       "      <td>B0006ZN538</td>\n",
       "      <td>A2SH7OWE8QJYNC</td>\n",
       "      <td>Kaleidocherry</td>\n",
       "      <td>0</td>\n",
       "      <td>14</td>\n",
       "      <td>2</td>\n",
       "      <td>1339632000</td>\n",
       "      <td>not as happy as i wanted to be</td>\n",
       "      <td>for our inaugural attempt at baking with almon...</td>\n",
       "      <td>0.0</td>\n",
       "    </tr>\n",
       "    <tr>\n",
       "      <th>104292</th>\n",
       "      <td>104293</td>\n",
       "      <td>B0016512YG</td>\n",
       "      <td>A2APHQA8UQTV0</td>\n",
       "      <td>Marija</td>\n",
       "      <td>0</td>\n",
       "      <td>13</td>\n",
       "      <td>1</td>\n",
       "      <td>1217635200</td>\n",
       "      <td>my taste buds were overloaded after having jus...</td>\n",
       "      <td>with all the talk of snackwells being low in s...</td>\n",
       "      <td>0.0</td>\n",
       "    </tr>\n",
       "    <tr>\n",
       "      <th>266205</th>\n",
       "      <td>266206</td>\n",
       "      <td>B001D9RVMM</td>\n",
       "      <td>A3L5QAAH3J5AKY</td>\n",
       "      <td>Howard</td>\n",
       "      <td>0</td>\n",
       "      <td>11</td>\n",
       "      <td>2</td>\n",
       "      <td>1311292800</td>\n",
       "      <td>not tasty for my dog</td>\n",
       "      <td>these days it is not easy to find us made dog ...</td>\n",
       "      <td>0.0</td>\n",
       "    </tr>\n",
       "    <tr>\n",
       "      <th>48954</th>\n",
       "      <td>48955</td>\n",
       "      <td>B003VXE46Y</td>\n",
       "      <td>A1VF9QUXQIA5JW</td>\n",
       "      <td>Tina Ruch \"gerber daisy lover\"</td>\n",
       "      <td>0</td>\n",
       "      <td>11</td>\n",
       "      <td>1</td>\n",
       "      <td>1345075200</td>\n",
       "      <td>totally gross</td>\n",
       "      <td>i didn't realize that these seeds puff up and ...</td>\n",
       "      <td>0.0</td>\n",
       "    </tr>\n",
       "    <tr>\n",
       "      <th>357619</th>\n",
       "      <td>357620</td>\n",
       "      <td>B000WFS9G0</td>\n",
       "      <td>A3L5QAAH3J5AKY</td>\n",
       "      <td>Howard</td>\n",
       "      <td>0</td>\n",
       "      <td>11</td>\n",
       "      <td>2</td>\n",
       "      <td>1311292800</td>\n",
       "      <td>not tasty for my dog</td>\n",
       "      <td>these days it is not easy to find us made dog ...</td>\n",
       "      <td>0.0</td>\n",
       "    </tr>\n",
       "    <tr>\n",
       "      <th>295298</th>\n",
       "      <td>295299</td>\n",
       "      <td>B000LQNK50</td>\n",
       "      <td>AXHX11PBZ8P6A</td>\n",
       "      <td>Tc C. Fulton</td>\n",
       "      <td>0</td>\n",
       "      <td>12</td>\n",
       "      <td>1</td>\n",
       "      <td>1313625600</td>\n",
       "      <td>flavorless non spicy crap stick with shin-ramen!</td>\n",
       "      <td>honestly i had never seen or heard of this typ...</td>\n",
       "      <td>0.0</td>\n",
       "    </tr>\n",
       "    <tr>\n",
       "      <th>491902</th>\n",
       "      <td>491903</td>\n",
       "      <td>B000FBQ4YU</td>\n",
       "      <td>A1FEP94TP15RG0</td>\n",
       "      <td>J. H. Baker</td>\n",
       "      <td>0</td>\n",
       "      <td>11</td>\n",
       "      <td>1</td>\n",
       "      <td>1245715200</td>\n",
       "      <td>hazelnut (filberts) in a fragile crescent shap...</td>\n",
       "      <td>delicate ground hazelnut cookies for a ladies ...</td>\n",
       "      <td>0.0</td>\n",
       "    </tr>\n",
       "    <tr>\n",
       "      <th>321032</th>\n",
       "      <td>321033</td>\n",
       "      <td>B000EWHX7C</td>\n",
       "      <td>A31XQGLMM3O5YK</td>\n",
       "      <td>D. Schwartz</td>\n",
       "      <td>0</td>\n",
       "      <td>16</td>\n",
       "      <td>5</td>\n",
       "      <td>1199145600</td>\n",
       "      <td>the bestest</td>\n",
       "      <td>i am a forty year old and when i eat this cand...</td>\n",
       "      <td>0.0</td>\n",
       "    </tr>\n",
       "    <tr>\n",
       "      <th>491903</th>\n",
       "      <td>491904</td>\n",
       "      <td>B000FBQ4YU</td>\n",
       "      <td>A1FEP94TP15RG0</td>\n",
       "      <td>J. H. Baker</td>\n",
       "      <td>0</td>\n",
       "      <td>11</td>\n",
       "      <td>1</td>\n",
       "      <td>1245715200</td>\n",
       "      <td>these \"butter leaves\" are addictively wonderful!</td>\n",
       "      <td>amazon sends you twelve boxes of these fabulou...</td>\n",
       "      <td>0.0</td>\n",
       "    </tr>\n",
       "    <tr>\n",
       "      <th>131057</th>\n",
       "      <td>131058</td>\n",
       "      <td>B007ZI1M48</td>\n",
       "      <td>A2QSW0HODO03ZR</td>\n",
       "      <td>Joseph J. Dumas \"jdumas54\"</td>\n",
       "      <td>0</td>\n",
       "      <td>13</td>\n",
       "      <td>2</td>\n",
       "      <td>1186790400</td>\n",
       "      <td>not fair trade- not organic!</td>\n",
       "      <td>for the sake of the coffee bean farmers around...</td>\n",
       "      <td>0.0</td>\n",
       "    </tr>\n",
       "    <tr>\n",
       "      <th>368099</th>\n",
       "      <td>368100</td>\n",
       "      <td>B003B3OOPA</td>\n",
       "      <td>A148ABAGOSRWCG</td>\n",
       "      <td>brutus sanchez</td>\n",
       "      <td>0</td>\n",
       "      <td>11</td>\n",
       "      <td>4</td>\n",
       "      <td>1319414400</td>\n",
       "      <td>better before the price increase</td>\n",
       "      <td>it sure tasted better before amazon raised the...</td>\n",
       "      <td>0.0</td>\n",
       "    </tr>\n",
       "    <tr>\n",
       "      <th>48231</th>\n",
       "      <td>48232</td>\n",
       "      <td>B004SRH2B6</td>\n",
       "      <td>A2EPAANBU7FP4D</td>\n",
       "      <td>Nicholas</td>\n",
       "      <td>0</td>\n",
       "      <td>12</td>\n",
       "      <td>2</td>\n",
       "      <td>1308787200</td>\n",
       "      <td>price is absurd.</td>\n",
       "      <td>this is the basically the cheapest form to buy...</td>\n",
       "      <td>0.0</td>\n",
       "    </tr>\n",
       "    <tr>\n",
       "      <th>464908</th>\n",
       "      <td>464909</td>\n",
       "      <td>B000CPYVGM</td>\n",
       "      <td>A56Z4L13E0PQ9</td>\n",
       "      <td>Gilda Barnes \"Butterfly Hunter\"</td>\n",
       "      <td>0</td>\n",
       "      <td>15</td>\n",
       "      <td>2</td>\n",
       "      <td>1317600000</td>\n",
       "      <td>\"arazona vanilla\" is  \"halaleveryday\"</td>\n",
       "      <td>the mexican beans that i ordered from arizona ...</td>\n",
       "      <td>0.0</td>\n",
       "    </tr>\n",
       "    <tr>\n",
       "      <th>464799</th>\n",
       "      <td>464800</td>\n",
       "      <td>B000UBD88A</td>\n",
       "      <td>A10I3GPBSB5MEE</td>\n",
       "      <td>Michael L. Suter \"FTIENG1\"</td>\n",
       "      <td>0</td>\n",
       "      <td>16</td>\n",
       "      <td>1</td>\n",
       "      <td>1231372800</td>\n",
       "      <td>coffee</td>\n",
       "      <td>best coffee on the market.  have it every morn...</td>\n",
       "      <td>0.0</td>\n",
       "    </tr>\n",
       "    <tr>\n",
       "      <th>321541</th>\n",
       "      <td>321542</td>\n",
       "      <td>B000LKYQJ0</td>\n",
       "      <td>A1N2BYSWX32MY</td>\n",
       "      <td>Cujibear</td>\n",
       "      <td>0</td>\n",
       "      <td>12</td>\n",
       "      <td>1</td>\n",
       "      <td>1318550400</td>\n",
       "      <td>choco-yuck</td>\n",
       "      <td>i just bought the toffee and almond bar.  it w...</td>\n",
       "      <td>0.0</td>\n",
       "    </tr>\n",
       "    <tr>\n",
       "      <th>294146</th>\n",
       "      <td>294147</td>\n",
       "      <td>B000FBM46W</td>\n",
       "      <td>A1FEP94TP15RG0</td>\n",
       "      <td>J. H. Baker</td>\n",
       "      <td>0</td>\n",
       "      <td>11</td>\n",
       "      <td>1</td>\n",
       "      <td>1245715200</td>\n",
       "      <td>these \"butter leaves\" are addictively wonderful!</td>\n",
       "      <td>amazon sends you twelve boxes of these fabulou...</td>\n",
       "      <td>0.0</td>\n",
       "    </tr>\n",
       "    <tr>\n",
       "      <th>321780</th>\n",
       "      <td>321781</td>\n",
       "      <td>B001GQ3E3C</td>\n",
       "      <td>A1LKJPEU6HBJES</td>\n",
       "      <td>pegtek</td>\n",
       "      <td>0</td>\n",
       "      <td>11</td>\n",
       "      <td>1</td>\n",
       "      <td>1300579200</td>\n",
       "      <td>no chocolate taste at all</td>\n",
       "      <td>i'm glad i tried out the chocolate dreams befo...</td>\n",
       "      <td>0.0</td>\n",
       "    </tr>\n",
       "    <tr>\n",
       "      <th>294145</th>\n",
       "      <td>294146</td>\n",
       "      <td>B000FBM46W</td>\n",
       "      <td>A1FEP94TP15RG0</td>\n",
       "      <td>J. H. Baker</td>\n",
       "      <td>0</td>\n",
       "      <td>11</td>\n",
       "      <td>1</td>\n",
       "      <td>1245715200</td>\n",
       "      <td>hazelnut (filberts) in a fragile crescent shap...</td>\n",
       "      <td>delicate ground hazelnut cookies for a ladies ...</td>\n",
       "      <td>0.0</td>\n",
       "    </tr>\n",
       "    <tr>\n",
       "      <th>357213</th>\n",
       "      <td>357214</td>\n",
       "      <td>B0006I5M2M</td>\n",
       "      <td>A1CYNZMKTXO222</td>\n",
       "      <td>Nylsa V. Barris \"Nukelegs\"</td>\n",
       "      <td>0</td>\n",
       "      <td>12</td>\n",
       "      <td>1</td>\n",
       "      <td>1253664000</td>\n",
       "      <td>do not order this product....</td>\n",
       "      <td>it has been over three weeks and i still have ...</td>\n",
       "      <td>0.0</td>\n",
       "    </tr>\n",
       "    <tr>\n",
       "      <th>198472</th>\n",
       "      <td>198473</td>\n",
       "      <td>B000FVBYCW</td>\n",
       "      <td>A1CYNZMKTXO222</td>\n",
       "      <td>Nylsa V. Barris \"Nukelegs\"</td>\n",
       "      <td>0</td>\n",
       "      <td>12</td>\n",
       "      <td>1</td>\n",
       "      <td>1253664000</td>\n",
       "      <td>do not order this product....</td>\n",
       "      <td>it has been over three weeks and i still have ...</td>\n",
       "      <td>0.0</td>\n",
       "    </tr>\n",
       "    <tr>\n",
       "      <th>293904</th>\n",
       "      <td>293905</td>\n",
       "      <td>B00020HHM2</td>\n",
       "      <td>A1CYNZMKTXO222</td>\n",
       "      <td>Nylsa V. Barris \"Nukelegs\"</td>\n",
       "      <td>0</td>\n",
       "      <td>12</td>\n",
       "      <td>1</td>\n",
       "      <td>1253664000</td>\n",
       "      <td>do not order this product....</td>\n",
       "      <td>it has been over three weeks and i still have ...</td>\n",
       "      <td>0.0</td>\n",
       "    </tr>\n",
       "    <tr>\n",
       "      <th>417257</th>\n",
       "      <td>417258</td>\n",
       "      <td>B001E5E00G</td>\n",
       "      <td>A30QIRX0TROA6A</td>\n",
       "      <td>Jonathan Green \"defrocked cultural anthropolo...</td>\n",
       "      <td>0</td>\n",
       "      <td>59</td>\n",
       "      <td>2</td>\n",
       "      <td>1167868800</td>\n",
       "      <td>this \"just\" is un-\"just\"</td>\n",
       "      <td>beyond the glaring fact that most of their pro...</td>\n",
       "      <td>0.0</td>\n",
       "    </tr>\n",
       "    <tr>\n",
       "      <th>65754</th>\n",
       "      <td>65755</td>\n",
       "      <td>B001FA1EOU</td>\n",
       "      <td>A3O8H1W4Y4QIJE</td>\n",
       "      <td>BMCDECARFN \"JTALLAHJAPAN\"</td>\n",
       "      <td>0</td>\n",
       "      <td>11</td>\n",
       "      <td>1</td>\n",
       "      <td>1319500800</td>\n",
       "      <td>pile-o-chocolate</td>\n",
       "      <td>total trash, its a big pile of chocolate.  im ...</td>\n",
       "      <td>0.0</td>\n",
       "    </tr>\n",
       "    <tr>\n",
       "      <th>...</th>\n",
       "      <td>...</td>\n",
       "      <td>...</td>\n",
       "      <td>...</td>\n",
       "      <td>...</td>\n",
       "      <td>...</td>\n",
       "      <td>...</td>\n",
       "      <td>...</td>\n",
       "      <td>...</td>\n",
       "      <td>...</td>\n",
       "      <td>...</td>\n",
       "      <td>...</td>\n",
       "    </tr>\n",
       "    <tr>\n",
       "      <th>121753</th>\n",
       "      <td>121754</td>\n",
       "      <td>B000F0DW0U</td>\n",
       "      <td>A173YMJ9XFVRSY</td>\n",
       "      <td>Swati S. Desai</td>\n",
       "      <td>21</td>\n",
       "      <td>21</td>\n",
       "      <td>5</td>\n",
       "      <td>1173830400</td>\n",
       "      <td>best falafel mix on the market!! :)</td>\n",
       "      <td>i absolutely love falafel, and have tried a nu...</td>\n",
       "      <td>1.0</td>\n",
       "    </tr>\n",
       "    <tr>\n",
       "      <th>121703</th>\n",
       "      <td>121704</td>\n",
       "      <td>B000NVBVIQ</td>\n",
       "      <td>A2V3UP9NPMHVKJ</td>\n",
       "      <td>Alex Thomas \"Tommy\"</td>\n",
       "      <td>15</td>\n",
       "      <td>15</td>\n",
       "      <td>5</td>\n",
       "      <td>1184284800</td>\n",
       "      <td>your pup will love this product</td>\n",
       "      <td>my rottie has food allergies to poultry, beef,...</td>\n",
       "      <td>1.0</td>\n",
       "    </tr>\n",
       "    <tr>\n",
       "      <th>384026</th>\n",
       "      <td>384027</td>\n",
       "      <td>B000LKZ61W</td>\n",
       "      <td>A1N7832ZT6B22W</td>\n",
       "      <td>Subsnipe \"Subsnipe\"</td>\n",
       "      <td>11</td>\n",
       "      <td>11</td>\n",
       "      <td>5</td>\n",
       "      <td>1255392000</td>\n",
       "      <td>change your boring lunch</td>\n",
       "      <td>i am not inidan, so this is not a \"professiona...</td>\n",
       "      <td>1.0</td>\n",
       "    </tr>\n",
       "    <tr>\n",
       "      <th>119980</th>\n",
       "      <td>119981</td>\n",
       "      <td>B000CMF18W</td>\n",
       "      <td>A29SLA94SB3B0</td>\n",
       "      <td>asianlily \"kristen\"</td>\n",
       "      <td>27</td>\n",
       "      <td>27</td>\n",
       "      <td>5</td>\n",
       "      <td>1231027200</td>\n",
       "      <td>st. john's wort is a miracle.</td>\n",
       "      <td>i really bought this tea thinking the placebo ...</td>\n",
       "      <td>1.0</td>\n",
       "    </tr>\n",
       "    <tr>\n",
       "      <th>119981</th>\n",
       "      <td>119982</td>\n",
       "      <td>B000CMF18W</td>\n",
       "      <td>ADJTOLQBJJQP5</td>\n",
       "      <td>R. A. Steinbach</td>\n",
       "      <td>19</td>\n",
       "      <td>19</td>\n",
       "      <td>5</td>\n",
       "      <td>1185235200</td>\n",
       "      <td>it's also about the effects</td>\n",
       "      <td>just wanted to speak up and say that during a ...</td>\n",
       "      <td>1.0</td>\n",
       "    </tr>\n",
       "    <tr>\n",
       "      <th>120058</th>\n",
       "      <td>120059</td>\n",
       "      <td>B0029JW8T6</td>\n",
       "      <td>A26ZK8QFWXN859</td>\n",
       "      <td>dalepres \"dalepres\"</td>\n",
       "      <td>11</td>\n",
       "      <td>11</td>\n",
       "      <td>5</td>\n",
       "      <td>1301184000</td>\n",
       "      <td>i've eaten these for 15 years</td>\n",
       "      <td>i have been eating these pepperonis for 15 yea...</td>\n",
       "      <td>1.0</td>\n",
       "    </tr>\n",
       "    <tr>\n",
       "      <th>120202</th>\n",
       "      <td>120203</td>\n",
       "      <td>B0038B3AAK</td>\n",
       "      <td>ATTZKFYQDA7FF</td>\n",
       "      <td>Alexander Kelly \"Relentless One\"</td>\n",
       "      <td>39</td>\n",
       "      <td>39</td>\n",
       "      <td>4</td>\n",
       "      <td>1259193600</td>\n",
       "      <td>powerful and powdery</td>\n",
       "      <td>i've been using green drinks for over 6 years ...</td>\n",
       "      <td>1.0</td>\n",
       "    </tr>\n",
       "    <tr>\n",
       "      <th>120203</th>\n",
       "      <td>120204</td>\n",
       "      <td>B0038B3AAK</td>\n",
       "      <td>A173F5KJQHSGLK</td>\n",
       "      <td>MAG</td>\n",
       "      <td>16</td>\n",
       "      <td>16</td>\n",
       "      <td>5</td>\n",
       "      <td>1341273600</td>\n",
       "      <td>pure goodness in a bottle!</td>\n",
       "      <td>i lead a busy life &amp; find that eating a health...</td>\n",
       "      <td>1.0</td>\n",
       "    </tr>\n",
       "    <tr>\n",
       "      <th>120204</th>\n",
       "      <td>120205</td>\n",
       "      <td>B0038B3AAK</td>\n",
       "      <td>A3RBIGYDV0BSQY</td>\n",
       "      <td>Eat well Live well</td>\n",
       "      <td>13</td>\n",
       "      <td>13</td>\n",
       "      <td>5</td>\n",
       "      <td>1230681600</td>\n",
       "      <td>by far the best tasting greens on the market</td>\n",
       "      <td>i will never again settle for a dirt tasting g...</td>\n",
       "      <td>1.0</td>\n",
       "    </tr>\n",
       "    <tr>\n",
       "      <th>120205</th>\n",
       "      <td>120206</td>\n",
       "      <td>B0038B3AAK</td>\n",
       "      <td>A15XI2BEGGFEOW</td>\n",
       "      <td>James \"merddyn\"</td>\n",
       "      <td>12</td>\n",
       "      <td>12</td>\n",
       "      <td>5</td>\n",
       "      <td>1297296000</td>\n",
       "      <td>awesome</td>\n",
       "      <td>this stuff is awesome and has helped me do won...</td>\n",
       "      <td>1.0</td>\n",
       "    </tr>\n",
       "    <tr>\n",
       "      <th>120206</th>\n",
       "      <td>120207</td>\n",
       "      <td>B0038B3AAK</td>\n",
       "      <td>A175LC3BYLG5QR</td>\n",
       "      <td>Marilyn Le</td>\n",
       "      <td>11</td>\n",
       "      <td>11</td>\n",
       "      <td>5</td>\n",
       "      <td>1322438400</td>\n",
       "      <td>acquired taste</td>\n",
       "      <td>this wasn't as bad as expected! it smelled awf...</td>\n",
       "      <td>1.0</td>\n",
       "    </tr>\n",
       "    <tr>\n",
       "      <th>120207</th>\n",
       "      <td>120208</td>\n",
       "      <td>B0038B3AAK</td>\n",
       "      <td>A1L5491FA1UA8T</td>\n",
       "      <td>Nola E. Sayne</td>\n",
       "      <td>11</td>\n",
       "      <td>11</td>\n",
       "      <td>5</td>\n",
       "      <td>1310601600</td>\n",
       "      <td>amazing grass works!</td>\n",
       "      <td>this is a good product.  i use once every day ...</td>\n",
       "      <td>1.0</td>\n",
       "    </tr>\n",
       "    <tr>\n",
       "      <th>120208</th>\n",
       "      <td>120209</td>\n",
       "      <td>B0038B3AAK</td>\n",
       "      <td>A2SQE0NYBNUFR6</td>\n",
       "      <td>Lynn Miller</td>\n",
       "      <td>11</td>\n",
       "      <td>11</td>\n",
       "      <td>5</td>\n",
       "      <td>1295568000</td>\n",
       "      <td>love this stuff!</td>\n",
       "      <td>i mix it in water and drink it twice a day.  i...</td>\n",
       "      <td>1.0</td>\n",
       "    </tr>\n",
       "    <tr>\n",
       "      <th>383393</th>\n",
       "      <td>383394</td>\n",
       "      <td>B0013BTP9C</td>\n",
       "      <td>A3OXHLG6DIBRW8</td>\n",
       "      <td>C. F. Hill \"CFH\"</td>\n",
       "      <td>42</td>\n",
       "      <td>42</td>\n",
       "      <td>4</td>\n",
       "      <td>1324857600</td>\n",
       "      <td>tried many, some great, some not</td>\n",
       "      <td>we have a &lt;a href=\"http://www.amazon.com/gp/pr...</td>\n",
       "      <td>1.0</td>\n",
       "    </tr>\n",
       "    <tr>\n",
       "      <th>402519</th>\n",
       "      <td>402520</td>\n",
       "      <td>B000EML7DS</td>\n",
       "      <td>A2F0JHRI46EFB0</td>\n",
       "      <td>Sandy \"kittyhead27\"</td>\n",
       "      <td>15</td>\n",
       "      <td>15</td>\n",
       "      <td>4</td>\n",
       "      <td>1154390400</td>\n",
       "      <td>crunchy relief!</td>\n",
       "      <td>although the i agree w/the previous review to ...</td>\n",
       "      <td>1.0</td>\n",
       "    </tr>\n",
       "    <tr>\n",
       "      <th>120396</th>\n",
       "      <td>120397</td>\n",
       "      <td>B005K4Q37A</td>\n",
       "      <td>A20A2SOQ4E05FZ</td>\n",
       "      <td>No More Fleas Please, Inc. \"FLEA_DOCTOR\"</td>\n",
       "      <td>14</td>\n",
       "      <td>14</td>\n",
       "      <td>5</td>\n",
       "      <td>1319155200</td>\n",
       "      <td>really good for what it is</td>\n",
       "      <td>this was very different from what i originally...</td>\n",
       "      <td>1.0</td>\n",
       "    </tr>\n",
       "    <tr>\n",
       "      <th>383081</th>\n",
       "      <td>383082</td>\n",
       "      <td>B000RJ4ZK0</td>\n",
       "      <td>A2GRGZ9W545QKO</td>\n",
       "      <td>Kelley</td>\n",
       "      <td>15</td>\n",
       "      <td>15</td>\n",
       "      <td>4</td>\n",
       "      <td>1294099200</td>\n",
       "      <td>dangerously delicious amount but didn't seem a...</td>\n",
       "      <td>so i had a bad car wreck at the first of novem...</td>\n",
       "      <td>1.0</td>\n",
       "    </tr>\n",
       "    <tr>\n",
       "      <th>120835</th>\n",
       "      <td>120836</td>\n",
       "      <td>B002YR7A9Q</td>\n",
       "      <td>A2UWIWD56X2Z5O</td>\n",
       "      <td>Happy Wife</td>\n",
       "      <td>12</td>\n",
       "      <td>12</td>\n",
       "      <td>5</td>\n",
       "      <td>1335312000</td>\n",
       "      <td>comparing bob's red mill to tropical tradition...</td>\n",
       "      <td>we select the best quality foods we can afford...</td>\n",
       "      <td>1.0</td>\n",
       "    </tr>\n",
       "    <tr>\n",
       "      <th>382980</th>\n",
       "      <td>382981</td>\n",
       "      <td>B001PMDYV4</td>\n",
       "      <td>A8VP6U6IE2GT6</td>\n",
       "      <td>Rabbit with watch</td>\n",
       "      <td>20</td>\n",
       "      <td>20</td>\n",
       "      <td>5</td>\n",
       "      <td>1215561600</td>\n",
       "      <td>cat loves the flavor</td>\n",
       "      <td>kitty loves it! happily eats 1/2 can in one se...</td>\n",
       "      <td>1.0</td>\n",
       "    </tr>\n",
       "    <tr>\n",
       "      <th>382979</th>\n",
       "      <td>382980</td>\n",
       "      <td>B001PMDYV4</td>\n",
       "      <td>A3FBC2AVXDY57T</td>\n",
       "      <td>FauxDiva XX</td>\n",
       "      <td>21</td>\n",
       "      <td>21</td>\n",
       "      <td>5</td>\n",
       "      <td>1232409600</td>\n",
       "      <td>multi cat family - all of them love newman's o...</td>\n",
       "      <td>we switched to newman's own dry and wet food s...</td>\n",
       "      <td>1.0</td>\n",
       "    </tr>\n",
       "    <tr>\n",
       "      <th>120856</th>\n",
       "      <td>120857</td>\n",
       "      <td>B003K2EXI0</td>\n",
       "      <td>A1X2GWDA6TTWY8</td>\n",
       "      <td>P. SOO</td>\n",
       "      <td>23</td>\n",
       "      <td>23</td>\n",
       "      <td>5</td>\n",
       "      <td>1258848000</td>\n",
       "      <td>smooth, soft and tasty</td>\n",
       "      <td>i've been using satin ice for a year now on my...</td>\n",
       "      <td>1.0</td>\n",
       "    </tr>\n",
       "    <tr>\n",
       "      <th>120857</th>\n",
       "      <td>120858</td>\n",
       "      <td>B003K2EXI0</td>\n",
       "      <td>A258FXO3O8EQQE</td>\n",
       "      <td>Roberta A. Ryherd</td>\n",
       "      <td>20</td>\n",
       "      <td>20</td>\n",
       "      <td>5</td>\n",
       "      <td>1239408000</td>\n",
       "      <td>best fondant!</td>\n",
       "      <td>satin ice is the best tasting fondant i can fi...</td>\n",
       "      <td>1.0</td>\n",
       "    </tr>\n",
       "    <tr>\n",
       "      <th>382943</th>\n",
       "      <td>382944</td>\n",
       "      <td>B000F411P4</td>\n",
       "      <td>A2DP5T5BEJDI84</td>\n",
       "      <td>R. Park \"rpark\"</td>\n",
       "      <td>13</td>\n",
       "      <td>13</td>\n",
       "      <td>5</td>\n",
       "      <td>1261267200</td>\n",
       "      <td>it's not that hard</td>\n",
       "      <td>this is the perfect basket for serving sticky ...</td>\n",
       "      <td>1.0</td>\n",
       "    </tr>\n",
       "    <tr>\n",
       "      <th>120917</th>\n",
       "      <td>120918</td>\n",
       "      <td>B000MYFXG0</td>\n",
       "      <td>A2JG5O4FO4U1MG</td>\n",
       "      <td>John Nickerson \"BCHMA /IPMS member\"</td>\n",
       "      <td>37</td>\n",
       "      <td>37</td>\n",
       "      <td>5</td>\n",
       "      <td>1203292800</td>\n",
       "      <td>thank you, riedel!</td>\n",
       "      <td>i have been enjoying single malt scotch since ...</td>\n",
       "      <td>1.0</td>\n",
       "    </tr>\n",
       "    <tr>\n",
       "      <th>121011</th>\n",
       "      <td>121012</td>\n",
       "      <td>B000ETXO8M</td>\n",
       "      <td>A3LH77PBDFEO3F</td>\n",
       "      <td>G. E. Williams \"Nunah\"</td>\n",
       "      <td>18</td>\n",
       "      <td>18</td>\n",
       "      <td>5</td>\n",
       "      <td>1173312000</td>\n",
       "      <td>acquired taste</td>\n",
       "      <td>when i lived on the border of england and wale...</td>\n",
       "      <td>1.0</td>\n",
       "    </tr>\n",
       "    <tr>\n",
       "      <th>121012</th>\n",
       "      <td>121013</td>\n",
       "      <td>B000ETXO8M</td>\n",
       "      <td>A1A4I7EPB9YKK2</td>\n",
       "      <td>Lucky's Geist</td>\n",
       "      <td>11</td>\n",
       "      <td>11</td>\n",
       "      <td>5</td>\n",
       "      <td>1181260800</td>\n",
       "      <td>genuine article</td>\n",
       "      <td>i love licorice and thought i would try this s...</td>\n",
       "      <td>1.0</td>\n",
       "    </tr>\n",
       "    <tr>\n",
       "      <th>382833</th>\n",
       "      <td>382834</td>\n",
       "      <td>B002T0IHPO</td>\n",
       "      <td>A3OXHLG6DIBRW8</td>\n",
       "      <td>C. F. Hill \"CFH\"</td>\n",
       "      <td>42</td>\n",
       "      <td>42</td>\n",
       "      <td>4</td>\n",
       "      <td>1324857600</td>\n",
       "      <td>tried many, some great, some not</td>\n",
       "      <td>we have a &lt;a href=\"http://www.amazon.com/gp/pr...</td>\n",
       "      <td>1.0</td>\n",
       "    </tr>\n",
       "    <tr>\n",
       "      <th>382729</th>\n",
       "      <td>382730</td>\n",
       "      <td>B000LQJT1O</td>\n",
       "      <td>A3V033MGJ7GHBM</td>\n",
       "      <td>JLE</td>\n",
       "      <td>12</td>\n",
       "      <td>12</td>\n",
       "      <td>5</td>\n",
       "      <td>1246838400</td>\n",
       "      <td>hard to find in grocery stores in my area</td>\n",
       "      <td>my local store used to carry these soup bowls,...</td>\n",
       "      <td>1.0</td>\n",
       "    </tr>\n",
       "    <tr>\n",
       "      <th>383299</th>\n",
       "      <td>383300</td>\n",
       "      <td>B000U9V5BY</td>\n",
       "      <td>A2ZEKO1MQCV4BY</td>\n",
       "      <td>Green Thumb76</td>\n",
       "      <td>12</td>\n",
       "      <td>12</td>\n",
       "      <td>1</td>\n",
       "      <td>1263340800</td>\n",
       "      <td>tasteless flavoring</td>\n",
       "      <td>maybe it's just me, but i have used this extra...</td>\n",
       "      <td>1.0</td>\n",
       "    </tr>\n",
       "    <tr>\n",
       "      <th>32</th>\n",
       "      <td>33</td>\n",
       "      <td>B001EO5QW8</td>\n",
       "      <td>AOVROBZ8BNTP7</td>\n",
       "      <td>S. Potter</td>\n",
       "      <td>19</td>\n",
       "      <td>19</td>\n",
       "      <td>4</td>\n",
       "      <td>1163376000</td>\n",
       "      <td>best of the instant oatmeals</td>\n",
       "      <td>mccann's instant oatmeal is great if you must ...</td>\n",
       "      <td>1.0</td>\n",
       "    </tr>\n",
       "  </tbody>\n",
       "</table>\n",
       "<p>19817 rows × 11 columns</p>\n",
       "</div>"
      ],
      "text/plain": [
       "            Id   ProductId          UserId  \\\n",
       "58891    58892  B000ER1ER2  A18GKCC69KPR51   \n",
       "386281  386282  B00073JVFU  A1CYNZMKTXO222   \n",
       "426976  426977  B0001PB98Q  A387KJ89FRUAUG   \n",
       "31977    31978  B0062A87HA  A2NAGVAI22YXI9   \n",
       "519024  519025  B000E7SYLG  A2XNJJ9TF70P4J   \n",
       "357812  357813  B001GCTTRQ  A1CYNZMKTXO222   \n",
       "386742  386743  B007OXJLZQ   A6TUCK8W9L8MJ   \n",
       "320900  320901  B0006ZN538  A2SH7OWE8QJYNC   \n",
       "104292  104293  B0016512YG   A2APHQA8UQTV0   \n",
       "266205  266206  B001D9RVMM  A3L5QAAH3J5AKY   \n",
       "48954    48955  B003VXE46Y  A1VF9QUXQIA5JW   \n",
       "357619  357620  B000WFS9G0  A3L5QAAH3J5AKY   \n",
       "295298  295299  B000LQNK50   AXHX11PBZ8P6A   \n",
       "491902  491903  B000FBQ4YU  A1FEP94TP15RG0   \n",
       "321032  321033  B000EWHX7C  A31XQGLMM3O5YK   \n",
       "491903  491904  B000FBQ4YU  A1FEP94TP15RG0   \n",
       "131057  131058  B007ZI1M48  A2QSW0HODO03ZR   \n",
       "368099  368100  B003B3OOPA  A148ABAGOSRWCG   \n",
       "48231    48232  B004SRH2B6  A2EPAANBU7FP4D   \n",
       "464908  464909  B000CPYVGM   A56Z4L13E0PQ9   \n",
       "464799  464800  B000UBD88A  A10I3GPBSB5MEE   \n",
       "321541  321542  B000LKYQJ0   A1N2BYSWX32MY   \n",
       "294146  294147  B000FBM46W  A1FEP94TP15RG0   \n",
       "321780  321781  B001GQ3E3C  A1LKJPEU6HBJES   \n",
       "294145  294146  B000FBM46W  A1FEP94TP15RG0   \n",
       "357213  357214  B0006I5M2M  A1CYNZMKTXO222   \n",
       "198472  198473  B000FVBYCW  A1CYNZMKTXO222   \n",
       "293904  293905  B00020HHM2  A1CYNZMKTXO222   \n",
       "417257  417258  B001E5E00G  A30QIRX0TROA6A   \n",
       "65754    65755  B001FA1EOU  A3O8H1W4Y4QIJE   \n",
       "...        ...         ...             ...   \n",
       "121753  121754  B000F0DW0U  A173YMJ9XFVRSY   \n",
       "121703  121704  B000NVBVIQ  A2V3UP9NPMHVKJ   \n",
       "384026  384027  B000LKZ61W  A1N7832ZT6B22W   \n",
       "119980  119981  B000CMF18W   A29SLA94SB3B0   \n",
       "119981  119982  B000CMF18W   ADJTOLQBJJQP5   \n",
       "120058  120059  B0029JW8T6  A26ZK8QFWXN859   \n",
       "120202  120203  B0038B3AAK   ATTZKFYQDA7FF   \n",
       "120203  120204  B0038B3AAK  A173F5KJQHSGLK   \n",
       "120204  120205  B0038B3AAK  A3RBIGYDV0BSQY   \n",
       "120205  120206  B0038B3AAK  A15XI2BEGGFEOW   \n",
       "120206  120207  B0038B3AAK  A175LC3BYLG5QR   \n",
       "120207  120208  B0038B3AAK  A1L5491FA1UA8T   \n",
       "120208  120209  B0038B3AAK  A2SQE0NYBNUFR6   \n",
       "383393  383394  B0013BTP9C  A3OXHLG6DIBRW8   \n",
       "402519  402520  B000EML7DS  A2F0JHRI46EFB0   \n",
       "120396  120397  B005K4Q37A  A20A2SOQ4E05FZ   \n",
       "383081  383082  B000RJ4ZK0  A2GRGZ9W545QKO   \n",
       "120835  120836  B002YR7A9Q  A2UWIWD56X2Z5O   \n",
       "382980  382981  B001PMDYV4   A8VP6U6IE2GT6   \n",
       "382979  382980  B001PMDYV4  A3FBC2AVXDY57T   \n",
       "120856  120857  B003K2EXI0  A1X2GWDA6TTWY8   \n",
       "120857  120858  B003K2EXI0  A258FXO3O8EQQE   \n",
       "382943  382944  B000F411P4  A2DP5T5BEJDI84   \n",
       "120917  120918  B000MYFXG0  A2JG5O4FO4U1MG   \n",
       "121011  121012  B000ETXO8M  A3LH77PBDFEO3F   \n",
       "121012  121013  B000ETXO8M  A1A4I7EPB9YKK2   \n",
       "382833  382834  B002T0IHPO  A3OXHLG6DIBRW8   \n",
       "382729  382730  B000LQJT1O  A3V033MGJ7GHBM   \n",
       "383299  383300  B000U9V5BY  A2ZEKO1MQCV4BY   \n",
       "32          33  B001EO5QW8   AOVROBZ8BNTP7   \n",
       "\n",
       "                                             ProfileName  \\\n",
       "58891                                      Norman Girard   \n",
       "386281                        Nylsa V. Barris \"Nukelegs\"   \n",
       "426976                       smusprincess \"smusprincess\"   \n",
       "31977                                          B. Wyrick   \n",
       "519024                                             Angie   \n",
       "357812                        Nylsa V. Barris \"Nukelegs\"   \n",
       "386742                         Fooled By Great Marketing   \n",
       "320900                                     Kaleidocherry   \n",
       "104292                                            Marija   \n",
       "266205                                            Howard   \n",
       "48954                     Tina Ruch \"gerber daisy lover\"   \n",
       "357619                                            Howard   \n",
       "295298                                      Tc C. Fulton   \n",
       "491902                                       J. H. Baker   \n",
       "321032                                       D. Schwartz   \n",
       "491903                                       J. H. Baker   \n",
       "131057                        Joseph J. Dumas \"jdumas54\"   \n",
       "368099                                    brutus sanchez   \n",
       "48231                                           Nicholas   \n",
       "464908                   Gilda Barnes \"Butterfly Hunter\"   \n",
       "464799                        Michael L. Suter \"FTIENG1\"   \n",
       "321541                                          Cujibear   \n",
       "294146                                       J. H. Baker   \n",
       "321780                                            pegtek   \n",
       "294145                                       J. H. Baker   \n",
       "357213                        Nylsa V. Barris \"Nukelegs\"   \n",
       "198472                        Nylsa V. Barris \"Nukelegs\"   \n",
       "293904                        Nylsa V. Barris \"Nukelegs\"   \n",
       "417257  Jonathan Green \"defrocked cultural anthropolo...   \n",
       "65754                          BMCDECARFN \"JTALLAHJAPAN\"   \n",
       "...                                                  ...   \n",
       "121753                                    Swati S. Desai   \n",
       "121703                               Alex Thomas \"Tommy\"   \n",
       "384026                               Subsnipe \"Subsnipe\"   \n",
       "119980                               asianlily \"kristen\"   \n",
       "119981                                   R. A. Steinbach   \n",
       "120058                               dalepres \"dalepres\"   \n",
       "120202                  Alexander Kelly \"Relentless One\"   \n",
       "120203                                               MAG   \n",
       "120204                                Eat well Live well   \n",
       "120205                                   James \"merddyn\"   \n",
       "120206                                        Marilyn Le   \n",
       "120207                                     Nola E. Sayne   \n",
       "120208                                       Lynn Miller   \n",
       "383393                                  C. F. Hill \"CFH\"   \n",
       "402519                               Sandy \"kittyhead27\"   \n",
       "120396          No More Fleas Please, Inc. \"FLEA_DOCTOR\"   \n",
       "383081                                            Kelley   \n",
       "120835                                        Happy Wife   \n",
       "382980                                 Rabbit with watch   \n",
       "382979                                       FauxDiva XX   \n",
       "120856                                            P. SOO   \n",
       "120857                                 Roberta A. Ryherd   \n",
       "382943                                   R. Park \"rpark\"   \n",
       "120917               John Nickerson \"BCHMA /IPMS member\"   \n",
       "121011                            G. E. Williams \"Nunah\"   \n",
       "121012                                     Lucky's Geist   \n",
       "382833                                  C. F. Hill \"CFH\"   \n",
       "382729                                               JLE   \n",
       "383299                                     Green Thumb76   \n",
       "32                                             S. Potter   \n",
       "\n",
       "        HelpfulnessNumerator  HelpfulnessDenominator  Score        Time  \\\n",
       "58891                      0                      26      2  1243036800   \n",
       "386281                     0                      12      1  1253664000   \n",
       "426976                     0                      19      1  1168473600   \n",
       "31977                      0                      11      4  1199664000   \n",
       "519024                     0                      17      1  1299283200   \n",
       "357812                     0                      12      1  1253664000   \n",
       "386742                     0                      11      1  1297036800   \n",
       "320900                     0                      14      2  1339632000   \n",
       "104292                     0                      13      1  1217635200   \n",
       "266205                     0                      11      2  1311292800   \n",
       "48954                      0                      11      1  1345075200   \n",
       "357619                     0                      11      2  1311292800   \n",
       "295298                     0                      12      1  1313625600   \n",
       "491902                     0                      11      1  1245715200   \n",
       "321032                     0                      16      5  1199145600   \n",
       "491903                     0                      11      1  1245715200   \n",
       "131057                     0                      13      2  1186790400   \n",
       "368099                     0                      11      4  1319414400   \n",
       "48231                      0                      12      2  1308787200   \n",
       "464908                     0                      15      2  1317600000   \n",
       "464799                     0                      16      1  1231372800   \n",
       "321541                     0                      12      1  1318550400   \n",
       "294146                     0                      11      1  1245715200   \n",
       "321780                     0                      11      1  1300579200   \n",
       "294145                     0                      11      1  1245715200   \n",
       "357213                     0                      12      1  1253664000   \n",
       "198472                     0                      12      1  1253664000   \n",
       "293904                     0                      12      1  1253664000   \n",
       "417257                     0                      59      2  1167868800   \n",
       "65754                      0                      11      1  1319500800   \n",
       "...                      ...                     ...    ...         ...   \n",
       "121753                    21                      21      5  1173830400   \n",
       "121703                    15                      15      5  1184284800   \n",
       "384026                    11                      11      5  1255392000   \n",
       "119980                    27                      27      5  1231027200   \n",
       "119981                    19                      19      5  1185235200   \n",
       "120058                    11                      11      5  1301184000   \n",
       "120202                    39                      39      4  1259193600   \n",
       "120203                    16                      16      5  1341273600   \n",
       "120204                    13                      13      5  1230681600   \n",
       "120205                    12                      12      5  1297296000   \n",
       "120206                    11                      11      5  1322438400   \n",
       "120207                    11                      11      5  1310601600   \n",
       "120208                    11                      11      5  1295568000   \n",
       "383393                    42                      42      4  1324857600   \n",
       "402519                    15                      15      4  1154390400   \n",
       "120396                    14                      14      5  1319155200   \n",
       "383081                    15                      15      4  1294099200   \n",
       "120835                    12                      12      5  1335312000   \n",
       "382980                    20                      20      5  1215561600   \n",
       "382979                    21                      21      5  1232409600   \n",
       "120856                    23                      23      5  1258848000   \n",
       "120857                    20                      20      5  1239408000   \n",
       "382943                    13                      13      5  1261267200   \n",
       "120917                    37                      37      5  1203292800   \n",
       "121011                    18                      18      5  1173312000   \n",
       "121012                    11                      11      5  1181260800   \n",
       "382833                    42                      42      4  1324857600   \n",
       "382729                    12                      12      5  1246838400   \n",
       "383299                    12                      12      1  1263340800   \n",
       "32                        19                      19      4  1163376000   \n",
       "\n",
       "                                                  Summary  \\\n",
       "58891                                                well   \n",
       "386281                      do not order this product....   \n",
       "426976                                    horrible seller   \n",
       "31977                                      mistaken order   \n",
       "519024                                         disgusting   \n",
       "357812                      do not order this product....   \n",
       "386742                                      wrong product   \n",
       "320900                     not as happy as i wanted to be   \n",
       "104292  my taste buds were overloaded after having jus...   \n",
       "266205                               not tasty for my dog   \n",
       "48954                                       totally gross   \n",
       "357619                               not tasty for my dog   \n",
       "295298   flavorless non spicy crap stick with shin-ramen!   \n",
       "491902  hazelnut (filberts) in a fragile crescent shap...   \n",
       "321032                                        the bestest   \n",
       "491903   these \"butter leaves\" are addictively wonderful!   \n",
       "131057                       not fair trade- not organic!   \n",
       "368099                   better before the price increase   \n",
       "48231                                    price is absurd.   \n",
       "464908              \"arazona vanilla\" is  \"halaleveryday\"   \n",
       "464799                                             coffee   \n",
       "321541                                         choco-yuck   \n",
       "294146   these \"butter leaves\" are addictively wonderful!   \n",
       "321780                          no chocolate taste at all   \n",
       "294145  hazelnut (filberts) in a fragile crescent shap...   \n",
       "357213                      do not order this product....   \n",
       "198472                      do not order this product....   \n",
       "293904                      do not order this product....   \n",
       "417257                           this \"just\" is un-\"just\"   \n",
       "65754                                    pile-o-chocolate   \n",
       "...                                                   ...   \n",
       "121753                best falafel mix on the market!! :)   \n",
       "121703                    your pup will love this product   \n",
       "384026                           change your boring lunch   \n",
       "119980                      st. john's wort is a miracle.   \n",
       "119981                        it's also about the effects   \n",
       "120058                      i've eaten these for 15 years   \n",
       "120202                               powerful and powdery   \n",
       "120203                         pure goodness in a bottle!   \n",
       "120204       by far the best tasting greens on the market   \n",
       "120205                                            awesome   \n",
       "120206                                     acquired taste   \n",
       "120207                               amazing grass works!   \n",
       "120208                                   love this stuff!   \n",
       "383393                   tried many, some great, some not   \n",
       "402519                                    crunchy relief!   \n",
       "120396                         really good for what it is   \n",
       "383081  dangerously delicious amount but didn't seem a...   \n",
       "120835  comparing bob's red mill to tropical tradition...   \n",
       "382980                               cat loves the flavor   \n",
       "382979  multi cat family - all of them love newman's o...   \n",
       "120856                             smooth, soft and tasty   \n",
       "120857                                      best fondant!   \n",
       "382943                                 it's not that hard   \n",
       "120917                                 thank you, riedel!   \n",
       "121011                                     acquired taste   \n",
       "121012                                    genuine article   \n",
       "382833                   tried many, some great, some not   \n",
       "382729          hard to find in grocery stores in my area   \n",
       "383299                                tasteless flavoring   \n",
       "32                           best of the instant oatmeals   \n",
       "\n",
       "                                                     Text  helpfullness_ratio  \n",
       "58891   i really didn't notice elmo on the package? th...                 0.0  \n",
       "386281  it has been over three weeks and i still have ...                 0.0  \n",
       "426976  did not recieve on time and shipped to the wro...                 0.0  \n",
       "31977   i did order this item in the fall of 2007, but...                 0.0  \n",
       "519024  i don't know where these rave reviews are comi...                 0.0  \n",
       "357812  it has been over three weeks and i still have ...                 0.0  \n",
       "386742  they sent me hazelnut and i ordered vanilla--i...                 0.0  \n",
       "320900  for our inaugural attempt at baking with almon...                 0.0  \n",
       "104292  with all the talk of snackwells being low in s...                 0.0  \n",
       "266205  these days it is not easy to find us made dog ...                 0.0  \n",
       "48954   i didn't realize that these seeds puff up and ...                 0.0  \n",
       "357619  these days it is not easy to find us made dog ...                 0.0  \n",
       "295298  honestly i had never seen or heard of this typ...                 0.0  \n",
       "491902  delicate ground hazelnut cookies for a ladies ...                 0.0  \n",
       "321032  i am a forty year old and when i eat this cand...                 0.0  \n",
       "491903  amazon sends you twelve boxes of these fabulou...                 0.0  \n",
       "131057  for the sake of the coffee bean farmers around...                 0.0  \n",
       "368099  it sure tasted better before amazon raised the...                 0.0  \n",
       "48231   this is the basically the cheapest form to buy...                 0.0  \n",
       "464908  the mexican beans that i ordered from arizona ...                 0.0  \n",
       "464799  best coffee on the market.  have it every morn...                 0.0  \n",
       "321541  i just bought the toffee and almond bar.  it w...                 0.0  \n",
       "294146  amazon sends you twelve boxes of these fabulou...                 0.0  \n",
       "321780  i'm glad i tried out the chocolate dreams befo...                 0.0  \n",
       "294145  delicate ground hazelnut cookies for a ladies ...                 0.0  \n",
       "357213  it has been over three weeks and i still have ...                 0.0  \n",
       "198472  it has been over three weeks and i still have ...                 0.0  \n",
       "293904  it has been over three weeks and i still have ...                 0.0  \n",
       "417257  beyond the glaring fact that most of their pro...                 0.0  \n",
       "65754   total trash, its a big pile of chocolate.  im ...                 0.0  \n",
       "...                                                   ...                 ...  \n",
       "121753  i absolutely love falafel, and have tried a nu...                 1.0  \n",
       "121703  my rottie has food allergies to poultry, beef,...                 1.0  \n",
       "384026  i am not inidan, so this is not a \"professiona...                 1.0  \n",
       "119980  i really bought this tea thinking the placebo ...                 1.0  \n",
       "119981  just wanted to speak up and say that during a ...                 1.0  \n",
       "120058  i have been eating these pepperonis for 15 yea...                 1.0  \n",
       "120202  i've been using green drinks for over 6 years ...                 1.0  \n",
       "120203  i lead a busy life & find that eating a health...                 1.0  \n",
       "120204  i will never again settle for a dirt tasting g...                 1.0  \n",
       "120205  this stuff is awesome and has helped me do won...                 1.0  \n",
       "120206  this wasn't as bad as expected! it smelled awf...                 1.0  \n",
       "120207  this is a good product.  i use once every day ...                 1.0  \n",
       "120208  i mix it in water and drink it twice a day.  i...                 1.0  \n",
       "383393  we have a <a href=\"http://www.amazon.com/gp/pr...                 1.0  \n",
       "402519  although the i agree w/the previous review to ...                 1.0  \n",
       "120396  this was very different from what i originally...                 1.0  \n",
       "383081  so i had a bad car wreck at the first of novem...                 1.0  \n",
       "120835  we select the best quality foods we can afford...                 1.0  \n",
       "382980  kitty loves it! happily eats 1/2 can in one se...                 1.0  \n",
       "382979  we switched to newman's own dry and wet food s...                 1.0  \n",
       "120856  i've been using satin ice for a year now on my...                 1.0  \n",
       "120857  satin ice is the best tasting fondant i can fi...                 1.0  \n",
       "382943  this is the perfect basket for serving sticky ...                 1.0  \n",
       "120917  i have been enjoying single malt scotch since ...                 1.0  \n",
       "121011  when i lived on the border of england and wale...                 1.0  \n",
       "121012  i love licorice and thought i would try this s...                 1.0  \n",
       "382833  we have a <a href=\"http://www.amazon.com/gp/pr...                 1.0  \n",
       "382729  my local store used to carry these soup bowls,...                 1.0  \n",
       "383299  maybe it's just me, but i have used this extra...                 1.0  \n",
       "32      mccann's instant oatmeal is great if you must ...                 1.0  \n",
       "\n",
       "[19817 rows x 11 columns]"
      ]
     },
     "execution_count": 174,
     "metadata": {},
     "output_type": "execute_result"
    }
   ],
   "source": [
    "df_helpful.sort_values(by=['helpfullness_ratio'])"
   ]
  },
  {
   "cell_type": "code",
   "execution_count": 175,
   "metadata": {
    "collapsed": true
   },
   "outputs": [
    {
     "data": {
      "text/html": [
       "<div>\n",
       "<style scoped>\n",
       "    .dataframe tbody tr th:only-of-type {\n",
       "        vertical-align: middle;\n",
       "    }\n",
       "\n",
       "    .dataframe tbody tr th {\n",
       "        vertical-align: top;\n",
       "    }\n",
       "\n",
       "    .dataframe thead th {\n",
       "        text-align: right;\n",
       "    }\n",
       "</style>\n",
       "<table border=\"1\" class=\"dataframe\">\n",
       "  <thead>\n",
       "    <tr style=\"text-align: right;\">\n",
       "      <th></th>\n",
       "      <th>Id</th>\n",
       "      <th>ProductId</th>\n",
       "      <th>UserId</th>\n",
       "      <th>ProfileName</th>\n",
       "      <th>HelpfulnessNumerator</th>\n",
       "      <th>HelpfulnessDenominator</th>\n",
       "      <th>Score</th>\n",
       "      <th>Time</th>\n",
       "      <th>Summary</th>\n",
       "      <th>Text</th>\n",
       "      <th>helpfullness_ratio</th>\n",
       "    </tr>\n",
       "  </thead>\n",
       "  <tbody>\n",
       "    <tr>\n",
       "      <th>381866</th>\n",
       "      <td>381867</td>\n",
       "      <td>B002133Z56</td>\n",
       "      <td>AOTCUEDTUD647</td>\n",
       "      <td>Patrick F. James \"the chopper\"</td>\n",
       "      <td>11</td>\n",
       "      <td>12</td>\n",
       "      <td>5</td>\n",
       "      <td>1265846400</td>\n",
       "      <td>great product</td>\n",
       "      <td>delicious with oatmeal in my 700 calorie break...</td>\n",
       "      <td>0.916667</td>\n",
       "    </tr>\n",
       "  </tbody>\n",
       "</table>\n",
       "</div>"
      ],
      "text/plain": [
       "            Id   ProductId         UserId                     ProfileName  \\\n",
       "381866  381867  B002133Z56  AOTCUEDTUD647  Patrick F. James \"the chopper\"   \n",
       "\n",
       "        HelpfulnessNumerator  HelpfulnessDenominator  Score        Time  \\\n",
       "381866                    11                      12      5  1265846400   \n",
       "\n",
       "              Summary                                               Text  \\\n",
       "381866  great product  delicious with oatmeal in my 700 calorie break...   \n",
       "\n",
       "        helpfullness_ratio  \n",
       "381866            0.916667  "
      ]
     },
     "execution_count": 175,
     "metadata": {},
     "output_type": "execute_result"
    }
   ],
   "source": [
    "# Look at 10717th value in sorted df_helpful to get the midpoint of helpfulness\n",
    "\n",
    "df_helpful.sort_values(by=['helpfullness_ratio']).iloc[[10717]]"
   ]
  },
  {
   "cell_type": "markdown",
   "metadata": {},
   "source": [
    "In order to end up with balanced Helpful and Not_Helpful classes, I will try labeling half the data as each of the classes. The helpfulness ratio that partitions the data in half in .909091"
   ]
  },
  {
   "cell_type": "code",
   "execution_count": 176,
   "metadata": {
    "collapsed": true
   },
   "outputs": [
    {
     "data": {
      "text/html": [
       "<div>\n",
       "<style scoped>\n",
       "    .dataframe tbody tr th:only-of-type {\n",
       "        vertical-align: middle;\n",
       "    }\n",
       "\n",
       "    .dataframe tbody tr th {\n",
       "        vertical-align: top;\n",
       "    }\n",
       "\n",
       "    .dataframe thead th {\n",
       "        text-align: right;\n",
       "    }\n",
       "</style>\n",
       "<table border=\"1\" class=\"dataframe\">\n",
       "  <thead>\n",
       "    <tr style=\"text-align: right;\">\n",
       "      <th></th>\n",
       "      <th>Id</th>\n",
       "      <th>ProductId</th>\n",
       "      <th>UserId</th>\n",
       "      <th>ProfileName</th>\n",
       "      <th>HelpfulnessNumerator</th>\n",
       "      <th>HelpfulnessDenominator</th>\n",
       "      <th>Score</th>\n",
       "      <th>Time</th>\n",
       "      <th>Summary</th>\n",
       "      <th>Text</th>\n",
       "      <th>helpfullness_ratio</th>\n",
       "      <th>Helpful</th>\n",
       "    </tr>\n",
       "  </thead>\n",
       "  <tbody>\n",
       "    <tr>\n",
       "      <th>32</th>\n",
       "      <td>33</td>\n",
       "      <td>B001EO5QW8</td>\n",
       "      <td>AOVROBZ8BNTP7</td>\n",
       "      <td>S. Potter</td>\n",
       "      <td>19</td>\n",
       "      <td>19</td>\n",
       "      <td>4</td>\n",
       "      <td>1163376000</td>\n",
       "      <td>best of the instant oatmeals</td>\n",
       "      <td>mccann's instant oatmeal is great if you must ...</td>\n",
       "      <td>1.000000</td>\n",
       "      <td>1</td>\n",
       "    </tr>\n",
       "    <tr>\n",
       "      <th>33</th>\n",
       "      <td>34</td>\n",
       "      <td>B001EO5QW8</td>\n",
       "      <td>A3PMM0NFVEJGK9</td>\n",
       "      <td>Megan \"Bad at Nicknames\"</td>\n",
       "      <td>13</td>\n",
       "      <td>13</td>\n",
       "      <td>4</td>\n",
       "      <td>1166313600</td>\n",
       "      <td>good instant</td>\n",
       "      <td>this is a good instant oatmeal from the best o...</td>\n",
       "      <td>1.000000</td>\n",
       "      <td>1</td>\n",
       "    </tr>\n",
       "    <tr>\n",
       "      <th>82</th>\n",
       "      <td>83</td>\n",
       "      <td>B003ZFRKGO</td>\n",
       "      <td>A2VOZX7YBT0D6D</td>\n",
       "      <td>Johnnycakes \"Johnnycakes\"</td>\n",
       "      <td>15</td>\n",
       "      <td>15</td>\n",
       "      <td>5</td>\n",
       "      <td>1325635200</td>\n",
       "      <td>forget molecular gastronomy - this stuff rocke...</td>\n",
       "      <td>i know the product title says molecular gastro...</td>\n",
       "      <td>1.000000</td>\n",
       "      <td>1</td>\n",
       "    </tr>\n",
       "    <tr>\n",
       "      <th>158</th>\n",
       "      <td>159</td>\n",
       "      <td>B000ITVLE2</td>\n",
       "      <td>A3NID9D9WMIV01</td>\n",
       "      <td>Louie Arrighi \"Lou da Joo\"</td>\n",
       "      <td>17</td>\n",
       "      <td>19</td>\n",
       "      <td>5</td>\n",
       "      <td>1260057600</td>\n",
       "      <td>tastes very fresh</td>\n",
       "      <td>&lt;span class=\"tiny\"&gt; length:: 0:26 mins&lt;br /&gt;&lt;b...</td>\n",
       "      <td>0.894737</td>\n",
       "      <td>0</td>\n",
       "    </tr>\n",
       "    <tr>\n",
       "      <th>287</th>\n",
       "      <td>288</td>\n",
       "      <td>B001UJEN6C</td>\n",
       "      <td>A1XM65S80UQ2MD</td>\n",
       "      <td>Joseph Kagan</td>\n",
       "      <td>13</td>\n",
       "      <td>13</td>\n",
       "      <td>5</td>\n",
       "      <td>1276214400</td>\n",
       "      <td>great natural energy</td>\n",
       "      <td>this is a fantastic product, and i wish it was...</td>\n",
       "      <td>1.000000</td>\n",
       "      <td>1</td>\n",
       "    </tr>\n",
       "  </tbody>\n",
       "</table>\n",
       "</div>"
      ],
      "text/plain": [
       "      Id   ProductId          UserId                 ProfileName  \\\n",
       "32    33  B001EO5QW8   AOVROBZ8BNTP7                   S. Potter   \n",
       "33    34  B001EO5QW8  A3PMM0NFVEJGK9    Megan \"Bad at Nicknames\"   \n",
       "82    83  B003ZFRKGO  A2VOZX7YBT0D6D   Johnnycakes \"Johnnycakes\"   \n",
       "158  159  B000ITVLE2  A3NID9D9WMIV01  Louie Arrighi \"Lou da Joo\"   \n",
       "287  288  B001UJEN6C  A1XM65S80UQ2MD                Joseph Kagan   \n",
       "\n",
       "     HelpfulnessNumerator  HelpfulnessDenominator  Score        Time  \\\n",
       "32                     19                      19      4  1163376000   \n",
       "33                     13                      13      4  1166313600   \n",
       "82                     15                      15      5  1325635200   \n",
       "158                    17                      19      5  1260057600   \n",
       "287                    13                      13      5  1276214400   \n",
       "\n",
       "                                               Summary  \\\n",
       "32                        best of the instant oatmeals   \n",
       "33                                        good instant   \n",
       "82   forget molecular gastronomy - this stuff rocke...   \n",
       "158                                  tastes very fresh   \n",
       "287                               great natural energy   \n",
       "\n",
       "                                                  Text  helpfullness_ratio  \\\n",
       "32   mccann's instant oatmeal is great if you must ...            1.000000   \n",
       "33   this is a good instant oatmeal from the best o...            1.000000   \n",
       "82   i know the product title says molecular gastro...            1.000000   \n",
       "158  <span class=\"tiny\"> length:: 0:26 mins<br /><b...            0.894737   \n",
       "287  this is a fantastic product, and i wish it was...            1.000000   \n",
       "\n",
       "     Helpful  \n",
       "32         1  \n",
       "33         1  \n",
       "82         1  \n",
       "158        0  \n",
       "287        1  "
      ]
     },
     "execution_count": 176,
     "metadata": {},
     "output_type": "execute_result"
    }
   ],
   "source": [
    "df_helpful_working = df_helpful\n",
    "df_helpful_working['Helpful'] = df_helpful.loc[:, 'Helpful'] = np.where(df_helpful.loc[:,'HelpfulnessNumerator'] /\n",
    "                                       df_helpful.loc[:, 'HelpfulnessDenominator'] > 0.909, 1, 0)\n",
    "df_helpful_working.head()"
   ]
  },
  {
   "cell_type": "code",
   "execution_count": 177,
   "metadata": {},
   "outputs": [
    {
     "data": {
      "text/plain": [
       "1    10236\n",
       "0     9581\n",
       "Name: Helpful, dtype: int64"
      ]
     },
     "execution_count": 177,
     "metadata": {},
     "output_type": "execute_result"
    }
   ],
   "source": [
    "# The two classes are alot more balanced now\n",
    "\n",
    "df_helpful_working['Helpful'].value_counts()"
   ]
  },
  {
   "cell_type": "code",
   "execution_count": 178,
   "metadata": {},
   "outputs": [
    {
     "data": {
      "image/png": "[encoded data removed]",
      "text/plain": [
       "<Figure size 432x288 with 1 Axes>"
      ]
     },
     "metadata": {},
     "output_type": "display_data"
    }
   ],
   "source": [
    "sns.countplot(x='Helpful', data = df_helpful_working);"
   ]
  },
  {
   "cell_type": "code",
   "execution_count": 179,
   "metadata": {},
   "outputs": [
    {
     "data": {
      "image/png": "[encoded data removed]",
      "text/plain": [
       "<Figure size 432x288 with 1 Axes>"
      ]
     },
     "metadata": {},
     "output_type": "display_data"
    }
   ],
   "source": [
    "df_helpful_working.Helpful.value_counts().plot('barh');"
   ]
  },
  {
   "cell_type": "markdown",
   "metadata": {},
   "source": [
    "Appending new lemmatized and tokenized text to the column "
   ]
  },
  {
   "cell_type": "code",
   "execution_count": 180,
   "metadata": {},
   "outputs": [],
   "source": [
    "# Store data to a new clean csv\n",
    "df_helpful_working.to_csv(\"clean_labeled_data.csv\")"
   ]
  },
  {
   "cell_type": "markdown",
   "metadata": {},
   "source": [
    "## Bag of Words"
   ]
  },
  {
   "cell_type": "code",
   "execution_count": 181,
   "metadata": {},
   "outputs": [],
   "source": [
    "## df_1 will be the data frame I use to make initial analysis on\n",
    "df_1 = df_helpful_working"
   ]
  },
  {
   "cell_type": "code",
   "execution_count": 182,
   "metadata": {},
   "outputs": [],
   "source": [
    "len(df_1.Text)\n",
    "df_1['Text_Token'] = tokens_t\n",
    "df_1['Summ_Token'] = tokens_s"
   ]
  },
  {
   "cell_type": "code",
   "execution_count": 183,
   "metadata": {
    "collapsed": true
   },
   "outputs": [
    {
     "data": {
      "text/html": [
       "<div>\n",
       "<style scoped>\n",
       "    .dataframe tbody tr th:only-of-type {\n",
       "        vertical-align: middle;\n",
       "    }\n",
       "\n",
       "    .dataframe tbody tr th {\n",
       "        vertical-align: top;\n",
       "    }\n",
       "\n",
       "    .dataframe thead th {\n",
       "        text-align: right;\n",
       "    }\n",
       "</style>\n",
       "<table border=\"1\" class=\"dataframe\">\n",
       "  <thead>\n",
       "    <tr style=\"text-align: right;\">\n",
       "      <th></th>\n",
       "      <th>Id</th>\n",
       "      <th>ProductId</th>\n",
       "      <th>UserId</th>\n",
       "      <th>ProfileName</th>\n",
       "      <th>HelpfulnessNumerator</th>\n",
       "      <th>HelpfulnessDenominator</th>\n",
       "      <th>Score</th>\n",
       "      <th>Time</th>\n",
       "      <th>Summary</th>\n",
       "      <th>Text</th>\n",
       "      <th>helpfullness_ratio</th>\n",
       "      <th>Helpful</th>\n",
       "      <th>Text_Token</th>\n",
       "      <th>Summ_Token</th>\n",
       "    </tr>\n",
       "  </thead>\n",
       "  <tbody>\n",
       "    <tr>\n",
       "      <th>32</th>\n",
       "      <td>33</td>\n",
       "      <td>B001EO5QW8</td>\n",
       "      <td>AOVROBZ8BNTP7</td>\n",
       "      <td>S. Potter</td>\n",
       "      <td>19</td>\n",
       "      <td>19</td>\n",
       "      <td>4</td>\n",
       "      <td>1163376000</td>\n",
       "      <td>best of the instant oatmeals</td>\n",
       "      <td>mccann's instant oatmeal is great if you must ...</td>\n",
       "      <td>1.0</td>\n",
       "      <td>1</td>\n",
       "      <td>[mccann, 's, instant, oatmeal, is, great, if, ...</td>\n",
       "      <td>[best, of, the, instant, oatmeals]</td>\n",
       "    </tr>\n",
       "    <tr>\n",
       "      <th>33</th>\n",
       "      <td>34</td>\n",
       "      <td>B001EO5QW8</td>\n",
       "      <td>A3PMM0NFVEJGK9</td>\n",
       "      <td>Megan \"Bad at Nicknames\"</td>\n",
       "      <td>13</td>\n",
       "      <td>13</td>\n",
       "      <td>4</td>\n",
       "      <td>1166313600</td>\n",
       "      <td>good instant</td>\n",
       "      <td>this is a good instant oatmeal from the best o...</td>\n",
       "      <td>1.0</td>\n",
       "      <td>1</td>\n",
       "      <td>[this, is, a, good, instant, oatmeal, from, th...</td>\n",
       "      <td>[good, instant]</td>\n",
       "    </tr>\n",
       "  </tbody>\n",
       "</table>\n",
       "</div>"
      ],
      "text/plain": [
       "    Id   ProductId          UserId               ProfileName  \\\n",
       "32  33  B001EO5QW8   AOVROBZ8BNTP7                 S. Potter   \n",
       "33  34  B001EO5QW8  A3PMM0NFVEJGK9  Megan \"Bad at Nicknames\"   \n",
       "\n",
       "    HelpfulnessNumerator  HelpfulnessDenominator  Score        Time  \\\n",
       "32                    19                      19      4  1163376000   \n",
       "33                    13                      13      4  1166313600   \n",
       "\n",
       "                         Summary  \\\n",
       "32  best of the instant oatmeals   \n",
       "33                  good instant   \n",
       "\n",
       "                                                 Text  helpfullness_ratio  \\\n",
       "32  mccann's instant oatmeal is great if you must ...                 1.0   \n",
       "33  this is a good instant oatmeal from the best o...                 1.0   \n",
       "\n",
       "    Helpful                                         Text_Token  \\\n",
       "32        1  [mccann, 's, instant, oatmeal, is, great, if, ...   \n",
       "33        1  [this, is, a, good, instant, oatmeal, from, th...   \n",
       "\n",
       "                            Summ_Token  \n",
       "32  [best, of, the, instant, oatmeals]  \n",
       "33                     [good, instant]  "
      ]
     },
     "execution_count": 183,
     "metadata": {},
     "output_type": "execute_result"
    }
   ],
   "source": [
    "df_1.head(2)"
   ]
  },
  {
   "cell_type": "code",
   "execution_count": 184,
   "metadata": {},
   "outputs": [
    {
     "name": "stderr",
     "output_type": "stream",
     "text": [
      "/Users/iris/anaconda3/lib/python3.6/site-packages/h5py/__init__.py:36: FutureWarning: Conversion of the second argument of issubdtype from `float` to `np.floating` is deprecated. In future, it will be treated as `np.float64 == np.dtype(float).type`.\n",
      "  from ._conv import register_converters as _register_converters\n",
      "Using TensorFlow backend.\n"
     ]
    }
   ],
   "source": [
    "from sklearn.model_selection import train_test_split\n",
    "from sklearn.feature_extraction.text import CountVectorizer\n",
    "from sklearn.decomposition import PCA, TruncatedSVD\n",
    "import matplotlib\n",
    "import matplotlib.patches as mpatches\n",
    "\n",
    "from keras.preprocessing.text import Tokenizer\n",
    "from keras.preprocessing.sequence import pad_sequences\n",
    "from keras.utils import to_categorical"
   ]
  },
  {
   "cell_type": "markdown",
   "metadata": {},
   "source": [
    "## Investigations \n",
    "My original model will focus on the body of the review, not the title ('summary')."
   ]
  },
  {
   "cell_type": "code",
   "execution_count": 186,
   "metadata": {},
   "outputs": [],
   "source": [
    "all_text_words = [word for tokens in df_1['Text_Token'] for word in tokens]\n",
    "len_sentence = [len(tokens) for tokens in df_1['Text_Token']]\n",
    "vocabulary = sorted(list(set(all_text_words)))"
   ]
  },
  {
   "cell_type": "code",
   "execution_count": 188,
   "metadata": {},
   "outputs": [
    {
     "name": "stdout",
     "output_type": "stream",
     "text": [
      "There are 3526509 words total. The vocabulary is 49586\n"
     ]
    }
   ],
   "source": [
    "print('There are %s words total. The vocabulary is %s' % (len(all_text_words), len(vocabulary)))"
   ]
  },
  {
   "cell_type": "code",
   "execution_count": 190,
   "metadata": {},
   "outputs": [],
   "source": [
    "# Define new X train and test not to be confused with ones used earlier\n",
    "\n",
    "def cv(df):\n",
    "    count_vectorizer = CountVectorizer(tokenizer=lambda doc: doc, lowercase=False)\n",
    "    emb = count_vectorizer.fit_transform(df)\n",
    "    return emb, count_vectorizer\n",
    "\n",
    "list_text = df_1['Text_Token'].tolist()\n",
    "list_label = df_1['Helpful'].tolist()\n",
    "\n",
    "X_train, X_test, y_train, y_test = train_test_split(list_text, list_label, test_size=0.2, \n",
    "                                                   random_state = 42)"
   ]
  },
  {
   "cell_type": "code",
   "execution_count": 191,
   "metadata": {},
   "outputs": [],
   "source": [
    "X_train_counts, count_vectorizer = cv(X_train)\n",
    "X_text_counts = count_vectorizer.transform(X_test)"
   ]
  },
  {
   "cell_type": "code",
   "execution_count": 192,
   "metadata": {},
   "outputs": [
    {
     "data": {
      "text/plain": [
       "<3964x45051 sparse matrix of type '<class 'numpy.int64'>'\n",
       "\twith 369521 stored elements in Compressed Sparse Row format>"
      ]
     },
     "execution_count": 192,
     "metadata": {},
     "output_type": "execute_result"
    }
   ],
   "source": [
    "X_text_counts"
   ]
  },
  {
   "cell_type": "markdown",
   "metadata": {},
   "source": [
    "## Visualizing Classified Data Using the Helpfulness Denominator Ratio"
   ]
  },
  {
   "cell_type": "code",
   "execution_count": 196,
   "metadata": {},
   "outputs": [
    {
     "data": {
      "image/png": "[encoded data removed]",
      "text/plain": [
       "<Figure size 1080x1080 with 1 Axes>"
      ]
     },
     "metadata": {},
     "output_type": "display_data"
    }
   ],
   "source": [
    "from sklearn.decomposition import PCA, TruncatedSVD\n",
    "import matplotlib\n",
    "import matplotlib.patches as mpatches\n",
    "\n",
    "\n",
    "def plot_LSA(test_data, test_labels, savepath=\"PCA_demo.csv\", plot=True):\n",
    "        lsa = TruncatedSVD(n_components=2)\n",
    "        lsa.fit(test_data)\n",
    "        lsa_scores = lsa.transform(test_data)\n",
    "        color_mapper = {label:idx for idx,label in enumerate(set(test_labels))}\n",
    "        color_column = [color_mapper[label] for label in test_labels]\n",
    "        colors = ['green','blue','blue']\n",
    "        if plot:\n",
    "            plt.scatter(lsa_scores[:,0], lsa_scores[:,1], s=8, alpha=.8, c=test_labels, cmap=matplotlib.colors.ListedColormap(colors))\n",
    "            red_patch = mpatches.Patch(color='green', label='Not Helpful')\n",
    "            green_patch = mpatches.Patch(color='blue', label='Helpful')\n",
    "            plt.legend(handles=[red_patch, green_patch], prop={'size': 20})\n",
    "\n",
    "\n",
    "fig = plt.figure(figsize=(15, 15))          \n",
    "plot_LSA(X_train_counts, y_train)\n",
    "plt.show()"
   ]
  },
  {
   "cell_type": "markdown",
   "metadata": {},
   "source": [
    "## Fitting a classifier "
   ]
  },
  {
   "cell_type": "code",
   "execution_count": 197,
   "metadata": {},
   "outputs": [],
   "source": [
    "X_train_counts, count_vectorizer = cv(X_train)\n",
    "X_text_counts = count_vectorizer.transform(X_test)"
   ]
  },
  {
   "cell_type": "code",
   "execution_count": 198,
   "metadata": {},
   "outputs": [],
   "source": [
    "from sklearn.linear_model import LogisticRegression\n",
    "\n",
    "clf = LogisticRegression(C=30.0, class_weight='balanced', solver='newton-cg', \n",
    "                         multi_class='multinomial', n_jobs=-1, random_state=42)\n",
    "clf.fit(X_train_counts, y_train)\n",
    "\n",
    "y_predicted_counts = clf.predict(X_text_counts)"
   ]
  },
  {
   "cell_type": "code",
   "execution_count": 199,
   "metadata": {},
   "outputs": [
    {
     "name": "stdout",
     "output_type": "stream",
     "text": [
      "accuracy = 0.787, precision = 0.788, recall = 0.787, f1 = 0.787\n"
     ]
    }
   ],
   "source": [
    "from sklearn.metrics import accuracy_score, f1_score, precision_score, recall_score, classification_report\n",
    "\n",
    "def get_metrics(y_test, y_predicted):  \n",
    "    # true positives / (true positives+false positives)\n",
    "    precision = precision_score(y_test, y_predicted, pos_label=None,\n",
    "                                    average='weighted')             \n",
    "    # true positives / (true positives + false negatives)\n",
    "    recall = recall_score(y_test, y_predicted, pos_label=None,\n",
    "                              average='weighted')\n",
    "    \n",
    "    # harmonic mean of precision and recall\n",
    "    f1 = f1_score(y_test, y_predicted, pos_label=None, average='weighted')\n",
    "    \n",
    "    # true positives + true negatives/ total\n",
    "    accuracy = accuracy_score(y_test, y_predicted)\n",
    "    return accuracy, precision, recall, f1\n",
    "\n",
    "accuracy, precision, recall, f1 = get_metrics(y_test, y_predicted_counts)\n",
    "print(\"accuracy = %.3f, precision = %.3f, recall = %.3f, f1 = %.3f\" % (accuracy, precision, recall, f1))"
   ]
  },
  {
   "cell_type": "markdown",
   "metadata": {},
   "source": [
    "## Confusion Matrix"
   ]
  },
  {
   "cell_type": "code",
   "execution_count": 202,
   "metadata": {},
   "outputs": [],
   "source": [
    "def plot_confusion_matrix(cm, classes,\n",
    "                          normalize=False,\n",
    "                          title='Confusion matrix',\n",
    "                          cmap=plt.cm.winter):\n",
    "    if normalize:\n",
    "        cm = cm.astype('float') / cm.sum(axis=1)[:, np.newaxis]\n",
    "    plt.imshow(cm, interpolation='nearest', cmap=cmap)\n",
    "    plt.title(title, fontsize=30)\n",
    "    plt.colorbar()\n",
    "    tick_marks = np.arange(len(classes))\n",
    "    plt.xticks(tick_marks, classes, fontsize=15)\n",
    "    plt.yticks(tick_marks, classes, fontsize=15)\n",
    "    \n",
    "    fmt = '.2f' if normalize else 'd'\n",
    "    thresh = cm.max() / 2.\n",
    "\n",
    "    for i, j in itertools.product(range(cm.shape[0]), range(cm.shape[1])):\n",
    "        plt.text(j, i, format(cm[i, j], fmt), horizontalalignment=\"center\", \n",
    "                 color=\"white\" if cm[i, j] < thresh else \"black\", fontsize=40)\n",
    "    \n",
    "    plt.tight_layout()\n",
    "    plt.ylabel('Actual Category', fontsize=20)\n",
    "    plt.xlabel('Predicted Category', fontsize=20)\n",
    "\n",
    "    return plt"
   ]
  },
  {
   "cell_type": "code",
   "execution_count": 204,
   "metadata": {},
   "outputs": [
    {
     "data": {
      "text/plain": [
       "array([[1534,  384],\n",
       "       [ 461, 1585]])"
      ]
     },
     "execution_count": 204,
     "metadata": {},
     "output_type": "execute_result"
    }
   ],
   "source": [
    "confusion_matrix(y_test, y_predicted_counts)"
   ]
  },
  {
   "cell_type": "code",
   "execution_count": 205,
   "metadata": {},
   "outputs": [
    {
     "data": {
      "image/png": "[encoded data removed]",
      "text/plain": [
       "<Figure size 720x720 with 2 Axes>"
      ]
     },
     "metadata": {},
     "output_type": "display_data"
    }
   ],
   "source": [
    "cm = confusion_matrix(y_test, y_predicted_counts)\n",
    "fig = plt.figure(figsize=(10, 10))\n",
    "plot = plot_confusion_matrix(cm, classes=['Not Helpful','Helpful'], normalize=False, title='Confusion matrix')\n",
    "\n",
    "\n",
    "plt.show()"
   ]
  },
  {
   "cell_type": "markdown",
   "metadata": {},
   "source": [
    "## LDA and NMF"
   ]
  },
  {
   "cell_type": "code",
   "execution_count": 206,
   "metadata": {},
   "outputs": [],
   "source": [
    "from sklearn.decomposition import NMF, LatentDirichletAllocation"
   ]
  },
  {
   "cell_type": "code",
   "execution_count": 207,
   "metadata": {},
   "outputs": [],
   "source": [
    "# Dispaling the top topical words the models\n",
    "\n",
    "def display_topics(model, feature_names, no_top_words):\n",
    "    for topic_idx, topic in enumerate(model.components_):\n",
    "        print (\"Topic %d:\" % (topic_idx))\n",
    "        print (\" \".join([feature_names[i]\n",
    "                        for i in topic.argsort()[:-no_top_words - 1:-1]]))"
   ]
  },
  {
   "cell_type": "code",
   "execution_count": 208,
   "metadata": {
    "collapsed": true
   },
   "outputs": [
    {
     "name": "stderr",
     "output_type": "stream",
     "text": [
      "/Users/iris/anaconda3/lib/python3.6/site-packages/sklearn/decomposition/online_lda.py:294: DeprecationWarning: n_topics has been renamed to n_components in version 0.19 and will be removed in 0.21\n",
      "  DeprecationWarning)\n"
     ]
    },
    {
     "name": "stdout",
     "output_type": "stream",
     "text": [
      "Topic 0:\n",
      "< > / br , : ) '' ( ``\n",
      "Topic 1:\n",
      ", ! 's n't like food ) ( coffee product\n",
      "Topic 0:\n",
      "> < / br , ) ( food 's :\n",
      "Topic 1:\n",
      ", ! n't 's like ) ( product just coffee\n"
     ]
    }
   ],
   "source": [
    "no_features = 1000\n",
    "\n",
    "count_vectorizer = CountVectorizer(tokenizer=lambda doc: doc, lowercase=False)\n",
    "emb = count_vectorizer.fit_transform(df)\n",
    "\n",
    "# NMF is able to use tf-idf\n",
    "tfidf_vectorizer = TfidfVectorizer(max_df=0.95, min_df=2, max_features=no_features, stop_words='english',tokenizer=lambda doc: doc, lowercase=False)\n",
    "tfidf = tfidf_vectorizer.fit_transform(list_text)\n",
    "tfidf_feature_names = tfidf_vectorizer.get_feature_names()\n",
    "\n",
    "# LDA can only use raw term counts for LDA because it is a probabilistic graphical model\n",
    "tf_vectorizer = CountVectorizer(max_df=0.95, min_df=2, max_features=no_features, stop_words='english',tokenizer=lambda doc: doc, lowercase=False)\n",
    "tf = tf_vectorizer.fit_transform(list_text)\n",
    "tf_feature_names = tf_vectorizer.get_feature_names()\n",
    "\n",
    "no_topics = 2\n",
    "\n",
    "# Run NMF\n",
    "nmf = NMF(n_components=no_topics, random_state=1, alpha=.1, l1_ratio=.5, init='nndsvd').fit(tfidf)\n",
    "\n",
    "# Run LDA\n",
    "lda = LatentDirichletAllocation(n_topics=no_topics, max_iter=5, learning_method='online', learning_offset=50.,random_state=0).fit(tf)\n",
    "\n",
    "no_top_words = 10\n",
    "display_topics(nmf, tfidf_feature_names, no_top_words)\n",
    "display_topics(lda, tf_feature_names, no_top_words)"
   ]
  },
  {
   "cell_type": "markdown",
   "metadata": {},
   "source": [
    "The three cells below can be used to create NMF and LDA models for different number of topics and number of top words."
   ]
  },
  {
   "cell_type": "code",
   "execution_count": 209,
   "metadata": {
    "collapsed": true
   },
   "outputs": [
    {
     "name": "stderr",
     "output_type": "stream",
     "text": [
      "/Users/iris/anaconda3/lib/python3.6/site-packages/sklearn/decomposition/online_lda.py:294: DeprecationWarning: n_topics has been renamed to n_components in version 0.19 and will be removed in 0.21\n",
      "  DeprecationWarning)\n"
     ]
    },
    {
     "name": "stdout",
     "output_type": "stream",
     "text": [
      "Topic 0:\n",
      "< > / br : , ) '' ( -\n",
      "Topic 1:\n",
      ", 's food n't ) ( like product `` ''\n",
      "Topic 2:\n",
      "coffee cup , keurig k-cups k-cup bold roast blend 's\n",
      "Topic 3:\n",
      "! $ ... ? great amazon product buy n't love\n",
      "Topic 4:\n",
      "tea green teas , drink like taste bags drinking flavor\n",
      "Topic 0:\n",
      "> < / br , ) ( : '' ``\n",
      "Topic 1:\n",
      ", ! coffee 's $ n't amazon box price like\n",
      "Topic 2:\n",
      ", like 's ! n't taste ) ( just flavor\n",
      "Topic 3:\n",
      ", product `` '' ( ) oil ! salt n't\n",
      "Topic 4:\n",
      ", food 's n't dog day cat tea just dogs\n"
     ]
    }
   ],
   "source": [
    "no_topics = 5\n",
    "\n",
    "# Run NMF\n",
    "nmf = NMF(n_components=no_topics, random_state=1, alpha=.1, l1_ratio=.5, init='nndsvd').fit(tfidf)\n",
    "\n",
    "# Run LDA\n",
    "lda = LatentDirichletAllocation(n_topics=no_topics, max_iter=5, learning_method='online', learning_offset=50.,random_state=0).fit(tf)\n",
    "\n",
    "no_top_words = 10\n",
    "display_topics(nmf, tfidf_feature_names, no_top_words)\n",
    "display_topics(lda, tf_feature_names, no_top_words)"
   ]
  },
  {
   "cell_type": "code",
   "execution_count": 210,
   "metadata": {
    "collapsed": true
   },
   "outputs": [
    {
     "name": "stderr",
     "output_type": "stream",
     "text": [
      "/Users/iris/anaconda3/lib/python3.6/site-packages/sklearn/decomposition/online_lda.py:294: DeprecationWarning: n_topics has been renamed to n_components in version 0.19 and will be removed in 0.21\n",
      "  DeprecationWarning)\n"
     ]
    },
    {
     "name": "stdout",
     "output_type": "stream",
     "text": [
      "Topic 0:\n",
      "< > / br : , ) ( - ?\n",
      "Topic 1:\n",
      ", 's ) ( day n't little just ingredients 've\n",
      "Topic 2:\n",
      "coffee cup keurig k-cups k-cup bold roast blend strong coffees\n",
      "Topic 3:\n",
      "! ... great ? love ordered just order delicious right\n",
      "Topic 4:\n",
      "tea green teas drink bags like drinking taste leaf black\n",
      "Topic 5:\n",
      "food dog cat dogs cats vet 's foods diet ingredients\n",
      "Topic 6:\n",
      "$ amazon product price ? buy box shipping order bag\n",
      "Topic 7:\n",
      "like n't taste 's chocolate ... flavor good just great\n",
      "Topic 8:\n",
      "'' `` salt ( ) : organic product href= /a\n",
      "Topic 9:\n",
      "oil coconut olive use hair skin oils organic cooking water\n",
      "Topic 0:\n",
      ", food 's cat n't eating cats eat diet day\n",
      "Topic 1:\n",
      "! , $ bag price buy amazon n't 's box\n",
      "Topic 2:\n",
      ", '' `` sugar ( ) 's organic product n't\n",
      "Topic 3:\n",
      ", product oil amazon order company products received ordered quality\n",
      "Topic 4:\n",
      ", tea ! drink 's green n't day like honey\n",
      "Topic 5:\n",
      ", ... n't ! 's dog like did just dogs\n",
      "Topic 6:\n",
      ", coffee cup 's like blend taste keurig flavor n't\n",
      "Topic 7:\n",
      ", like taste 's flavor chocolate n't salt good great\n",
      "Topic 8:\n",
      ", water use milk -- bottle ) ( box 1\n",
      "Topic 9:\n",
      "> < / br , ) : ( '' 's\n"
     ]
    }
   ],
   "source": [
    "no_topics = 10\n",
    "\n",
    "# Run NMF\n",
    "nmf = NMF(n_components=no_topics, random_state=1, alpha=.1, l1_ratio=.5, init='nndsvd').fit(tfidf)\n",
    "\n",
    "# Run LDA\n",
    "lda = LatentDirichletAllocation(n_topics=no_topics, max_iter=5, learning_method='online', learning_offset=50.,random_state=0).fit(tf)\n",
    "\n",
    "no_top_words = 10\n",
    "display_topics(nmf, tfidf_feature_names, no_top_words)\n",
    "display_topics(lda, tf_feature_names, no_top_words)"
   ]
  },
  {
   "cell_type": "code",
   "execution_count": 211,
   "metadata": {
    "collapsed": true
   },
   "outputs": [
    {
     "name": "stderr",
     "output_type": "stream",
     "text": [
      "/Users/iris/anaconda3/lib/python3.6/site-packages/sklearn/decomposition/online_lda.py:294: DeprecationWarning: n_topics has been renamed to n_components in version 0.19 and will be removed in 0.21\n",
      "  DeprecationWarning)\n"
     ]
    },
    {
     "ename": "KeyboardInterrupt",
     "evalue": "",
     "output_type": "error",
     "traceback": [
      "\u001b[0;31m---------------------------------------------------------------------------\u001b[0m",
      "\u001b[0;31mKeyboardInterrupt\u001b[0m                         Traceback (most recent call last)",
      "\u001b[0;32m<ipython-input-211-07499de0bdab>\u001b[0m in \u001b[0;36m<module>\u001b[0;34m()\u001b[0m\n\u001b[1;32m      5\u001b[0m \u001b[0;34m\u001b[0m\u001b[0m\n\u001b[1;32m      6\u001b[0m \u001b[0;31m# Run LDA\u001b[0m\u001b[0;34m\u001b[0m\u001b[0;34m\u001b[0m\u001b[0m\n\u001b[0;32m----> 7\u001b[0;31m \u001b[0mlda\u001b[0m \u001b[0;34m=\u001b[0m \u001b[0mLatentDirichletAllocation\u001b[0m\u001b[0;34m(\u001b[0m\u001b[0mn_topics\u001b[0m\u001b[0;34m=\u001b[0m\u001b[0mno_topics\u001b[0m\u001b[0;34m,\u001b[0m \u001b[0mmax_iter\u001b[0m\u001b[0;34m=\u001b[0m\u001b[0;36m5\u001b[0m\u001b[0;34m,\u001b[0m \u001b[0mlearning_method\u001b[0m\u001b[0;34m=\u001b[0m\u001b[0;34m'online'\u001b[0m\u001b[0;34m,\u001b[0m \u001b[0mlearning_offset\u001b[0m\u001b[0;34m=\u001b[0m\u001b[0;36m50.\u001b[0m\u001b[0;34m,\u001b[0m\u001b[0mrandom_state\u001b[0m\u001b[0;34m=\u001b[0m\u001b[0;36m0\u001b[0m\u001b[0;34m)\u001b[0m\u001b[0;34m.\u001b[0m\u001b[0mfit\u001b[0m\u001b[0;34m(\u001b[0m\u001b[0mtf\u001b[0m\u001b[0;34m)\u001b[0m\u001b[0;34m\u001b[0m\u001b[0m\n\u001b[0m\u001b[1;32m      8\u001b[0m \u001b[0;34m\u001b[0m\u001b[0m\n\u001b[1;32m      9\u001b[0m \u001b[0mno_top_words\u001b[0m \u001b[0;34m=\u001b[0m \u001b[0;36m10\u001b[0m\u001b[0;34m\u001b[0m\u001b[0m\n",
      "\u001b[0;32m~/anaconda3/lib/python3.6/site-packages/sklearn/decomposition/online_lda.py\u001b[0m in \u001b[0;36mfit\u001b[0;34m(self, X, y)\u001b[0m\n\u001b[1;32m    578\u001b[0m         doc_topics_distr, _ = self._e_step(X, cal_sstats=False,\n\u001b[1;32m    579\u001b[0m                                            \u001b[0mrandom_init\u001b[0m\u001b[0;34m=\u001b[0m\u001b[0;32mFalse\u001b[0m\u001b[0;34m,\u001b[0m\u001b[0;34m\u001b[0m\u001b[0m\n\u001b[0;32m--> 580\u001b[0;31m                                            parallel=parallel)\n\u001b[0m\u001b[1;32m    581\u001b[0m         self.bound_ = self._perplexity_precomp_distr(X, doc_topics_distr,\n\u001b[1;32m    582\u001b[0m                                                      sub_sampling=False)\n",
      "\u001b[0;32m~/anaconda3/lib/python3.6/site-packages/sklearn/decomposition/online_lda.py\u001b[0m in \u001b[0;36m_e_step\u001b[0;34m(self, X, cal_sstats, random_init, parallel)\u001b[0m\n\u001b[1;32m    384\u001b[0m                                               \u001b[0mself\u001b[0m\u001b[0;34m.\u001b[0m\u001b[0mmean_change_tol\u001b[0m\u001b[0;34m,\u001b[0m \u001b[0mcal_sstats\u001b[0m\u001b[0;34m,\u001b[0m\u001b[0;34m\u001b[0m\u001b[0m\n\u001b[1;32m    385\u001b[0m                                               random_state)\n\u001b[0;32m--> 386\u001b[0;31m             for idx_slice in gen_even_slices(X.shape[0], n_jobs))\n\u001b[0m\u001b[1;32m    387\u001b[0m \u001b[0;34m\u001b[0m\u001b[0m\n\u001b[1;32m    388\u001b[0m         \u001b[0;31m# merge result\u001b[0m\u001b[0;34m\u001b[0m\u001b[0;34m\u001b[0m\u001b[0m\n",
      "\u001b[0;32m~/anaconda3/lib/python3.6/site-packages/sklearn/externals/joblib/parallel.py\u001b[0m in \u001b[0;36m__call__\u001b[0;34m(self, iterable)\u001b[0m\n\u001b[1;32m    777\u001b[0m             \u001b[0;31m# was dispatched. In particular this covers the edge\u001b[0m\u001b[0;34m\u001b[0m\u001b[0;34m\u001b[0m\u001b[0m\n\u001b[1;32m    778\u001b[0m             \u001b[0;31m# case of Parallel used with an exhausted iterator.\u001b[0m\u001b[0;34m\u001b[0m\u001b[0;34m\u001b[0m\u001b[0m\n\u001b[0;32m--> 779\u001b[0;31m             \u001b[0;32mwhile\u001b[0m \u001b[0mself\u001b[0m\u001b[0;34m.\u001b[0m\u001b[0mdispatch_one_batch\u001b[0m\u001b[0;34m(\u001b[0m\u001b[0miterator\u001b[0m\u001b[0;34m)\u001b[0m\u001b[0;34m:\u001b[0m\u001b[0;34m\u001b[0m\u001b[0m\n\u001b[0m\u001b[1;32m    780\u001b[0m                 \u001b[0mself\u001b[0m\u001b[0;34m.\u001b[0m\u001b[0m_iterating\u001b[0m \u001b[0;34m=\u001b[0m \u001b[0;32mTrue\u001b[0m\u001b[0;34m\u001b[0m\u001b[0m\n\u001b[1;32m    781\u001b[0m             \u001b[0;32melse\u001b[0m\u001b[0;34m:\u001b[0m\u001b[0;34m\u001b[0m\u001b[0m\n",
      "\u001b[0;32m~/anaconda3/lib/python3.6/site-packages/sklearn/externals/joblib/parallel.py\u001b[0m in \u001b[0;36mdispatch_one_batch\u001b[0;34m(self, iterator)\u001b[0m\n\u001b[1;32m    623\u001b[0m                 \u001b[0;32mreturn\u001b[0m \u001b[0;32mFalse\u001b[0m\u001b[0;34m\u001b[0m\u001b[0m\n\u001b[1;32m    624\u001b[0m             \u001b[0;32melse\u001b[0m\u001b[0;34m:\u001b[0m\u001b[0;34m\u001b[0m\u001b[0m\n\u001b[0;32m--> 625\u001b[0;31m                 \u001b[0mself\u001b[0m\u001b[0;34m.\u001b[0m\u001b[0m_dispatch\u001b[0m\u001b[0;34m(\u001b[0m\u001b[0mtasks\u001b[0m\u001b[0;34m)\u001b[0m\u001b[0;34m\u001b[0m\u001b[0m\n\u001b[0m\u001b[1;32m    626\u001b[0m                 \u001b[0;32mreturn\u001b[0m \u001b[0;32mTrue\u001b[0m\u001b[0;34m\u001b[0m\u001b[0m\n\u001b[1;32m    627\u001b[0m \u001b[0;34m\u001b[0m\u001b[0m\n",
      "\u001b[0;32m~/anaconda3/lib/python3.6/site-packages/sklearn/externals/joblib/parallel.py\u001b[0m in \u001b[0;36m_dispatch\u001b[0;34m(self, batch)\u001b[0m\n\u001b[1;32m    586\u001b[0m         \u001b[0mdispatch_timestamp\u001b[0m \u001b[0;34m=\u001b[0m \u001b[0mtime\u001b[0m\u001b[0;34m.\u001b[0m\u001b[0mtime\u001b[0m\u001b[0;34m(\u001b[0m\u001b[0;34m)\u001b[0m\u001b[0;34m\u001b[0m\u001b[0m\n\u001b[1;32m    587\u001b[0m         \u001b[0mcb\u001b[0m \u001b[0;34m=\u001b[0m \u001b[0mBatchCompletionCallBack\u001b[0m\u001b[0;34m(\u001b[0m\u001b[0mdispatch_timestamp\u001b[0m\u001b[0;34m,\u001b[0m \u001b[0mlen\u001b[0m\u001b[0;34m(\u001b[0m\u001b[0mbatch\u001b[0m\u001b[0;34m)\u001b[0m\u001b[0;34m,\u001b[0m \u001b[0mself\u001b[0m\u001b[0;34m)\u001b[0m\u001b[0;34m\u001b[0m\u001b[0m\n\u001b[0;32m--> 588\u001b[0;31m         \u001b[0mjob\u001b[0m \u001b[0;34m=\u001b[0m \u001b[0mself\u001b[0m\u001b[0;34m.\u001b[0m\u001b[0m_backend\u001b[0m\u001b[0;34m.\u001b[0m\u001b[0mapply_async\u001b[0m\u001b[0;34m(\u001b[0m\u001b[0mbatch\u001b[0m\u001b[0;34m,\u001b[0m \u001b[0mcallback\u001b[0m\u001b[0;34m=\u001b[0m\u001b[0mcb\u001b[0m\u001b[0;34m)\u001b[0m\u001b[0;34m\u001b[0m\u001b[0m\n\u001b[0m\u001b[1;32m    589\u001b[0m         \u001b[0mself\u001b[0m\u001b[0;34m.\u001b[0m\u001b[0m_jobs\u001b[0m\u001b[0;34m.\u001b[0m\u001b[0mappend\u001b[0m\u001b[0;34m(\u001b[0m\u001b[0mjob\u001b[0m\u001b[0;34m)\u001b[0m\u001b[0;34m\u001b[0m\u001b[0m\n\u001b[1;32m    590\u001b[0m \u001b[0;34m\u001b[0m\u001b[0m\n",
      "\u001b[0;32m~/anaconda3/lib/python3.6/site-packages/sklearn/externals/joblib/_parallel_backends.py\u001b[0m in \u001b[0;36mapply_async\u001b[0;34m(self, func, callback)\u001b[0m\n\u001b[1;32m    109\u001b[0m     \u001b[0;32mdef\u001b[0m \u001b[0mapply_async\u001b[0m\u001b[0;34m(\u001b[0m\u001b[0mself\u001b[0m\u001b[0;34m,\u001b[0m \u001b[0mfunc\u001b[0m\u001b[0;34m,\u001b[0m \u001b[0mcallback\u001b[0m\u001b[0;34m=\u001b[0m\u001b[0;32mNone\u001b[0m\u001b[0;34m)\u001b[0m\u001b[0;34m:\u001b[0m\u001b[0;34m\u001b[0m\u001b[0m\n\u001b[1;32m    110\u001b[0m         \u001b[0;34m\"\"\"Schedule a func to be run\"\"\"\u001b[0m\u001b[0;34m\u001b[0m\u001b[0m\n\u001b[0;32m--> 111\u001b[0;31m         \u001b[0mresult\u001b[0m \u001b[0;34m=\u001b[0m \u001b[0mImmediateResult\u001b[0m\u001b[0;34m(\u001b[0m\u001b[0mfunc\u001b[0m\u001b[0;34m)\u001b[0m\u001b[0;34m\u001b[0m\u001b[0m\n\u001b[0m\u001b[1;32m    112\u001b[0m         \u001b[0;32mif\u001b[0m \u001b[0mcallback\u001b[0m\u001b[0;34m:\u001b[0m\u001b[0;34m\u001b[0m\u001b[0m\n\u001b[1;32m    113\u001b[0m             \u001b[0mcallback\u001b[0m\u001b[0;34m(\u001b[0m\u001b[0mresult\u001b[0m\u001b[0;34m)\u001b[0m\u001b[0;34m\u001b[0m\u001b[0m\n",
      "\u001b[0;32m~/anaconda3/lib/python3.6/site-packages/sklearn/externals/joblib/_parallel_backends.py\u001b[0m in \u001b[0;36m__init__\u001b[0;34m(self, batch)\u001b[0m\n\u001b[1;32m    330\u001b[0m         \u001b[0;31m# Don't delay the application, to avoid keeping the input\u001b[0m\u001b[0;34m\u001b[0m\u001b[0;34m\u001b[0m\u001b[0m\n\u001b[1;32m    331\u001b[0m         \u001b[0;31m# arguments in memory\u001b[0m\u001b[0;34m\u001b[0m\u001b[0;34m\u001b[0m\u001b[0m\n\u001b[0;32m--> 332\u001b[0;31m         \u001b[0mself\u001b[0m\u001b[0;34m.\u001b[0m\u001b[0mresults\u001b[0m \u001b[0;34m=\u001b[0m \u001b[0mbatch\u001b[0m\u001b[0;34m(\u001b[0m\u001b[0;34m)\u001b[0m\u001b[0;34m\u001b[0m\u001b[0m\n\u001b[0m\u001b[1;32m    333\u001b[0m \u001b[0;34m\u001b[0m\u001b[0m\n\u001b[1;32m    334\u001b[0m     \u001b[0;32mdef\u001b[0m \u001b[0mget\u001b[0m\u001b[0;34m(\u001b[0m\u001b[0mself\u001b[0m\u001b[0;34m)\u001b[0m\u001b[0;34m:\u001b[0m\u001b[0;34m\u001b[0m\u001b[0m\n",
      "\u001b[0;32m~/anaconda3/lib/python3.6/site-packages/sklearn/externals/joblib/parallel.py\u001b[0m in \u001b[0;36m__call__\u001b[0;34m(self)\u001b[0m\n\u001b[1;32m    129\u001b[0m \u001b[0;34m\u001b[0m\u001b[0m\n\u001b[1;32m    130\u001b[0m     \u001b[0;32mdef\u001b[0m \u001b[0m__call__\u001b[0m\u001b[0;34m(\u001b[0m\u001b[0mself\u001b[0m\u001b[0;34m)\u001b[0m\u001b[0;34m:\u001b[0m\u001b[0;34m\u001b[0m\u001b[0m\n\u001b[0;32m--> 131\u001b[0;31m         \u001b[0;32mreturn\u001b[0m \u001b[0;34m[\u001b[0m\u001b[0mfunc\u001b[0m\u001b[0;34m(\u001b[0m\u001b[0;34m*\u001b[0m\u001b[0margs\u001b[0m\u001b[0;34m,\u001b[0m \u001b[0;34m**\u001b[0m\u001b[0mkwargs\u001b[0m\u001b[0;34m)\u001b[0m \u001b[0;32mfor\u001b[0m \u001b[0mfunc\u001b[0m\u001b[0;34m,\u001b[0m \u001b[0margs\u001b[0m\u001b[0;34m,\u001b[0m \u001b[0mkwargs\u001b[0m \u001b[0;32min\u001b[0m \u001b[0mself\u001b[0m\u001b[0;34m.\u001b[0m\u001b[0mitems\u001b[0m\u001b[0;34m]\u001b[0m\u001b[0;34m\u001b[0m\u001b[0m\n\u001b[0m\u001b[1;32m    132\u001b[0m \u001b[0;34m\u001b[0m\u001b[0m\n\u001b[1;32m    133\u001b[0m     \u001b[0;32mdef\u001b[0m \u001b[0m__len__\u001b[0m\u001b[0;34m(\u001b[0m\u001b[0mself\u001b[0m\u001b[0;34m)\u001b[0m\u001b[0;34m:\u001b[0m\u001b[0;34m\u001b[0m\u001b[0m\n",
      "\u001b[0;32m~/anaconda3/lib/python3.6/site-packages/sklearn/externals/joblib/parallel.py\u001b[0m in \u001b[0;36m<listcomp>\u001b[0;34m(.0)\u001b[0m\n\u001b[1;32m    129\u001b[0m \u001b[0;34m\u001b[0m\u001b[0m\n\u001b[1;32m    130\u001b[0m     \u001b[0;32mdef\u001b[0m \u001b[0m__call__\u001b[0m\u001b[0;34m(\u001b[0m\u001b[0mself\u001b[0m\u001b[0;34m)\u001b[0m\u001b[0;34m:\u001b[0m\u001b[0;34m\u001b[0m\u001b[0m\n\u001b[0;32m--> 131\u001b[0;31m         \u001b[0;32mreturn\u001b[0m \u001b[0;34m[\u001b[0m\u001b[0mfunc\u001b[0m\u001b[0;34m(\u001b[0m\u001b[0;34m*\u001b[0m\u001b[0margs\u001b[0m\u001b[0;34m,\u001b[0m \u001b[0;34m**\u001b[0m\u001b[0mkwargs\u001b[0m\u001b[0;34m)\u001b[0m \u001b[0;32mfor\u001b[0m \u001b[0mfunc\u001b[0m\u001b[0;34m,\u001b[0m \u001b[0margs\u001b[0m\u001b[0;34m,\u001b[0m \u001b[0mkwargs\u001b[0m \u001b[0;32min\u001b[0m \u001b[0mself\u001b[0m\u001b[0;34m.\u001b[0m\u001b[0mitems\u001b[0m\u001b[0;34m]\u001b[0m\u001b[0;34m\u001b[0m\u001b[0m\n\u001b[0m\u001b[1;32m    132\u001b[0m \u001b[0;34m\u001b[0m\u001b[0m\n\u001b[1;32m    133\u001b[0m     \u001b[0;32mdef\u001b[0m \u001b[0m__len__\u001b[0m\u001b[0;34m(\u001b[0m\u001b[0mself\u001b[0m\u001b[0;34m)\u001b[0m\u001b[0;34m:\u001b[0m\u001b[0;34m\u001b[0m\u001b[0m\n",
      "\u001b[0;32m~/anaconda3/lib/python3.6/site-packages/sklearn/decomposition/online_lda.py\u001b[0m in \u001b[0;36m_update_doc_distribution\u001b[0;34m(X, exp_topic_word_distr, doc_topic_prior, max_iters, mean_change_tol, cal_sstats, random_state)\u001b[0m\n\u001b[1;32m    114\u001b[0m             \u001b[0;31m# The optimal phi_{dwk} is proportional to\u001b[0m\u001b[0;34m\u001b[0m\u001b[0;34m\u001b[0m\u001b[0m\n\u001b[1;32m    115\u001b[0m             \u001b[0;31m# exp(E[log(theta_{dk})]) * exp(E[log(beta_{dw})]).\u001b[0m\u001b[0;34m\u001b[0m\u001b[0;34m\u001b[0m\u001b[0m\n\u001b[0;32m--> 116\u001b[0;31m             \u001b[0mnorm_phi\u001b[0m \u001b[0;34m=\u001b[0m \u001b[0mnp\u001b[0m\u001b[0;34m.\u001b[0m\u001b[0mdot\u001b[0m\u001b[0;34m(\u001b[0m\u001b[0mexp_doc_topic_d\u001b[0m\u001b[0;34m,\u001b[0m \u001b[0mexp_topic_word_d\u001b[0m\u001b[0;34m)\u001b[0m \u001b[0;34m+\u001b[0m \u001b[0mEPS\u001b[0m\u001b[0;34m\u001b[0m\u001b[0m\n\u001b[0m\u001b[1;32m    117\u001b[0m \u001b[0;34m\u001b[0m\u001b[0m\n\u001b[1;32m    118\u001b[0m             doc_topic_d = (exp_doc_topic_d *\n",
      "\u001b[0;31mKeyboardInterrupt\u001b[0m: "
     ]
    }
   ],
   "source": [
    "no_topics = 20\n",
    "\n",
    "# Run NMF\n",
    "nmf = NMF(n_components=no_topics, random_state=1, alpha=.1, l1_ratio=.5, init='nndsvd').fit(tfidf)\n",
    "\n",
    "# Run LDA\n",
    "lda = LatentDirichletAllocation(n_topics=no_topics, max_iter=5, learning_method='online', learning_offset=50.,random_state=0).fit(tf)\n",
    "\n",
    "no_top_words = 10\n",
    "display_topics(nmf, tfidf_feature_names, no_top_words)\n",
    "display_topics(lda, tf_feature_names, no_top_words)"
   ]
  },
  {
   "cell_type": "markdown",
   "metadata": {},
   "source": [
    "# pyLDAvis"
   ]
  },
  {
   "cell_type": "markdown",
   "metadata": {},
   "source": [
    "I wanted to add some visulazitaion to my model and turned to pyLDAvis, a Python library for interactive topic model visualization. It is designed to help users interpret the topics in a topic model that has been fit to a corpus of text data."
   ]
  },
  {
   "cell_type": "markdown",
   "metadata": {},
   "source": [
    "### Convert to document-term matrix"
   ]
  },
  {
   "cell_type": "code",
   "execution_count": 212,
   "metadata": {},
   "outputs": [
    {
     "name": "stdout",
     "output_type": "stream",
     "text": [
      "(568408, 27696)\n"
     ]
    }
   ],
   "source": [
    "tf_vectorizer = CountVectorizer(strip_accents = 'unicode',\n",
    "                                stop_words = 'english',\n",
    "                                lowercase = True,\n",
    "                                token_pattern = r'\\b[a-zA-Z]{3,}\\b',\n",
    "                                max_df = 0.5, \n",
    "                                min_df = 10)\n",
    "dtm_tf = tf_vectorizer.fit_transform(df_working.Text)\n",
    "print(dtm_tf.shape)"
   ]
  },
  {
   "cell_type": "code",
   "execution_count": 213,
   "metadata": {},
   "outputs": [
    {
     "name": "stdout",
     "output_type": "stream",
     "text": [
      "(568408, 27696)\n"
     ]
    }
   ],
   "source": [
    "tfidf_vectorizer = TfidfVectorizer(**tf_vectorizer.get_params())\n",
    "dtm_tfidf = tfidf_vectorizer.fit_transform(df_working.Text)\n",
    "print(dtm_tfidf.shape)"
   ]
  },
  {
   "cell_type": "markdown",
   "metadata": {},
   "source": [
    "### Fit Latent Dirichlet Allocation models"
   ]
  },
  {
   "cell_type": "markdown",
   "metadata": {},
   "source": [
    "It would take too long to run the code on the entire data set locally, so I created a subset for LDA and Visualizations. However, the code for all of the data is in the appendix."
   ]
  },
  {
   "cell_type": "code",
   "execution_count": 216,
   "metadata": {},
   "outputs": [
    {
     "name": "stdout",
     "output_type": "stream",
     "text": [
      "(15000, 27696)\n"
     ]
    }
   ],
   "source": [
    "subbiesub = dtm_tf[:15000]\n",
    "print(subbiesub.shape)"
   ]
  },
  {
   "cell_type": "code",
   "execution_count": 218,
   "metadata": {},
   "outputs": [
    {
     "name": "stderr",
     "output_type": "stream",
     "text": [
      "/Users/iris/anaconda3/lib/python3.6/site-packages/pyLDAvis/_prepare.py:387: DeprecationWarning: \n",
      ".ix is deprecated. Please use\n",
      ".loc for label based indexing or\n",
      ".iloc for positional indexing\n",
      "\n",
      "See the documentation here:\n",
      "http://pandas.pydata.org/pandas-docs/stable/indexing.html#ix-indexer-is-deprecated\n",
      "  topic_term_dists = topic_term_dists.ix[topic_order]\n",
      "/Users/iris/anaconda3/lib/python3.6/site-packages/pyLDAvis/_prepare.py:257: FutureWarning: Sorting because non-concatenation axis is not aligned. A future version\n",
      "of pandas will change to not sort by default.\n",
      "\n",
      "To accept the future behavior, pass 'sort=True'.\n",
      "\n",
      "To retain the current behavior and silence the warning, pass sort=False\n",
      "\n",
      "  return pd.concat([default_term_info] + list(topic_dfs))\n"
     ]
    },
    {
     "data": {
      "text/html": [
       "\n",
       "<link rel=\"stylesheet\" type=\"text/css\" href=\"https://cdn.rawgit.com/bmabey/pyLDAvis/files/ldavis.v1.0.0.css\">\n",
       "\n",
       "\n",
       "<div id=\"ldavis_el251031141877075204606882876\"></div>\n",
       "<script type=\"text/javascript\">\n",
       "\n",
       "var ldavis_el251031141877075204606882876_data = {\"mdsDat\": {\"x\": [0.2872523866300446, 0.25884250704639344, 0.14343415582556798, 0.14328151191981867, -0.03409077918590077, -0.10106756852228496, -0.13704760949666595, -0.19962999409340157, -0.1439189406602807, -0.21705566946329058], \"y\": [0.008296211524129125, -0.05356130619022736, 0.12842879340749286, -0.02023981115558184, -0.2411010486970796, 0.23620291588648937, 0.13136592273602377, -0.01310620534089934, -0.15401131841175034, -0.022274153758596472], \"topics\": [1, 2, 3, 4, 5, 6, 7, 8, 9, 10], \"cluster\": [1, 1, 1, 1, 1, 1, 1, 1, 1, 1], \"Freq\": [44.3484586852724, 22.43917109632355, 7.2212305142678925, 6.993678733778539, 4.349269171312498, 3.9388449381339785, 3.57690769172117, 2.596081202623559, 2.508941684188896, 2.0274162823775033]}, \"tinfo\": {\"Category\": [\"Default\", \"Default\", \"Default\", \"Default\", \"Default\", \"Default\", \"Default\", \"Default\", \"Default\", \"Default\", \"Default\", \"Default\", \"Default\", \"Default\", \"Default\", \"Default\", \"Default\", \"Default\", \"Default\", \"Default\", \"Default\", \"Default\", \"Default\", \"Default\", \"Default\", \"Default\", \"Default\", \"Default\", \"Default\", \"Default\", \"Topic1\", \"Topic1\", \"Topic1\", \"Topic1\", \"Topic1\", \"Topic1\", \"Topic1\", \"Topic1\", \"Topic1\", \"Topic1\", \"Topic1\", \"Topic1\", \"Topic1\", \"Topic1\", \"Topic1\", \"Topic1\", \"Topic1\", \"Topic1\", \"Topic1\", \"Topic1\", \"Topic1\", \"Topic1\", \"Topic1\", \"Topic1\", \"Topic1\", \"Topic1\", \"Topic1\", \"Topic1\", \"Topic1\", \"Topic1\", \"Topic1\", \"Topic1\", \"Topic1\", \"Topic1\", \"Topic1\", \"Topic1\", \"Topic1\", \"Topic1\", \"Topic1\", \"Topic1\", \"Topic1\", \"Topic1\", \"Topic1\", \"Topic1\", \"Topic1\", \"Topic1\", \"Topic1\", \"Topic1\", \"Topic1\", \"Topic1\", \"Topic1\", \"Topic1\", \"Topic1\", \"Topic1\", \"Topic1\", \"Topic1\", \"Topic1\", \"Topic1\", \"Topic1\", \"Topic1\", \"Topic1\", \"Topic1\", \"Topic1\", \"Topic1\", \"Topic1\", \"Topic1\", \"Topic1\", \"Topic1\", \"Topic2\", \"Topic2\", \"Topic2\", \"Topic2\", \"Topic2\", \"Topic2\", \"Topic2\", \"Topic2\", \"Topic2\", \"Topic2\", \"Topic2\", \"Topic2\", \"Topic2\", \"Topic2\", \"Topic2\", \"Topic2\", \"Topic2\", \"Topic2\", \"Topic2\", \"Topic2\", \"Topic2\", \"Topic2\", \"Topic2\", \"Topic2\", \"Topic2\", \"Topic2\", \"Topic2\", \"Topic2\", \"Topic2\", \"Topic2\", \"Topic2\", \"Topic2\", \"Topic2\", \"Topic2\", \"Topic2\", \"Topic2\", \"Topic2\", \"Topic2\", \"Topic2\", \"Topic2\", \"Topic2\", \"Topic2\", \"Topic2\", \"Topic2\", \"Topic2\", \"Topic2\", \"Topic2\", \"Topic2\", \"Topic2\", \"Topic2\", \"Topic2\", \"Topic2\", \"Topic2\", \"Topic2\", \"Topic2\", \"Topic2\", \"Topic2\", \"Topic2\", \"Topic2\", \"Topic2\", \"Topic2\", \"Topic2\", \"Topic2\", \"Topic2\", \"Topic2\", \"Topic2\", \"Topic2\", \"Topic2\", \"Topic2\", \"Topic2\", \"Topic3\", \"Topic3\", \"Topic3\", \"Topic3\", \"Topic3\", \"Topic3\", \"Topic3\", \"Topic3\", \"Topic3\", \"Topic3\", \"Topic3\", \"Topic3\", \"Topic3\", \"Topic3\", \"Topic3\", \"Topic3\", \"Topic3\", \"Topic3\", \"Topic3\", \"Topic3\", \"Topic3\", \"Topic3\", \"Topic3\", \"Topic3\", \"Topic3\", \"Topic3\", \"Topic3\", \"Topic3\", \"Topic3\", \"Topic3\", \"Topic3\", \"Topic3\", \"Topic3\", \"Topic3\", \"Topic3\", \"Topic3\", \"Topic3\", \"Topic3\", \"Topic3\", \"Topic3\", \"Topic3\", \"Topic3\", \"Topic3\", \"Topic3\", \"Topic3\", \"Topic3\", \"Topic3\", \"Topic3\", \"Topic3\", \"Topic3\", \"Topic3\", \"Topic3\", \"Topic3\", \"Topic3\", \"Topic4\", \"Topic4\", \"Topic4\", \"Topic4\", \"Topic4\", \"Topic4\", \"Topic4\", \"Topic4\", \"Topic4\", \"Topic4\", \"Topic4\", \"Topic4\", \"Topic4\", \"Topic4\", \"Topic4\", \"Topic4\", \"Topic4\", \"Topic4\", \"Topic4\", \"Topic4\", \"Topic4\", \"Topic4\", \"Topic4\", \"Topic4\", \"Topic4\", \"Topic4\", \"Topic4\", \"Topic4\", \"Topic4\", \"Topic4\", \"Topic4\", \"Topic4\", \"Topic4\", \"Topic4\", \"Topic4\", \"Topic4\", \"Topic4\", \"Topic4\", \"Topic4\", \"Topic4\", \"Topic4\", \"Topic4\", \"Topic4\", \"Topic4\", \"Topic4\", \"Topic4\", \"Topic4\", \"Topic4\", \"Topic4\", \"Topic4\", \"Topic4\", \"Topic4\", \"Topic4\", \"Topic4\", \"Topic4\", \"Topic4\", \"Topic4\", \"Topic4\", \"Topic4\", \"Topic4\", \"Topic4\", \"Topic5\", \"Topic5\", \"Topic5\", \"Topic5\", \"Topic5\", \"Topic5\", \"Topic5\", \"Topic5\", \"Topic5\", \"Topic5\", \"Topic5\", \"Topic5\", \"Topic5\", \"Topic5\", \"Topic5\", \"Topic5\", \"Topic5\", \"Topic5\", \"Topic5\", \"Topic5\", \"Topic5\", \"Topic5\", \"Topic5\", \"Topic5\", \"Topic5\", \"Topic5\", \"Topic5\", \"Topic5\", \"Topic5\", \"Topic5\", \"Topic5\", \"Topic5\", \"Topic5\", \"Topic5\", \"Topic5\", \"Topic5\", \"Topic5\", \"Topic5\", \"Topic5\", \"Topic5\", \"Topic5\", \"Topic5\", \"Topic5\", \"Topic5\", \"Topic5\", \"Topic5\", \"Topic5\", \"Topic5\", \"Topic5\", \"Topic5\", \"Topic5\", \"Topic5\", \"Topic5\", \"Topic6\", \"Topic6\", \"Topic6\", \"Topic6\", \"Topic6\", \"Topic6\", \"Topic6\", \"Topic6\", \"Topic6\", \"Topic6\", \"Topic6\", \"Topic6\", \"Topic6\", \"Topic6\", \"Topic6\", \"Topic6\", \"Topic6\", \"Topic6\", \"Topic6\", \"Topic6\", \"Topic6\", \"Topic6\", \"Topic6\", \"Topic6\", \"Topic6\", \"Topic6\", \"Topic6\", \"Topic6\", \"Topic6\", \"Topic6\", \"Topic6\", \"Topic6\", \"Topic6\", \"Topic6\", \"Topic6\", \"Topic6\", \"Topic6\", \"Topic6\", \"Topic6\", \"Topic6\", \"Topic6\", \"Topic6\", \"Topic6\", \"Topic6\", \"Topic6\", \"Topic7\", \"Topic7\", \"Topic7\", \"Topic7\", \"Topic7\", \"Topic7\", \"Topic7\", \"Topic7\", \"Topic7\", \"Topic7\", \"Topic7\", \"Topic7\", \"Topic7\", \"Topic7\", \"Topic7\", \"Topic7\", \"Topic7\", \"Topic7\", \"Topic7\", \"Topic7\", \"Topic7\", \"Topic7\", \"Topic7\", \"Topic7\", \"Topic7\", \"Topic7\", \"Topic7\", \"Topic7\", \"Topic7\", \"Topic7\", \"Topic7\", \"Topic7\", \"Topic7\", \"Topic7\", \"Topic7\", \"Topic7\", \"Topic7\", \"Topic7\", \"Topic7\", \"Topic7\", \"Topic7\", \"Topic7\", \"Topic7\", \"Topic8\", \"Topic8\", \"Topic8\", \"Topic8\", \"Topic8\", \"Topic8\", \"Topic8\", \"Topic8\", \"Topic8\", \"Topic8\", \"Topic8\", \"Topic8\", \"Topic8\", \"Topic8\", \"Topic8\", \"Topic8\", \"Topic8\", \"Topic8\", \"Topic8\", \"Topic8\", \"Topic8\", \"Topic8\", \"Topic8\", \"Topic8\", \"Topic8\", \"Topic8\", \"Topic8\", \"Topic8\", \"Topic8\", \"Topic8\", \"Topic8\", \"Topic8\", \"Topic8\", \"Topic8\", \"Topic8\", \"Topic9\", \"Topic9\", \"Topic9\", \"Topic9\", \"Topic9\", \"Topic9\", \"Topic9\", \"Topic9\", \"Topic9\", \"Topic9\", \"Topic9\", \"Topic9\", \"Topic9\", \"Topic9\", \"Topic9\", \"Topic9\", \"Topic9\", \"Topic9\", \"Topic9\", \"Topic9\", \"Topic9\", \"Topic9\", \"Topic9\", \"Topic9\", \"Topic9\", \"Topic9\", \"Topic9\", \"Topic9\", \"Topic9\", \"Topic9\", \"Topic9\", \"Topic9\", \"Topic9\", \"Topic9\", \"Topic9\", \"Topic9\", \"Topic9\", \"Topic9\", \"Topic9\", \"Topic10\", \"Topic10\", \"Topic10\", \"Topic10\", \"Topic10\", \"Topic10\", \"Topic10\", \"Topic10\", \"Topic10\", \"Topic10\", \"Topic10\", \"Topic10\", \"Topic10\", \"Topic10\", \"Topic10\", \"Topic10\", \"Topic10\", \"Topic10\", \"Topic10\", \"Topic10\", \"Topic10\", \"Topic10\", \"Topic10\", \"Topic10\", \"Topic10\", \"Topic10\", \"Topic10\", \"Topic10\", \"Topic10\", \"Topic10\", \"Topic10\", \"Topic10\", \"Topic10\", \"Topic10\", \"Topic10\"], \"Freq\": [154533.0, 96008.0, 207576.0, 100195.0, 49049.0, 46472.0, 77920.0, 159978.0, 43803.0, 65747.0, 44723.0, 36543.0, 35179.0, 53441.0, 72339.0, 27317.0, 38387.0, 25490.0, 56591.0, 43227.0, 117785.0, 49402.0, 79455.0, 42234.0, 36459.0, 22774.0, 19883.0, 164684.0, 27701.0, 27608.0, 207545.1300428987, 89451.20082706997, 76359.82660166296, 31175.823077932386, 23872.896843733477, 22165.672937576914, 21242.077188277126, 20772.877617350456, 20751.424419570627, 19730.305938848905, 19413.372357256867, 19133.722731653932, 18794.816042395712, 18536.119721306044, 15594.81627883556, 14600.3349470026, 14321.211586912214, 13934.598268957012, 13897.32748236983, 13701.856084926781, 13242.358558043945, 12141.170799323507, 12304.82643368036, 11579.221469569784, 11429.63556636409, 11079.939684543162, 10790.925916694792, 10748.16700495094, 10607.402816180855, 10454.966094490897, 42080.04812700339, 22710.376334390734, 15709.597817754371, 18241.13993692461, 14773.458683066578, 23101.618686456346, 14082.337076245734, 129093.76979157828, 150904.7899193675, 21043.529969184485, 35709.2093886512, 39186.947186224534, 198936.60092420917, 36078.58945029595, 38276.08953388651, 21047.14758530125, 21902.46765950484, 144928.5373560423, 62858.78194162401, 58060.43180160194, 35458.74982555423, 107374.99464608917, 39023.51797364224, 68762.23776679115, 55299.894288327705, 89789.93006306085, 40321.15345014263, 52060.06609101409, 57891.05836282156, 48618.26927049053, 41152.014392321784, 51441.61558599107, 47754.836865642224, 47027.52145996094, 68507.70246987886, 54240.86947233193, 44337.1649823992, 41257.89186716558, 100163.76448430769, 77888.73515484767, 65716.2098061065, 48118.25238562915, 20692.06661881852, 20825.455097671937, 9811.647630431311, 13736.486692037088, 8707.905767382823, 8699.729678596874, 7634.507475516725, 7331.333380170228, 7338.491313727762, 6727.354613406438, 6405.162130201947, 6242.548514189622, 6169.977852555729, 6150.596750732028, 6198.866405559648, 6085.214422205261, 5908.677661004012, 5300.720791974409, 5147.205512921689, 5022.744699397549, 4941.118588853509, 4786.888860555808, 4734.373668033407, 4709.824863009845, 4603.255605625458, 4630.89435707462, 12241.216271830348, 32377.618797510382, 15962.713546703231, 9685.214789396634, 29488.912771848827, 15019.179258097747, 9630.951317988909, 32301.91972153127, 8585.593385365552, 45084.680070757546, 10810.0300163824, 18818.63729619594, 8193.616741957776, 7232.207291866508, 10204.59370919694, 22270.48934961773, 23404.56908992451, 17154.930076013767, 11099.478246570494, 19213.158398310334, 18164.692095035334, 17556.460577369267, 24116.614234645363, 37280.2001026069, 32741.62762759027, 46038.43916116743, 18469.21180548939, 16713.860092326286, 33442.24343953951, 17299.75299844591, 25848.904665480914, 38903.96856190765, 35320.417637075014, 32808.99588663397, 24365.75850962015, 24060.376858373504, 23977.75374464752, 22264.539452592322, 20829.42331699279, 24797.413314933565, 27662.592562339265, 20502.119841093794, 17660.06225667728, 14676.686431544527, 10263.192848351626, 10049.911087551514, 8436.304244142546, 8096.217419620142, 6403.5206389203695, 6218.206459374083, 7320.12697499692, 6116.070917450733, 4887.350793099226, 4871.828057350726, 4824.421650941267, 4554.788001730114, 4366.835656559893, 4349.929449476341, 4325.968691470491, 4275.015557182484, 4150.624456800934, 4108.325483871549, 3972.657993323221, 3786.565921759373, 4904.528503950236, 3455.546149191502, 3370.798584239094, 3195.8673320362273, 3928.7302132393575, 3169.422916943893, 14512.24015543071, 8349.062243525868, 7799.111141664787, 4713.621179586036, 10354.707312687382, 35292.771119375575, 28488.909154407116, 20453.40424910896, 9935.156290609393, 14498.00608121091, 20829.826899409385, 18805.673535330123, 12092.809837710654, 9341.2990677181, 13521.88853105784, 10086.36152651661, 16479.854636615546, 13522.866500003815, 5942.622095695669, 13742.640232917633, 11694.32496107598, 8234.970522245509, 7987.106780339798, 8030.959494355353, 35147.41992550982, 20746.580779906773, 16842.018214596585, 16735.815200321787, 11186.87495194368, 10095.66178683915, 9650.458142038233, 6741.196299824606, 6669.649367990019, 6114.746853440449, 4587.737950162377, 3913.0496551148926, 3879.4728369751883, 2885.721850906365, 2766.3548538629666, 2732.8130836734754, 2502.051054101246, 2323.2227258409607, 2298.463317041748, 2264.102928784433, 2203.9666916629617, 2077.446428523059, 2067.864507955343, 2031.8406583903302, 1982.2302787043457, 1970.2824678740976, 1863.7705553122453, 1846.9724320263936, 1844.9384443299152, 1798.8536661186754, 5072.52168893827, 25807.498316695575, 12121.282777867134, 34224.30541138216, 15946.530487967657, 31117.85043062586, 8717.234515741862, 9527.8663559698, 6012.3397886467155, 5004.519422503046, 8917.034308277172, 5953.847393520236, 7795.447796535532, 7070.428680417631, 6835.392408512082, 6425.086639806538, 7547.348278511551, 10209.027483886628, 10360.407008469507, 26531.154186631586, 15411.604411119532, 11157.701731021161, 18068.712883573102, 11186.785261182109, 13380.518751151645, 11560.609418155387, 12186.187490234948, 9227.733000071774, 8379.19538443534, 8709.853139999132, 7681.045586000173, 18030.89928630389, 17580.271604417274, 12462.16124144597, 11485.746556657497, 8575.741727061648, 5835.983521156221, 5768.433673363391, 5338.649724709209, 5098.0955125508035, 4962.477727508767, 3893.1580707991625, 3522.137276292852, 3332.2791066637083, 3300.779954907642, 3197.292746276004, 3171.1175592951545, 3061.478535797522, 2946.799165812888, 2909.3503489592213, 2609.9216800583317, 2570.879549880879, 2550.5748270937193, 2512.5598556801415, 2510.032063299306, 2498.0574154599312, 2386.5816491958517, 2289.3366052062897, 2273.29525955418, 2170.839596447512, 2121.875224318049, 2582.2054831038895, 3361.0080035663723, 15584.527034681347, 6142.558745890726, 5095.2575053906985, 4155.575937937765, 8362.395198299308, 12861.168455536272, 4656.904837653791, 13419.945701472558, 15434.693518418528, 6095.562711975829, 16280.840925236249, 6038.599659722787, 4830.952487644767, 4504.215652025724, 4474.320151682878, 5084.734911681653, 6009.804002688449, 3957.895960553728, 5173.213256966875, 4093.701332795145, 4094.946467043642, 27285.488791600004, 22735.63260187086, 15605.966478010343, 11929.23615493639, 11829.023356038748, 10297.362337825785, 9432.320947607715, 9381.782042063325, 6574.4866065914985, 6536.1424661931815, 6217.920077923663, 7212.627738284097, 5592.860359047794, 5847.4259885691345, 4881.760657260941, 4774.621873918796, 3810.5198112939697, 3718.452055401065, 3575.248921550275, 3492.6894792383746, 3333.9813852912857, 3150.4298000420995, 2990.1360475667, 3035.692293468848, 2760.7080146168023, 2723.335951965395, 2643.4954071079737, 2427.2996933475843, 2644.763762849672, 2369.950124800965, 5919.499035621548, 2973.9952837283454, 11201.78504098736, 5447.413348212368, 5023.823892666147, 7132.88824106986, 5702.956498596855, 4919.024407859572, 4581.917185414922, 4996.896517834554, 4565.873895384717, 3983.8817789113778, 4342.888051670865, 4134.687918289066, 3818.7315910632406, 25458.05443701788, 20152.59713273014, 12087.122383476173, 8961.511716782268, 7276.4947191309975, 7192.432458851112, 6982.122601926695, 6738.126048903066, 5879.24202784133, 5787.167295630617, 5434.518242161516, 5330.965650708313, 4606.7314350191755, 4123.685553837658, 3994.7144125618647, 3943.643509993955, 3464.2445291270424, 3191.074336110859, 2987.750736079927, 2976.587316720998, 2761.168575122592, 2498.855036140571, 2461.2033178339834, 2445.912926741436, 2314.588513516906, 2139.50599258612, 2114.229210651824, 2083.1216304047894, 2033.4589091963323, 1846.1822648167351, 11625.843110637723, 6806.368680532391, 13815.93637189739, 3628.330173946692, 10831.526075855181, 20626.95650893173, 19541.314708396025, 8642.162580740258, 3153.292525899135, 8487.573639961001, 6524.713185014586, 3888.8155733442727, 3612.0584049720096, 13057.101249818545, 10838.724348104977, 9240.160632798375, 8867.4472575228, 6450.601757773268, 5763.04452013236, 5136.405859158902, 4336.9015511278085, 4303.963376164952, 4010.746783223741, 3982.233529721538, 3493.5671699759164, 3332.1811282443537, 3433.711754563587, 3097.2407258972567, 2979.2302326789795, 2780.77355522156, 2763.6608562340743, 2653.7312034260513, 2474.9309908753276, 2467.963491282495, 2405.4499029743456, 2374.4005678018684, 2198.8112107952456, 2111.894817855723, 2088.212088488769, 1962.2422894741485, 1948.0200974867844, 1765.1454266943942, 1739.6926628926458, 4740.276589714888, 8394.714139505733, 3242.7824303467028, 3206.9215312526935, 2846.5925611002253, 19851.511888884543, 14480.104316561139, 14464.334177162447, 13946.003807757079, 9205.550333684643, 9200.399138161623, 4996.983263261761, 4715.994235205797, 4685.120615112449, 4345.447781086075, 3858.7344614025037, 3471.3270586852623, 4686.6849810274525, 2915.323297440679, 2746.5282432625454, 2597.697363821862, 2519.851190670393, 2294.569071209267, 2259.3862316606837, 2186.876858726856, 2132.988795178117, 2052.0814338836767, 1858.3433485794937, 1648.113642363055, 1565.6529206018115, 1474.7862838525486, 1455.6830971886507, 1299.0168732103193, 1282.7041455983447, 1250.360001794109, 10236.25181113819, 26445.657959976346, 12163.57149205745, 3262.5398319263645, 3638.7114354856553, 21169.874167132522, 4104.4266066532755, 2694.978255387149, 3018.7642196791126, 5466.359203612936, 4107.848238231758, 3882.6368267429334, 3240.8401426554688, 2407.610058138363, 2372.254623072955, 2119.336311711659, 2075.978421023945, 1986.0209709667408, 1964.099655338418, 1947.802186320259, 1909.0940623387248, 1858.7124082976172, 1777.1661623390962, 1760.8623831295947, 1742.4521946775799, 1568.2244782798998, 1483.5304482218019, 1479.6873245048453, 1474.7402981941261, 1465.2636101336109, 1280.673986659353, 1276.7101620029243, 1274.5455818829291, 1274.2722444455842, 1235.4872574901726, 1145.4770403895905, 1126.2199877851567, 1090.5062257115671, 1082.497724281307, 1581.19140381988, 1701.1867768348905, 1962.1140234956506, 2531.0867098307262, 1332.8873477336333], \"Term\": [\"product\", \"amazon\", \"coffee\", \"food\", \"water\", \"drink\", \"dog\", \"great\", \"box\", \"treats\", \"mix\", \"pack\", \"cookies\", \"sugar\", \"make\", \"salt\", \"chips\", \"juice\", \"chocolate\", \"order\", \"love\", \"free\", \"use\", \"organic\", \"milk\", \"oil\", \"com\", \"taste\", \"gluten\", \"snack\", \"coffee\", \"tea\", \"cup\", \"strong\", \"roast\", \"tasting\", \"bold\", \"beans\", \"vanilla\", \"bitter\", \"smell\", \"blend\", \"large\", \"smooth\", \"cocoa\", \"drinking\", \"rich\", \"medium\", \"coffees\", \"french\", \"wasn\", \"brew\", \"ground\", \"opened\", \"aroma\", \"alternative\", \"end\", \"aftertaste\", \"starbucks\", \"honey\", \"cups\", \"green\", \"maybe\", \"morning\", \"microwave\", \"wonderful\", \"powder\", \"flavor\", \"taste\", \"keurig\", \"tastes\", \"organic\", \"like\", \"nice\", \"bit\", \"added\", \"dark\", \"good\", \"tried\", \"better\", \"favorite\", \"just\", \"hot\", \"really\", \"little\", \"great\", \"sugar\", \"best\", \"don\", \"try\", \"chocolate\", \"use\", \"price\", \"buy\", \"product\", \"love\", \"time\", \"make\", \"food\", \"dog\", \"treats\", \"dogs\", \"cat\", \"baby\", \"stomach\", \"cats\", \"pet\", \"feed\", \"lamb\", \"chew\", \"issues\", \"eats\", \"website\", \"bed\", \"feeding\", \"stop\", \"stopped\", \"vet\", \"allergies\", \"changed\", \"fed\", \"awful\", \"puppy\", \"middle\", \"trouble\", \"bone\", \"bones\", \"skin\", \"break\", \"loves\", \"newman\", \"jerky\", \"old\", \"times\", \"formula\", \"treat\", \"china\", \"eat\", \"problems\", \"year\", \"picky\", \"noticed\", \"month\", \"ingredients\", \"hard\", \"foods\", \"meat\", \"eating\", \"chicken\", \"local\", \"store\", \"amazon\", \"time\", \"product\", \"years\", \"happy\", \"love\", \"healthy\", \"price\", \"like\", \"good\", \"just\", \"buy\", \"don\", \"really\", \"little\", \"bag\", \"great\", \"gluten\", \"sauce\", \"butter\", \"absolutely\", \"cake\", \"peanut\", \"pancakes\", \"orzo\", \"jar\", \"seller\", \"flour\", \"noodles\", \"ready\", \"forward\", \"bisquick\", \"eggs\", \"crispy\", \"tofu\", \"mom\", \"dairy\", \"directions\", \"pizza\", \"pamela\", \"brownies\", \"goat\", \"soups\", \"vegan\", \"sauces\", \"uses\", \"follow\", \"seeds\", \"baking\", \"bread\", \"egg\", \"soup\", \"mix\", \"free\", \"milk\", \"wheat\", \"add\", \"make\", \"use\", \"easy\", \"chicken\", \"best\", \"delicious\", \"just\", \"great\", \"cook\", \"good\", \"love\", \"makes\", \"hot\", \"try\", \"cookies\", \"crackers\", \"cheese\", \"cookie\", \"daughter\", \"chip\", \"fiber\", \"cracker\", \"spice\", \"espresso\", \"carbs\", \"italian\", \"tray\", \"cents\", \"cheddar\", \"dip\", \"melted\", \"walmart\", \"tummy\", \"mac\", \"exact\", \"asian\", \"disappointment\", \"saved\", \"round\", \"introduced\", \"terrific\", \"kinda\", \"pastas\", \"afraid\", \"crisp\", \"snack\", \"pasta\", \"chips\", \"fat\", \"box\", \"potato\", \"fan\", \"packages\", \"bars\", \"boxes\", \"calorie\", \"serving\", \"enjoyed\", \"crunchy\", \"snacks\", \"spicy\", \"calories\", \"low\", \"great\", \"chocolate\", \"pack\", \"love\", \"delicious\", \"eat\", \"bag\", \"amazon\", \"order\", \"bags\", \"flavors\", \"texture\", \"item\", \"arrived\", \"candy\", \"gift\", \"service\", \"remember\", \"licorice\", \"plant\", \"chili\", \"stale\", \"kept\", \"states\", \"wrapped\", \"kid\", \"candies\", \"sip\", \"salmon\", \"chestnuts\", \"craving\", \"business\", \"packing\", \"olives\", \"described\", \"birthday\", \"popchips\", \"individually\", \"satisfy\", \"raspberry\", \"discount\", \"ways\", \"expiration\", \"pink\", \"received\", \"customer\", \"condition\", \"party\", \"quickly\", \"shipping\", \"date\", \"ordered\", \"order\", \"broken\", \"product\", \"company\", \"thank\", \"plastic\", \"expected\", \"days\", \"bought\", \"online\", \"great\", \"packaging\", \"purchased\", \"salt\", \"oil\", \"soda\", \"pork\", \"popcorn\", \"rinds\", \"almonds\", \"nuts\", \"vinegar\", \"olive\", \"seasoning\", \"pepper\", \"sour\", \"chia\", \"filling\", \"magnesium\", \"bigger\", \"onion\", \"grape\", \"seed\", \"salads\", \"sea\", \"msg\", \"rose\", \"doubt\", \"tart\", \"colors\", \"salted\", \"rda\", \"dressing\", \"vitamin\", \"oils\", \"protein\", \"sodium\", \"peanuts\", \"corn\", \"salty\", \"soy\", \"recipe\", \"white\", \"spicy\", \"contains\", \"sugar\", \"chips\", \"roasted\", \"juice\", \"orange\", \"ice\", \"tangerine\", \"lemon\", \"pill\", \"recipes\", \"carbonated\", \"hazelnut\", \"refreshing\", \"truly\", \"warm\", \"beverage\", \"pineapple\", \"waffles\", \"jelly\", \"offer\", \"drop\", \"yum\", \"juices\", \"pocket\", \"nose\", \"sparkling\", \"guy\", \"melt\", \"waffle\", \"lemons\", \"lids\", \"salsa\", \"delight\", \"syrup\", \"apple\", \"fruit\", \"banana\", \"coconut\", \"drink\", \"water\", \"natural\", \"maple\", \"sugar\", \"sweet\", \"cream\", \"bottle\", \"pieces\", \"machine\", \"beef\", \"cereal\", \"christmas\", \"shape\", \"drinker\", \"complaint\", \"mother\", \"sardines\", \"peppermint\", \"carrying\", \"celiac\", \"tree\", \"disease\", \"buffalo\", \"pretzels\", \"girl\", \"firm\", \"enjoyable\", \"wild\", \"royal\", \"floor\", \"fondant\", \"terrier\", \"dad\", \"science\", \"seafood\", \"play\", \"law\", \"sticks\", \"stick\", \"red\", \"fan\", \"products\", \"com\", \"http\", \"www\", \"href\", \"wolfgang\", \"puck\", \"reasonable\", \"truffle\", \"delivered\", \"grass\", \"cherry\", \"emeril\", \"diamond\", \"pockets\", \"truffles\", \"grade\", \"trays\", \"apparently\", \"tooth\", \"brewers\", \"smoked\", \"spot\", \"snacking\", \"grove\", \"dented\", \"currently\", \"hawaiian\", \"basket\", \"guilt\", \"diabetic\", \"ounce\", \"amazon\", \"pack\", \"gum\", \"mountain\", \"product\", \"cans\", \"black\", \"organic\", \"throw\", \"carbonation\", \"slight\", \"grains\", \"babies\", \"kit\", \"hair\", \"pass\", \"vendor\", \"mic\", \"wholesome\", \"icicle\", \"disposable\", \"gain\", \"cow\", \"similac\", \"goats\", \"grapefruit\", \"ridiculous\", \"created\", \"vita\", \"concerns\", \"toy\", \"usb\", \"ups\", \"ball\", \"bath\", \"switching\", \"holder\", \"acids\", \"sound\", \"nutritional\", \"source\", \"products\", \"calcium\"], \"Total\": [154533.0, 96008.0, 207576.0, 100195.0, 49049.0, 46472.0, 77920.0, 159978.0, 43803.0, 65747.0, 44723.0, 36543.0, 35179.0, 53441.0, 72339.0, 27317.0, 38387.0, 25490.0, 56591.0, 43227.0, 117785.0, 49402.0, 79455.0, 42234.0, 36459.0, 22774.0, 19883.0, 164684.0, 27701.0, 27608.0, 207576.8718561355, 89482.94254306667, 76392.0549580941, 31207.66762886915, 23904.639179641817, 22197.419181184596, 21273.820278282546, 20804.621844752004, 20783.16708512086, 19762.047260770734, 19445.120102067453, 19165.46582877306, 18826.568046620596, 18567.86424745699, 15626.557743861878, 14632.078240899342, 14352.955508697749, 13966.364376937454, 13929.06842271108, 13733.612973299632, 13274.61115201651, 12172.911431338058, 12337.963650379885, 11610.971745070237, 11461.378438219026, 11111.686272234188, 10822.679018306866, 10779.909516413389, 10639.145270916722, 10486.71202264818, 42235.01065680784, 22796.5404300885, 15759.563653067564, 18334.710314798907, 14832.156793721142, 23465.57707137471, 14174.419027981456, 137594.40980789546, 164684.55884353214, 21601.749340754475, 37912.61731330163, 42234.37048291889, 248741.02685033294, 39129.72135401364, 42565.422729239406, 22039.965977308242, 23162.344343864075, 198707.82704322579, 78498.6605520013, 71998.9180116983, 41792.84134959881, 164120.19593333916, 47216.404766287, 99881.92385413458, 81053.93960660233, 159978.89359256387, 53441.80392289235, 77134.16051232794, 89600.69704013038, 70311.76009060912, 56591.79036353709, 79455.39636061934, 74831.15578561086, 79047.66345575666, 154533.21413934446, 117785.39776896052, 83061.04544794721, 72339.1158590141, 100195.43832217222, 77920.35394639231, 65747.82914614781, 48149.87164625814, 20723.685960562863, 20860.82715111968, 9843.27291932746, 13782.531418474073, 8739.524961157258, 8731.353511717007, 7666.127314786493, 7363.917574940575, 7372.885861477567, 6758.97476431145, 6436.792547104174, 6274.183662438144, 6201.597093380928, 6182.223209235464, 6230.85147905945, 6116.884727452957, 5940.301860783028, 5332.348090387942, 5178.993012396901, 5054.3740839897155, 4972.7375081086875, 4818.518327313893, 4765.998699941082, 4741.448647359147, 4634.877018275992, 4663.234624758997, 12371.095627549728, 33941.4947239789, 16505.878307840754, 9955.661524756086, 32228.81350357302, 15878.62053744758, 10017.233010125115, 37694.589030155024, 9023.719390057004, 62298.967905258076, 11900.973141128186, 23353.13510421283, 8824.932280396319, 7566.668776081952, 12076.045567416004, 34862.23838201481, 37407.45025770241, 24496.16082862266, 13549.052110950794, 29561.40606839505, 27534.243141300616, 28004.715144178015, 46235.02950755015, 96008.2187655661, 83061.04544794721, 154533.21413934446, 32791.07546321808, 27949.513328597553, 117785.39776896052, 31699.23982261606, 74831.15578561086, 248741.02685033294, 198707.82704322579, 164120.19593333916, 79047.66345575666, 89600.69704013038, 99881.92385413458, 81053.93960660233, 62077.237952018055, 159978.89359256387, 27701.00041869028, 20534.812239835537, 17693.483786770852, 14708.743538026827, 10295.292695592174, 10082.00818117704, 8468.558710725265, 8129.675818990526, 6435.5734310839025, 6250.263384565371, 7358.13593477935, 6148.125538685006, 4919.407498734621, 4903.88385169591, 4856.470382043916, 4586.8381339869675, 4398.887230481704, 4381.97865018119, 4358.02367953669, 4307.06951873254, 4182.678591916223, 4140.373323805161, 4004.7051397582054, 3818.6385813652264, 4946.716491112496, 3487.614875413848, 3402.848378186022, 3227.915307673009, 3968.2118885315335, 3201.4788124088313, 14763.681458885767, 8455.271723431304, 7952.238954654381, 4781.671896810756, 10845.933781947711, 44723.77880136038, 49402.29811061995, 36459.30721501898, 15025.260611744325, 30702.82824785187, 72339.1158590141, 79455.39636061934, 35325.34288499623, 27534.243141300616, 77134.16051232794, 38353.15349588664, 164120.19593333916, 159978.89359256387, 9498.716917171561, 198707.82704322579, 117785.39776896052, 33718.24535485062, 47216.404766287, 70311.76009060912, 35179.24810016171, 20778.408440134594, 16873.8500929834, 16767.68649270046, 11218.708045742162, 10127.540774129126, 9682.29606712874, 6773.024487414494, 6701.483457593352, 6146.583195217645, 4619.573513818448, 3944.8830686561873, 3911.3055919418553, 2917.553315370846, 2798.1823306596016, 2764.7298833694003, 2535.0357066396778, 2355.053594355196, 2330.3029260633075, 2295.935000133318, 2235.804465403155, 2109.2784192436584, 2099.70454627729, 2063.674955721006, 2014.0660622766238, 2002.1193397860914, 1895.6037312944025, 1878.8095566804282, 1876.768743129993, 1830.7006288933503, 5246.840658307894, 27608.609018901454, 12840.930515598842, 38387.84164728289, 18636.88885143249, 43803.60561958185, 11413.364239066981, 12763.173802883999, 7530.496123350179, 6107.552236101266, 13204.257190002027, 8281.538903301389, 11879.63801250652, 10471.195790419002, 10397.119917492571, 9574.438979898434, 12141.697162503311, 19452.464825158062, 20784.55129781029, 159978.89359256387, 56591.79036353709, 36543.63625696932, 117785.39776896052, 38353.15349588664, 62298.967905258076, 62077.237952018055, 96008.2187655661, 43227.53881249016, 26099.896014022703, 36950.550648285454, 21884.910701663346, 18062.64696707151, 17614.309959314392, 12493.907815993594, 11517.492525131996, 8608.16823844092, 5867.73687063634, 5802.311616811136, 5370.396711455005, 5129.866937835877, 4994.251890533589, 3924.9108506409157, 3553.887961853374, 3364.0246578538186, 3332.530864949082, 3229.038212742882, 3202.8680801122027, 3093.2304331917535, 2978.546616648064, 2941.1017209278316, 2641.6712008036106, 2602.6449794638625, 2582.3222316351453, 2544.3101604042854, 2541.7790246348295, 2529.8054949708453, 2418.3313042720774, 2321.0867654536332, 2305.046791001775, 2202.591793746969, 2153.626943090342, 2621.8976365227077, 3442.367219809144, 17516.242237320545, 6603.717500277988, 5573.568204187667, 4488.844086688612, 12324.718030439491, 25382.339416439732, 6072.852884269084, 32553.171611584243, 43227.53881249016, 10152.589982339725, 154533.21413934446, 17574.789123364546, 10729.788953956784, 9623.494465194219, 10352.670202564423, 16493.244607853707, 49796.16272354214, 9182.671724021386, 159978.89359256387, 15896.701322278168, 22390.55913751823, 27317.609789513866, 22774.28232154881, 15638.091240047223, 11961.526214393936, 11861.940462664581, 10329.483447763094, 9464.441907953977, 9413.905330366, 6606.60781112767, 6568.289123751745, 6250.044120110128, 7252.73196464895, 5624.983973981688, 5883.255106611079, 4913.888305685724, 4806.7417641554175, 3842.652358159649, 3750.601447109722, 3607.3744737693733, 3524.812306589029, 3366.741768775752, 3182.5504378925893, 3022.277936687252, 3068.7252656797027, 2792.839822804557, 2755.461686831969, 2675.6255397481304, 2459.4204555836614, 2679.7650496592505, 2402.0724571937762, 6098.521731066047, 3063.939319578463, 17534.094606324325, 7695.162364017153, 6891.1258026539035, 14837.441805819928, 10412.819943292636, 8873.738186749959, 11032.886978327737, 15868.58484212579, 12141.697162503311, 7916.864322760732, 53441.80392289235, 38387.84164728289, 8995.391110941535, 25490.199160867887, 20184.822784191543, 12119.26828045089, 8993.645122656482, 7308.631306559987, 7224.572037429485, 7014.267254040834, 6770.261643738043, 5911.38110708659, 5819.302337520728, 5466.659561083905, 5363.105880756052, 4638.866113976946, 4155.819204774656, 4026.8500749919363, 3975.78000505709, 3496.387475705743, 3223.2165269633647, 3019.8908492634223, 3008.721796215224, 2793.307071445184, 2530.999872500373, 2493.3389076499197, 2478.0586531193308, 2346.729528802273, 2171.642502094811, 2146.3646460178397, 2115.2638371057697, 2065.5977173646697, 1878.3225988122426, 11998.142696470704, 7577.895926004303, 16445.12639359356, 3974.304420304507, 15803.379679388747, 46472.77829404438, 49049.969609021704, 23889.243942339323, 3967.79228453549, 53441.80392289235, 42072.525596404244, 14922.759095572403, 10035.435798075743, 13088.7484966428, 10870.368945642747, 9271.806531010636, 8899.333183259869, 6482.248572683125, 5794.691913442422, 5168.053041305693, 4368.55058938021, 4335.608714505426, 4042.3959068551894, 4013.8767239175677, 3525.221185120936, 3363.8265625899667, 3467.050097136873, 3128.8867619894245, 3010.875712266282, 2812.4175957422003, 2795.307685278883, 2685.380754953845, 2506.5792221236984, 2499.610883073626, 2437.096230800444, 2406.0481896656606, 2230.45842739084, 2143.5435734515827, 2119.8578538789548, 1993.8860771942602, 1979.695337875526, 1796.7962645286702, 1771.3901899399116, 4853.294133790745, 8764.093057223663, 9236.970312719017, 12763.173802883999, 34452.63648213362, 19883.894390385052, 14512.485280252973, 14496.71513498077, 13978.384653396983, 9237.931400794423, 9232.779932996915, 5029.374220998694, 4748.377083538875, 4717.505590083846, 4377.998680925268, 3891.1203667051595, 3503.7092347195558, 4735.828886496517, 2947.7541539929753, 2778.9112493953544, 2630.082561858565, 2552.239021903924, 2326.960326913737, 2291.7774064139203, 2219.258054378063, 2165.379455208649, 2084.4746860279784, 1890.7325627990135, 1680.4962322302217, 1598.035619969816, 1507.1748009449195, 1488.0717832980233, 1331.4026790237472, 1315.0933114907934, 1282.7483586124226, 12450.619390331742, 96008.2187655661, 36543.63625696932, 5706.484023771932, 7087.601707808779, 154533.21413934446, 11380.439797167404, 16758.530058063825, 42234.37048291889, 5498.377495499564, 4139.872884446231, 3914.65625293711, 3272.859448239521, 2439.6254377639384, 2404.2697077245352, 2151.355187564017, 2107.995992239753, 2018.038052627524, 1996.111473812973, 1979.822913754015, 1941.106216549123, 1890.7607707565812, 1809.1939726665494, 1792.8817926054799, 1774.4654030954568, 1600.2442924936956, 1515.5484519628908, 1511.707987481183, 1506.7611774106933, 1497.2798961463482, 1312.6932939837025, 1308.730034343432, 1306.5574279420803, 1306.2904691044312, 1267.5045312654615, 1177.4957669669234, 1158.2367080821848, 1122.5225725330247, 1114.512739889181, 2296.706177644986, 3860.4474473451373, 6169.322160772377, 34452.63648213362, 2465.4329395224613], \"loglift\": [30.0, 29.0, 28.0, 27.0, 26.0, 25.0, 24.0, 23.0, 22.0, 21.0, 20.0, 19.0, 18.0, 17.0, 16.0, 15.0, 14.0, 13.0, 12.0, 11.0, 10.0, 9.0, 8.0, 7.0, 6.0, 5.0, 4.0, 3.0, 2.0, 1.0, 0.8129, 0.8127, 0.8127, 0.8121, 0.8118, 0.8117, 0.8116, 0.8116, 0.8116, 0.8115, 0.8115, 0.8114, 0.8114, 0.8114, 0.8111, 0.8109, 0.8109, 0.8108, 0.8108, 0.8108, 0.8107, 0.8105, 0.8104, 0.8104, 0.8103, 0.8102, 0.8102, 0.8101, 0.8101, 0.8101, 0.8094, 0.8093, 0.8099, 0.808, 0.8091, 0.7975, 0.8066, 0.7493, 0.7257, 0.7869, 0.7532, 0.7382, 0.5897, 0.7319, 0.7069, 0.767, 0.7572, 0.4975, 0.5909, 0.5979, 0.6487, 0.3888, 0.6225, 0.4398, 0.4307, 0.2355, 0.5314, 0.4199, 0.3763, 0.4442, 0.4945, 0.3783, 0.3639, 0.2938, -0.0004, 0.0377, 0.1853, 0.2516, 1.494, 1.494, 1.4939, 1.4937, 1.4928, 1.4927, 1.4911, 1.491, 1.4907, 1.4907, 1.4902, 1.4899, 1.4897, 1.4897, 1.4894, 1.4893, 1.4893, 1.4892, 1.4892, 1.4892, 1.489, 1.4884, 1.4882, 1.4881, 1.488, 1.4878, 1.4877, 1.4877, 1.4875, 1.4874, 1.4838, 1.4472, 1.4609, 1.4668, 1.4055, 1.4387, 1.455, 1.34, 1.4446, 1.171, 1.3982, 1.2785, 1.4201, 1.4492, 1.326, 1.0462, 1.0254, 1.1381, 1.2949, 1.0635, 1.0784, 1.0274, 0.8435, 0.5484, 0.5634, 0.2834, 0.9203, 0.9802, 0.2353, 0.8888, 0.4314, -0.361, -0.233, -0.1155, 0.3175, 0.1796, 0.0675, 0.2022, 0.4023, -0.3699, 2.6268, 2.6266, 2.6263, 2.626, 2.625, 2.625, 2.6243, 2.624, 2.6232, 2.623, 2.623, 2.6229, 2.6216, 2.6216, 2.6215, 2.6211, 2.6208, 2.6208, 2.6208, 2.6207, 2.6205, 2.6204, 2.6201, 2.6197, 2.6196, 2.6189, 2.6187, 2.6182, 2.6181, 2.6181, 2.611, 2.6155, 2.6087, 2.6138, 2.5818, 2.3913, 2.0777, 2.0501, 2.2145, 1.8778, 1.3832, 1.1871, 1.5562, 1.5472, 0.8869, 1.2925, 0.3297, 0.1575, 2.1591, -0.0432, 0.3184, 1.2185, 0.8512, 0.4585, 2.6593, 2.6586, 2.6583, 2.6583, 2.6573, 2.657, 2.6569, 2.6555, 2.6554, 2.655, 2.6532, 2.6521, 2.652, 2.6492, 2.6487, 2.6486, 2.6471, 2.6466, 2.6464, 2.6462, 2.6458, 2.645, 2.6449, 2.6446, 2.6442, 2.6441, 2.6432, 2.6431, 2.6431, 2.6426, 2.6264, 2.5927, 2.6025, 2.5454, 2.5043, 2.3182, 2.3907, 2.3678, 2.435, 2.461, 2.2676, 2.3302, 2.2389, 2.2675, 2.2407, 2.2613, 2.1847, 2.0155, 1.9639, 0.8634, 1.3594, 1.4738, 0.7855, 1.4281, 1.122, 0.9794, 0.596, 1.1159, 1.524, 1.215, 1.6131, 3.1334, 3.1332, 3.1326, 3.1324, 3.1314, 3.1297, 3.1293, 3.1292, 3.1289, 3.1288, 3.127, 3.1262, 3.1257, 3.1256, 3.1253, 3.1252, 3.1248, 3.1244, 3.1243, 3.1231, 3.1229, 3.1228, 3.1226, 3.1226, 3.1225, 3.1219, 3.1214, 3.1213, 3.1206, 3.1203, 3.1199, 3.1112, 3.0183, 3.0628, 3.0454, 3.058, 2.7473, 2.4553, 2.8697, 2.249, 2.1053, 2.625, 0.8847, 2.0669, 2.3372, 2.376, 2.2963, 1.9585, 1.0206, 2.2936, -0.2964, 1.7785, 1.4363, 3.2331, 3.2326, 3.2322, 3.2316, 3.2315, 3.2312, 3.2309, 3.2309, 3.2294, 3.2294, 3.2291, 3.2287, 3.2286, 3.2282, 3.2277, 3.2276, 3.2259, 3.2257, 3.2253, 3.2251, 3.2245, 3.2241, 3.2236, 3.2235, 3.2227, 3.2226, 3.2222, 3.2211, 3.2211, 3.2208, 3.2045, 3.2045, 2.7862, 2.8888, 2.9182, 2.5018, 2.6322, 2.6443, 2.3555, 2.0788, 2.2562, 2.5475, 0.7242, 1.006, 2.3775, 3.3294, 3.3291, 3.328, 3.3271, 3.3263, 3.3262, 3.3261, 3.3259, 3.3252, 3.3251, 3.3248, 3.3247, 3.3237, 3.3229, 3.3227, 3.3226, 3.3214, 3.3206, 3.32, 3.3199, 3.3191, 3.3179, 3.3177, 3.3176, 3.3169, 3.3158, 3.3156, 3.3154, 3.315, 3.3134, 3.2992, 3.2233, 3.1565, 3.2396, 2.9529, 2.5184, 2.4104, 2.3139, 3.1009, 1.4907, 1.4669, 1.9859, 2.3088, 3.6487, 3.6483, 3.6477, 3.6476, 3.6463, 3.6457, 3.645, 3.6439, 3.6438, 3.6433, 3.6433, 3.6421, 3.6417, 3.6415, 3.641, 3.6406, 3.6399, 3.6398, 3.6393, 3.6385, 3.6384, 3.6381, 3.6379, 3.6369, 3.6363, 3.6361, 3.6352, 3.635, 3.6334, 3.6331, 3.6276, 3.6081, 2.6044, 2.2699, 1.1577, 3.6837, 3.6831, 3.6831, 3.683, 3.6818, 3.6818, 3.6788, 3.6785, 3.6784, 3.6778, 3.677, 3.676, 3.6749, 3.6742, 3.6736, 3.6729, 3.6725, 3.6713, 3.6711, 3.6706, 3.6702, 3.6696, 3.668, 3.6659, 3.6648, 3.6636, 3.6633, 3.6607, 3.6604, 3.6597, 3.4895, 2.396, 2.5852, 3.1262, 3.0186, 1.6975, 2.6655, 1.8578, 1.0469, 3.8926, 3.8906, 3.8902, 3.8886, 3.8852, 3.885, 3.8834, 3.8831, 3.8824, 3.8822, 3.8821, 3.8818, 3.8813, 3.8805, 3.8804, 3.8802, 3.8782, 3.8771, 3.877, 3.8769, 3.8768, 3.8737, 3.8736, 3.8736, 3.8736, 3.8728, 3.8708, 3.8704, 3.8695, 3.8693, 3.5251, 3.079, 2.7528, 1.2875, 3.2834], \"logprob\": [30.0, 29.0, 28.0, 27.0, 26.0, 25.0, 24.0, 23.0, 22.0, 21.0, 20.0, 19.0, 18.0, 17.0, 16.0, 15.0, 14.0, 13.0, 12.0, 11.0, 10.0, 9.0, 8.0, 7.0, 6.0, 5.0, 4.0, 3.0, 2.0, 1.0, -3.7521, -4.5937, -4.752, -5.6478, -5.9147, -5.9889, -6.0314, -6.0538, -6.0548, -6.1053, -6.1215, -6.136, -6.1538, -6.1677, -6.3405, -6.4064, -6.4257, -6.4531, -6.4557, -6.4699, -6.504, -6.5908, -6.5774, -6.6382, -6.6512, -6.6823, -6.7087, -6.7127, -6.7259, -6.7403, -5.3479, -5.9646, -6.3332, -6.1837, -6.3946, -5.9475, -6.4425, -4.2269, -4.0708, -6.0408, -5.512, -5.4191, -3.7944, -5.5017, -5.4426, -6.0407, -6.0008, -4.1112, -4.9465, -5.0259, -5.5191, -4.4111, -5.4233, -4.8568, -5.0747, -4.59, -5.3905, -5.135, -5.0289, -5.2034, -5.3702, -5.147, -5.2213, -5.2367, -4.8605, -5.094, -5.2956, -5.3676, -3.7993, -4.0509, -4.2208, -4.5325, -5.3764, -5.37, -6.1226, -5.7861, -6.2419, -6.2429, -6.3735, -6.414, -6.413, -6.5, -6.5491, -6.5748, -6.5865, -6.5896, -6.5818, -6.6003, -6.6297, -6.7383, -6.7677, -6.7922, -6.8086, -6.8403, -6.8513, -6.8565, -6.8794, -6.8734, -5.9013, -4.9287, -5.6359, -6.1356, -5.0221, -5.6968, -6.1412, -4.931, -6.2561, -4.5976, -6.0257, -5.4713, -6.3028, -6.4276, -6.0833, -5.3029, -5.2532, -5.5639, -5.9993, -5.4506, -5.5067, -5.5407, -5.2233, -4.7877, -4.9175, -4.5767, -5.4901, -5.5899, -4.8963, -5.5555, -5.1539, -4.7451, -4.8417, -4.9155, -5.213, -5.2256, -5.229, -5.3032, -5.3698, -5.1954, -3.9523, -4.2518, -4.4011, -4.5861, -4.9438, -4.9648, -5.1398, -5.181, -5.4155, -5.4449, -5.2817, -5.4615, -5.6857, -5.6889, -5.6987, -5.7562, -5.7983, -5.8022, -5.8077, -5.8196, -5.8491, -5.8594, -5.8929, -5.9409, -5.6822, -6.0324, -6.0572, -6.1105, -5.9041, -6.1188, -4.5974, -5.1502, -5.2184, -5.7219, -4.9349, -3.7087, -3.9229, -4.2542, -4.9763, -4.5984, -4.236, -4.3382, -4.7798, -5.0379, -4.6681, -4.9612, -4.4702, -4.668, -5.4902, -4.6519, -4.8133, -5.164, -5.1945, -5.1891, -3.6808, -4.208, -4.4165, -4.4228, -4.8256, -4.9282, -4.9733, -5.3321, -5.3428, -5.4297, -5.717, -5.876, -5.8847, -6.1806, -6.2228, -6.235, -6.3232, -6.3974, -6.4081, -6.4232, -6.4501, -6.5092, -6.5138, -6.5314, -6.5561, -6.5622, -6.6178, -6.6268, -6.6279, -6.6532, -5.6165, -3.9897, -4.7454, -3.7074, -4.4711, -3.8026, -5.0751, -4.9861, -5.4465, -5.63, -5.0524, -5.4563, -5.1868, -5.2844, -5.3182, -5.3801, -5.2192, -4.9171, -4.9024, -3.962, -4.5052, -4.8282, -4.3462, -4.8256, -4.6466, -4.7928, -4.7401, -5.0181, -5.1146, -5.0759, -5.2016, -3.8733, -3.8986, -4.2427, -4.3242, -4.6164, -5.0013, -5.013, -5.0904, -5.1365, -5.1635, -5.4061, -5.5063, -5.5617, -5.5712, -5.6031, -5.6113, -5.6465, -5.6846, -5.6974, -5.806, -5.8211, -5.829, -5.8441, -5.8451, -5.8498, -5.8955, -5.9371, -5.9441, -5.9902, -6.0131, -5.8167, -5.5531, -4.0191, -4.9501, -5.137, -5.3409, -4.6416, -4.2111, -5.227, -4.1686, -4.0287, -4.9578, -3.9754, -4.9672, -5.1903, -5.2603, -5.267, -5.1391, -4.972, -5.3896, -5.1219, -5.3559, -5.3556, -3.3599, -3.5423, -3.9186, -4.1872, -4.1957, -4.3343, -4.4221, -4.4275, -4.783, -4.7889, -4.8388, -4.6904, -4.9447, -4.9002, -5.0807, -5.1029, -5.3285, -5.3529, -5.3922, -5.4156, -5.4621, -5.5187, -5.5709, -5.5558, -5.6507, -5.6644, -5.6941, -5.7795, -5.6937, -5.8034, -4.888, -5.5763, -4.2502, -4.9711, -5.052, -4.7015, -4.9253, -5.0731, -5.1441, -5.0574, -5.1476, -5.284, -5.1977, -5.2468, -5.3263, -3.3328, -3.5665, -4.0777, -4.3769, -4.5852, -4.5968, -4.6265, -4.6621, -4.7984, -4.8142, -4.8771, -4.8963, -5.0423, -5.1531, -5.1849, -5.1977, -5.3274, -5.4095, -5.4753, -5.4791, -5.5542, -5.654, -5.6692, -5.6754, -5.7306, -5.8093, -5.8212, -5.836, -5.8601, -5.9567, -4.1166, -4.652, -3.944, -5.2811, -4.1874, -3.5432, -3.5973, -4.4132, -5.4214, -4.4312, -4.6942, -5.2117, -5.2856, -3.68, -3.8662, -4.0258, -4.067, -4.3852, -4.4979, -4.613, -4.7822, -4.7898, -4.8604, -4.8675, -4.9984, -5.0457, -5.0157, -5.1188, -5.1577, -5.2266, -5.2328, -5.2734, -5.3431, -5.346, -5.3716, -5.3846, -5.4614, -5.5018, -5.513, -5.5753, -5.5825, -5.6811, -5.6956, -4.6933, -4.1217, -5.0729, -5.084, -5.2032, -3.2269, -3.5424, -3.5435, -3.58, -3.9954, -3.996, -4.6064, -4.6642, -4.6708, -4.7461, -4.8649, -4.9707, -4.6705, -5.1452, -5.2049, -5.2606, -5.291, -5.3847, -5.4001, -5.4327, -5.4577, -5.4964, -5.5955, -5.7156, -5.7669, -5.8267, -5.8397, -5.9536, -5.9662, -5.9918, -3.8893, -2.9401, -3.7168, -5.0327, -4.9236, -3.1626, -4.8031, -5.2238, -5.1104, -4.3035, -4.5892, -4.6456, -4.8263, -5.1235, -5.1383, -5.251, -5.2717, -5.316, -5.3271, -5.3354, -5.3555, -5.3822, -5.4271, -5.4363, -5.4468, -5.5522, -5.6077, -5.6103, -5.6136, -5.6201, -5.7547, -5.7578, -5.7595, -5.7597, -5.7906, -5.8663, -5.8832, -5.9155, -5.9228, -5.5439, -5.4708, -5.3281, -5.0735, -5.7148]}, \"token.table\": {\"Topic\": [1, 2, 3, 4, 5, 6, 7, 8, 9, 10, 1, 2, 3, 4, 5, 6, 7, 8, 9, 10, 1, 2, 3, 4, 5, 6, 7, 8, 9, 10, 1, 2, 3, 4, 5, 6, 7, 8, 9, 10, 1, 2, 3, 4, 5, 6, 7, 8, 9, 10, 1, 2, 3, 4, 5, 6, 7, 8, 9, 10, 1, 2, 3, 4, 5, 6, 7, 8, 9, 10, 1, 2, 3, 4, 5, 6, 7, 8, 9, 10, 1, 2, 3, 4, 5, 6, 7, 8, 9, 10, 1, 2, 3, 4, 5, 6, 7, 8, 9, 10, 1, 2, 3, 4, 5, 6, 7, 8, 9, 10, 1, 2, 3, 4, 5, 6, 7, 8, 9, 10, 1, 2, 3, 4, 5, 6, 7, 8, 9, 10, 1, 2, 3, 4, 5, 6, 7, 8, 9, 10, 1, 2, 3, 4, 5, 6, 7, 8, 9, 10, 1, 2, 3, 4, 5, 6, 7, 8, 9, 10, 1, 2, 3, 4, 5, 6, 7, 8, 9, 10, 1, 2, 3, 4, 5, 6, 7, 8, 9, 10, 1, 2, 3, 4, 5, 6, 7, 8, 9, 10, 1, 2, 3, 4, 5, 6, 7, 8, 9, 10, 1, 2, 3, 4, 5, 6, 7, 8, 9, 10, 1, 2, 3, 4, 5, 6, 7, 8, 9, 10, 1, 2, 3, 4, 5, 6, 7, 8, 9, 10, 1, 2, 3, 4, 5, 6, 7, 8, 9, 10, 1, 2, 3, 4, 5, 6, 7, 8, 9, 10, 1, 2, 3, 4, 5, 6, 7, 8, 9, 10, 1, 2, 3, 4, 5, 6, 7, 8, 9, 10, 1, 2, 3, 4, 5, 6, 7, 8, 9, 10, 1, 2, 3, 4, 5, 6, 7, 8, 9, 10, 1, 2, 3, 4, 5, 6, 7, 8, 9, 10, 1, 2, 3, 4, 5, 6, 7, 8, 9, 10, 1, 2, 3, 4, 5, 6, 7, 8, 9, 10, 1, 2, 3, 4, 5, 6, 7, 8, 9, 10, 1, 2, 3, 4, 5, 6, 7, 8, 9, 10, 1, 2, 3, 4, 5, 6, 7, 8, 9, 10, 1, 2, 3, 4, 5, 6, 7, 8, 9, 10, 1, 2, 3, 4, 5, 6, 7, 8, 9, 10, 1, 2, 3, 4, 5, 6, 7, 8, 9, 10, 1, 2, 3, 4, 5, 6, 7, 8, 9, 10, 1, 2, 3, 4, 5, 6, 7, 8, 9, 10, 1, 2, 3, 4, 5, 6, 7, 8, 9, 10, 1, 2, 3, 4, 5, 6, 7, 8, 9, 10, 1, 2, 3, 4, 5, 6, 7, 8, 9, 10, 1, 2, 3, 4, 5, 6, 7, 8, 9, 10, 1, 2, 3, 4, 5, 6, 7, 8, 9, 10, 1, 2, 3, 4, 5, 6, 7, 8, 9, 10, 1, 2, 3, 4, 5, 6, 7, 8, 9, 10, 1, 2, 3, 4, 5, 6, 7, 8, 9, 10, 1, 2, 3, 4, 5, 6, 7, 8, 9, 10, 1, 2, 3, 4, 5, 6, 7, 8, 9, 10, 1, 2, 3, 4, 5, 6, 7, 8, 9, 10, 1, 2, 3, 4, 5, 6, 7, 8, 9, 10, 1, 2, 3, 4, 5, 6, 7, 8, 9, 10, 1, 2, 3, 4, 5, 6, 7, 8, 9, 10, 1, 2, 3, 4, 5, 6, 7, 8, 9, 10, 1, 2, 3, 4, 5, 6, 7, 8, 9, 10, 1, 2, 3, 4, 5, 6, 7, 8, 9, 10, 1, 2, 3, 4, 5, 6, 7, 8, 9, 10, 1, 2, 3, 4, 5, 6, 7, 8, 9, 10, 1, 2, 3, 4, 5, 6, 7, 8, 9, 10, 1, 2, 3, 4, 5, 6, 7, 8, 9, 10, 1, 2, 3, 4, 5, 6, 7, 8, 9, 10, 1, 2, 3, 4, 5, 6, 7, 8, 9, 10, 1, 2, 3, 4, 5, 6, 7, 8, 9, 10, 1, 2, 3, 4, 5, 6, 7, 8, 9, 10, 1, 2, 3, 4, 5, 6, 7, 8, 9, 10, 1, 2, 3, 4, 5, 6, 7, 8, 9, 10, 1, 2, 3, 4, 5, 6, 7, 8, 9, 10, 1, 2, 3, 4, 5, 6, 7, 8, 9, 10, 1, 2, 3, 4, 5, 6, 7, 8, 9, 10, 1, 2, 3, 4, 5, 6, 7, 8, 9, 10, 1, 2, 3, 4, 5, 6, 7, 8, 9, 10, 1, 2, 3, 4, 5, 6, 7, 8, 9, 10, 1, 2, 3, 4, 5, 6, 7, 8, 9, 10, 1, 2, 3, 4, 5, 6, 7, 8, 9, 10, 1, 2, 3, 4, 5, 6, 7, 8, 9, 10, 1, 2, 3, 4, 5, 6, 7, 8, 9, 10, 1, 2, 3, 4, 5, 6, 7, 8, 9, 10, 1, 2, 3, 4, 5, 6, 7, 8, 9, 10, 1, 2, 3, 4, 5, 6, 7, 8, 9, 10, 1, 2, 3, 4, 5, 6, 7, 8, 9, 10, 1, 2, 3, 4, 5, 6, 7, 8, 9, 10, 1, 2, 3, 4, 5, 6, 7, 8, 9, 10, 1, 2, 3, 4, 5, 6, 7, 8, 9, 10, 1, 2, 3, 4, 5, 6, 7, 8, 9, 10, 1, 2, 3, 4, 5, 6, 7, 8, 9, 10, 1, 2, 3, 4, 5, 6, 7, 8, 9, 10, 1, 2, 3, 4, 5, 6, 7, 8, 9, 10, 1, 2, 3, 4, 5, 6, 7, 8, 9, 10, 1, 2, 3, 4, 5, 6, 7, 8, 9, 10, 1, 2, 3, 4, 5, 6, 7, 8, 9, 10, 1, 2, 3, 4, 5, 6, 7, 8, 9, 10, 1, 2, 3, 4, 5, 6, 7, 8, 9, 10, 1, 2, 3, 4, 5, 6, 7, 8, 9, 10, 1, 2, 3, 4, 5, 6, 7, 8, 9, 10, 1, 2, 3, 4, 5, 6, 7, 8, 9, 10, 1, 2, 3, 4, 5, 6, 7, 8, 9, 10, 1, 2, 3, 4, 5, 6, 7, 8, 9, 10, 1, 2, 3, 4, 5, 6, 7, 8, 9, 10, 1, 2, 3, 4, 5, 6, 7, 8, 9, 10, 1, 2, 3, 4, 5, 6, 7, 8, 9, 10, 1, 2, 3, 4, 5, 6, 7, 8, 9, 10, 1, 2, 3, 4, 5, 6, 7, 8, 9, 10, 1, 2, 3, 4, 5, 6, 7, 8, 9, 10, 1, 2, 3, 4, 5, 6, 7, 8, 9, 10, 1, 2, 3, 4, 5, 6, 7, 8, 9, 10, 1, 2, 3, 4, 5, 6, 7, 8, 9, 10, 1, 2, 3, 4, 5, 6, 7, 8, 9, 10, 1, 2, 3, 4, 5, 6, 7, 8, 9, 10, 1, 2, 3, 4, 5, 6, 7, 8, 9, 10, 1, 2, 3, 4, 5, 6, 7, 8, 9, 10, 1, 2, 3, 4, 5, 6, 7, 8, 9, 10, 1, 2, 3, 4, 5, 6, 7, 8, 9, 10, 1, 2, 3, 4, 5, 6, 7, 8, 9, 10, 1, 2, 3, 4, 5, 6, 7, 8, 9, 10, 1, 2, 3, 4, 5, 6, 7, 8, 9, 10, 1, 2, 3, 4, 5, 6, 7, 8, 9, 10, 1, 2, 3, 4, 5, 6, 7, 8, 9, 10, 1, 2, 3, 4, 5, 6, 7, 8, 9, 10, 1, 2, 3, 4, 5, 6, 7, 8, 9, 10, 1, 2, 3, 4, 5, 6, 7, 8, 9, 10, 1, 2, 3, 4, 5, 6, 7, 8, 9, 10, 1, 2, 3, 4, 5, 6, 7, 8, 9, 10, 1, 2, 3, 4, 5, 6, 7, 8, 9, 10, 1, 2, 3, 4, 5, 6, 7, 8, 9, 10, 1, 2, 3, 4, 5, 6, 7, 8, 9, 10, 1, 2, 3, 4, 5, 6, 7, 8, 9, 10, 1, 2, 3, 4, 5, 6, 7, 8, 9, 10, 1, 2, 3, 4, 5, 6, 7, 8, 9, 10, 1, 2, 3, 4, 5, 6, 7, 8, 9, 10, 1, 2, 3, 4, 5, 6, 7, 8, 9, 10, 1, 2, 3, 4, 5, 6, 7, 8, 9, 10, 1, 2, 3, 4, 5, 6, 7, 8, 9, 10, 1, 2, 3, 4, 5, 6, 7, 8, 9, 10, 1, 2, 3, 4, 5, 6, 7, 8, 9, 10, 1, 2, 3, 4, 5, 6, 7, 8, 9, 10, 1, 2, 3, 4, 5, 6, 7, 8, 9, 10, 1, 2, 3, 4, 5, 6, 7, 8, 9, 10, 1, 2, 3, 4, 5, 6, 7, 8, 9, 10, 1, 2, 3, 4, 5, 6, 7, 8, 9, 10, 1, 2, 3, 4, 5, 6, 7, 8, 9, 10, 1, 2, 3, 4, 5, 6, 7, 8, 9, 10, 1, 2, 3, 4, 5, 6, 7, 8, 9, 10, 1, 2, 3, 4, 5, 6, 7, 8, 9, 10, 1, 2, 3, 4, 5, 6, 7, 8, 9, 10, 1, 2, 3, 4, 5, 6, 7, 8, 9, 10, 1, 2, 3, 4, 5, 6, 7, 8, 9, 10, 1, 2, 3, 4, 5, 6, 7, 8, 9, 10, 1, 2, 3, 4, 5, 6, 7, 8, 9, 10, 1, 2, 3, 4, 5, 6, 7, 8, 9, 10, 1, 2, 3, 4, 5, 6, 7, 8, 9, 10, 1, 2, 3, 4, 5, 6, 7, 8, 9, 10, 1, 2, 3, 4, 5, 6, 7, 8, 9, 10, 1, 2, 3, 4, 5, 6, 7, 8, 9, 10, 1, 2, 3, 4, 5, 6, 7, 8, 9, 10, 1, 2, 3, 4, 5, 6, 7, 8, 9, 10, 1, 2, 3, 4, 5, 6, 7, 8, 9, 10, 1, 2, 3, 4, 5, 6, 7, 8, 9, 10, 1, 2, 3, 4, 5, 6, 7, 8, 9, 10, 1, 2, 3, 4, 5, 6, 7, 8, 9, 10, 1, 2, 3, 4, 5, 6, 7, 8, 9, 10, 1, 2, 3, 4, 5, 6, 7, 8, 9, 10, 1, 2, 3, 4, 5, 6, 7, 8, 9, 10, 1, 2, 3, 4, 5, 6, 7, 8, 9, 10, 1, 2, 3, 4, 5, 6, 7, 8, 9, 10, 1, 2, 3, 4, 5, 6, 7, 8, 9, 10, 1, 2, 3, 4, 5, 6, 7, 8, 9, 10, 1, 2, 3, 4, 5, 6, 7, 8, 9, 10, 1, 2, 3, 4, 5, 6, 7, 8, 9, 10, 1, 2, 3, 4, 5, 6, 7, 8, 9, 10, 1, 2, 3, 4, 5, 6, 7, 8, 9, 10, 1, 2, 3, 4, 5, 6, 7, 8, 9, 10, 1, 2, 3, 4, 5, 6, 7, 8, 9, 10, 1, 2, 3, 4, 5, 6, 7, 8, 9, 10, 1, 2, 3, 4, 5, 6, 7, 8, 9, 10, 1, 2, 3, 4, 5, 6, 7, 8, 9, 10, 1, 2, 3, 4, 5, 6, 7, 8, 9, 10, 1, 2, 3, 4, 5, 6, 7, 8, 9, 10, 1, 2, 3, 4, 5, 6, 7, 8, 9, 10, 1, 2, 3, 4, 5, 6, 7, 8, 9, 10, 1, 2, 3, 4, 5, 6, 7, 8, 9, 10, 1, 2, 3, 4, 5, 6, 7, 8, 9, 10, 1, 2, 3, 4, 5, 6, 7, 8, 9, 10, 1, 2, 3, 4, 5, 6, 7, 8, 9, 10, 1, 2, 3, 4, 5, 6, 7, 8, 9, 10, 1, 2, 3, 4, 5, 6, 7, 8, 9, 10, 1, 2, 3, 4, 5, 6, 7, 8, 9, 10, 1, 2, 3, 4, 5, 6, 7, 8, 9, 10, 1, 2, 3, 4, 5, 6, 7, 8, 9, 10, 1, 2, 3, 4, 5, 6, 7, 8, 9, 10, 1, 2, 3, 4, 5, 6, 7, 8, 9, 10, 1, 2, 3, 4, 5, 6, 7, 8, 9, 10, 1, 2, 3, 4, 5, 6, 7, 8, 9, 10, 1, 2, 3, 4, 5, 6, 7, 8, 9, 10, 1, 2, 3, 4, 5, 6, 7, 8, 9, 10, 1, 2, 3, 4, 5, 6, 7, 8, 9, 10, 1, 2, 3, 4, 5, 6, 7, 8, 9, 10, 1, 2, 3, 4, 5, 6, 7, 8, 9, 10, 1, 2, 3, 4, 5, 6, 7, 8, 9, 10, 1, 2, 3, 4, 5, 6, 7, 8, 9, 10, 1, 2, 3, 4, 5, 6, 7, 8, 9, 10, 1, 2, 3, 4, 5, 6, 7, 8, 9, 10, 1, 2, 3, 4, 5, 6, 7, 8, 9, 10, 1, 2, 3, 4, 5, 6, 7, 8, 9, 10, 1, 2, 3, 4, 5, 6, 7, 8, 9, 10, 1, 2, 3, 4, 5, 6, 7, 8, 9, 10, 1, 2, 3, 4, 5, 6, 7, 8, 9, 10, 1, 2, 3, 4, 5, 6, 7, 8, 9, 10, 1, 2, 3, 4, 5, 6, 7, 8, 9, 10, 1, 2, 3, 4, 5, 6, 7, 8, 9, 10, 1, 2, 3, 4, 5, 6, 7, 8, 9, 10, 1, 2, 3, 4, 5, 6, 7, 8, 9, 10, 1, 2, 3, 4, 5, 6, 7, 8, 9, 10, 1, 2, 3, 4, 5, 6, 7, 8, 9, 10, 1, 2, 3, 4, 5, 6, 7, 8, 9, 10, 1, 2, 3, 4, 5, 6, 7, 8, 9, 10, 1, 2, 3, 4, 5, 6, 7, 8, 9, 10, 1, 2, 3, 4, 5, 6, 7, 8, 9, 10, 1, 2, 3, 4, 5, 6, 7, 8, 9, 10, 1, 2, 3, 4, 5, 6, 7, 8, 9, 10, 1, 2, 3, 4, 5, 6, 7, 8, 9, 10, 1, 2, 3, 4, 5, 6, 7, 8, 9, 10, 1, 2, 3, 4, 5, 6, 7, 8, 9, 10, 1, 2, 3, 4, 5, 6, 7, 8, 9, 10, 1, 2, 3, 4, 5, 6, 7, 8, 9, 10, 1, 2, 3, 4, 5, 6, 7, 8, 9, 10, 1, 2, 3, 4, 5, 6, 7, 8, 9, 10, 1, 2, 3, 4, 5, 6, 7, 8, 9, 10, 1, 2, 3, 4, 5, 6, 7, 8, 9, 10, 1, 2, 3, 4, 5, 6, 7, 8, 9, 10, 1, 2, 3, 4, 5, 6, 7, 8, 9, 10, 1, 2, 3, 4, 5, 6, 7, 8, 9, 10, 1, 2, 3, 4, 5, 6, 7, 8, 9, 10, 1, 2, 3, 4, 5, 6, 7, 8, 9, 10, 1, 2, 3, 4, 5, 6, 7, 8, 9, 10, 1, 2, 3, 4, 5, 6, 7, 8, 9, 10, 1, 2, 3, 4, 5, 6, 7, 8, 9, 10, 1, 2, 3, 4, 5, 6, 7, 8, 9, 10, 1, 2, 3, 4, 5, 6, 7, 8, 9, 10, 1, 2, 3, 4, 5, 6, 7, 8, 9, 10, 1, 2, 3, 4, 5, 6, 7, 8, 9, 10, 1, 2, 3, 4, 5, 6, 7, 8, 9, 10, 1, 2, 3, 4, 5, 6, 7, 8, 9, 10, 1, 2, 3, 4, 5, 6, 7, 8, 9, 10, 1, 2, 3, 4, 5, 6, 7, 8, 9, 10, 1, 2, 3, 4, 5, 6, 7, 8, 9, 10, 1, 2, 3, 4, 5, 6, 7, 8, 9, 10, 1, 2, 3, 4, 5, 6, 7, 8, 9, 10, 1, 2, 3, 4, 5, 6, 7, 8, 9, 10, 1, 2, 3, 4, 5, 6, 7, 8, 9, 10, 1, 2, 3, 4, 5, 6, 7, 8, 9, 10, 1, 2, 3, 4, 5, 6, 7, 8, 9, 10, 1, 2, 3, 4, 5, 6, 7, 8, 9, 10, 1, 2, 3, 4, 5, 6, 7, 8, 9, 10, 1, 2, 3, 4, 5, 6, 7, 8, 9, 10, 1, 2, 3, 4, 5, 6, 7, 8, 9, 10, 1, 2, 3, 4, 5, 6, 7, 8, 9, 10, 1, 2, 3, 4, 5, 6, 7, 8, 9, 10, 1, 2, 3, 4, 5, 6, 7, 8, 9, 10, 1, 2, 3, 4, 5, 6, 7, 8, 9, 10, 1, 2, 3, 4, 5, 6, 7, 8, 9, 10, 1, 2, 3, 4, 5, 6, 7, 8, 9, 10, 1, 2, 3, 4, 5, 6, 7, 8, 9, 10, 1, 2, 3, 4, 5, 6, 7, 8, 9, 10, 1, 2, 3, 4, 5, 6, 7, 8, 9, 10, 1, 2, 3, 4, 5, 6, 7, 8, 9, 10, 1, 2, 3, 4, 5, 6, 7, 8, 9, 10, 1, 2, 3, 4, 5, 6, 7, 8, 9, 10, 1, 2, 3, 4, 5, 6, 7, 8, 9, 10, 1, 2, 3, 4, 5, 6, 7, 8, 9, 10, 1, 2, 3, 4, 5, 6, 7, 8, 9, 10, 1, 2, 3, 4, 5, 6, 7, 8, 9, 10, 1, 2, 3, 4, 5, 6, 7, 8, 9, 10, 1, 2, 3, 4, 5, 6, 7, 8, 9, 10, 1, 2, 3, 4, 5, 6, 7, 8, 9, 10, 1, 2, 3, 4, 5, 6, 7, 8, 9, 10, 1, 2, 3, 4, 5, 6, 7, 8, 9, 10, 1, 2, 3, 4, 5, 6, 7, 8, 9, 10, 1, 2, 3, 4, 5, 6, 7, 8, 9, 10, 1, 2, 3, 4, 5, 6, 7, 8, 9, 10, 1, 2, 3, 4, 5, 6, 7, 8, 9, 10, 1, 2, 3, 4, 5, 6, 7, 8, 9, 10, 1, 2, 3, 4, 5, 6, 7, 8, 9, 10, 1, 2, 3, 4, 5, 6, 7, 8, 9, 10, 1, 2, 3, 4, 5, 6, 7, 8, 9, 10, 1, 2, 3, 4, 5, 6, 7, 8, 9, 10, 1, 2, 3, 4, 5, 6, 7, 8, 9, 10, 1, 2, 3, 4, 5, 6, 7, 8, 9, 10, 1, 2, 3, 4, 5, 6, 7, 8, 9, 10, 1, 2, 3, 4, 5, 6, 7, 8, 9, 10, 1, 2, 3, 4, 5, 6, 7, 8, 9, 10, 1, 2, 3, 4, 5, 6, 7, 8, 9, 10, 1, 2, 3, 4, 5, 6, 7, 8, 9, 10, 1, 2, 3, 4, 5, 6, 7, 8, 9, 10, 1, 2, 3, 4, 5, 6, 7, 8, 9, 10, 1, 2, 3, 4, 5, 6, 7, 8, 9, 10, 1, 2, 3, 4, 5, 6, 7, 8, 9, 10, 1, 2, 3, 4, 5, 6, 7, 8, 9, 10, 1, 2, 3, 4, 5, 6, 7, 8, 9, 10, 1, 2, 3, 4, 5, 6, 7, 8, 9, 10, 1, 2, 3, 4, 5, 6, 7, 8, 9, 10, 1, 2, 3, 4, 5, 6, 7, 8, 9, 10, 1, 2, 3, 4, 5, 6, 7, 8, 9, 10, 1, 2, 3, 4, 5, 6, 7, 8, 9, 10, 1, 2, 3, 4, 5, 6, 7, 8, 9, 10, 1, 2, 3, 4, 5, 6, 7, 8, 9, 10, 1, 2, 3, 4, 5, 6, 7, 8, 9, 10, 1, 2, 3, 4, 5, 6, 7, 8, 9, 10, 1, 2, 3, 4, 5, 6, 7, 8, 9, 10, 1, 2, 3, 4, 5, 6, 7, 8, 9, 10, 1, 2, 3, 4, 5, 6, 7, 8, 9, 10, 1, 2, 3, 4, 5, 6, 7, 8, 9, 10, 1, 2, 3, 4, 5, 6, 7, 8, 9, 10, 1, 2, 3, 4, 5, 6, 7, 8, 9, 10, 1, 2, 3, 4, 5, 6, 7, 8, 9, 10, 1, 2, 3, 4, 5, 6, 7, 8, 9, 10, 1, 2, 3, 4, 5, 6, 7, 8, 9, 10, 1, 2, 3, 4, 5, 6, 7, 8, 9, 10, 1, 2, 3, 4, 5, 6, 7, 8, 9, 10, 1, 2, 3, 4, 5, 6, 7, 8, 9, 10, 1, 2, 3, 4, 5, 6, 7, 8, 9, 10, 1, 2, 3, 4, 5, 6, 7, 8, 9, 10, 1, 2, 3, 4, 5, 6, 7, 8, 9, 10, 1, 2, 3, 4, 5, 6, 7, 8, 9, 10, 1, 2, 3, 4, 5, 6, 7, 8, 9, 10, 1, 2, 3, 4, 5, 6, 7, 8, 9, 10, 1, 2, 3, 4, 5, 6, 7, 8, 9, 10, 1, 2, 3, 4, 5, 6, 7, 8, 9, 10, 1, 2, 3, 4, 5, 6, 7, 8, 9, 10, 1, 2, 3, 4, 5, 6, 7, 8, 9, 10, 1, 2, 3, 4, 5, 6, 7, 8, 9, 10, 1, 2, 3, 4, 5, 6, 7, 8, 9, 10, 1, 2, 3, 4, 5, 6, 7, 8, 9, 10, 1, 2, 3, 4, 5, 6, 7, 8, 9, 10, 1, 2, 3, 4, 5, 6, 7, 8, 9, 10, 1, 2, 3, 4, 5, 6, 7, 8, 9, 10, 1, 2, 3, 4, 5, 6, 7, 8, 9, 10, 1, 2, 3, 4, 5, 6, 7, 8, 9, 10, 1, 2, 3, 4, 5, 6, 7, 8, 9, 10, 1, 2, 3, 4, 5, 6, 7, 8, 9, 10, 1, 2, 3, 4, 5, 6, 7, 8, 9, 10, 1, 2, 3, 4, 5, 6, 7, 8, 9, 10, 1, 2, 3, 4, 5, 6, 7, 8, 9, 10, 1, 2, 3, 4, 5, 6, 7, 8, 9, 10, 1, 2, 3, 4, 5, 6, 7, 8, 9, 10, 1, 2, 3, 4, 5, 6, 7, 8, 9, 10, 1, 2, 3, 4, 5, 6, 7, 8, 9, 10, 1, 2, 3, 4, 5, 6, 7, 8, 9, 10, 1, 2, 3, 4, 5, 6, 7, 8, 9, 10, 1, 2, 3, 4, 5, 6, 7, 8, 9, 10, 1, 2, 3, 4, 5, 6, 7, 8, 9, 10, 1, 2, 3, 4, 5, 6, 7, 8, 9, 10, 1, 2, 3, 4, 5, 6, 7, 8, 9, 10, 1, 2, 3, 4, 5, 6, 7, 8, 9, 10, 1, 2, 3, 4, 5, 6, 7, 8, 9, 10, 1, 2, 3, 4, 5, 6, 7, 8, 9, 10, 1, 2, 3, 4, 5, 6, 7, 8, 9, 10, 1, 2, 3, 4, 5, 6, 7, 8, 9, 10, 1, 2, 3, 4, 5, 6, 7, 8, 9, 10, 1, 2, 3, 4, 5, 6, 7, 8, 9, 10, 1, 2, 3, 4, 5, 6, 7, 8, 9, 10, 1, 2, 3, 4, 5, 6, 7, 8, 9, 10, 1, 2, 3, 4, 5, 6, 7, 8, 9, 10, 1, 2, 3, 4, 5, 6, 7, 8, 9, 10, 1, 2, 3, 4, 5, 6, 7, 8, 9, 10, 1, 2, 3, 4, 5, 6, 7, 8, 9, 10, 1, 2, 3, 4, 5, 6, 7, 8, 9, 10, 1, 2, 3, 4, 5, 6, 7, 8, 9, 10, 1, 2, 3, 4, 5, 6, 7, 8, 9, 10, 1, 2, 3, 4, 5, 6, 7, 8, 9, 10, 1, 2, 3, 4, 5, 6, 7, 8, 9, 10, 1, 2, 3, 4, 5, 6, 7, 8, 9, 10, 1, 2, 3, 4, 5, 6, 7, 8, 9, 10, 1, 2, 3, 4, 5, 6, 7, 8, 9, 10, 1, 2, 3, 4, 5, 6, 7, 8, 9, 10, 1, 2, 3, 4, 5, 6, 7, 8, 9, 10, 1, 2, 3, 4, 5, 6, 7, 8, 9, 10, 1, 2, 3, 4, 5, 6, 7, 8, 9, 10, 1, 2, 3, 4, 5, 6, 7, 8, 9, 10, 1, 2, 3, 4, 5, 6, 7, 8, 9, 10, 1, 2, 3, 4, 5, 6, 7, 8, 9, 10, 1, 2, 3, 4, 5, 6, 7, 8, 9, 10, 1, 2, 3, 4, 5, 6, 7, 8, 9, 10, 1, 2, 3, 4, 5, 6, 7, 8, 9, 10, 1, 2, 3, 4, 5, 6, 7, 8, 9, 10, 1, 2, 3, 4, 5, 6, 7, 8, 9, 10, 1, 2, 3, 4, 5, 6, 7, 8, 9, 10, 1, 2, 3, 4, 5, 6, 7, 8, 9, 10, 1, 2, 3, 4, 5, 6, 7, 8, 9, 10, 1, 2, 3, 4, 5, 6, 7, 8, 9, 10, 1, 2, 3, 4, 5, 6, 7, 8, 9, 10, 1, 2, 3, 4, 5, 6, 7, 8, 9, 10, 1, 2, 3, 4, 5, 6, 7, 8, 9, 10, 1, 2, 3, 4, 5, 6, 7, 8, 9, 10, 1, 2, 3, 4, 5, 6, 7, 8, 9, 10, 1, 2, 3, 4, 5, 6, 7, 8, 9, 10, 1, 2, 3, 4, 5, 6, 7, 8, 9, 10, 1, 2, 3, 4, 5, 6, 7, 8, 9, 10, 1, 2, 3, 4, 5, 6, 7, 8, 9, 10, 1, 2, 3, 4, 5, 6, 7, 8, 9, 10, 1, 2, 3, 4, 5, 6, 7, 8, 9, 10, 1, 2, 3, 4, 5, 6, 7, 8, 9, 10, 1, 2, 3, 4, 5, 6, 7, 8, 9, 10, 1, 2, 3, 4, 5, 6, 7, 8, 9, 10, 1, 2, 3, 4, 5, 6, 7, 8, 9, 10, 1, 2, 3, 4, 5, 6, 7, 8, 9, 10, 1, 2, 3, 4, 5, 6, 7, 8, 9, 10, 1, 2, 3, 4, 5, 6, 7, 8, 9, 10, 1, 2, 3, 4, 5, 6, 7, 8, 9, 10, 1, 2, 3, 4, 5, 6, 7, 8, 9, 10, 1, 2, 3, 4, 5, 6, 7, 8, 9, 10, 1, 2, 3, 4, 5, 6, 7, 8, 9, 10, 1, 2, 3, 4, 5, 6, 7, 8, 9, 10, 1, 2, 3, 4, 5, 6, 7, 8, 9, 10, 1, 2, 3, 4, 5, 6, 7, 8, 9, 10, 1, 2, 3, 4, 5, 6, 7, 8, 9, 10, 1, 2, 3, 4, 5, 6, 7, 8, 9, 10, 1, 2, 3, 4, 5, 6, 7, 8, 9, 10, 1, 2, 3, 4, 5, 6, 7, 8, 9, 10, 1, 2, 3, 4, 5, 6, 7, 8, 9, 10, 1, 2, 3, 4, 5, 6, 7, 8, 9, 10, 1, 2, 3, 4, 5, 6, 7, 8, 9, 10, 1, 2, 3, 4, 5, 6, 7, 8, 9, 10, 1, 2, 3, 4, 5, 6, 7, 8, 9, 10, 1, 2, 3, 4, 5, 6, 7, 8, 9, 10, 1, 2, 3, 4, 5, 6, 7, 8, 9, 10, 1, 2, 3, 4, 5, 6, 7, 8, 9, 10, 1, 2, 3, 4, 5, 6, 7, 8, 9, 10, 1, 2, 3, 4, 5, 6, 7, 8, 9, 10, 1, 2, 3, 4, 5, 6, 7, 8, 9, 10, 1, 2, 3, 4, 5, 6, 7, 8, 9, 10, 1, 2, 3, 4, 5, 6, 7, 8, 9, 10, 1, 2, 3, 4, 5, 6, 7, 8, 9, 10, 1, 2, 3, 4, 5, 6, 7, 8, 9, 10, 1, 2, 3, 4, 5, 6, 7, 8, 9, 10, 1, 2, 3, 4, 5, 6, 7, 8, 9, 10, 1, 2, 3, 4, 5, 6, 7, 8, 9, 10, 1, 2, 3, 4, 5, 6, 7, 8, 9, 10, 1, 2, 3, 4, 5, 6, 7, 8, 9, 10, 1, 2, 3, 4, 5, 6, 7, 8, 9, 10, 1, 2, 3, 4, 5, 6, 7, 8, 9, 10, 1, 2, 3, 4, 5, 6, 7, 8, 9, 10, 1, 2, 3, 4, 5, 6, 7, 8, 9, 10, 1, 2, 3, 4, 5, 6, 7, 8, 9, 10, 1, 2, 3, 4, 5, 6, 7, 8, 9, 10, 1, 2, 3, 4, 5, 6, 7, 8, 9, 10, 1, 2, 3, 4, 5, 6, 7, 8, 9, 10, 1, 2, 3, 4, 5, 6, 7, 8, 9, 10, 1, 2, 3, 4, 5, 6, 7, 8, 9, 10, 1, 2, 3, 4, 5, 6, 7, 8, 9, 10, 1, 2, 3, 4, 5, 6, 7, 8, 9, 10, 1, 2, 3, 4, 5, 6, 7, 8, 9, 10, 1, 2, 3, 4, 5, 6, 7, 8, 9, 10, 1, 2, 3, 4, 5, 6, 7, 8, 9, 10, 1, 2, 3, 4, 5, 6, 7, 8, 9, 10, 1, 2, 3, 4, 5, 6, 7, 8, 9, 10, 1, 2, 3, 4, 5, 6, 7, 8, 9, 10, 1, 2, 3, 4, 5, 6, 7, 8, 9, 10, 1, 2, 3, 4, 5, 6, 7, 8, 9, 10, 1, 2, 3, 4, 5, 6, 7, 8, 9, 10, 1, 2, 3, 4, 5, 6, 7, 8, 9, 10], \"Freq\": [0.0002719470898148924, 0.0002719470898148924, 0.997841859303294, 0.0002719470898148924, 0.0002719470898148924, 0.00020396031736116932, 0.00020396031736116932, 0.0002719470898148924, 0.00020396031736116932, 0.00020396031736116932, 0.003589012361041051, 0.003589012361041051, 0.002691759270780788, 0.003589012361041051, 0.003589012361041051, 0.002691759270780788, 0.002691759270780788, 0.003589012361041051, 0.002691759270780788, 0.9708278436616044, 0.5214177622584354, 0.005504378900723066, 0.47220405504546165, 0.0001302811574135637, 0.0001302811574135637, 9.771086806017279e-05, 0.00016285144676695464, 0.0001302811574135637, 9.771086806017279e-05, 9.771086806017279e-05, 0.9549470276709786, 0.043784096626716125, 0.00013611636257010193, 0.0001814884834268026, 0.0001814884834268026, 0.00013611636257010193, 0.00013611636257010193, 0.0001814884834268026, 0.00013611636257010193, 0.00013611636257010193, 0.0021849558233985973, 0.0021849558233985973, 0.001638716867548948, 0.982683881573519, 0.0021849558233985973, 0.001638716867548948, 0.001638716867548948, 0.0021849558233985973, 0.001638716867548948, 0.001638716867548948, 0.997039908696376, 0.0003710606284690644, 0.00027829547135179827, 0.0003710606284690644, 0.0003710606284690644, 0.00027829547135179827, 0.00027829547135179827, 0.0003710606284690644, 0.00027829547135179827, 0.00027829547135179827, 0.0006733664540530159, 0.9947305942498178, 0.000505024840539762, 0.0006733664540530159, 0.0006733664540530159, 0.000505024840539762, 0.000505024840539762, 0.0006733664540530159, 0.000505024840539762, 0.000505024840539762, 0.00042263453449255944, 0.00042263453449255944, 0.0003169759008694196, 0.00042263453449255944, 0.00042263453449255944, 0.9965722323334552, 0.0003169759008694196, 0.00042263453449255944, 0.0003169759008694196, 0.0003169759008694196, 0.9971483831114485, 0.00035998136574420526, 0.00026998602430815396, 0.00035998136574420526, 0.00035998136574420526, 0.00026998602430815396, 0.00026998602430815396, 0.00035998136574420526, 0.00026998602430815396, 0.00026998602430815396, 0.2090966821186356, 0.38830009013114497, 3.1247324849609303e-05, 0.12692663353911302, 4.1663099799479076e-05, 3.1247324849609303e-05, 3.1247324849609303e-05, 4.1663099799479076e-05, 0.27545558432425593, 3.1247324849609303e-05, 0.001718980746571312, 0.001718980746571312, 0.0012892355599284841, 0.001718980746571312, 0.001718980746571312, 0.0012892355599284841, 0.0012892355599284841, 0.001718980746571312, 0.9862652033452903, 0.0012892355599284841, 0.0005278510075961327, 0.0005278510075961327, 0.09804832466098164, 0.0005278510075961327, 0.0005278510075961327, 0.0003958882556970995, 0.8981384894248197, 0.0005278510075961327, 0.0003958882556970995, 0.0003958882556970995, 0.9972622456898909, 0.00034899816122130914, 0.00026174862091598184, 0.00034899816122130914, 0.00034899816122130914, 0.00026174862091598184, 0.00026174862091598184, 0.00034899816122130914, 0.00026174862091598184, 0.00026174862091598184, 0.00022708808969747988, 0.0003406321345462198, 0.0001703160672731099, 0.00022708808969747988, 0.998052154220424, 0.0001703160672731099, 0.0001703160672731099, 0.00022708808969747988, 0.0001703160672731099, 0.0001703160672731099, 0.0018963831249144973, 0.0018963831249144973, 0.0014222873436858729, 0.9846969376118527, 0.0018963831249144973, 0.0014222873436858729, 0.0014222873436858729, 0.0018963831249144973, 0.0014222873436858729, 0.0014222873436858729, 0.0007913937380833047, 0.9937926865981099, 0.0005935453035624785, 0.0007913937380833047, 0.0007913937380833047, 0.0005935453035624785, 0.0005935453035624785, 0.0007913937380833047, 0.0005935453035624785, 0.0005935453035624785, 0.001639595955216075, 0.001639595955216075, 0.0012296969664120562, 0.001639595955216075, 0.001639595955216075, 0.0012296969664120562, 0.0012296969664120562, 0.001639595955216075, 0.0012296969664120562, 0.9870367650400772, 0.0002396836886562109, 0.9982825632531184, 0.00014381021319372653, 0.0001917469509249687, 0.0001917469509249687, 0.00014381021319372653, 0.00014381021319372653, 0.0001917469509249687, 0.00014381021319372653, 0.00028762042638745306, 0.47784020324692444, 0.33553361404545023, 4.832689241616739e-05, 0.18623573440777041, 6.443585655488986e-05, 4.832689241616739e-05, 4.832689241616739e-05, 6.443585655488986e-05, 4.832689241616739e-05, 4.832689241616739e-05, 0.4790440541710399, 0.14789330953372903, 0.00011494298668424536, 0.32103576180909726, 0.04160936117969682, 0.00011494298668424536, 0.00011494298668424536, 0.0001532573155789938, 0.009731839539266107, 0.00011494298668424536, 0.0004730776408894316, 0.0004730776408894316, 0.9874313059464661, 0.0004730776408894316, 0.0004730776408894316, 0.009106744587121558, 0.00035480823066707373, 0.0004730776408894316, 0.00035480823066707373, 0.00035480823066707373, 0.0031558072585400917, 0.0031558072585400917, 0.0023668554439050687, 0.0031558072585400917, 0.0031558072585400917, 0.0023668554439050687, 0.0023668554439050687, 0.0031558072585400917, 0.0023668554439050687, 0.9743554910742532, 0.0010064654281549787, 0.0800140015383208, 0.000754849071116234, 0.0010064654281549787, 0.0010064654281549787, 0.000754849071116234, 0.9128641433365656, 0.0010064654281549787, 0.000754849071116234, 0.000754849071116234, 0.0006549268586449921, 0.1308216400143372, 0.0456811483904882, 0.8194772318795465, 0.0006549268586449921, 0.0004911951439837441, 0.0004911951439837441, 0.0006549268586449921, 0.0004911951439837441, 0.0004911951439837441, 0.003004350271349165, 0.003004350271349165, 0.0022532627035118736, 0.003004350271349165, 0.003004350271349165, 0.0022532627035118736, 0.0022532627035118736, 0.003004350271349165, 0.9756627506206413, 0.0022532627035118736, 0.0033970398129782513, 0.0033970398129782513, 0.0025477798597336883, 0.0033970398129782513, 0.0033970398129782513, 0.0025477798597336883, 0.0025477798597336883, 0.0033970398129782513, 0.0025477798597336883, 0.9724026464650244, 0.998480056739893, 0.0001922649702478974, 0.00014419872768592302, 0.0001922649702478974, 0.0001922649702478974, 0.00014419872768592302, 0.00014419872768592302, 0.0001922649702478974, 0.00014419872768592302, 0.00014419872768592302, 0.0006375331382067962, 0.9950298454562572, 0.00047814985365509716, 0.0006375331382067962, 0.0006375331382067962, 0.00047814985365509716, 0.00047814985365509716, 0.0006375331382067962, 0.00047814985365509716, 0.00047814985365509716, 0.0004314153867017754, 0.0004314153867017754, 0.00032356154002633153, 0.0004314153867017754, 0.0004314153867017754, 0.00032356154002633153, 0.00032356154002633153, 0.9965695432811011, 0.00032356154002633153, 0.00032356154002633153, 0.674927939245278, 0.14728882669545917, 0.17530494803063099, 5.185769798273362e-05, 5.185769798273362e-05, 0.0022039521642661787, 3.8893273487050215e-05, 5.185769798273362e-05, 3.8893273487050215e-05, 3.8893273487050215e-05, 0.8064010071730033, 0.17201647388628394, 0.0027361522289542136, 0.009847370204713388, 0.002263922910251456, 0.00652787587618518, 4.166729282671391e-05, 5.555639043561855e-05, 4.166729282671391e-05, 4.166729282671391e-05, 0.000862279682517235, 0.000862279682517235, 0.0006467097618879262, 0.000862279682517235, 0.000862279682517235, 0.0006467097618879262, 0.9931306243392253, 0.000862279682517235, 0.0006467097618879262, 0.0006467097618879262, 0.001040947665095499, 0.001040947665095499, 0.0007807107488216243, 0.001040947665095499, 0.001040947665095499, 0.9917628879197368, 0.0007807107488216243, 0.001040947665095499, 0.0007807107488216243, 0.0007807107488216243, 0.001573700924129181, 0.001573700924129181, 0.0011802756930968858, 0.001573700924129181, 0.9874973298910612, 0.0011802756930968858, 0.0011802756930968858, 0.001573700924129181, 0.0011802756930968858, 0.0011802756930968858, 0.0008236434458221779, 0.0008236434458221779, 0.9933139956615465, 0.0008236434458221779, 0.0008236434458221779, 0.0006177325843666334, 0.0006177325843666334, 0.0008236434458221779, 0.0006177325843666334, 0.0006177325843666334, 0.8992275313104577, 0.07195981629229628, 7.047974171625492e-05, 9.397298895500656e-05, 9.397298895500656e-05, 0.02821538993374072, 7.047974171625492e-05, 0.0001174662361937582, 7.047974171625492e-05, 7.047974171625492e-05, 0.9983783430761067, 0.00020240817903215545, 0.00015180613427411658, 0.00020240817903215545, 0.00020240817903215545, 0.00015180613427411658, 0.00015180613427411658, 0.00020240817903215545, 0.00015180613427411658, 0.00015180613427411658, 0.8157636709564408, 0.0002386844183911757, 0.00017901331379338177, 0.0002386844183911757, 0.02189929538739037, 0.00017901331379338177, 0.00017901331379338177, 0.0002386844183911757, 0.16081362689105463, 0.00017901331379338177, 0.9983582017231316, 0.00020870872827911187, 0.0001565315462093339, 0.00020870872827911187, 0.00020870872827911187, 0.0001565315462093339, 0.0001565315462093339, 0.00020870872827911187, 0.0001565315462093339, 0.0001565315462093339, 0.9985042518049742, 0.0001880245272205958, 0.00014101839541544686, 0.0001880245272205958, 0.0001880245272205958, 0.00014101839541544686, 0.00014101839541544686, 0.0001880245272205958, 0.00014101839541544686, 0.00014101839541544686, 0.0008436240266417074, 0.9933672913706103, 0.0006327180199812805, 0.0008436240266417074, 0.0008436240266417074, 0.0006327180199812805, 0.0006327180199812805, 0.0008436240266417074, 0.0006327180199812805, 0.0006327180199812805, 0.0008630218200455849, 0.9931223594174569, 0.0006472663650341887, 0.0008630218200455849, 0.0008630218200455849, 0.0006472663650341887, 0.0006472663650341887, 0.0008630218200455849, 0.0006472663650341887, 0.0006472663650341887, 0.2024824871471579, 0.003985875731243265, 0.25370099029363385, 0.0003985875731243266, 0.178168645186574, 0.00029894067984324494, 0.3599245785312669, 0.0003985875731243266, 0.00029894067984324494, 0.00029894067984324494, 0.4863828591464841, 0.24256889164452444, 0.021467517606424093, 0.1285440413458565, 0.12069203069654705, 0.00010040934334155329, 6.0245606004931976e-05, 8.032747467324263e-05, 6.0245606004931976e-05, 6.0245606004931976e-05, 0.28061616906040754, 0.007761918115891521, 6.848751278727812e-05, 0.7103981409715069, 9.131668371637084e-05, 6.848751278727812e-05, 0.0007533626406600593, 9.131668371637084e-05, 6.848751278727812e-05, 6.848751278727812e-05, 0.3209570927782988, 0.000302932602905426, 0.001817595617432556, 0.6753125050269209, 0.000302932602905426, 0.0002271994521790695, 0.0002271994521790695, 0.000302932602905426, 0.0002271994521790695, 0.0002271994521790695, 0.0005030029935982787, 0.01571884354994621, 0.9807300867682439, 0.0005030029935982787, 0.0005030029935982787, 0.000377252245198709, 0.000377252245198709, 0.0005030029935982787, 0.000377252245198709, 0.000377252245198709, 0.008245025587939986, 0.9894839041369939, 0.0002425007525864702, 0.0003233343367819603, 0.0003233343367819603, 0.0002425007525864702, 0.0002425007525864702, 0.0003233343367819603, 0.0002425007525864702, 0.0002425007525864702, 0.9973784881687462, 0.000328598464103038, 0.0002464488480772785, 0.000328598464103038, 0.000328598464103038, 0.0002464488480772785, 0.0002464488480772785, 0.000328598464103038, 0.0002464488480772785, 0.0002464488480772785, 0.001802404182834421, 0.001802404182834421, 0.0013518031371258156, 0.001802404182834421, 0.001802404182834421, 0.0013518031371258156, 0.0013518031371258156, 0.001802404182834421, 0.9854644869647197, 0.0013518031371258156, 0.001181964407197948, 0.39408663276658257, 0.002265431780462734, 0.0003939881357326494, 0.6004379188565576, 0.000295491101799487, 0.000295491101799487, 0.0003939881357326494, 0.000295491101799487, 0.000295491101799487, 0.001047493737563908, 0.001047493737563908, 0.9917146960386298, 0.001047493737563908, 0.001047493737563908, 0.0007856203031729309, 0.0007856203031729309, 0.001047493737563908, 0.0007856203031729309, 0.0007856203031729309, 0.0013285171432696587, 0.0013285171432696587, 0.000996387857452244, 0.0013285171432696587, 0.0013285171432696587, 0.000996387857452244, 0.000996387857452244, 0.9894131424500784, 0.000996387857452244, 0.000996387857452244, 0.0015141929846466807, 0.0015141929846466807, 0.0011356447384850104, 0.0015141929846466807, 0.9880109224819591, 0.0011356447384850104, 0.0011356447384850104, 0.0015141929846466807, 0.0011356447384850104, 0.0011356447384850104, 0.0002825899105148769, 0.0002260719284119015, 0.9981075639385452, 0.0002260719284119015, 0.0002260719284119015, 0.0002260719284119015, 0.00016955394630892613, 0.0002260719284119015, 0.00016955394630892613, 0.00016955394630892613, 0.5949321958937065, 0.3082444051447234, 0.005009635739855145, 0.08951561236165405, 0.002087348224939644, 3.795178590799352e-05, 5.0602381210658026e-05, 5.0602381210658026e-05, 3.795178590799352e-05, 3.795178590799352e-05, 0.00038852707914876084, 0.00038852707914876084, 0.9968633533259331, 0.00038852707914876084, 0.00038852707914876084, 0.00029139530936157066, 0.00029139530936157066, 0.00038852707914876084, 0.00029139530936157066, 0.00029139530936157066, 0.0016224330971966224, 0.0016224330971966224, 0.0012168248228974668, 0.0016224330971966224, 0.0016224330971966224, 0.44779153482626777, 0.0012168248228974668, 0.0016224330971966224, 0.0012168248228974668, 0.5406758296407744, 0.27772616018058166, 0.0004830020177053594, 0.00036225151327901956, 0.7189485033544274, 0.0004830020177053594, 0.00036225151327901956, 0.00036225151327901956, 0.0004830020177053594, 0.00036225151327901956, 0.00036225151327901956, 0.47161118564960347, 0.0003084442025177263, 0.002210516784710372, 0.5248178105839112, 0.00020562946834515083, 0.00015422210125886314, 0.00015422210125886314, 0.00020562946834515083, 0.00015422210125886314, 0.00015422210125886314, 0.0012387589543581866, 0.0012387589543581866, 0.0009290692157686399, 0.0012387589543581866, 0.9900780942707805, 0.0009290692157686399, 0.0009290692157686399, 0.0012387589543581866, 0.0009290692157686399, 0.0009290692157686399, 0.00032015603595854565, 0.00032015603595854565, 0.00024011702696890926, 0.00032015603595854565, 0.9974461300288491, 0.00024011702696890926, 0.00024011702696890926, 0.00032015603595854565, 0.00024011702696890926, 0.00024011702696890926, 0.17802475441276638, 0.3974363100735155, 0.000263610199031737, 0.00035148026537564934, 0.00035148026537564934, 0.062036266838802104, 0.000263610199031737, 0.00035148026537564934, 0.3606187522754162, 0.000263610199031737, 0.0005908191160824167, 0.0005908191160824167, 0.00044311433706181253, 0.0005908191160824167, 0.0005908191160824167, 0.00044311433706181253, 0.995234801040831, 0.0005908191160824167, 0.00044311433706181253, 0.00044311433706181253, 0.0009662132417225315, 0.0009662132417225315, 0.0007246599312918986, 0.0009662132417225315, 0.0009662132417225315, 0.0007246599312918986, 0.0007246599312918986, 0.0009662132417225315, 0.0007246599312918986, 0.9923009992490398, 0.0008658807978777415, 0.0008658807978777415, 0.0006494105984083062, 0.9931652751657696, 0.0008658807978777415, 0.0006494105984083062, 0.0006494105984083062, 0.0008658807978777415, 0.0006494105984083062, 0.0006494105984083062, 0.0011346805746212422, 0.0011346805746212422, 0.0008510104309659317, 0.0011346805746212422, 0.0011346805746212422, 0.0008510104309659317, 0.0008510104309659317, 0.9911434819316551, 0.0008510104309659317, 0.0008510104309659317, 0.00019301585671641582, 0.9984710267940191, 0.00014476189253731189, 0.00019301585671641582, 0.00019301585671641582, 0.00014476189253731189, 0.00014476189253731189, 0.00019301585671641582, 0.00014476189253731189, 0.00014476189253731189, 0.0002902224474263421, 0.9966238844620589, 0.00021766683556975657, 0.0002902224474263421, 0.0002902224474263421, 0.00021766683556975657, 0.00021766683556975657, 0.0013060010134185395, 0.00021766683556975657, 0.00021766683556975657, 0.001189121949533633, 0.001189121949533633, 0.0008918414621502247, 0.001189121949533633, 0.001189121949533633, 0.0008918414621502247, 0.0008918414621502247, 0.9905385839615162, 0.0008918414621502247, 0.0008918414621502247, 0.001371011792287184, 0.001371011792287184, 0.0010282588442153881, 0.9891850081352034, 0.001371011792287184, 0.0010282588442153881, 0.0010282588442153881, 0.001371011792287184, 0.0010282588442153881, 0.0010282588442153881, 0.00044947187813174793, 0.00044947187813174793, 0.00033710390859881094, 0.00044947187813174793, 0.00044947187813174793, 0.00044947187813174793, 0.00033710390859881094, 0.9963667858485522, 0.00033710390859881094, 0.00033710390859881094, 0.0007501385753886502, 0.9941211470338087, 0.0005626039315414877, 0.0007501385753886502, 0.0007501385753886502, 0.0005626039315414877, 0.0005626039315414877, 0.0007501385753886502, 0.0005626039315414877, 0.0005626039315414877, 0.0014294994133056012, 0.0014294994133056012, 0.0010721245599792009, 0.9884988443008231, 0.0014294994133056012, 0.0010721245599792009, 0.0010721245599792009, 0.0014294994133056012, 0.0010721245599792009, 0.0010721245599792009, 0.00023705319046678667, 0.00023705319046678667, 0.00017778989285009, 0.9981124584604053, 0.00023705319046678667, 0.00017778989285009, 0.00017778989285009, 0.00023705319046678667, 0.00017778989285009, 0.00017778989285009, 0.0010279815639286007, 0.0010279815639286007, 0.0007709861729464505, 0.0010279815639286007, 0.0010279815639286007, 0.0007709861729464505, 0.0007709861729464505, 0.0010279815639286007, 0.9917452138001175, 0.0007709861729464505, 0.0013429368463272326, 0.0013429368463272326, 0.0010072026347454244, 0.0013429368463272326, 0.9894087215315887, 0.0010072026347454244, 0.0010072026347454244, 0.0013429368463272326, 0.0010072026347454244, 0.0010072026347454244, 0.0005431891325905124, 0.9955298827552614, 0.00040739184944288425, 0.0005431891325905124, 0.0005431891325905124, 0.00040739184944288425, 0.00040739184944288425, 0.0006789864157381404, 0.00040739184944288425, 0.00040739184944288425, 0.000679895725668118, 0.001359791451336236, 0.0005099217942510884, 0.000679895725668118, 0.000679895725668118, 0.9938375769953713, 0.0005099217942510884, 0.000679895725668118, 0.0005099217942510884, 0.0005099217942510884, 0.00014527364995917062, 0.6597239628770836, 0.33925029106715315, 0.00014527364995917062, 0.00014527364995917062, 0.00010895523746937796, 0.00010895523746937796, 0.00014527364995917062, 0.00010895523746937796, 0.00010895523746937796, 0.000779747320636638, 0.000779747320636638, 0.0005848104904774785, 0.000779747320636638, 0.9937879601513951, 0.0005848104904774785, 0.0005848104904774785, 0.000779747320636638, 0.0005848104904774785, 0.0005848104904774785, 0.00044327619544635814, 0.9514923535256078, 0.0003324571465847686, 0.00044327619544635814, 0.04543581003325171, 0.0003324571465847686, 0.0003324571465847686, 0.00044327619544635814, 0.0003324571465847686, 0.0003324571465847686, 0.00039496261621755485, 0.00039496261621755485, 0.00029622196216316614, 0.9968856433331084, 0.00039496261621755485, 0.00029622196216316614, 0.00029622196216316614, 0.00039496261621755485, 0.00029622196216316614, 0.00029622196216316614, 0.00010419965875531639, 0.00010419965875531639, 7.81497440664873e-05, 0.891532280310487, 0.00010419965875531639, 0.10771639723830832, 7.81497440664873e-05, 0.00010419965875531639, 7.81497440664873e-05, 7.81497440664873e-05, 0.727172611710034, 7.068163022064872e-05, 5.301122266548654e-05, 0.2723363212401595, 7.068163022064872e-05, 5.301122266548654e-05, 5.301122266548654e-05, 7.068163022064872e-05, 5.301122266548654e-05, 5.301122266548654e-05, 0.0006170698261798259, 0.0006170698261798259, 0.0004628023696348694, 0.0006170698261798259, 0.0006170698261798259, 0.0004628023696348694, 0.0004628023696348694, 0.9951793621715141, 0.0004628023696348694, 0.0004628023696348694, 0.9979805057275475, 0.00025597448046875215, 0.00019198086035156412, 0.00025597448046875215, 0.00025597448046875215, 0.00019198086035156412, 0.00019198086035156412, 0.00025597448046875215, 0.00019198086035156412, 0.00019198086035156412, 0.3127811961922811, 0.0002531104156927219, 0.00018983281176954142, 0.0002531104156927219, 0.0002531104156927219, 0.00018983281176954142, 0.685423005695891, 0.0002531104156927219, 0.00018983281176954142, 0.00018983281176954142, 0.9998464575756899, 1.926996955023132e-05, 1.4452477162673492e-05, 1.926996955023132e-05, 1.926996955023132e-05, 1.4452477162673492e-05, 1.4452477162673492e-05, 1.926996955023132e-05, 1.4452477162673492e-05, 1.4452477162673492e-05, 0.9976977338514044, 0.000287169240512745, 0.00021537693038455876, 0.000287169240512745, 0.000287169240512745, 0.00021537693038455876, 0.00021537693038455876, 0.000287169240512745, 0.00021537693038455876, 0.00021537693038455876, 0.0014949775073445214, 0.0014949775073445214, 0.0011212331305083911, 0.0014949775073445214, 0.0014949775073445214, 0.9878063879778926, 0.0011212331305083911, 0.0014949775073445214, 0.0011212331305083911, 0.0011212331305083911, 0.00020116783571000148, 0.00020116783571000148, 0.0001508758767825011, 0.00020116783571000148, 0.00020116783571000148, 0.0001508758767825011, 0.0001508758767825011, 0.00020116783571000148, 0.9983959686287373, 0.0001508758767825011, 0.33622025041224346, 0.3188089461939076, 0.0001706990609640769, 0.00022759874795210251, 0.34361720972068677, 0.0001706990609640769, 0.0001706990609640769, 0.00022759874795210251, 0.0001706990609640769, 0.0001706990609640769, 0.0009156354992715105, 0.0009156354992715105, 0.0006867266244536328, 0.0009156354992715105, 0.0009156354992715105, 0.0006867266244536328, 0.0006867266244536328, 0.9927777900851352, 0.0006867266244536328, 0.0006867266244536328, 0.0030471702859553584, 0.0030471702859553584, 0.002285377714466519, 0.0030471702859553584, 0.0030471702859553584, 0.002285377714466519, 0.002285377714466519, 0.0030471702859553584, 0.002285377714466519, 0.9758562840772035, 0.010406260025027064, 0.07104963741225374, 0.0005382548288807102, 0.0007176731051742803, 0.9141361177157394, 0.0005382548288807102, 0.0005382548288807102, 0.0007176731051742803, 0.0005382548288807102, 0.0005382548288807102, 0.3449598084115781, 0.13414401923584618, 0.0003789379074458932, 0.0005052505432611909, 0.0005052505432611909, 0.5032295410881461, 0.0003789379074458932, 0.01503120366202043, 0.0003789379074458932, 0.0003789379074458932, 0.27498450820005876, 0.09674990927865773, 0.6256634503188933, 0.00042110950719763976, 0.00042110950719763976, 0.0003158321303982298, 0.0003158321303982298, 0.00042110950719763976, 0.0003158321303982298, 0.0003158321303982298, 0.00023855407850935994, 0.00023855407850935994, 0.00017891555888201996, 0.998110264483162, 0.00023855407850935994, 0.00017891555888201996, 0.00017891555888201996, 0.00023855407850935994, 0.00017891555888201996, 0.00017891555888201996, 0.0001137033966334719, 0.0001137033966334719, 8.527754747510392e-05, 0.9990833203691593, 0.0001137033966334719, 8.527754747510392e-05, 8.527754747510392e-05, 0.0001137033966334719, 8.527754747510392e-05, 8.527754747510392e-05, 0.026150060440190474, 0.45236908679009913, 0.03929248772327589, 0.00026958825196072656, 0.00026958825196072656, 0.4807432503089656, 0.0002021911889705449, 0.00026958825196072656, 0.0002021911889705449, 0.0002021911889705449, 0.0022310450228774184, 0.0022310450228774184, 0.0016732837671580639, 0.0022310450228774184, 0.0022310450228774184, 0.0016732837671580639, 0.0016732837671580639, 0.0022310450228774184, 0.0016732837671580639, 0.9822175713217836, 0.0005905781098876469, 0.0005905781098876469, 0.00044293358241573517, 0.9952717596881568, 0.0005905781098876469, 0.00044293358241573517, 0.00044293358241573517, 0.0005905781098876469, 0.00044293358241573517, 0.00044293358241573517, 0.00019250752585428, 0.00019250752585428, 0.00014438064439071, 0.9984884097246868, 0.00019250752585428, 0.00014438064439071, 0.00014438064439071, 0.00019250752585428, 0.00014438064439071, 0.00014438064439071, 0.0013600345651214392, 0.0013600345651214392, 0.0010200259238410795, 0.0013600345651214392, 0.9890851374845667, 0.0010200259238410795, 0.0010200259238410795, 0.0013600345651214392, 0.0010200259238410795, 0.0010200259238410795, 0.4970260494388488, 0.0002680469459020352, 0.00020103520942652643, 0.17664293734944123, 0.0002680469459020352, 0.06426425528001295, 0.26060864315325377, 0.0002680469459020352, 0.00020103520942652643, 0.00020103520942652643, 0.002654700731587626, 0.002654700731587626, 0.001991025548690719, 0.002654700731587626, 0.002654700731587626, 0.001991025548690719, 0.001991025548690719, 0.002654700731587626, 0.001991025548690719, 0.978920894772937, 0.02744508731592394, 0.001143545304830164, 0.000571772652415082, 0.9668675552339038, 0.0007623635365534428, 0.000571772652415082, 0.000571772652415082, 0.0007623635365534428, 0.000571772652415082, 0.000571772652415082, 0.0009093208783081207, 0.0009093208783081207, 0.9927510688928908, 0.0009093208783081207, 0.0009093208783081207, 0.0006819906587310906, 0.0006819906587310906, 0.0009093208783081207, 0.0006819906587310906, 0.0006819906587310906, 0.006636453224311799, 0.12099504574180062, 0.000480902407558826, 0.6573935911329152, 0.000480902407558826, 0.21275122510402464, 0.0002885414445352956, 0.0003847219260470608, 0.0002885414445352956, 0.0002885414445352956, 0.9995803888491849, 5.236146615239313e-05, 3.9271099614294844e-05, 5.236146615239313e-05, 5.236146615239313e-05, 3.9271099614294844e-05, 3.9271099614294844e-05, 5.236146615239313e-05, 3.9271099614294844e-05, 3.9271099614294844e-05, 0.9963298066131101, 9.470815652215875e-05, 7.103111739161907e-05, 0.0030069839695785403, 9.470815652215875e-05, 7.103111739161907e-05, 7.103111739161907e-05, 9.470815652215875e-05, 7.103111739161907e-05, 7.103111739161907e-05, 0.0026539721852383742, 0.0026539721852383742, 0.0019904791389287807, 0.0026539721852383742, 0.0026539721852383742, 0.0019904791389287807, 0.0019904791389287807, 0.0026539721852383742, 0.9786522433066506, 0.0019904791389287807, 0.0006057194299773752, 0.0006057194299773752, 0.06541769843755653, 0.0006057194299773752, 0.930233614587754, 0.00045428957248303144, 0.00045428957248303144, 0.0006057194299773752, 0.00045428957248303144, 0.00045428957248303144, 0.0018869189708549216, 0.0018869189708549216, 0.0014151892281411911, 0.0018869189708549216, 0.0018869189708549216, 0.0014151892281411911, 0.0014151892281411911, 0.9849717027862691, 0.0014151892281411911, 0.0014151892281411911, 0.0009287056971342077, 0.0009287056971342077, 0.9925542138121844, 0.0009287056971342077, 0.0009287056971342077, 0.0006965292728506558, 0.0006965292728506558, 0.0009287056971342077, 0.0006965292728506558, 0.0006965292728506558, 0.9455864948230962, 0.0001726940909182899, 0.0001726940909182899, 0.0001726940909182899, 0.0001726940909182899, 0.00012952056818871742, 0.00012952056818871742, 0.0001726940909182899, 0.05310343295737414, 0.00012952056818871742, 0.0006586690104681223, 0.22855814663243845, 0.0004940017578510918, 0.0006586690104681223, 0.7668553954375114, 0.0004940017578510918, 0.0004940017578510918, 0.0006586690104681223, 0.0004940017578510918, 0.0004940017578510918, 0.0003565472943667627, 0.0003565472943667627, 0.00026741047077507207, 0.9971736455202437, 0.0003565472943667627, 0.00026741047077507207, 0.00026741047077507207, 0.0003565472943667627, 0.00026741047077507207, 0.00026741047077507207, 0.2299123119895, 0.46037030193467127, 0.0001818926518904272, 0.00024252353585390294, 0.3083080449542741, 0.0001818926518904272, 0.0001818926518904272, 0.00024252353585390294, 0.0001818926518904272, 0.0001818926518904272, 0.4260405862519873, 0.0016426289433216156, 0.2629770717832034, 0.2916839680783955, 0.00010429390116327718, 0.017208493691940736, 7.822042587245788e-05, 0.00010429390116327718, 7.822042587245788e-05, 7.822042587245788e-05, 0.0021295596414212343, 0.0021295596414212343, 0.0015971697310659255, 0.0021295596414212343, 0.0021295596414212343, 0.0015971697310659255, 0.9827917745158995, 0.0021295596414212343, 0.0015971697310659255, 0.0015971697310659255, 0.0008479057255190039, 0.0008479057255190039, 0.0006359292941392529, 0.0008479057255190039, 0.0008479057255190039, 0.0006359292941392529, 0.0006359292941392529, 0.0008479057255190039, 0.9931095810141333, 0.0006359292941392529, 0.0025030731167779304, 0.0025030731167779304, 0.001877304837583448, 0.0025030731167779304, 0.0025030731167779304, 0.001877304837583448, 0.001877304837583448, 0.0025030731167779304, 0.9799531252185598, 0.001877304837583448, 0.0015721353717993284, 0.0015721353717993284, 0.0011791015288494962, 0.0015721353717993284, 0.9876940473329281, 0.0011791015288494962, 0.0011791015288494962, 0.0015721353717993284, 0.0011791015288494962, 0.0011791015288494962, 0.0031183045163487005, 0.0031183045163487005, 0.0023387283872615254, 0.0031183045163487005, 0.0031183045163487005, 0.0023387283872615254, 0.0023387283872615254, 0.0031183045163487005, 0.9744701613589689, 0.0023387283872615254, 0.004223125556125328, 0.0008446251112250657, 0.0006334688334187993, 0.0008446251112250657, 0.0008446251112250657, 0.0006334688334187993, 0.0006334688334187993, 0.0008446251112250657, 0.9896894740779708, 0.0006334688334187993, 0.0014467959506862078, 0.0014467959506862078, 0.0010850969630146559, 0.9885233333063514, 0.0014467959506862078, 0.0010850969630146559, 0.0010850969630146559, 0.0014467959506862078, 0.0010850969630146559, 0.0010850969630146559, 0.0009563249750365036, 0.0009563249750365036, 0.9924262428441316, 0.0009563249750365036, 0.0009563249750365036, 0.0007172437312773777, 0.0007172437312773777, 0.0009563249750365036, 0.0007172437312773777, 0.0007172437312773777, 0.001905029927706674, 0.001905029927706674, 0.0014287724457800054, 0.9849004726243504, 0.001905029927706674, 0.0014287724457800054, 0.0014287724457800054, 0.001905029927706674, 0.0014287724457800054, 0.0014287724457800054, 0.001816042360348281, 0.001816042360348281, 0.0013620317702612108, 0.001816042360348281, 0.9856569910790296, 0.0013620317702612108, 0.0013620317702612108, 0.001816042360348281, 0.0013620317702612108, 0.0013620317702612108, 0.0012784099599234776, 0.0012784099599234776, 0.0009588074699426083, 0.0012784099599234776, 0.0012784099599234776, 0.0009588074699426083, 0.0009588074699426083, 0.9898089114707526, 0.0009588074699426083, 0.0009588074699426083, 0.0021155505560861696, 0.0021155505560861696, 0.0015866629170646271, 0.0021155505560861696, 0.0021155505560861696, 0.0015866629170646271, 0.0015866629170646271, 0.0021155505560861696, 0.0015866629170646271, 0.9832021209410473, 5.1334469075332e-05, 0.9995976154521337, 3.8500851806499e-05, 5.1334469075332e-05, 5.1334469075332e-05, 3.8500851806499e-05, 3.8500851806499e-05, 5.1334469075332e-05, 3.8500851806499e-05, 3.8500851806499e-05, 8.307394938426281e-05, 0.9993380741179895, 6.230546203819711e-05, 8.307394938426281e-05, 8.307394938426281e-05, 6.230546203819711e-05, 6.230546203819711e-05, 8.307394938426281e-05, 6.230546203819711e-05, 6.230546203819711e-05, 0.6460998844023698, 0.26852469673560686, 0.03559124097630301, 0.04739918483109403, 0.0005022282357897884, 0.0011830265109715017, 0.0005803526280237555, 4.464250984798119e-05, 3.348188238598589e-05, 3.348188238598589e-05, 0.0014322339460138527, 0.0014322339460138527, 0.0010741754595103895, 0.0014322339460138527, 0.0014322339460138527, 0.9885994812360618, 0.0010741754595103895, 0.0014322339460138527, 0.0010741754595103895, 0.0010741754595103895, 0.0016652287019988583, 0.0016652287019988583, 0.0012489215264991436, 0.0016652287019988583, 0.0016652287019988583, 0.9866480059343236, 0.0012489215264991436, 0.0016652287019988583, 0.0012489215264991436, 0.0012489215264991436, 0.555529515292795, 8.607189298412597e-05, 6.455391973809447e-05, 8.607189298412597e-05, 8.607189298412597e-05, 6.455391973809447e-05, 0.44385123414589156, 8.607189298412597e-05, 6.455391973809447e-05, 6.455391973809447e-05, 0.0007739858643148546, 0.0007739858643148546, 0.000580489398236141, 0.0007739858643148546, 0.0007739858643148546, 0.000580489398236141, 0.000580489398236141, 0.9937978497802733, 0.000580489398236141, 0.000580489398236141, 0.9978076770523494, 0.0002733719663157122, 0.00020502897473678413, 0.0002733719663157122, 0.0002733719663157122, 0.00020502897473678413, 0.00020502897473678413, 0.0002733719663157122, 0.00020502897473678413, 0.00020502897473678413, 0.0012409963669950692, 0.0012409963669950692, 0.0009307472752463019, 0.0012409963669950692, 0.0012409963669950692, 0.0009307472752463019, 0.9900048517703164, 0.0012409963669950692, 0.0009307472752463019, 0.0009307472752463019, 0.38083140604741045, 0.23116548441114648, 0.3423321336007831, 0.045095103681968694, 0.00011323315425478643, 8.492486569108982e-05, 8.492486569108982e-05, 0.00011323315425478643, 8.492486569108982e-05, 8.492486569108982e-05, 0.03470362467782594, 0.7236877514337569, 4.815489085729778e-05, 0.21478686485383386, 0.0021188151977211025, 0.024446632925221506, 4.815489085729778e-05, 6.420652114306371e-05, 4.815489085729778e-05, 4.815489085729778e-05, 0.07107239740690953, 0.649935255296979, 0.098439160615948, 0.17979523665765074, 0.00013531156098412097, 0.00010148367073809072, 0.00010148367073809072, 0.0001691394512301512, 0.00010148367073809072, 0.00010148367073809072, 0.0005918057308218828, 0.9952692878097013, 0.000443854298116412, 0.0005918057308218828, 0.0005918057308218828, 0.000443854298116412, 0.000443854298116412, 0.0005918057308218828, 0.000443854298116412, 0.000443854298116412, 0.0012547912381863414, 0.007947011175180162, 0.9858476494684022, 0.0008365274921242275, 0.0008365274921242275, 0.0006273956190931707, 0.0006273956190931707, 0.0008365274921242275, 0.0006273956190931707, 0.0006273956190931707, 0.0008720604222680785, 0.0008720604222680785, 0.9930588058577744, 0.0008720604222680785, 0.0008720604222680785, 0.0006540453167010588, 0.0006540453167010588, 0.0008720604222680785, 0.0006540453167010588, 0.0006540453167010588, 0.0011416472463989062, 0.0011416472463989062, 0.0008562354347991797, 0.0011416472463989062, 0.0011416472463989062, 0.0008562354347991797, 0.0008562354347991797, 0.0011416472463989062, 0.9906643980626509, 0.0008562354347991797, 0.9970729041992948, 0.00036959425602791024, 0.0002771956920209327, 0.00036959425602791024, 0.00036959425602791024, 0.0002771956920209327, 0.0002771956920209327, 0.00036959425602791024, 0.0002771956920209327, 0.0002771956920209327, 0.0015958003500128758, 0.0015958003500128758, 0.001196850262509657, 0.0015958003500128758, 0.0015958003500128758, 0.001196850262509657, 0.001196850262509657, 0.9874014665704669, 0.001196850262509657, 0.001196850262509657, 0.0003820003063699701, 0.2784782233437082, 0.04393003523254656, 0.6751855415089222, 0.0003820003063699701, 0.00028650022977747756, 0.00028650022977747756, 0.0003820003063699701, 0.00028650022977747756, 0.00028650022977747756, 0.0006507680564890432, 0.0006507680564890432, 0.0004880760423667824, 0.9948616663576247, 0.0006507680564890432, 0.0004880760423667824, 0.0004880760423667824, 0.0006507680564890432, 0.0004880760423667824, 0.0004880760423667824, 0.0017890652165231853, 0.0017890652165231853, 0.001341798912392389, 0.9857749343042751, 0.0017890652165231853, 0.001341798912392389, 0.001341798912392389, 0.0017890652165231853, 0.001341798912392389, 0.001341798912392389, 0.5650716081490664, 0.00038637374916175484, 0.00038637374916175484, 0.00038637374916175484, 0.4321590384374228, 0.00028978031187131616, 0.00028978031187131616, 0.00038637374916175484, 0.00028978031187131616, 0.00028978031187131616, 0.0015256125732295944, 0.004576837719688784, 0.001144209429922196, 0.0015256125732295944, 0.9847829160197032, 0.001144209429922196, 0.001144209429922196, 0.0015256125732295944, 0.001144209429922196, 0.001144209429922196, 0.0003134016712282136, 0.0003134016712282136, 0.0003134016712282136, 0.7465227808656049, 0.0003134016712282136, 0.0002350512534211602, 0.0002350512534211602, 0.25126978990722026, 0.0002350512534211602, 0.0002350512534211602, 0.11214318101378579, 0.0002146280976340398, 0.030638160937259178, 0.8556685682425081, 0.0002146280976340398, 0.00016097107322552985, 0.00016097107322552985, 0.0004292561952680796, 0.00016097107322552985, 0.00016097107322552985, 0.8484467400381809, 9.571017118792757e-05, 0.1393779367924195, 9.571017118792757e-05, 0.011604858256536217, 7.178262839094567e-05, 7.178262839094567e-05, 9.571017118792757e-05, 7.178262839094567e-05, 7.178262839094567e-05, 0.0007723509165633633, 0.9938225418879076, 0.0005792631874225225, 0.0007723509165633633, 0.0007723509165633633, 0.0005792631874225225, 0.0005792631874225225, 0.0007723509165633633, 0.0005792631874225225, 0.0005792631874225225, 0.00045811912146635856, 0.9964090891893299, 0.0003435893410997689, 0.00045811912146635856, 0.00045811912146635856, 0.0003435893410997689, 0.0003435893410997689, 0.00045811912146635856, 0.0003435893410997689, 0.0003435893410997689, 0.0006449951423431344, 0.9949050070642849, 0.0004837463567573508, 0.0006449951423431344, 0.0006449951423431344, 0.0004837463567573508, 0.0004837463567573508, 0.0006449951423431344, 0.0004837463567573508, 0.0004837463567573508, 0.000413125148442831, 0.000413125148442831, 0.00030984386133212327, 0.9966644206183299, 0.000413125148442831, 0.00030984386133212327, 0.00030984386133212327, 0.000413125148442831, 0.00030984386133212327, 0.00030984386133212327, 0.0008140193165098423, 0.0008140193165098423, 0.0006105144873823817, 0.0008140193165098423, 0.0008140193165098423, 0.9935105758002625, 0.0006105144873823817, 0.0008140193165098423, 0.0006105144873823817, 0.0006105144873823817, 0.0014895466844398197, 0.0014895466844398197, 0.0011171600133298648, 0.0014895466844398197, 0.0014895466844398197, 0.0011171600133298648, 0.0011171600133298648, 0.9883142251258203, 0.0011171600133298648, 0.0011171600133298648, 0.9382212560832709, 5.087415985702586e-05, 0.02207211764082679, 0.031592853271213056, 7.267737122432265e-05, 0.007834620617981982, 2.1803211367296798e-05, 2.907094848972906e-05, 7.994510834675492e-05, 2.1803211367296798e-05, 0.7563892691622679, 0.00533144964130977, 0.0001353159807439028, 0.2357204384558787, 0.00010825278459512225, 0.0019485501227122005, 8.118958844634169e-05, 0.00010825278459512225, 8.118958844634169e-05, 8.118958844634169e-05, 0.0016624770930111052, 0.0016624770930111052, 0.001246857819758329, 0.0016624770930111052, 0.0016624770930111052, 0.001246857819758329, 0.001246857819758329, 0.986680154702091, 0.001246857819758329, 0.001246857819758329, 0.0005436159423330834, 0.0013590398558327086, 0.9948171744695428, 0.0005436159423330834, 0.0005436159423330834, 0.00040771195674981257, 0.00040771195674981257, 0.0005436159423330834, 0.00040771195674981257, 0.00040771195674981257, 0.0012494226057333648, 0.0012494226057333648, 0.9898550593922582, 0.0012494226057333648, 0.0012494226057333648, 0.0009370669543000235, 0.0009370669543000235, 0.0012494226057333648, 0.0009370669543000235, 0.0009370669543000235, 0.0017933533083955059, 0.0017933533083955059, 0.0013450149812966295, 0.0017933533083955059, 0.0017933533083955059, 0.0013450149812966295, 0.0013450149812966295, 0.9858959812904293, 0.0013450149812966295, 0.0013450149812966295, 3.992197715766508e-05, 0.9996862300050913, 2.994148286824881e-05, 3.992197715766508e-05, 3.992197715766508e-05, 2.994148286824881e-05, 2.994148286824881e-05, 3.992197715766508e-05, 2.994148286824881e-05, 2.994148286824881e-05, 0.00016329089394800922, 0.7003138214195245, 0.22913794693254394, 0.06956192082185192, 0.00016329089394800922, 0.00012246817046100692, 0.00012246817046100692, 0.00016329089394800922, 0.00012246817046100692, 0.00016329089394800922, 0.00039931186545794843, 0.9614431440563753, 0.0002994838990934613, 0.00039931186545794843, 0.00039931186545794843, 0.0002994838990934613, 0.0002994838990934613, 0.035738411958486385, 0.0002994838990934613, 0.0002994838990934613, 0.0008156800040475428, 0.0008156800040475428, 0.9934982449299071, 0.0008156800040475428, 0.0008156800040475428, 0.0006117600030356572, 0.0006117600030356572, 0.0008156800040475428, 0.0006117600030356572, 0.0006117600030356572, 0.09833550635887689, 0.2116095890234045, 0.576673577739408, 0.10473196992606608, 8.09678932555594e-05, 6.072591994166955e-05, 6.072591994166955e-05, 8.09678932555594e-05, 0.008278967085380949, 6.072591994166955e-05, 0.9976981313394303, 0.0002912562053246038, 0.00021844215399345284, 0.0002912562053246038, 0.0002912562053246038, 0.00021844215399345284, 0.00021844215399345284, 0.0002912562053246038, 0.00021844215399345284, 0.00021844215399345284, 0.02189098407539411, 0.008817201919255961, 0.10252277541976242, 0.0002432331563932679, 0.0002432331563932679, 0.025539481421293128, 0.8401273221823473, 0.0002432331563932679, 0.0001824248672949509, 0.0001824248672949509, 0.002210929320146058, 0.002210929320146058, 0.0016581969901095436, 0.002210929320146058, 0.002210929320146058, 0.0016581969901095436, 0.0016581969901095436, 0.002210929320146058, 0.0016581969901095436, 0.9822053504748863, 0.00034729781601956436, 0.00034729781601956436, 0.0002604733620146733, 0.00034729781601956436, 0.9972656787001791, 0.0002604733620146733, 0.0002604733620146733, 0.00034729781601956436, 0.0002604733620146733, 0.0002604733620146733, 0.0014309694854221125, 0.0014309694854221125, 0.0010732271140665845, 0.0014309694854221125, 0.0014309694854221125, 0.0010732271140665845, 0.0010732271140665845, 0.9887999144266798, 0.0010732271140665845, 0.0010732271140665845, 0.0001443991169828343, 0.0001443991169828343, 0.9986281932740364, 0.0003609977924570858, 0.0001443991169828343, 0.00010829933773712573, 0.00010829933773712573, 0.0001443991169828343, 0.00010829933773712573, 0.00010829933773712573, 0.0008086171922701833, 0.0008086171922701833, 0.9915668320213122, 0.0028301601729456417, 0.0008086171922701833, 0.0006064628942026375, 0.0006064628942026375, 0.0008086171922701833, 0.0006064628942026375, 0.0006064628942026375, 0.0024996183512498034, 0.0024996183512498034, 0.0018747137634373527, 0.0024996183512498034, 0.0024996183512498034, 0.0018747137634373527, 0.0018747137634373527, 0.0024996183512498034, 0.0018747137634373527, 0.979850393689923, 0.7293572787571824, 0.17774840843243023, 0.06916184533088586, 0.02227894122679413, 0.00039253612281227513, 0.000991405335820746, 2.013005758011667e-05, 2.013005758011667e-05, 1.5097543185087505e-05, 1.5097543185087505e-05, 0.0015208648040209711, 0.0015208648040209711, 0.0011406486030157282, 0.0015208648040209711, 0.0015208648040209711, 0.0011406486030157282, 0.0011406486030157282, 0.0015208648040209711, 0.9878016902116207, 0.0011406486030157282, 0.0012221728623731795, 0.0012221728623731795, 0.0009166296467798845, 0.0012221728623731795, 0.0012221728623731795, 0.0009166296467798845, 0.0009166296467798845, 0.0012221728623731795, 0.0009166296467798845, 0.9902655617378686, 0.0011088396918827142, 0.0011088396918827142, 0.0008316297689120357, 0.0011088396918827142, 0.0011088396918827142, 0.9910254746201758, 0.0008316297689120357, 0.0011088396918827142, 0.0008316297689120357, 0.0008316297689120357, 0.0026393085584425395, 0.0026393085584425395, 0.001979481418831905, 0.0026393085584425395, 0.0026393085584425395, 0.001979481418831905, 0.001979481418831905, 0.0026393085584425395, 0.001979481418831905, 0.9791834751821823, 0.0009136594803986146, 0.0009136594803986146, 0.0006852446102989609, 0.0009136594803986146, 0.0009136594803986146, 0.0006852446102989609, 0.0006852446102989609, 0.0009136594803986146, 0.992462610582995, 0.0006852446102989609, 0.5612615388419815, 0.15500169705607098, 0.08452990076578812, 0.16584062687400167, 0.03233551554103541, 0.00040630359755795516, 0.0005563233874255079, 2.500329831125878e-05, 1.8752473733444084e-05, 1.8752473733444084e-05, 0.9962037910816381, 0.00017546522079817494, 0.0025442457015735363, 0.00017546522079817494, 0.00017546522079817494, 0.0001315989155986312, 0.0001315989155986312, 0.00017546522079817494, 0.0001315989155986312, 0.0001315989155986312, 0.9973282746396428, 0.0003242026085785105, 0.00024315195643388285, 0.0003242026085785105, 0.0003242026085785105, 0.00040525326072313807, 0.00024315195643388285, 0.0003242026085785105, 0.00024315195643388285, 0.00024315195643388285, 0.00238024931165214, 0.00238024931165214, 0.001785186983739105, 0.00238024931165214, 0.00238024931165214, 0.001785186983739105, 0.001785186983739105, 0.00238024931165214, 0.9806627164006817, 0.001785186983739105, 0.0030416092645666254, 0.0030416092645666254, 0.002281206948424969, 0.0030416092645666254, 0.0030416092645666254, 0.002281206948424969, 0.002281206948424969, 0.0030416092645666254, 0.975596171609745, 0.002281206948424969, 0.42320279701820807, 0.0007009570136947545, 0.0005257177602710659, 0.0007009570136947545, 0.0007009570136947545, 0.0005257177602710659, 0.0005257177602710659, 0.0007009570136947545, 0.571805683921496, 0.0005257177602710659, 0.0016141667974504477, 0.0016141667974504477, 0.0012106250980878357, 0.0016141667974504477, 0.0016141667974504477, 0.0012106250980878357, 0.9870629966409488, 0.0016141667974504477, 0.0012106250980878357, 0.0012106250980878357, 0.0018592931669870873, 0.0018592931669870873, 0.0013944698752403155, 0.0018592931669870873, 0.0018592931669870873, 0.0013944698752403155, 0.0013944698752403155, 0.0018592931669870873, 0.0013944698752403155, 0.9849605552114095, 0.33861054712235605, 0.5980068348059022, 0.00010733639490353636, 0.06250556063215934, 0.00014311519320471514, 0.00010733639490353636, 0.00010733639490353636, 0.00014311519320471514, 0.00010733639490353636, 0.00010733639490353636, 0.28141452912397924, 0.6256775011063679, 0.02702670171410117, 0.053999938142912325, 0.00010693057058002441, 0.011414838409417606, 8.019792793501831e-05, 0.00010693057058002441, 8.019792793501831e-05, 8.019792793501831e-05, 0.002688042367912369, 0.002688042367912369, 0.0020160317759342766, 0.002688042367912369, 0.002688042367912369, 0.0020160317759342766, 0.0020160317759342766, 0.002688042367912369, 0.9784474219201023, 0.0020160317759342766, 0.000676660822156227, 0.000676660822156227, 0.0005074956166171703, 0.000676660822156227, 0.000676660822156227, 0.0005074956166171703, 0.9945222433641148, 0.000676660822156227, 0.0005074956166171703, 0.0005074956166171703, 0.1913610557838099, 0.5457544123079313, 9.463949346380312e-05, 0.15801640758672994, 0.00012618599128507083, 0.10422962880146851, 9.463949346380312e-05, 0.00012618599128507083, 9.463949346380312e-05, 9.463949346380312e-05, 0.0035634027304892522, 0.0035634027304892522, 0.002672552047866939, 0.0035634027304892522, 0.0035634027304892522, 0.002672552047866939, 0.002672552047866939, 0.0035634027304892522, 0.002672552047866939, 0.9719180947409436, 0.9969759804045643, 0.00038143509532455826, 0.0002860763214934187, 0.00038143509532455826, 0.00038143509532455826, 0.0002860763214934187, 0.0002860763214934187, 0.00038143509532455826, 0.0002860763214934187, 0.0002860763214934187, 0.8264924064668205, 8.471631882603737e-05, 0.16915730961589012, 0.003833413426878191, 8.471631882603737e-05, 6.353723911952802e-05, 6.353723911952802e-05, 8.471631882603737e-05, 6.353723911952802e-05, 6.353723911952802e-05, 0.000286156097373378, 0.000286156097373378, 0.00021461707303003353, 0.000286156097373378, 0.000286156097373378, 0.00021461707303003353, 0.00021461707303003353, 0.000286156097373378, 0.9976832334922825, 0.00021461707303003353, 0.00027562474123179776, 0.00027562474123179776, 0.00020671855592384835, 0.00027562474123179776, 0.00027562474123179776, 0.00020671855592384835, 0.00020671855592384835, 0.00027562474123179776, 0.9977615632591079, 0.00020671855592384835, 0.0003300529295528709, 0.0003300529295528709, 0.00024753969716465317, 0.0003300529295528709, 0.0003300529295528709, 0.00024753969716465317, 0.9973374398763876, 0.0003300529295528709, 0.00024753969716465317, 0.00024753969716465317, 0.0020606806396772843, 0.0020606806396772843, 0.0015455104797579633, 0.0020606806396772843, 0.0020606806396772843, 0.0015455104797579633, 0.0015455104797579633, 0.0020606806396772843, 0.0015455104797579633, 0.9834598352859839, 0.0016540330900624916, 0.0016540330900624916, 0.0012405248175468688, 0.0016540330900624916, 0.9870442464947919, 0.0012405248175468688, 0.0012405248175468688, 0.0016540330900624916, 0.0012405248175468688, 0.0012405248175468688, 0.2405754876693975, 0.6388000608557866, 0.0743211027246225, 0.00011473732570377846, 0.00011473732570377846, 8.605299427783385e-05, 0.04566545563010383, 0.00011473732570377846, 8.605299427783385e-05, 8.605299427783385e-05, 0.001997882903637185, 0.001997882903637185, 0.0014984121777278888, 0.9839573300413136, 0.001997882903637185, 0.0014984121777278888, 0.0014984121777278888, 0.001997882903637185, 0.0014984121777278888, 0.0014984121777278888, 0.0005425284040947269, 0.9952683573117764, 0.00040689630307104516, 0.0005425284040947269, 0.0005425284040947269, 0.00040689630307104516, 0.00040689630307104516, 0.0005425284040947269, 0.00040689630307104516, 0.0008137926061420903, 0.0010139717528719016, 0.0010139717528719016, 0.0007604788146539261, 0.9919178672469376, 0.0010139717528719016, 0.0007604788146539261, 0.0007604788146539261, 0.0010139717528719016, 0.0007604788146539261, 0.0007604788146539261, 0.00022145148533833737, 0.00022145148533833737, 0.00016608861400375303, 0.00022145148533833737, 0.9982479330338903, 0.00016608861400375303, 0.00016608861400375303, 0.00022145148533833737, 0.00016608861400375303, 0.00016608861400375303, 0.0006215452349094408, 0.0006215452349094408, 0.9950939210900147, 0.0006215452349094408, 0.0006215452349094408, 0.00046615892618208056, 0.00046615892618208056, 0.0006215452349094408, 0.00046615892618208056, 0.00046615892618208056, 0.0010060918850922594, 0.0010060918850922594, 0.0007545689138191945, 0.0010060918850922594, 0.0010060918850922594, 0.0007545689138191945, 0.9920065987009677, 0.0010060918850922594, 0.0007545689138191945, 0.0007545689138191945, 0.0004017814376325937, 0.9728133058679175, 0.0003013360782244453, 0.0004017814376325937, 0.024408222336180067, 0.0003013360782244453, 0.0003013360782244453, 0.0004017814376325937, 0.0003013360782244453, 0.0003013360782244453, 0.00015692305794694342, 0.00015692305794694342, 0.00011769229346020756, 0.00015692305794694342, 0.00015692305794694342, 0.00011769229346020756, 0.9987368023033214, 0.00015692305794694342, 0.00011769229346020756, 0.00011769229346020756, 0.0013294682163807034, 0.0013294682163807034, 0.0009971011622855275, 0.0013294682163807034, 0.0013294682163807034, 0.0009971011622855275, 0.9894567200413384, 0.0013294682163807034, 0.0009971011622855275, 0.0009971011622855275, 0.6542461114512232, 0.19990836480189228, 0.1004142110986371, 0.03470017792516616, 0.007969768696420954, 0.0024372381334620656, 0.00026200309934717206, 2.4372381334620656e-05, 1.827928600096549e-05, 1.827928600096549e-05, 0.0010191314280034725, 0.0010191314280034725, 0.0007643485710026043, 0.0010191314280034725, 0.9918696623043796, 0.0007643485710026043, 0.0007643485710026043, 0.0010191314280034725, 0.0007643485710026043, 0.0007643485710026043, 0.9741803623421271, 0.0001851701886223393, 0.00013887764146675448, 0.00023146273577792414, 0.0001851701886223393, 0.00013887764146675448, 0.00013887764146675448, 0.0001851701886223393, 0.024488757445304373, 0.00013887764146675448, 0.0012002889581822721, 0.0012002889581822721, 0.0009002167186367041, 0.0012002889581822721, 0.9905384627399201, 0.0009002167186367041, 0.0009002167186367041, 0.0012002889581822721, 0.0009002167186367041, 0.0009002167186367041, 0.0021290076930774154, 0.0021290076930774154, 0.0015967557698080615, 0.9830693022784965, 0.0021290076930774154, 0.0015967557698080615, 0.0015967557698080615, 0.0021290076930774154, 0.0015967557698080615, 0.0015967557698080615, 0.0016637068574913362, 0.0016637068574913362, 0.0012477801431185023, 0.0016637068574913362, 0.0016637068574913362, 0.0012477801431185023, 0.0012477801431185023, 0.0016637068574913362, 0.0012477801431185023, 0.9865781664923624, 0.0005217758374929106, 0.995939629814593, 0.0003913318781196829, 0.0005217758374929106, 0.0005217758374929106, 0.0003913318781196829, 0.0003913318781196829, 0.0005217758374929106, 0.0003913318781196829, 0.0003913318781196829, 0.9983232182019355, 0.00021246570219780485, 0.00015934927664835362, 0.00021246570219780485, 0.00021246570219780485, 0.00015934927664835362, 0.00015934927664835362, 0.00021246570219780485, 0.00015934927664835362, 0.00015934927664835362, 0.0022581134426039057, 0.0022581134426039057, 0.0016935850819529293, 0.0022581134426039057, 0.0022581134426039057, 0.0016935850819529293, 0.0016935850819529293, 0.982279347532699, 0.0016935850819529293, 0.0016935850819529293, 0.0005472980962125879, 0.0005472980962125879, 0.00041047357215944093, 0.0005472980962125879, 0.0005472980962125879, 0.00041047357215944093, 0.9955352370106975, 0.0005472980962125879, 0.00041047357215944093, 0.00041047357215944093, 0.0018636162347442772, 0.0018636162347442772, 0.001397712176058208, 0.0018636162347442772, 0.0018636162347442772, 0.001397712176058208, 0.9849211800623505, 0.0018636162347442772, 0.001397712176058208, 0.001397712176058208, 0.0006893804166619959, 0.0006893804166619959, 0.0005170353124964969, 0.0006893804166619959, 0.994086560826598, 0.0005170353124964969, 0.0005170353124964969, 0.0010340706249929938, 0.0005170353124964969, 0.0005170353124964969, 0.001891017058880484, 0.001891017058880484, 0.0014182627941603631, 0.001891017058880484, 0.001891017058880484, 0.0014182627941603631, 0.9847471334120121, 0.001891017058880484, 0.0014182627941603631, 0.0014182627941603631, 0.799775583943778, 0.156403631892251, 0.027699491665062963, 0.014203527438703548, 0.00046634848086317903, 0.00024121473148095468, 0.0011739116932073129, 1.608098209873031e-05, 1.2060736574047735e-05, 1.2060736574047735e-05, 0.6822617169307275, 0.27469361894145833, 3.701238970691107e-05, 0.03486567110391023, 4.93498529425481e-05, 0.007846626617865147, 3.701238970691107e-05, 0.00012337463235637024, 3.701238970691107e-05, 3.701238970691107e-05, 0.2861660959142466, 0.6268944322274161, 0.00010712481753715245, 0.06141822872130074, 0.0247815411235946, 0.00010712481753715245, 0.00010712481753715245, 0.0001428330900495366, 0.00010712481753715245, 0.00010712481753715245, 0.46050699855338006, 0.2839231401637532, 0.09928225587808533, 0.1534061126612899, 0.002733785393598724, 2.5470050250919787e-05, 2.5470050250919787e-05, 3.3960067001226385e-05, 2.5470050250919787e-05, 2.5470050250919787e-05, 0.00011784984817342443, 0.9539355960397841, 8.838738613006831e-05, 0.04525434169859498, 0.00011784984817342443, 8.838738613006831e-05, 8.838738613006831e-05, 0.00011784984817342443, 8.838738613006831e-05, 8.838738613006831e-05, 0.4863708556972799, 0.012942304894902393, 0.001202816440046691, 0.4984471327553487, 0.00019245063040747054, 0.00014433797280560292, 0.00014433797280560292, 0.00019245063040747054, 0.00014433797280560292, 0.00014433797280560292, 0.001742209600780393, 0.001742209600780393, 0.0013066572005852948, 0.9860906340417025, 0.001742209600780393, 0.0013066572005852948, 0.0013066572005852948, 0.001742209600780393, 0.0013066572005852948, 0.0013066572005852948, 0.0003679727909882351, 0.0003679727909882351, 0.0002759795932411763, 0.0003679727909882351, 0.0003679727909882351, 0.0002759795932411763, 0.0002759795932411763, 0.99711427038037, 0.0002759795932411763, 0.0002759795932411763, 0.000832164529792008, 0.000832164529792008, 0.000624123397344006, 0.000832164529792008, 0.000832164529792008, 0.9933964074392095, 0.000624123397344006, 0.000832164529792008, 0.000624123397344006, 0.000624123397344006, 0.5703415021053079, 0.137366898696506, 0.2879493307686646, 0.003428297361047951, 5.529511872657985e-05, 8.294267808986978e-05, 0.0006358938653556683, 5.529511872657985e-05, 4.147133904493489e-05, 4.147133904493489e-05, 0.6847924545598674, 0.06942828653636421, 0.24422979052838925, 0.00011863013504718361, 0.0001482876688089795, 0.000889726012853877, 8.89726012853877e-05, 0.00011863013504718361, 8.89726012853877e-05, 8.89726012853877e-05, 0.001008117288697304, 0.001008117288697304, 0.1978430179068459, 0.00126014661087163, 0.001008117288697304, 0.000756087966522978, 0.7946484528156499, 0.001008117288697304, 0.000756087966522978, 0.000756087966522978, 0.9968550110803407, 0.0002538141339478907, 0.000190360600460918, 0.0013959777367133987, 0.0002538141339478907, 0.0002538141339478907, 0.000190360600460918, 0.0002538141339478907, 0.000190360600460918, 0.000190360600460918, 0.00029522360437060147, 0.8191716962273264, 0.0002214177032779511, 0.00029522360437060147, 0.07823425515820939, 0.10074505499146776, 0.0002214177032779511, 0.00029522360437060147, 0.0002214177032779511, 0.0002214177032779511, 0.9977542919480716, 0.00028640238017885086, 0.00021480178513413813, 0.00028640238017885086, 0.00028640238017885086, 0.00021480178513413813, 0.00021480178513413813, 0.00028640238017885086, 0.00021480178513413813, 0.00021480178513413813, 0.0017044997946744744, 0.0017044997946744744, 0.0012783748460058557, 0.0017044997946744744, 0.0017044997946744744, 0.0012783748460058557, 0.986479256167852, 0.0017044997946744744, 0.0012783748460058557, 0.0012783748460058557, 0.0019723588061912396, 0.0015778870449529917, 0.0011834152837147437, 0.9869683466180962, 0.0015778870449529917, 0.0011834152837147437, 0.0011834152837147437, 0.0015778870449529917, 0.0011834152837147437, 0.0011834152837147437, 0.0020038961012328626, 0.0020038961012328626, 0.001502922075924647, 0.0020038961012328626, 0.0020038961012328626, 0.001502922075924647, 0.001502922075924647, 0.0020038961012328626, 0.001502922075924647, 0.9839129857053356, 0.9960115851966866, 0.00026968431197365103, 0.00020226323398023826, 0.00026968431197365103, 0.00026968431197365103, 0.00020226323398023826, 0.00020226323398023826, 0.00026968431197365103, 0.0020226323398023827, 0.00020226323398023826, 0.0008301307016569594, 0.9934589172079661, 0.0006225980262427195, 0.0008301307016569594, 0.0008301307016569594, 0.0006225980262427195, 0.0006225980262427195, 0.0008301307016569594, 0.0006225980262427195, 0.0006225980262427195, 0.43615749213823135, 0.00010971135508445009, 0.5609815863855644, 0.0003839897427955753, 0.00010971135508445009, 8.228351631333757e-05, 0.0011793970671578385, 0.0008228351631333757, 8.228351631333757e-05, 8.228351631333757e-05, 0.08027049807094569, 0.10347962815385423, 0.7891327822891048, 8.943788085899241e-05, 8.943788085899241e-05, 6.707841064424431e-05, 0.02663012902576499, 8.943788085899241e-05, 6.707841064424431e-05, 6.707841064424431e-05, 0.0009178472385962913, 0.0009178472385962913, 0.9926517885418892, 0.0009178472385962913, 0.0009178472385962913, 0.0006883854289472186, 0.0006883854289472186, 0.0009178472385962913, 0.0006883854289472186, 0.0006883854289472186, 0.15269899320151153, 0.8450614021808164, 0.0002484256939287064, 0.00033123425857160854, 0.00033123425857160854, 0.0002484256939287064, 0.0002484256939287064, 0.00033123425857160854, 0.0002484256939287064, 0.0002484256939287064, 0.9948889121676895, 0.00021816543219509664, 0.0032724814829264495, 0.0004908722224389675, 0.00021816543219509664, 0.00016362407414632248, 0.00016362407414632248, 0.00021816543219509664, 0.00016362407414632248, 0.00016362407414632248, 0.0009225924808706567, 0.0009225924808706567, 0.0006919443606529925, 0.0009225924808706567, 0.0009225924808706567, 0.0006919443606529925, 0.0006919443606529925, 0.9927095094168267, 0.0006919443606529925, 0.0006919443606529925, 0.48253275804592805, 0.0005643657988841264, 0.00042327434916309477, 0.0005643657988841264, 0.0005643657988841264, 0.00042327434916309477, 0.00042327434916309477, 0.0005643657988841264, 0.5134317855348339, 0.00042327434916309477, 0.0013235050130380923, 0.0013235050130380923, 0.0009926287597785692, 0.0013235050130380923, 0.0013235050130380923, 0.989319997245974, 0.0009926287597785692, 0.0013235050130380923, 0.0009926287597785692, 0.0009926287597785692, 0.2740145320546713, 0.3632178574149683, 0.00012557952889764954, 0.00016743937186353272, 0.00016743937186353272, 0.00012557952889764954, 0.36175276291116243, 0.00016743937186353272, 0.00012557952889764954, 0.00012557952889764954, 0.031079836554732784, 0.967110001799609, 0.00018175343014463618, 0.00024233790685951488, 0.00024233790685951488, 0.00018175343014463618, 0.0003029223835743936, 0.00024233790685951488, 0.00018175343014463618, 0.00018175343014463618, 0.9220356995028608, 0.00010222408597830991, 0.05949441803937637, 0.00010222408597830991, 0.00010222408597830991, 7.666806448373243e-05, 0.01786365902470966, 0.00010222408597830991, 7.666806448373243e-05, 7.666806448373243e-05, 0.0006506048022004999, 0.0006506048022004999, 0.9947747425645642, 0.0006506048022004999, 0.0006506048022004999, 0.0004879536016503749, 0.0004879536016503749, 0.0006506048022004999, 0.0004879536016503749, 0.0004879536016503749, 0.001580403082378824, 0.001580403082378824, 0.0011853023117841181, 0.001580403082378824, 0.001580403082378824, 0.0011853023117841181, 0.9873568257161703, 0.001580403082378824, 0.0011853023117841181, 0.0011853023117841181, 0.0005286342138622346, 0.9557706586629202, 0.04044051736046095, 0.0005286342138622346, 0.0005286342138622346, 0.00039647566039667596, 0.00039647566039667596, 0.0005286342138622346, 0.00039647566039667596, 0.00039647566039667596, 0.3564353663061226, 0.033156778261034664, 0.1642296673241873, 0.0010361493206573332, 0.0010361493206573332, 0.0007771119904929998, 0.0007771119904929998, 0.0010361493206573332, 0.0007771119904929998, 0.44062249860953095, 0.00042490335940572764, 0.00042490335940572764, 0.00031867751955429576, 0.00042490335940572764, 0.00042490335940572764, 0.9966108294861342, 0.00031867751955429576, 0.00042490335940572764, 0.00031867751955429576, 0.00031867751955429576, 0.0011440379614083257, 0.0011440379614083257, 0.0008580284710562443, 0.0011440379614083257, 0.0011440379614083257, 0.0008580284710562443, 0.99073687457961, 0.0011440379614083257, 0.0008580284710562443, 0.0008580284710562443, 0.0004390917728519636, 0.00017563670914078544, 0.00013172753185558908, 0.00017563670914078544, 0.00017563670914078544, 0.9983190547562244, 0.00013172753185558908, 0.00017563670914078544, 0.00013172753185558908, 0.00013172753185558908, 0.020235387693164228, 0.00130550888342995, 0.0009791316625724627, 0.00130550888342995, 0.00130550888342995, 0.9706458548301679, 0.0009791316625724627, 0.00130550888342995, 0.0009791316625724627, 0.0009791316625724627, 0.0841483041161083, 0.9149886947197335, 9.30844072080844e-05, 0.00012411254294411253, 0.00012411254294411253, 9.30844072080844e-05, 9.30844072080844e-05, 0.00012411254294411253, 9.30844072080844e-05, 9.30844072080844e-05, 0.0006089865906687185, 0.0006089865906687185, 0.0004567399430015389, 0.0006089865906687185, 0.0006089865906687185, 0.9950840891526861, 0.0004567399430015389, 0.0006089865906687185, 0.0004567399430015389, 0.0004567399430015389, 0.001548993363801531, 0.001548993363801531, 0.0011617450228511483, 0.001548993363801531, 0.9878705177644264, 0.0011617450228511483, 0.0011617450228511483, 0.001548993363801531, 0.0011617450228511483, 0.0011617450228511483, 0.0010664956158118236, 0.0010664956158118236, 0.0007998717118588678, 0.0010664956158118236, 0.0010664956158118236, 0.9913076748970902, 0.0007998717118588678, 0.0010664956158118236, 0.0007998717118588678, 0.0007998717118588678, 0.4889644468346175, 0.00043560307067671937, 0.00032670230300753953, 0.07742844581278686, 0.4310292384346138, 0.00032670230300753953, 0.00032670230300753953, 0.00043560307067671937, 0.00032670230300753953, 0.00032670230300753953, 0.9972464195269606, 0.0003445017426468471, 0.00025837630698513533, 0.0003445017426468471, 0.0003445017426468471, 0.00025837630698513533, 0.00025837630698513533, 0.0003445017426468471, 0.00025837630698513533, 0.00025837630698513533, 0.0001981686954979234, 0.0001981686954979234, 0.00014862652162344253, 0.0001981686954979234, 0.0001981686954979234, 0.00014862652162344253, 0.9984234300924125, 0.0001981686954979234, 0.00014862652162344253, 0.00014862652162344253, 0.29872161022197546, 0.13026418238673768, 9.253360496305287e-05, 0.21347502664976298, 0.35706404815118026, 6.940020372228965e-05, 6.940020372228965e-05, 9.253360496305287e-05, 6.940020372228965e-05, 6.940020372228965e-05, 0.29305900247842925, 0.11181706174229376, 9.215691901837398e-05, 0.16311774666252196, 0.41224861774219296, 9.215691901837398e-05, 9.215691901837398e-05, 0.00012287589202449864, 0.019199358128827913, 9.215691901837398e-05, 0.9278461961650084, 9.470959207543404e-05, 7.103219405657553e-05, 9.470959207543404e-05, 9.470959207543404e-05, 7.103219405657553e-05, 7.103219405657553e-05, 9.470959207543404e-05, 0.07148206461893385, 7.103219405657553e-05, 0.0004920245393618519, 0.0004920245393618519, 0.9958576676683883, 0.0004920245393618519, 0.000615030674202315, 0.00036901840452138897, 0.00036901840452138897, 0.0004920245393618519, 0.00036901840452138897, 0.00036901840452138897, 0.0003212691573485985, 0.0003212691573485985, 0.0002409518680114489, 0.0003212691573485985, 0.0003212691573485985, 0.0002409518680114489, 0.17549327720167193, 0.0003212691573485985, 0.8221277736550636, 0.0002409518680114489, 0.3608836271044288, 0.00010945818231860139, 8.209363673895104e-05, 0.30533359957773853, 0.0003557390925354545, 8.209363673895104e-05, 8.209363673895104e-05, 0.00010945818231860139, 0.3328623324308668, 8.209363673895104e-05, 0.0005311735023137457, 0.0005311735023137457, 0.00039838012673530936, 0.7983537739775599, 0.0005311735023137457, 0.00039838012673530936, 0.00039838012673530936, 0.0005311735023137457, 0.19772933623629188, 0.00039838012673530936, 0.3821547550551442, 0.1278252612793503, 0.0003145306625968265, 0.2211779619380884, 0.25753770653428154, 0.0001887183975580959, 0.010190793468137178, 0.0002516245300774612, 0.0001887183975580959, 0.0001887183975580959, 0.001536898052389761, 0.001536898052389761, 0.0011526735392923208, 0.001536898052389761, 0.987841223173519, 0.0011526735392923208, 0.0011526735392923208, 0.001536898052389761, 0.0011526735392923208, 0.0011526735392923208, 0.0009988250970810577, 0.0009988250970810577, 0.9920830276757605, 0.0009988250970810577, 0.0009988250970810577, 0.0007491188228107932, 0.0007491188228107932, 0.0009988250970810577, 0.0007491188228107932, 0.0007491188228107932, 0.00047233539220010106, 0.00047233539220010106, 0.9961553421500131, 0.00047233539220010106, 0.00047233539220010106, 0.0003542515441500758, 0.0003542515441500758, 0.00047233539220010106, 0.0003542515441500758, 0.0003542515441500758, 0.0008910980026821941, 0.0679462227045173, 0.0006683235020116455, 0.0008910980026821941, 0.9258508247867997, 0.0006683235020116455, 0.0006683235020116455, 0.0008910980026821941, 0.0006683235020116455, 0.0006683235020116455, 0.0018975368144556984, 0.0018975368144556984, 0.0014231526108417739, 0.0018975368144556984, 0.0018975368144556984, 0.0014231526108417739, 0.0014231526108417739, 0.0018975368144556984, 0.0014231526108417739, 0.9848216067025075, 0.022350405186863955, 0.031773398314426805, 0.00023362792878255006, 0.943934708257763, 0.00031150390504340006, 0.00023362792878255006, 0.00023362792878255006, 0.00031150390504340006, 0.00023362792878255006, 0.00023362792878255006, 0.002131322793307488, 0.002131322793307488, 0.001598492094980616, 0.9830726384130788, 0.002131322793307488, 0.001598492094980616, 0.001598492094980616, 0.002131322793307488, 0.001598492094980616, 0.001598492094980616, 0.000396746355301312, 0.000396746355301312, 0.9968252176945464, 0.000396746355301312, 0.000396746355301312, 0.000297559766475984, 0.000297559766475984, 0.000396746355301312, 0.000297559766475984, 0.000297559766475984, 0.000580456679293175, 0.000580456679293175, 0.00043534250946988123, 0.000580456679293175, 0.000580456679293175, 0.7290535891922278, 0.2668649583050372, 0.000580456679293175, 0.00043534250946988123, 0.00043534250946988123, 0.0016545489421765538, 0.0005515163140588512, 0.00041363723554413846, 0.0005515163140588512, 0.0005515163140588512, 0.9945217933266236, 0.00041363723554413846, 0.0005515163140588512, 0.00041363723554413846, 0.00041363723554413846, 0.0009965428126292768, 0.0009965428126292768, 0.0007474071094719576, 0.0009965428126292768, 0.0009965428126292768, 0.0007474071094719576, 0.0007474071094719576, 0.992058369972445, 0.0007474071094719576, 0.0007474071094719576, 0.00045769078042318833, 0.996392828981281, 0.00034326808531739126, 0.00045769078042318833, 0.00045769078042318833, 0.00034326808531739126, 0.00034326808531739126, 0.00045769078042318833, 0.00034326808531739126, 0.00034326808531739126, 0.06832913622912468, 0.9285057085596147, 0.00033994595138868, 0.00045326126851824003, 0.00045326126851824003, 0.00033994595138868, 0.00033994595138868, 0.00045326126851824003, 0.00033994595138868, 0.00033994595138868, 0.000305605994417723, 0.000305605994417723, 0.00022920449581329225, 0.000305605994417723, 0.000305605994417723, 0.00022920449581329225, 0.00022920449581329225, 0.9975743672780524, 0.00022920449581329225, 0.00022920449581329225, 0.0005536660136097427, 0.0005536660136097427, 0.00041524951020730703, 0.0005536660136097427, 0.0005536660136097427, 0.00041524951020730703, 0.9954914924703174, 0.0005536660136097427, 0.00041524951020730703, 0.00041524951020730703, 0.0009625057787413769, 0.0009625057787413769, 0.0007218793340560327, 0.0009625057787413769, 0.0009625057787413769, 0.0007218793340560327, 0.9923434578823596, 0.0009625057787413769, 0.0007218793340560327, 0.0007218793340560327, 0.0011619910789824953, 0.0011619910789824953, 0.0011619910789824953, 0.0011619910789824953, 0.9763630041150417, 0.0008714933092368716, 0.015396381796518064, 0.0011619910789824953, 0.0008714933092368716, 0.0008714933092368716, 0.000966096457293336, 0.000966096457293336, 0.992181061640256, 0.000966096457293336, 0.000966096457293336, 0.0007245723429700019, 0.0007245723429700019, 0.000966096457293336, 0.0007245723429700019, 0.0007245723429700019, 0.0007448239329262284, 0.0007448239329262284, 0.0005586179496946713, 0.0007448239329262284, 0.9941537444732833, 0.0005586179496946713, 0.0005586179496946713, 0.0007448239329262284, 0.0005586179496946713, 0.0005586179496946713, 0.4259367545567841, 0.0901959265565476, 0.000311737073352123, 0.013612518869709371, 0.46802125945932066, 0.000311737073352123, 0.000311737073352123, 0.000415649431136164, 0.000311737073352123, 0.000311737073352123, 0.002226184503477509, 0.002226184503477509, 0.0016696383776081314, 0.002226184503477509, 0.002226184503477509, 0.0016696383776081314, 0.0016696383776081314, 0.9823039121594507, 0.0016696383776081314, 0.0016696383776081314, 0.0014319943700033325, 0.0014319943700033325, 0.0010739957775024993, 0.0014319943700033325, 0.0014319943700033325, 0.0010739957775024993, 0.9884341138948002, 0.0014319943700033325, 0.0010739957775024993, 0.0010739957775024993, 0.001356965266110022, 0.001356965266110022, 0.0010177239495825165, 0.001356965266110022, 0.001356965266110022, 0.0010177239495825165, 0.0010177239495825165, 0.001356965266110022, 0.9888884376776784, 0.0010177239495825165, 0.0015811492258799517, 0.0015811492258799517, 0.0011858619194099638, 0.0015811492258799517, 0.9874276915620298, 0.0011858619194099638, 0.0011858619194099638, 0.0015811492258799517, 0.0011858619194099638, 0.0011858619194099638, 0.000337212955383648, 0.00042151619422956, 0.000252909716537736, 0.000337212955383648, 0.000337212955383648, 0.997223012308293, 0.000252909716537736, 0.000337212955383648, 0.000252909716537736, 0.000252909716537736, 0.00033440548708463214, 0.00033440548708463214, 0.0002508041153134741, 0.00033440548708463214, 0.00033440548708463214, 0.9972807638581441, 0.0002508041153134741, 0.00033440548708463214, 0.0002508041153134741, 0.0002508041153134741, 0.004556062429166012, 0.0003504663407050778, 0.00026284975552880836, 0.7637537729815409, 0.0003504663407050778, 0.2294678365766497, 0.00026284975552880836, 0.0003504663407050778, 0.00026284975552880836, 0.00026284975552880836, 0.9934798718875876, 0.00028219851495173625, 0.0002116488862138022, 0.00028219851495173625, 0.00028219851495173625, 0.0002116488862138022, 0.00451517623922778, 0.00028219851495173625, 0.0002116488862138022, 0.0002116488862138022, 0.0014222638935468598, 0.0014222638935468598, 0.0010666979201601448, 0.0014222638935468598, 0.0014222638935468598, 0.0010666979201601448, 0.0010666979201601448, 0.9888289719884542, 0.0010666979201601448, 0.0010666979201601448, 0.6381700175367694, 0.34543098698163444, 0.0010690734248338719, 5.3453671241693594e-05, 5.3453671241693594e-05, 4.0090253431270196e-05, 0.00018708784934592758, 5.3453671241693594e-05, 0.014913574276432511, 4.0090253431270196e-05, 0.08327050134877083, 0.9083290813120208, 0.00025208022608104187, 0.0003361069681080558, 0.0003361069681080558, 0.00025208022608104187, 0.00025208022608104187, 0.00638603239405306, 0.00025208022608104187, 0.00025208022608104187, 0.44332217110443006, 0.2979165369490534, 1.9413302290437472e-05, 0.009318385099409986, 0.10535599153020415, 2.588440305391663e-05, 0.0069434911192131354, 2.588440305391663e-05, 0.13699320316285377, 7.765320916174989e-05, 0.7493475866030784, 0.0001161014194682695, 8.707606460120213e-05, 0.0001161014194682695, 0.09395507370469709, 8.707606460120213e-05, 8.707606460120213e-05, 0.08263518530654082, 8.707606460120213e-05, 0.07346317316854753, 0.10060399693313778, 0.2536771986159846, 0.00017109523287948603, 0.005589110940729876, 0.00022812697717264802, 0.6388695995720007, 0.00022812697717264802, 0.00022812697717264802, 0.00017109523287948603, 0.00017109523287948603, 0.00043323896259071993, 0.00043323896259071993, 0.00032492922194303996, 0.00043323896259071993, 0.00043323896259071993, 0.00032492922194303996, 0.00032492922194303996, 0.00043323896259071993, 0.9964496139586558, 0.00032492922194303996, 0.0008043859128855054, 0.9936176988918206, 0.000603289434664129, 0.0008043859128855054, 0.0008043859128855054, 0.000603289434664129, 0.000603289434664129, 0.0008043859128855054, 0.000603289434664129, 0.000603289434664129, 0.5030691699487636, 0.2595736874771142, 0.0001339850417122062, 0.05354935500431175, 0.18288958193716148, 0.0001339850417122062, 0.0001339850417122062, 0.00017864672228294162, 0.0001339850417122062, 0.0001339850417122062, 0.0003245510355791371, 0.31919594349208136, 0.00024341327668435283, 0.0003245510355791371, 0.6784739398781862, 0.00024341327668435283, 0.00024341327668435283, 0.0003245510355791371, 0.00024341327668435283, 0.00024341327668435283, 0.001735322690894963, 0.001735322690894963, 0.0013014920181712224, 0.001735322690894963, 0.9860971191010628, 0.0013014920181712224, 0.0013014920181712224, 0.001735322690894963, 0.0013014920181712224, 0.0013014920181712224, 0.001492668172722316, 0.001492668172722316, 0.001119501129541737, 0.001492668172722316, 0.001492668172722316, 0.9870268292126315, 0.002239002259083474, 0.001492668172722316, 0.001119501129541737, 0.001119501129541737, 0.0008131060500738935, 0.0008131060500738935, 0.9934123166777794, 0.0008131060500738935, 0.0008131060500738935, 0.0006098295375554201, 0.0006098295375554201, 0.0008131060500738935, 0.0006098295375554201, 0.0006098295375554201, 0.6884328750056772, 0.24006345767845796, 0.057307666684105994, 0.01341584090787946, 4.004728629217749e-05, 3.003546471913312e-05, 0.0006007092943826624, 4.004728629217749e-05, 3.003546471913312e-05, 3.003546471913312e-05, 0.00079532757441257, 0.00079532757441257, 0.0005964956808094274, 0.00079532757441257, 0.00079532757441257, 0.0005964956808094274, 0.0005964956808094274, 0.00079532757441257, 0.9935629723349031, 0.0005964956808094274, 0.0002283594817772901, 0.0002283594817772901, 0.00017126961133296758, 0.0002283594817772901, 0.8897456308747665, 0.00017126961133296758, 0.00017126961133296758, 0.0002283594817772901, 0.10864202345554576, 0.00017126961133296758, 0.00036255243145854135, 0.5821685668145528, 0.000271914323593906, 0.00036255243145854135, 0.00036255243145854135, 0.4153038102357591, 0.000271914323593906, 0.00036255243145854135, 0.000271914323593906, 0.000271914323593906, 0.0005702662666147556, 0.0005702662666147556, 0.00042769969996106673, 0.0005702662666147556, 0.0005702662666147556, 0.00042769969996106673, 0.9953997683760559, 0.0005702662666147556, 0.00042769969996106673, 0.00042769969996106673, 0.4556688889867211, 0.00043304242241551063, 0.000324781816811633, 0.00043304242241551063, 0.19064692646842857, 0.000324781816811633, 0.000324781816811633, 0.35108914397337526, 0.000324781816811633, 0.000324781816811633, 0.0006873676203776984, 0.0006873676203776984, 0.0005155257152832738, 0.0006873676203776984, 0.0006873676203776984, 0.0005155257152832738, 0.994449104781435, 0.0006873676203776984, 0.0005155257152832738, 0.0005155257152832738, 0.0006816938264592308, 0.0006816938264592308, 0.0005112703698444232, 0.0006816938264592308, 0.9945912928040179, 0.0005112703698444232, 0.0005112703698444232, 0.0006816938264592308, 0.0005112703698444232, 0.0005112703698444232, 0.997773593830317, 0.0002786882463041176, 0.0002090161847280882, 0.0002786882463041176, 0.0002786882463041176, 0.0002090161847280882, 0.0002090161847280882, 0.0002786882463041176, 0.0002090161847280882, 0.0002090161847280882, 0.0026460136700506716, 0.0026460136700506716, 0.001984510252538004, 0.0026460136700506716, 0.0026460136700506716, 0.001984510252538004, 0.001984510252538004, 0.0026460136700506716, 0.001984510252538004, 0.9790250579187486, 0.00038724104842495505, 0.00038724104842495505, 0.0002904307863187163, 0.00038724104842495505, 0.00038724104842495505, 0.9968552689079405, 0.0002904307863187163, 0.00038724104842495505, 0.0002904307863187163, 0.0002904307863187163, 0.9986764418653613, 0.00016733153635745173, 0.0001254986522680888, 0.00016733153635745173, 0.00016733153635745173, 0.0001254986522680888, 0.0001254986522680888, 0.00016733153635745173, 0.0001254986522680888, 0.0001254986522680888, 0.572181902545566, 0.0004446721605172458, 0.0005558402006465572, 0.0004446721605172458, 0.0004446721605172458, 0.4245507452538404, 0.0003335041203879343, 0.0004446721605172458, 0.0003335041203879343, 0.0003335041203879343, 0.001629341034832759, 0.0013034728278662072, 0.0009776046208996554, 0.0013034728278662072, 0.0013034728278662072, 0.9893358763504513, 0.0009776046208996554, 0.0013034728278662072, 0.0009776046208996554, 0.0009776046208996554, 0.001986032173879417, 0.001986032173879417, 0.0014895241304095626, 0.984078942157251, 0.001986032173879417, 0.0014895241304095626, 0.0014895241304095626, 0.001986032173879417, 0.0014895241304095626, 0.0014895241304095626, 0.0016412975201583373, 0.0016412975201583373, 0.001230973140118753, 0.0016412975201583373, 0.0016412975201583373, 0.001230973140118753, 0.001230973140118753, 0.9868301339952004, 0.001230973140118753, 0.001230973140118753, 0.001188092308444113, 0.001188092308444113, 0.0008910692313330849, 0.001188092308444113, 0.001188092308444113, 0.9902749390881683, 0.0008910692313330849, 0.001188092308444113, 0.0008910692313330849, 0.0008910692313330849, 0.0012931464649636837, 0.0012931464649636837, 0.0009698598487227627, 0.0012931464649636837, 0.989580332313459, 0.0009698598487227627, 0.0009698598487227627, 0.0012931464649636837, 0.0009698598487227627, 0.0009698598487227627, 0.0019364854861978057, 0.0019364854861978057, 0.0014523641146483542, 0.0019364854861978057, 0.0019364854861978057, 0.0014523641146483542, 0.9842187483600348, 0.0019364854861978057, 0.0014523641146483542, 0.0014523641146483542, 0.00014642569503044294, 0.00014642569503044294, 0.0001098192712728322, 0.00014642569503044294, 0.00014642569503044294, 0.9988062722264089, 0.0001098192712728322, 0.00014642569503044294, 0.0001098192712728322, 0.0001098192712728322, 0.0016263994189845564, 0.0016263994189845564, 0.0012197995642384174, 0.0016263994189845564, 0.0016263994189845564, 0.9868178474688797, 0.0012197995642384174, 0.0016263994189845564, 0.0012197995642384174, 0.0012197995642384174, 0.050034477004051094, 0.0003841418579965535, 0.00028810639349741515, 0.3846220353190492, 0.015653780713359555, 0.5476902540385862, 0.00028810639349741515, 0.0003841418579965535, 0.00028810639349741515, 0.00028810639349741515, 0.0009895121834100184, 0.0009895121834100184, 0.0007421341375575139, 0.0009895121834100184, 0.0009895121834100184, 0.0007421341375575139, 0.0007421341375575139, 0.9922333419143959, 0.0007421341375575139, 0.0007421341375575139, 0.0017233306654170853, 0.0017233306654170853, 0.001292497999062814, 0.0017233306654170853, 0.9861759732849271, 0.001292497999062814, 0.001292497999062814, 0.0017233306654170853, 0.001292497999062814, 0.001292497999062814, 0.00019479116503633715, 0.00019479116503633715, 0.998402116393746, 0.00019479116503633715, 0.00019479116503633715, 0.00014609337377725285, 0.00014609337377725285, 0.00019479116503633715, 0.00014609337377725285, 0.00014609337377725285, 0.001239189885339211, 0.001239189885339211, 0.9901127183860295, 0.001239189885339211, 0.001239189885339211, 0.0009293924140044083, 0.0009293924140044083, 0.001239189885339211, 0.0009293924140044083, 0.0009293924140044083, 0.0019382897432132094, 0.0019382897432132094, 0.001453717307409907, 0.9846511895523103, 0.0019382897432132094, 0.001453717307409907, 0.001453717307409907, 0.0019382897432132094, 0.001453717307409907, 0.001453717307409907, 0.0020061326701416595, 0.0020061326701416595, 0.0015045995026062445, 0.0020061326701416595, 0.0020061326701416595, 0.0015045995026062445, 0.0015045995026062445, 0.9840080747044839, 0.0015045995026062445, 0.0015045995026062445, 0.0012568536078406056, 0.0012568536078406056, 0.0009426402058804542, 0.0012568536078406056, 0.0012568536078406056, 0.9897722161744769, 0.0009426402058804542, 0.0012568536078406056, 0.0009426402058804542, 0.0009426402058804542, 0.0020205129160391555, 0.0020205129160391555, 0.0015153846870293664, 0.0020205129160391555, 0.0020205129160391555, 0.0015153846870293664, 0.0015153846870293664, 0.9839897901110686, 0.0015153846870293664, 0.0015153846870293664, 0.0006399954821326156, 0.0006399954821326156, 0.00047999661159946167, 0.0006399954821326156, 0.0006399954821326156, 0.9948729769751509, 0.00047999661159946167, 0.0006399954821326156, 0.00047999661159946167, 0.00047999661159946167, 0.0011348121976658698, 0.0011348121976658698, 0.0008511091482494024, 0.0011348121976658698, 0.0011348121976658698, 0.9909747516117209, 0.0008511091482494024, 0.0011348121976658698, 0.0008511091482494024, 0.0008511091482494024, 0.0002709351330248685, 0.013411289084730991, 0.982952662614223, 0.0002709351330248685, 0.001964279714430297, 0.00020320134976865137, 0.00020320134976865137, 0.0002709351330248685, 0.00020320134976865137, 0.00020320134976865137, 0.0006399730305570396, 0.0006399730305570396, 0.9948380760009181, 0.0006399730305570396, 0.0006399730305570396, 0.0004799797729177797, 0.0004799797729177797, 0.0006399730305570396, 0.0004799797729177797, 0.0004799797729177797, 0.00046467493306386233, 0.00046467493306386233, 0.00046467493306386233, 0.00046467493306386233, 0.9962630564889209, 0.00034850619979789676, 0.00034850619979789676, 0.00046467493306386233, 0.00034850619979789676, 0.00034850619979789676, 0.14066085163881442, 0.00033671059638256, 0.00025253294728692, 0.6561647747005137, 0.00033671059638256, 0.20110040368948395, 0.00025253294728692, 0.00033671059638256, 0.00025253294728692, 0.00025253294728692, 0.0006902869142569722, 0.0006902869142569722, 0.0005177151856927292, 0.0006902869142569722, 0.0006902869142569722, 0.0005177151856927292, 0.0005177151856927292, 0.9945308717157327, 0.0005177151856927292, 0.0005177151856927292, 0.07564314575182329, 0.2371727799093626, 0.00011819241523722389, 0.17969186863232606, 0.5066908841219788, 0.00011819241523722389, 0.00011819241523722389, 0.00015758988698296518, 0.00011819241523722389, 0.00011819241523722389, 0.0022542000497852597, 0.0022542000497852597, 0.0016906500373389448, 0.0022542000497852597, 0.0022542000497852597, 0.0016906500373389448, 0.0016906500373389448, 0.0022542000497852597, 0.0016906500373389448, 0.9817041216814807, 0.0012488806594431676, 0.0012488806594431676, 0.0009366604945823757, 0.0012488806594431676, 0.9900501427735712, 0.0009366604945823757, 0.0009366604945823757, 0.0012488806594431676, 0.0009366604945823757, 0.0009366604945823757, 0.0008577736961298031, 0.9930874966942795, 0.0006433302720973524, 0.0008577736961298031, 0.0008577736961298031, 0.0006433302720973524, 0.0006433302720973524, 0.0008577736961298031, 0.0006433302720973524, 0.0006433302720973524, 0.001021801083300445, 0.001021801083300445, 0.0007663508124753338, 0.001021801083300445, 0.001021801083300445, 0.0007663508124753338, 0.0007663508124753338, 0.001021801083300445, 0.0007663508124753338, 0.9919134016139071, 0.9983481664346193, 0.00020570713778079007, 0.00015428035333559255, 0.00020570713778079007, 0.00020570713778079007, 0.00015428035333559255, 0.00015428035333559255, 0.00020570713778079007, 0.00015428035333559255, 0.00015428035333559255, 0.0018472512937066604, 0.0018472512937066604, 0.0013854384702799954, 0.0018472512937066604, 0.0018472512937066604, 0.0013854384702799954, 0.0013854384702799954, 0.0018472512937066604, 0.9850467523690767, 0.0013854384702799954, 0.998283903467177, 0.00021542596104168687, 0.00016156947078126515, 0.00021542596104168687, 0.00021542596104168687, 0.00016156947078126515, 0.00016156947078126515, 0.00021542596104168687, 0.00016156947078126515, 0.00016156947078126515, 0.06421909915078176, 0.00014488234438980656, 0.00010866175829235493, 0.9347446654169345, 0.00014488234438980656, 0.00010866175829235493, 0.00010866175829235493, 0.00014488234438980656, 0.00010866175829235493, 0.00010866175829235493, 0.002115582118117465, 0.002115582118117465, 0.0015866865885880987, 0.002115582118117465, 0.002115582118117465, 0.0015866865885880987, 0.0015866865885880987, 0.002115582118117465, 0.9826878938655625, 0.0015866865885880987, 0.008146691431608814, 0.27395861057833226, 0.0003133342858311082, 0.6710575954882901, 0.0004177790477748109, 0.044702358111904775, 0.0003133342858311082, 0.0004177790477748109, 0.0003133342858311082, 0.0003133342858311082, 0.00025578569267817634, 0.00025578569267817634, 0.00019183926950863223, 0.00025578569267817634, 0.00025578569267817634, 0.9979478799839049, 0.00019183926950863223, 0.00025578569267817634, 0.00019183926950863223, 0.00019183926950863223, 0.0009096624176160653, 0.0005198070957806088, 0.0003898553218354566, 0.28797313106245725, 0.0005198070957806088, 0.707847312679244, 0.0003898553218354566, 0.0005198070957806088, 0.0003898553218354566, 0.0003898553218354566, 0.29912402669828725, 0.0017416246095970146, 0.0013062184571977608, 0.0017416246095970146, 0.0017416246095970146, 0.0013062184571977608, 0.0013062184571977608, 0.0017416246095970146, 0.0013062184571977608, 0.68837712694322, 0.00036880180908514457, 0.019546495881512662, 0.954735683269168, 0.00036880180908514457, 0.00036880180908514457, 0.02351111532917797, 0.0002766013568138584, 0.00036880180908514457, 0.0002766013568138584, 0.0002766013568138584, 0.0011469156265498928, 0.0011469156265498928, 0.9909351013391074, 0.0011469156265498928, 0.0011469156265498928, 0.0008601867199124196, 0.0008601867199124196, 0.0011469156265498928, 0.0008601867199124196, 0.0008601867199124196, 0.0007111131371221614, 0.0007111131371221614, 0.000533334852841621, 0.0007111131371221614, 0.0007111131371221614, 0.9943139439810621, 0.000533334852841621, 0.0007111131371221614, 0.000533334852841621, 0.000533334852841621, 0.05138327870371949, 0.2896590506105575, 0.0004862770855241592, 0.0006483694473655456, 0.0006483694473655456, 0.3374762973537665, 0.0004862770855241592, 0.0006483694473655456, 0.0004862770855241592, 0.31802521393280014, 0.04237222150203098, 0.0004507683138513934, 0.40050764685696305, 0.0004507683138513934, 0.0004507683138513934, 0.554332333958751, 0.00033807623538854506, 0.0004507683138513934, 0.00033807623538854506, 0.00033807623538854506, 0.0016042744882083333, 0.0016042744882083333, 0.00120320586615625, 0.0016042744882083333, 0.0016042744882083333, 0.00120320586615625, 0.9870298788701771, 0.0016042744882083333, 0.00120320586615625, 0.00120320586615625, 0.0005968827686156054, 0.0005968827686156054, 0.0004476620764617041, 0.9953020166665221, 0.0005968827686156054, 0.0004476620764617041, 0.0004476620764617041, 0.0005968827686156054, 0.0004476620764617041, 0.0004476620764617041, 0.0003294432356913851, 0.0003294432356913851, 0.00024708242676853883, 0.6215770249407209, 0.0003294432356913851, 0.3760594535417161, 0.00024708242676853883, 0.0003294432356913851, 0.00024708242676853883, 0.00024708242676853883, 0.0019189487053076694, 0.0019189487053076694, 0.0014392115289807521, 0.0019189487053076694, 0.0019189487053076694, 0.0014392115289807521, 0.0014392115289807521, 0.0019189487053076694, 0.9844206858228345, 0.0014392115289807521, 0.000800920756035923, 0.000800920756035923, 0.0006006905670269423, 0.000800920756035923, 0.9935421978625625, 0.0006006905670269423, 0.0006006905670269423, 0.000800920756035923, 0.0006006905670269423, 0.0006006905670269423, 0.996978585206032, 0.0003759700519302468, 0.00028197753894768513, 0.0003759700519302468, 0.0003759700519302468, 0.00028197753894768513, 0.00028197753894768513, 0.0003759700519302468, 0.00028197753894768513, 0.00028197753894768513, 0.0011255278846533968, 0.0011255278846533968, 0.0008441459134900477, 0.0011255278846533968, 0.991027302437316, 0.0008441459134900477, 0.0008441459134900477, 0.0011255278846533968, 0.0008441459134900477, 0.0008441459134900477, 0.038908760755219984, 0.0004564077507943693, 0.000342305813095777, 0.0004564077507943693, 0.0004564077507943693, 0.000342305813095777, 0.000342305813095777, 0.9578857669796826, 0.000342305813095777, 0.000342305813095777, 0.007829733569088152, 0.010096235391718932, 0.0010302281011958095, 0.0008241824809566476, 0.0008241824809566476, 0.0006181368607174857, 0.0006181368607174857, 0.9766562399336274, 0.0006181368607174857, 0.0006181368607174857, 0.00040636890115541965, 0.9968229145342444, 0.00030477667586656474, 0.00040636890115541965, 0.00040636890115541965, 0.00030477667586656474, 0.00030477667586656474, 0.00040636890115541965, 0.00030477667586656474, 0.00030477667586656474, 0.0006470164315685825, 0.9949495176445877, 0.00048526232367643687, 0.0006470164315685825, 0.0006470164315685825, 0.00048526232367643687, 0.00048526232367643687, 0.0006470164315685825, 0.00048526232367643687, 0.00048526232367643687, 0.0006419668344596462, 0.9948881017038368, 0.0004814751258447347, 0.0006419668344596462, 0.0006419668344596462, 0.0004814751258447347, 0.0004814751258447347, 0.0006419668344596462, 0.0004814751258447347, 0.0004814751258447347, 0.4179731300235083, 0.5216174890958317, 6.488586753275679e-05, 0.05487181531020132, 0.005104354912576867, 6.488586753275679e-05, 6.488586753275679e-05, 8.651449004367571e-05, 6.488586753275679e-05, 6.488586753275679e-05, 0.998985261274705, 0.0001281736285956768, 9.613022144675761e-05, 0.0001281736285956768, 0.0001281736285956768, 9.613022144675761e-05, 9.613022144675761e-05, 0.0001281736285956768, 9.613022144675761e-05, 9.613022144675761e-05, 0.75448426213637, 9.355971604577888e-05, 0.004921241064007969, 0.00013098360246409043, 7.48477728366231e-05, 0.08126596935736353, 0.15882697395931422, 7.48477728366231e-05, 5.613582962746733e-05, 5.613582962746733e-05, 0.6786614208499121, 0.001640025147572722, 0.13859400921009482, 0.025622421870773834, 9.507392159841868e-05, 7.130544119881401e-05, 0.15508933460742047, 9.507392159841868e-05, 7.130544119881401e-05, 7.130544119881401e-05, 0.0034535254944761886, 0.0034535254944761886, 0.0025901441208571415, 0.0034535254944761886, 0.0034535254944761886, 0.0025901441208571415, 0.0025901441208571415, 0.0034535254944761886, 0.0025901441208571415, 0.9721674266950471, 0.003167156864301825, 0.00033338493308440265, 0.0004167311663555033, 0.00033338493308440265, 0.00033338493308440265, 0.025670639847499004, 0.9689833080098162, 0.00033338493308440265, 0.000250038699813302, 0.000250038699813302, 0.0004447584872926926, 0.0004447584872926926, 0.00033356886546951947, 0.0004447584872926926, 0.0004447584872926926, 0.00033356886546951947, 0.9964813907792778, 0.0004447584872926926, 0.00033356886546951947, 0.00033356886546951947, 0.0014516623544851067, 0.0014516623544851067, 0.00108874676586383, 0.0014516623544851067, 0.0014516623544851067, 0.9882191478157364, 0.00108874676586383, 0.0014516623544851067, 0.00108874676586383, 0.00108874676586383, 0.9163275601532006, 0.0023742359499016033, 0.024896080293085866, 0.03847355237487611, 5.464993235067629e-05, 0.0038740729821923857, 0.013935732749422454, 2.4288858822522794e-05, 1.8216644116892097e-05, 1.8216644116892097e-05, 0.941876412934211, 0.0003956466491364408, 0.05035263021343103, 0.00010550577310305088, 0.00010550577310305088, 0.0029805380901611876, 0.003930090048088646, 0.00010550577310305088, 7.912932982728816e-05, 7.912932982728816e-05, 0.9985845570186273, 0.00018020112912002658, 0.00013515084684001993, 0.00018020112912002658, 0.00018020112912002658, 0.00013515084684001993, 0.00013515084684001993, 0.00018020112912002658, 0.00013515084684001993, 0.00013515084684001993, 0.9996430320443329, 4.4701256868870464e-05, 3.352594265165284e-05, 4.4701256868870464e-05, 4.4701256868870464e-05, 3.352594265165284e-05, 3.352594265165284e-05, 4.4701256868870464e-05, 3.352594265165284e-05, 3.352594265165284e-05, 0.0018660689008337297, 0.0018660689008337297, 0.0013995516756252972, 0.0018660689008337297, 0.0018660689008337297, 0.0013995516756252972, 0.0013995516756252972, 0.9852843796402093, 0.0013995516756252972, 0.0013995516756252972, 0.0021101456670316967, 0.0021101456670316967, 0.0015826092502737724, 0.9833278808367707, 0.0021101456670316967, 0.0015826092502737724, 0.0015826092502737724, 0.0021101456670316967, 0.0015826092502737724, 0.0015826092502737724, 0.5687480369318562, 0.000182774334998588, 0.000137080751248941, 0.35097241678103863, 0.000182774334998588, 0.07914128705438861, 0.000137080751248941, 0.000182774334998588, 0.000137080751248941, 0.000137080751248941, 0.0003727939120857484, 0.4402696101732689, 0.10717824972465267, 0.0003727939120857484, 0.4502418473215627, 0.00027959543406431135, 0.00027959543406431135, 0.0003727939120857484, 0.00027959543406431135, 0.00027959543406431135, 0.0007274873366323084, 0.0007274873366323084, 0.0005456155024742312, 0.0007274873366323084, 0.0007274873366323084, 0.0005456155024742312, 0.0005456155024742312, 0.0007274873366323084, 0.0005456155024742312, 0.9941114455080494, 0.5337881284890058, 0.394192004488058, 0.04712196889518842, 0.024548210162822992, 4.8157351962379577e-05, 0.00014447205588713873, 3.611801397178468e-05, 4.8157351962379577e-05, 3.611801397178468e-05, 3.611801397178468e-05, 0.0002519110517545615, 0.9458630215754397, 0.00018893328881592112, 0.0002519110517545615, 0.0002519110517545615, 0.00018893328881592112, 0.05233452100201015, 0.0002519110517545615, 0.00018893328881592112, 0.00018893328881592112, 0.0009128296414302714, 0.0009128296414302714, 0.9927022350554202, 0.0009128296414302714, 0.0009128296414302714, 0.0006846222310727036, 0.0006846222310727036, 0.0009128296414302714, 0.0006846222310727036, 0.0006846222310727036, 0.0017453702042813297, 0.0017453702042813297, 0.0013090276532109974, 0.0017453702042813297, 0.0017453702042813297, 0.0013090276532109974, 0.0013090276532109974, 0.0017453702042813297, 0.985697822867881, 0.0013090276532109974, 0.0030563981073504845, 0.0030563981073504845, 0.0022922985805128634, 0.0030563981073504845, 0.0030563981073504845, 0.0022922985805128634, 0.0022922985805128634, 0.0030563981073504845, 0.0022922985805128634, 0.9757550957716422, 0.0010226764199250693, 0.0010226764199250693, 0.0007670073149438018, 0.9917404582223358, 0.0010226764199250693, 0.0007670073149438018, 0.0007670073149438018, 0.0010226764199250693, 0.0007670073149438018, 0.0007670073149438018, 0.0015672513293900163, 0.0015672513293900163, 0.0011754384970425124, 0.0015672513293900163, 0.0015672513293900163, 0.0011754384970425124, 0.0011754384970425124, 0.0015672513293900163, 0.9873683375157103, 0.0011754384970425124, 0.13962216157310245, 0.8569399701946333, 7.958701970725961e-05, 0.002812074696323173, 0.00010611602627634616, 7.958701970725961e-05, 7.958701970725961e-05, 0.00010611602627634616, 7.958701970725961e-05, 7.958701970725961e-05, 6.08385105933853e-05, 0.999515890538727, 4.562888294503897e-05, 6.08385105933853e-05, 6.08385105933853e-05, 4.562888294503897e-05, 4.562888294503897e-05, 6.08385105933853e-05, 4.562888294503897e-05, 4.562888294503897e-05, 0.0014421481835895748, 0.00115371854687166, 0.0008652889101537449, 0.00115371854687166, 0.00115371854687166, 0.0008652889101537449, 0.0008652889101537449, 0.9904673724893199, 0.0008652889101537449, 0.0008652889101537449, 0.8007652558397371, 0.1341424162648536, 0.06479091444663299, 5.0956283481425865e-05, 5.0956283481425865e-05, 3.82172126110694e-05, 3.82172126110694e-05, 5.0956283481425865e-05, 3.82172126110694e-05, 3.82172126110694e-05, 0.0008392784496666876, 0.9932860451805248, 0.0006294588372500157, 0.0008392784496666876, 0.0008392784496666876, 0.0006294588372500157, 0.0006294588372500157, 0.0008392784496666876, 0.0006294588372500157, 0.0006294588372500157, 0.0008423930807573682, 0.0008423930807573682, 0.0006317948105680262, 0.0008423930807573682, 0.0008423930807573682, 0.0006317948105680262, 0.0006317948105680262, 0.0008423930807573682, 0.9931814422129371, 0.0006317948105680262, 0.0014394126479823112, 0.0014394126479823112, 0.0010795594859867334, 0.0014394126479823112, 0.0014394126479823112, 0.0010795594859867334, 0.0010795594859867334, 0.0014394126479823112, 0.9885166360018522, 0.0010795594859867334, 0.0007317082681488397, 0.0007317082681488397, 0.0005487812011116298, 0.0007317082681488397, 0.0007317082681488397, 0.0005487812011116298, 0.9942086093472359, 0.0007317082681488397, 0.0005487812011116298, 0.0005487812011116298, 0.6914632763757744, 0.16337238585973343, 0.11421986862013749, 0.030649211415315188, 5.688948754582866e-05, 4.266711565937149e-05, 4.266711565937149e-05, 5.688948754582866e-05, 4.266711565937149e-05, 4.266711565937149e-05, 0.001716515031269944, 0.001716515031269944, 0.001287386273452458, 0.9861378854645828, 0.001716515031269944, 0.001287386273452458, 0.001287386273452458, 0.001716515031269944, 0.001287386273452458, 0.001287386273452458, 0.003062106089423072, 0.003062106089423072, 0.002296579567067304, 0.003062106089423072, 0.003062106089423072, 0.002296579567067304, 0.002296579567067304, 0.003062106089423072, 0.002296579567067304, 0.9752807894812484, 0.003061480432819766, 0.003061480432819766, 0.0022961103246148242, 0.003061480432819766, 0.003061480432819766, 0.0022961103246148242, 0.0022961103246148242, 0.003061480432819766, 0.0022961103246148242, 0.9758468879613004, 0.647432425691055, 0.09719918789339484, 0.2366862524308149, 6.292838786313274e-05, 0.003435889977327048, 0.004291716052265653, 0.002592649579961069, 5.0342710290506194e-05, 3.7757032717879646e-05, 0.008218447454925136, 0.0010080106890361215, 0.0010080106890361215, 0.9901184993057304, 0.0010080106890361215, 0.0010080106890361215, 0.002772029394849334, 0.0007560080167770911, 0.0010080106890361215, 0.0007560080167770911, 0.0007560080167770911, 0.9984522529704394, 0.00019246344811728387, 0.0001443475860879629, 0.00019246344811728387, 0.00019246344811728387, 0.0001443475860879629, 0.0001443475860879629, 0.00019246344811728387, 0.0001443475860879629, 0.0001443475860879629, 0.0011754858152487845, 0.0011754858152487845, 0.9906406708009131, 0.0011754858152487845, 0.0011754858152487845, 0.0008816143614365884, 0.0008816143614365884, 0.0011754858152487845, 0.0008816143614365884, 0.0008816143614365884, 0.0019821231788924513, 0.0019821231788924513, 0.0014865923841693386, 0.0019821231788924513, 0.0019821231788924513, 0.0014865923841693386, 0.0014865923841693386, 0.0019821231788924513, 0.0014865923841693386, 0.9841241583201021, 0.0006539276409849204, 0.9947874238483102, 0.0004904457307386903, 0.0006539276409849204, 0.0006539276409849204, 0.0004904457307386903, 0.0004904457307386903, 0.0006539276409849204, 0.0004904457307386903, 0.0004904457307386903, 0.0006054544350676762, 0.0006054544350676762, 0.00045409082630075713, 0.0006054544350676762, 0.0006054544350676762, 0.9950643640337258, 0.00045409082630075713, 0.0006054544350676762, 0.00045409082630075713, 0.00045409082630075713, 0.002671511191925487, 0.002671511191925487, 0.002003633393944115, 0.002671511191925487, 0.002671511191925487, 0.002003633393944115, 0.002003633393944115, 0.002671511191925487, 0.002003633393944115, 0.9784409740427096, 0.0021316641266977245, 0.023120357066490703, 0.0004919224907763979, 0.0006558966543685306, 0.0006558966543685306, 0.9705630743018331, 0.0004919224907763979, 0.0006558966543685306, 0.0004919224907763979, 0.0004919224907763979, 0.001841923795533343, 0.001841923795533343, 0.0013814428466500074, 0.001841923795533343, 0.001841923795533343, 0.0013814428466500074, 0.9854292306103385, 0.001841923795533343, 0.0013814428466500074, 0.0013814428466500074, 0.0009933322387245844, 0.0009933322387245844, 0.0007449991790434382, 0.0009933322387245844, 0.0009933322387245844, 0.0007449991790434382, 0.9920905734261786, 0.0009933322387245844, 0.0007449991790434382, 0.0007449991790434382, 0.001698475147057188, 0.001698475147057188, 0.0012738563602928909, 0.9863894416534619, 0.001698475147057188, 0.0012738563602928909, 0.0012738563602928909, 0.001698475147057188, 0.0012738563602928909, 0.0012738563602928909, 0.000745836477768011, 0.000745836477768011, 0.0005593773583260082, 0.000745836477768011, 0.000745836477768011, 0.0005593773583260082, 0.9940135657453166, 0.000745836477768011, 0.0005593773583260082, 0.0005593773583260082, 0.9975433440842026, 0.0003013270938179135, 0.00022599532036343513, 0.0003013270938179135, 0.0003013270938179135, 0.00022599532036343513, 0.0003013270938179135, 0.0003013270938179135, 0.00022599532036343513, 0.00022599532036343513, 0.601019740378754, 8.154948987500055e-05, 6.11621174062504e-05, 8.154948987500055e-05, 8.154948987500055e-05, 6.11621174062504e-05, 0.3983896454118464, 8.154948987500055e-05, 6.11621174062504e-05, 6.11621174062504e-05, 0.0018573318897376948, 0.0018573318897376948, 0.001392998917303271, 0.0018573318897376948, 0.9853145675058471, 0.001392998917303271, 0.001392998917303271, 0.0018573318897376948, 0.001392998917303271, 0.001392998917303271, 0.0006214275154478213, 0.9950608091108237, 0.0004660706365858659, 0.0006214275154478213, 0.0006214275154478213, 0.0004660706365858659, 0.0004660706365858659, 0.0006214275154478213, 0.0004660706365858659, 0.0004660706365858659, 0.0002662183441180012, 0.1967353563032029, 0.6612198122030855, 0.14036362193621613, 0.0002662183441180012, 0.0002662183441180012, 0.0001996637580885009, 0.0002662183441180012, 0.0001996637580885009, 0.0001996637580885009, 0.40577027277861644, 0.001260351833448102, 0.23310207159622645, 0.01285558870117064, 0.0002520703666896204, 0.3148989055870083, 0.0001890527750172153, 0.03125672546951293, 0.0001890527750172153, 0.0001890527750172153, 0.0020203827181772805, 0.0020203827181772805, 0.0015152870386329603, 0.0020203827181772805, 0.0020203827181772805, 0.0015152870386329603, 0.0015152870386329603, 0.0020203827181772805, 0.0015152870386329603, 0.9839263837523355, 0.0016002490736003808, 0.0016002490736003808, 0.0012001868052002856, 0.0016002490736003808, 0.0016002490736003808, 0.0012001868052002856, 0.0012001868052002856, 0.987353678411435, 0.0012001868052002856, 0.0012001868052002856, 0.0004329973699150891, 0.0004329973699150891, 0.0003247480274363168, 0.0004329973699150891, 0.0004329973699150891, 0.0003247480274363168, 0.0003247480274363168, 0.0004329973699150891, 0.9965434468595775, 0.0003247480274363168, 0.9845059394759895, 0.0001704624603023097, 0.00012784684522673225, 0.0001704624603023097, 0.0001704624603023097, 0.00012784684522673225, 0.014318846665394014, 0.0001704624603023097, 0.00012784684522673225, 0.00012784684522673225, 0.0011890519264362114, 0.0011890519264362114, 0.0008917889448271586, 0.0011890519264362114, 0.9904802547213641, 0.0008917889448271586, 0.0008917889448271586, 0.0011890519264362114, 0.0008917889448271586, 0.0008917889448271586, 0.00027592457758571427, 0.00027592457758571427, 0.00020694343318928573, 0.00027592457758571427, 0.00027592457758571427, 0.00020694343318928573, 0.00020694343318928573, 0.00027592457758571427, 0.9977432725499429, 0.00020694343318928573, 0.1900815449485075, 0.8058446934863625, 0.00012846240929162482, 0.002997456216804579, 0.0001712832123888331, 0.00012846240929162482, 0.00012846240929162482, 0.00021410401548604136, 0.00012846240929162482, 0.00012846240929162482, 0.42630501752467115, 0.5632325179671759, 9.14883076453261e-05, 0.0020127427681971744, 0.006282197124979059, 9.14883076453261e-05, 9.14883076453261e-05, 0.001677285640164312, 9.14883076453261e-05, 9.14883076453261e-05, 0.0013245511840189969, 0.0013245511840189969, 0.0009934133880142478, 0.0013245511840189969, 0.0013245511840189969, 0.0009934133880142478, 0.9894397344621907, 0.0013245511840189969, 0.0009934133880142478, 0.0009934133880142478], \"Term\": [\"absolutely\", \"absolutely\", \"absolutely\", \"absolutely\", \"absolutely\", \"absolutely\", \"absolutely\", \"absolutely\", \"absolutely\", \"absolutely\", \"acids\", \"acids\", \"acids\", \"acids\", \"acids\", \"acids\", \"acids\", \"acids\", \"acids\", \"acids\", \"add\", \"add\", \"add\", \"add\", \"add\", \"add\", \"add\", \"add\", \"add\", \"add\", \"added\", \"added\", \"added\", \"added\", \"added\", \"added\", \"added\", \"added\", \"added\", \"added\", \"afraid\", \"afraid\", \"afraid\", \"afraid\", \"afraid\", \"afraid\", \"afraid\", \"afraid\", \"afraid\", \"afraid\", \"aftertaste\", \"aftertaste\", \"aftertaste\", \"aftertaste\", \"aftertaste\", \"aftertaste\", \"aftertaste\", \"aftertaste\", \"aftertaste\", \"aftertaste\", \"allergies\", \"allergies\", \"allergies\", \"allergies\", \"allergies\", \"allergies\", \"allergies\", \"allergies\", \"allergies\", \"allergies\", \"almonds\", \"almonds\", \"almonds\", \"almonds\", \"almonds\", \"almonds\", \"almonds\", \"almonds\", \"almonds\", \"almonds\", \"alternative\", \"alternative\", \"alternative\", \"alternative\", \"alternative\", \"alternative\", \"alternative\", \"alternative\", \"alternative\", \"alternative\", \"amazon\", \"amazon\", \"amazon\", \"amazon\", \"amazon\", \"amazon\", \"amazon\", \"amazon\", \"amazon\", \"amazon\", \"apparently\", \"apparently\", \"apparently\", \"apparently\", \"apparently\", \"apparently\", \"apparently\", \"apparently\", \"apparently\", \"apparently\", \"apple\", \"apple\", \"apple\", \"apple\", \"apple\", \"apple\", \"apple\", \"apple\", \"apple\", \"apple\", \"aroma\", \"aroma\", \"aroma\", \"aroma\", \"aroma\", \"aroma\", \"aroma\", \"aroma\", \"aroma\", \"aroma\", \"arrived\", \"arrived\", \"arrived\", \"arrived\", \"arrived\", \"arrived\", \"arrived\", \"arrived\", \"arrived\", \"arrived\", \"asian\", \"asian\", \"asian\", \"asian\", \"asian\", \"asian\", \"asian\", \"asian\", \"asian\", \"asian\", \"awful\", \"awful\", \"awful\", \"awful\", \"awful\", \"awful\", \"awful\", \"awful\", \"awful\", \"awful\", \"babies\", \"babies\", \"babies\", \"babies\", \"babies\", \"babies\", \"babies\", \"babies\", \"babies\", \"babies\", \"baby\", \"baby\", \"baby\", \"baby\", \"baby\", \"baby\", \"baby\", \"baby\", \"baby\", \"baby\", \"bag\", \"bag\", \"bag\", \"bag\", \"bag\", \"bag\", \"bag\", \"bag\", \"bag\", \"bag\", \"bags\", \"bags\", \"bags\", \"bags\", \"bags\", \"bags\", \"bags\", \"bags\", \"bags\", \"bags\", \"baking\", \"baking\", \"baking\", \"baking\", \"baking\", \"baking\", \"baking\", \"baking\", \"baking\", \"baking\", \"ball\", \"ball\", \"ball\", \"ball\", \"ball\", \"ball\", \"ball\", \"ball\", \"ball\", \"ball\", \"banana\", \"banana\", \"banana\", \"banana\", \"banana\", \"banana\", \"banana\", \"banana\", \"banana\", \"banana\", \"bars\", \"bars\", \"bars\", \"bars\", \"bars\", \"bars\", \"bars\", \"bars\", \"bars\", \"bars\", \"basket\", \"basket\", \"basket\", \"basket\", \"basket\", \"basket\", \"basket\", \"basket\", \"basket\", \"basket\", \"bath\", \"bath\", \"bath\", \"bath\", \"bath\", \"bath\", \"bath\", \"bath\", \"bath\", \"bath\", \"beans\", \"beans\", \"beans\", \"beans\", \"beans\", \"beans\", \"beans\", \"beans\", \"beans\", \"beans\", \"bed\", \"bed\", \"bed\", \"bed\", \"bed\", \"bed\", \"bed\", \"bed\", \"bed\", \"bed\", \"beef\", \"beef\", \"beef\", \"beef\", \"beef\", \"beef\", \"beef\", \"beef\", \"beef\", \"beef\", \"best\", \"best\", \"best\", \"best\", \"best\", \"best\", \"best\", \"best\", \"best\", \"best\", \"better\", \"better\", \"better\", \"better\", \"better\", \"better\", \"better\", \"better\", \"better\", \"better\", \"beverage\", \"beverage\", \"beverage\", \"beverage\", \"beverage\", \"beverage\", \"beverage\", \"beverage\", \"beverage\", \"beverage\", \"bigger\", \"bigger\", \"bigger\", \"bigger\", \"bigger\", \"bigger\", \"bigger\", \"bigger\", \"bigger\", \"bigger\", \"birthday\", \"birthday\", \"birthday\", \"birthday\", \"birthday\", \"birthday\", \"birthday\", \"birthday\", \"birthday\", \"birthday\", \"bisquick\", \"bisquick\", \"bisquick\", \"bisquick\", \"bisquick\", \"bisquick\", \"bisquick\", \"bisquick\", \"bisquick\", \"bisquick\", \"bit\", \"bit\", \"bit\", \"bit\", \"bit\", \"bit\", \"bit\", \"bit\", \"bit\", \"bit\", \"bitter\", \"bitter\", \"bitter\", \"bitter\", \"bitter\", \"bitter\", \"bitter\", \"bitter\", \"bitter\", \"bitter\", \"black\", \"black\", \"black\", \"black\", \"black\", \"black\", \"black\", \"black\", \"black\", \"black\", \"blend\", \"blend\", \"blend\", \"blend\", \"blend\", \"blend\", \"blend\", \"blend\", \"blend\", \"blend\", \"bold\", \"bold\", \"bold\", \"bold\", \"bold\", \"bold\", \"bold\", \"bold\", \"bold\", \"bold\", \"bone\", \"bone\", \"bone\", \"bone\", \"bone\", \"bone\", \"bone\", \"bone\", \"bone\", \"bone\", \"bones\", \"bones\", \"bones\", \"bones\", \"bones\", \"bones\", \"bones\", \"bones\", \"bones\", \"bones\", \"bottle\", \"bottle\", \"bottle\", \"bottle\", \"bottle\", \"bottle\", \"bottle\", \"bottle\", \"bottle\", \"bottle\", \"bought\", \"bought\", \"bought\", \"bought\", \"bought\", \"bought\", \"bought\", \"bought\", \"bought\", \"bought\", \"box\", \"box\", \"box\", \"box\", \"box\", \"box\", \"box\", \"box\", \"box\", \"box\", \"boxes\", \"boxes\", \"boxes\", \"boxes\", \"boxes\", \"boxes\", \"boxes\", \"boxes\", \"boxes\", \"boxes\", \"bread\", \"bread\", \"bread\", \"bread\", \"bread\", \"bread\", \"bread\", \"bread\", \"bread\", \"bread\", \"break\", \"break\", \"break\", \"break\", \"break\", \"break\", \"break\", \"break\", \"break\", \"break\", \"brew\", \"brew\", \"brew\", \"brew\", \"brew\", \"brew\", \"brew\", \"brew\", \"brew\", \"brew\", \"brewers\", \"brewers\", \"brewers\", \"brewers\", \"brewers\", \"brewers\", \"brewers\", \"brewers\", \"brewers\", \"brewers\", \"broken\", \"broken\", \"broken\", \"broken\", \"broken\", \"broken\", \"broken\", \"broken\", \"broken\", \"broken\", \"brownies\", \"brownies\", \"brownies\", \"brownies\", \"brownies\", \"brownies\", \"brownies\", \"brownies\", \"brownies\", \"brownies\", \"buffalo\", \"buffalo\", \"buffalo\", \"buffalo\", \"buffalo\", \"buffalo\", \"buffalo\", \"buffalo\", \"buffalo\", \"buffalo\", \"business\", \"business\", \"business\", \"business\", \"business\", \"business\", \"business\", \"business\", \"business\", \"business\", \"butter\", \"butter\", \"butter\", \"butter\", \"butter\", \"butter\", \"butter\", \"butter\", \"butter\", \"butter\", \"buy\", \"buy\", \"buy\", \"buy\", \"buy\", \"buy\", \"buy\", \"buy\", \"buy\", \"buy\", \"cake\", \"cake\", \"cake\", \"cake\", \"cake\", \"cake\", \"cake\", \"cake\", \"cake\", \"cake\", \"calcium\", \"calcium\", \"calcium\", \"calcium\", \"calcium\", \"calcium\", \"calcium\", \"calcium\", \"calcium\", \"calcium\", \"calorie\", \"calorie\", \"calorie\", \"calorie\", \"calorie\", \"calorie\", \"calorie\", \"calorie\", \"calorie\", \"calorie\", \"calories\", \"calories\", \"calories\", \"calories\", \"calories\", \"calories\", \"calories\", \"calories\", \"calories\", \"calories\", \"candies\", \"candies\", \"candies\", \"candies\", \"candies\", \"candies\", \"candies\", \"candies\", \"candies\", \"candies\", \"candy\", \"candy\", \"candy\", \"candy\", \"candy\", \"candy\", \"candy\", \"candy\", \"candy\", \"candy\", \"cans\", \"cans\", \"cans\", \"cans\", \"cans\", \"cans\", \"cans\", \"cans\", \"cans\", \"cans\", \"carbonated\", \"carbonated\", \"carbonated\", \"carbonated\", \"carbonated\", \"carbonated\", \"carbonated\", \"carbonated\", \"carbonated\", \"carbonated\", \"carbonation\", \"carbonation\", \"carbonation\", \"carbonation\", \"carbonation\", \"carbonation\", \"carbonation\", \"carbonation\", \"carbonation\", \"carbonation\", \"carbs\", \"carbs\", \"carbs\", \"carbs\", \"carbs\", \"carbs\", \"carbs\", \"carbs\", \"carbs\", \"carbs\", \"carrying\", \"carrying\", \"carrying\", \"carrying\", \"carrying\", \"carrying\", \"carrying\", \"carrying\", \"carrying\", \"carrying\", \"cat\", \"cat\", \"cat\", \"cat\", \"cat\", \"cat\", \"cat\", \"cat\", \"cat\", \"cat\", \"cats\", \"cats\", \"cats\", \"cats\", \"cats\", \"cats\", \"cats\", \"cats\", \"cats\", \"cats\", \"celiac\", \"celiac\", \"celiac\", \"celiac\", \"celiac\", \"celiac\", \"celiac\", \"celiac\", \"celiac\", \"celiac\", \"cents\", \"cents\", \"cents\", \"cents\", \"cents\", \"cents\", \"cents\", \"cents\", \"cents\", \"cents\", \"cereal\", \"cereal\", \"cereal\", \"cereal\", \"cereal\", \"cereal\", \"cereal\", \"cereal\", \"cereal\", \"cereal\", \"changed\", \"changed\", \"changed\", \"changed\", \"changed\", \"changed\", \"changed\", \"changed\", \"changed\", \"changed\", \"cheddar\", \"cheddar\", \"cheddar\", \"cheddar\", \"cheddar\", \"cheddar\", \"cheddar\", \"cheddar\", \"cheddar\", \"cheddar\", \"cheese\", \"cheese\", \"cheese\", \"cheese\", \"cheese\", \"cheese\", \"cheese\", \"cheese\", \"cheese\", \"cheese\", \"cherry\", \"cherry\", \"cherry\", \"cherry\", \"cherry\", \"cherry\", \"cherry\", \"cherry\", \"cherry\", \"cherry\", \"chestnuts\", \"chestnuts\", \"chestnuts\", \"chestnuts\", \"chestnuts\", \"chestnuts\", \"chestnuts\", \"chestnuts\", \"chestnuts\", \"chestnuts\", \"chew\", \"chew\", \"chew\", \"chew\", \"chew\", \"chew\", \"chew\", \"chew\", \"chew\", \"chew\", \"chia\", \"chia\", \"chia\", \"chia\", \"chia\", \"chia\", \"chia\", \"chia\", \"chia\", \"chia\", \"chicken\", \"chicken\", \"chicken\", \"chicken\", \"chicken\", \"chicken\", \"chicken\", \"chicken\", \"chicken\", \"chicken\", \"chili\", \"chili\", \"chili\", \"chili\", \"chili\", \"chili\", \"chili\", \"chili\", \"chili\", \"chili\", \"china\", \"china\", \"china\", \"china\", \"china\", \"china\", \"china\", \"china\", \"china\", \"china\", \"chip\", \"chip\", \"chip\", \"chip\", \"chip\", \"chip\", \"chip\", \"chip\", \"chip\", \"chip\", \"chips\", \"chips\", \"chips\", \"chips\", \"chips\", \"chips\", \"chips\", \"chips\", \"chips\", \"chips\", \"chocolate\", \"chocolate\", \"chocolate\", \"chocolate\", \"chocolate\", \"chocolate\", \"chocolate\", \"chocolate\", \"chocolate\", \"chocolate\", \"christmas\", \"christmas\", \"christmas\", \"christmas\", \"christmas\", \"christmas\", \"christmas\", \"christmas\", \"christmas\", \"christmas\", \"cocoa\", \"cocoa\", \"cocoa\", \"cocoa\", \"cocoa\", \"cocoa\", \"cocoa\", \"cocoa\", \"cocoa\", \"cocoa\", \"coconut\", \"coconut\", \"coconut\", \"coconut\", \"coconut\", \"coconut\", \"coconut\", \"coconut\", \"coconut\", \"coconut\", \"coffee\", \"coffee\", \"coffee\", \"coffee\", \"coffee\", \"coffee\", \"coffee\", \"coffee\", \"coffee\", \"coffee\", \"coffees\", \"coffees\", \"coffees\", \"coffees\", \"coffees\", \"coffees\", \"coffees\", \"coffees\", \"coffees\", \"coffees\", \"colors\", \"colors\", \"colors\", \"colors\", \"colors\", \"colors\", \"colors\", \"colors\", \"colors\", \"colors\", \"com\", \"com\", \"com\", \"com\", \"com\", \"com\", \"com\", \"com\", \"com\", \"com\", \"company\", \"company\", \"company\", \"company\", \"company\", \"company\", \"company\", \"company\", \"company\", \"company\", \"complaint\", \"complaint\", \"complaint\", \"complaint\", \"complaint\", \"complaint\", \"complaint\", \"complaint\", \"complaint\", \"complaint\", \"concerns\", \"concerns\", \"concerns\", \"concerns\", \"concerns\", \"concerns\", \"concerns\", \"concerns\", \"concerns\", \"concerns\", \"condition\", \"condition\", \"condition\", \"condition\", \"condition\", \"condition\", \"condition\", \"condition\", \"condition\", \"condition\", \"contains\", \"contains\", \"contains\", \"contains\", \"contains\", \"contains\", \"contains\", \"contains\", \"contains\", \"contains\", \"cook\", \"cook\", \"cook\", \"cook\", \"cook\", \"cook\", \"cook\", \"cook\", \"cook\", \"cook\", \"cookie\", \"cookie\", \"cookie\", \"cookie\", \"cookie\", \"cookie\", \"cookie\", \"cookie\", \"cookie\", \"cookie\", \"cookies\", \"cookies\", \"cookies\", \"cookies\", \"cookies\", \"cookies\", \"cookies\", \"cookies\", \"cookies\", \"cookies\", \"corn\", \"corn\", \"corn\", \"corn\", \"corn\", \"corn\", \"corn\", \"corn\", \"corn\", \"corn\", \"cow\", \"cow\", \"cow\", \"cow\", \"cow\", \"cow\", \"cow\", \"cow\", \"cow\", \"cow\", \"cracker\", \"cracker\", \"cracker\", \"cracker\", \"cracker\", \"cracker\", \"cracker\", \"cracker\", \"cracker\", \"cracker\", \"crackers\", \"crackers\", \"crackers\", \"crackers\", \"crackers\", \"crackers\", \"crackers\", \"crackers\", \"crackers\", \"crackers\", \"craving\", \"craving\", \"craving\", \"craving\", \"craving\", \"craving\", \"craving\", \"craving\", \"craving\", \"craving\", \"cream\", \"cream\", \"cream\", \"cream\", \"cream\", \"cream\", \"cream\", \"cream\", \"cream\", \"cream\", \"created\", \"created\", \"created\", \"created\", \"created\", \"created\", \"created\", \"created\", \"created\", \"created\", \"crisp\", \"crisp\", \"crisp\", \"crisp\", \"crisp\", \"crisp\", \"crisp\", \"crisp\", \"crisp\", \"crisp\", \"crispy\", \"crispy\", \"crispy\", \"crispy\", \"crispy\", \"crispy\", \"crispy\", \"crispy\", \"crispy\", \"crispy\", \"crunchy\", \"crunchy\", \"crunchy\", \"crunchy\", \"crunchy\", \"crunchy\", \"crunchy\", \"crunchy\", \"crunchy\", \"crunchy\", \"cup\", \"cup\", \"cup\", \"cup\", \"cup\", \"cup\", \"cup\", \"cup\", \"cup\", \"cup\", \"cups\", \"cups\", \"cups\", \"cups\", \"cups\", \"cups\", \"cups\", \"cups\", \"cups\", \"cups\", \"currently\", \"currently\", \"currently\", \"currently\", \"currently\", \"currently\", \"currently\", \"currently\", \"currently\", \"currently\", \"customer\", \"customer\", \"customer\", \"customer\", \"customer\", \"customer\", \"customer\", \"customer\", \"customer\", \"customer\", \"dad\", \"dad\", \"dad\", \"dad\", \"dad\", \"dad\", \"dad\", \"dad\", \"dad\", \"dad\", \"dairy\", \"dairy\", \"dairy\", \"dairy\", \"dairy\", \"dairy\", \"dairy\", \"dairy\", \"dairy\", \"dairy\", \"dark\", \"dark\", \"dark\", \"dark\", \"dark\", \"dark\", \"dark\", \"dark\", \"dark\", \"dark\", \"date\", \"date\", \"date\", \"date\", \"date\", \"date\", \"date\", \"date\", \"date\", \"date\", \"daughter\", \"daughter\", \"daughter\", \"daughter\", \"daughter\", \"daughter\", \"daughter\", \"daughter\", \"daughter\", \"daughter\", \"days\", \"days\", \"days\", \"days\", \"days\", \"days\", \"days\", \"days\", \"days\", \"days\", \"delicious\", \"delicious\", \"delicious\", \"delicious\", \"delicious\", \"delicious\", \"delicious\", \"delicious\", \"delicious\", \"delicious\", \"delight\", \"delight\", \"delight\", \"delight\", \"delight\", \"delight\", \"delight\", \"delight\", \"delight\", \"delight\", \"delivered\", \"delivered\", \"delivered\", \"delivered\", \"delivered\", \"delivered\", \"delivered\", \"delivered\", \"delivered\", \"delivered\", \"dented\", \"dented\", \"dented\", \"dented\", \"dented\", \"dented\", \"dented\", \"dented\", \"dented\", \"dented\", \"described\", \"described\", \"described\", \"described\", \"described\", \"described\", \"described\", \"described\", \"described\", \"described\", \"diabetic\", \"diabetic\", \"diabetic\", \"diabetic\", \"diabetic\", \"diabetic\", \"diabetic\", \"diabetic\", \"diabetic\", \"diabetic\", \"diamond\", \"diamond\", \"diamond\", \"diamond\", \"diamond\", \"diamond\", \"diamond\", \"diamond\", \"diamond\", \"diamond\", \"dip\", \"dip\", \"dip\", \"dip\", \"dip\", \"dip\", \"dip\", \"dip\", \"dip\", \"dip\", \"directions\", \"directions\", \"directions\", \"directions\", \"directions\", \"directions\", \"directions\", \"directions\", \"directions\", \"directions\", \"disappointment\", \"disappointment\", \"disappointment\", \"disappointment\", \"disappointment\", \"disappointment\", \"disappointment\", \"disappointment\", \"disappointment\", \"disappointment\", \"discount\", \"discount\", \"discount\", \"discount\", \"discount\", \"discount\", \"discount\", \"discount\", \"discount\", \"discount\", \"disease\", \"disease\", \"disease\", \"disease\", \"disease\", \"disease\", \"disease\", \"disease\", \"disease\", \"disease\", \"disposable\", \"disposable\", \"disposable\", \"disposable\", \"disposable\", \"disposable\", \"disposable\", \"disposable\", \"disposable\", \"disposable\", \"dog\", \"dog\", \"dog\", \"dog\", \"dog\", \"dog\", \"dog\", \"dog\", \"dog\", \"dog\", \"dogs\", \"dogs\", \"dogs\", \"dogs\", \"dogs\", \"dogs\", \"dogs\", \"dogs\", \"dogs\", \"dogs\", \"don\", \"don\", \"don\", \"don\", \"don\", \"don\", \"don\", \"don\", \"don\", \"don\", \"doubt\", \"doubt\", \"doubt\", \"doubt\", \"doubt\", \"doubt\", \"doubt\", \"doubt\", \"doubt\", \"doubt\", \"dressing\", \"dressing\", \"dressing\", \"dressing\", \"dressing\", \"dressing\", \"dressing\", \"dressing\", \"dressing\", \"dressing\", \"drink\", \"drink\", \"drink\", \"drink\", \"drink\", \"drink\", \"drink\", \"drink\", \"drink\", \"drink\", \"drinker\", \"drinker\", \"drinker\", \"drinker\", \"drinker\", \"drinker\", \"drinker\", \"drinker\", \"drinker\", \"drinker\", \"drinking\", \"drinking\", \"drinking\", \"drinking\", \"drinking\", \"drinking\", \"drinking\", \"drinking\", \"drinking\", \"drinking\", \"drop\", \"drop\", \"drop\", \"drop\", \"drop\", \"drop\", \"drop\", \"drop\", \"drop\", \"drop\", \"easy\", \"easy\", \"easy\", \"easy\", \"easy\", \"easy\", \"easy\", \"easy\", \"easy\", \"easy\", \"eat\", \"eat\", \"eat\", \"eat\", \"eat\", \"eat\", \"eat\", \"eat\", \"eat\", \"eat\", \"eating\", \"eating\", \"eating\", \"eating\", \"eating\", \"eating\", \"eating\", \"eating\", \"eating\", \"eating\", \"eats\", \"eats\", \"eats\", \"eats\", \"eats\", \"eats\", \"eats\", \"eats\", \"eats\", \"eats\", \"egg\", \"egg\", \"egg\", \"egg\", \"egg\", \"egg\", \"egg\", \"egg\", \"egg\", \"egg\", \"eggs\", \"eggs\", \"eggs\", \"eggs\", \"eggs\", \"eggs\", \"eggs\", \"eggs\", \"eggs\", \"eggs\", \"emeril\", \"emeril\", \"emeril\", \"emeril\", \"emeril\", \"emeril\", \"emeril\", \"emeril\", \"emeril\", \"emeril\", \"end\", \"end\", \"end\", \"end\", \"end\", \"end\", \"end\", \"end\", \"end\", \"end\", \"enjoyable\", \"enjoyable\", \"enjoyable\", \"enjoyable\", \"enjoyable\", \"enjoyable\", \"enjoyable\", \"enjoyable\", \"enjoyable\", \"enjoyable\", \"enjoyed\", \"enjoyed\", \"enjoyed\", \"enjoyed\", \"enjoyed\", \"enjoyed\", \"enjoyed\", \"enjoyed\", \"enjoyed\", \"enjoyed\", \"espresso\", \"espresso\", \"espresso\", \"espresso\", \"espresso\", \"espresso\", \"espresso\", \"espresso\", \"espresso\", \"espresso\", \"exact\", \"exact\", \"exact\", \"exact\", \"exact\", \"exact\", \"exact\", \"exact\", \"exact\", \"exact\", \"expected\", \"expected\", \"expected\", \"expected\", \"expected\", \"expected\", \"expected\", \"expected\", \"expected\", \"expected\", \"expiration\", \"expiration\", \"expiration\", \"expiration\", \"expiration\", \"expiration\", \"expiration\", \"expiration\", \"expiration\", \"expiration\", \"fan\", \"fan\", \"fan\", \"fan\", \"fan\", \"fan\", \"fan\", \"fan\", \"fan\", \"fan\", \"fat\", \"fat\", \"fat\", \"fat\", \"fat\", \"fat\", \"fat\", \"fat\", \"fat\", \"fat\", \"favorite\", \"favorite\", \"favorite\", \"favorite\", \"favorite\", \"favorite\", \"favorite\", \"favorite\", \"favorite\", \"favorite\", \"fed\", \"fed\", \"fed\", \"fed\", \"fed\", \"fed\", \"fed\", \"fed\", \"fed\", \"fed\", \"feed\", \"feed\", \"feed\", \"feed\", \"feed\", \"feed\", \"feed\", \"feed\", \"feed\", \"feed\", \"feeding\", \"feeding\", \"feeding\", \"feeding\", \"feeding\", \"feeding\", \"feeding\", \"feeding\", \"feeding\", \"feeding\", \"fiber\", \"fiber\", \"fiber\", \"fiber\", \"fiber\", \"fiber\", \"fiber\", \"fiber\", \"fiber\", \"fiber\", \"filling\", \"filling\", \"filling\", \"filling\", \"filling\", \"filling\", \"filling\", \"filling\", \"filling\", \"filling\", \"firm\", \"firm\", \"firm\", \"firm\", \"firm\", \"firm\", \"firm\", \"firm\", \"firm\", \"firm\", \"flavor\", \"flavor\", \"flavor\", \"flavor\", \"flavor\", \"flavor\", \"flavor\", \"flavor\", \"flavor\", \"flavor\", \"flavors\", \"flavors\", \"flavors\", \"flavors\", \"flavors\", \"flavors\", \"flavors\", \"flavors\", \"flavors\", \"flavors\", \"floor\", \"floor\", \"floor\", \"floor\", \"floor\", \"floor\", \"floor\", \"floor\", \"floor\", \"floor\", \"flour\", \"flour\", \"flour\", \"flour\", \"flour\", \"flour\", \"flour\", \"flour\", \"flour\", \"flour\", \"follow\", \"follow\", \"follow\", \"follow\", \"follow\", \"follow\", \"follow\", \"follow\", \"follow\", \"follow\", \"fondant\", \"fondant\", \"fondant\", \"fondant\", \"fondant\", \"fondant\", \"fondant\", \"fondant\", \"fondant\", \"fondant\", \"food\", \"food\", \"food\", \"food\", \"food\", \"food\", \"food\", \"food\", \"food\", \"food\", \"foods\", \"foods\", \"foods\", \"foods\", \"foods\", \"foods\", \"foods\", \"foods\", \"foods\", \"foods\", \"formula\", \"formula\", \"formula\", \"formula\", \"formula\", \"formula\", \"formula\", \"formula\", \"formula\", \"formula\", \"forward\", \"forward\", \"forward\", \"forward\", \"forward\", \"forward\", \"forward\", \"forward\", \"forward\", \"forward\", \"free\", \"free\", \"free\", \"free\", \"free\", \"free\", \"free\", \"free\", \"free\", \"free\", \"french\", \"french\", \"french\", \"french\", \"french\", \"french\", \"french\", \"french\", \"french\", \"french\", \"fruit\", \"fruit\", \"fruit\", \"fruit\", \"fruit\", \"fruit\", \"fruit\", \"fruit\", \"fruit\", \"fruit\", \"gain\", \"gain\", \"gain\", \"gain\", \"gain\", \"gain\", \"gain\", \"gain\", \"gain\", \"gain\", \"gift\", \"gift\", \"gift\", \"gift\", \"gift\", \"gift\", \"gift\", \"gift\", \"gift\", \"gift\", \"girl\", \"girl\", \"girl\", \"girl\", \"girl\", \"girl\", \"girl\", \"girl\", \"girl\", \"girl\", \"gluten\", \"gluten\", \"gluten\", \"gluten\", \"gluten\", \"gluten\", \"gluten\", \"gluten\", \"gluten\", \"gluten\", \"goat\", \"goat\", \"goat\", \"goat\", \"goat\", \"goat\", \"goat\", \"goat\", \"goat\", \"goat\", \"goats\", \"goats\", \"goats\", \"goats\", \"goats\", \"goats\", \"goats\", \"goats\", \"goats\", \"goats\", \"good\", \"good\", \"good\", \"good\", \"good\", \"good\", \"good\", \"good\", \"good\", \"good\", \"grade\", \"grade\", \"grade\", \"grade\", \"grade\", \"grade\", \"grade\", \"grade\", \"grade\", \"grade\", \"grains\", \"grains\", \"grains\", \"grains\", \"grains\", \"grains\", \"grains\", \"grains\", \"grains\", \"grains\", \"grape\", \"grape\", \"grape\", \"grape\", \"grape\", \"grape\", \"grape\", \"grape\", \"grape\", \"grape\", \"grapefruit\", \"grapefruit\", \"grapefruit\", \"grapefruit\", \"grapefruit\", \"grapefruit\", \"grapefruit\", \"grapefruit\", \"grapefruit\", \"grapefruit\", \"grass\", \"grass\", \"grass\", \"grass\", \"grass\", \"grass\", \"grass\", \"grass\", \"grass\", \"grass\", \"great\", \"great\", \"great\", \"great\", \"great\", \"great\", \"great\", \"great\", \"great\", \"great\", \"green\", \"green\", \"green\", \"green\", \"green\", \"green\", \"green\", \"green\", \"green\", \"green\", \"ground\", \"ground\", \"ground\", \"ground\", \"ground\", \"ground\", \"ground\", \"ground\", \"ground\", \"ground\", \"grove\", \"grove\", \"grove\", \"grove\", \"grove\", \"grove\", \"grove\", \"grove\", \"grove\", \"grove\", \"guilt\", \"guilt\", \"guilt\", \"guilt\", \"guilt\", \"guilt\", \"guilt\", \"guilt\", \"guilt\", \"guilt\", \"gum\", \"gum\", \"gum\", \"gum\", \"gum\", \"gum\", \"gum\", \"gum\", \"gum\", \"gum\", \"guy\", \"guy\", \"guy\", \"guy\", \"guy\", \"guy\", \"guy\", \"guy\", \"guy\", \"guy\", \"hair\", \"hair\", \"hair\", \"hair\", \"hair\", \"hair\", \"hair\", \"hair\", \"hair\", \"hair\", \"happy\", \"happy\", \"happy\", \"happy\", \"happy\", \"happy\", \"happy\", \"happy\", \"happy\", \"happy\", \"hard\", \"hard\", \"hard\", \"hard\", \"hard\", \"hard\", \"hard\", \"hard\", \"hard\", \"hard\", \"hawaiian\", \"hawaiian\", \"hawaiian\", \"hawaiian\", \"hawaiian\", \"hawaiian\", \"hawaiian\", \"hawaiian\", \"hawaiian\", \"hawaiian\", \"hazelnut\", \"hazelnut\", \"hazelnut\", \"hazelnut\", \"hazelnut\", \"hazelnut\", \"hazelnut\", \"hazelnut\", \"hazelnut\", \"hazelnut\", \"healthy\", \"healthy\", \"healthy\", \"healthy\", \"healthy\", \"healthy\", \"healthy\", \"healthy\", \"healthy\", \"healthy\", \"holder\", \"holder\", \"holder\", \"holder\", \"holder\", \"holder\", \"holder\", \"holder\", \"holder\", \"holder\", \"honey\", \"honey\", \"honey\", \"honey\", \"honey\", \"honey\", \"honey\", \"honey\", \"honey\", \"honey\", \"hot\", \"hot\", \"hot\", \"hot\", \"hot\", \"hot\", \"hot\", \"hot\", \"hot\", \"hot\", \"href\", \"href\", \"href\", \"href\", \"href\", \"href\", \"href\", \"href\", \"href\", \"href\", \"http\", \"http\", \"http\", \"http\", \"http\", \"http\", \"http\", \"http\", \"http\", \"http\", \"ice\", \"ice\", \"ice\", \"ice\", \"ice\", \"ice\", \"ice\", \"ice\", \"ice\", \"ice\", \"icicle\", \"icicle\", \"icicle\", \"icicle\", \"icicle\", \"icicle\", \"icicle\", \"icicle\", \"icicle\", \"icicle\", \"individually\", \"individually\", \"individually\", \"individually\", \"individually\", \"individually\", \"individually\", \"individually\", \"individually\", \"individually\", \"ingredients\", \"ingredients\", \"ingredients\", \"ingredients\", \"ingredients\", \"ingredients\", \"ingredients\", \"ingredients\", \"ingredients\", \"ingredients\", \"introduced\", \"introduced\", \"introduced\", \"introduced\", \"introduced\", \"introduced\", \"introduced\", \"introduced\", \"introduced\", \"introduced\", \"issues\", \"issues\", \"issues\", \"issues\", \"issues\", \"issues\", \"issues\", \"issues\", \"issues\", \"issues\", \"italian\", \"italian\", \"italian\", \"italian\", \"italian\", \"italian\", \"italian\", \"italian\", \"italian\", \"italian\", \"item\", \"item\", \"item\", \"item\", \"item\", \"item\", \"item\", \"item\", \"item\", \"item\", \"jar\", \"jar\", \"jar\", \"jar\", \"jar\", \"jar\", \"jar\", \"jar\", \"jar\", \"jar\", \"jelly\", \"jelly\", \"jelly\", \"jelly\", \"jelly\", \"jelly\", \"jelly\", \"jelly\", \"jelly\", \"jelly\", \"jerky\", \"jerky\", \"jerky\", \"jerky\", \"jerky\", \"jerky\", \"jerky\", \"jerky\", \"jerky\", \"jerky\", \"juice\", \"juice\", \"juice\", \"juice\", \"juice\", \"juice\", \"juice\", \"juice\", \"juice\", \"juice\", \"juices\", \"juices\", \"juices\", \"juices\", \"juices\", \"juices\", \"juices\", \"juices\", \"juices\", \"juices\", \"just\", \"just\", \"just\", \"just\", \"just\", \"just\", \"just\", \"just\", \"just\", \"just\", \"kept\", \"kept\", \"kept\", \"kept\", \"kept\", \"kept\", \"kept\", \"kept\", \"kept\", \"kept\", \"keurig\", \"keurig\", \"keurig\", \"keurig\", \"keurig\", \"keurig\", \"keurig\", \"keurig\", \"keurig\", \"keurig\", \"kid\", \"kid\", \"kid\", \"kid\", \"kid\", \"kid\", \"kid\", \"kid\", \"kid\", \"kid\", \"kinda\", \"kinda\", \"kinda\", \"kinda\", \"kinda\", \"kinda\", \"kinda\", \"kinda\", \"kinda\", \"kinda\", \"kit\", \"kit\", \"kit\", \"kit\", \"kit\", \"kit\", \"kit\", \"kit\", \"kit\", \"kit\", \"lamb\", \"lamb\", \"lamb\", \"lamb\", \"lamb\", \"lamb\", \"lamb\", \"lamb\", \"lamb\", \"lamb\", \"large\", \"large\", \"large\", \"large\", \"large\", \"large\", \"large\", \"large\", \"large\", \"large\", \"law\", \"law\", \"law\", \"law\", \"law\", \"law\", \"law\", \"law\", \"law\", \"law\", \"lemon\", \"lemon\", \"lemon\", \"lemon\", \"lemon\", \"lemon\", \"lemon\", \"lemon\", \"lemon\", \"lemon\", \"lemons\", \"lemons\", \"lemons\", \"lemons\", \"lemons\", \"lemons\", \"lemons\", \"lemons\", \"lemons\", \"lemons\", \"licorice\", \"licorice\", \"licorice\", \"licorice\", \"licorice\", \"licorice\", \"licorice\", \"licorice\", \"licorice\", \"licorice\", \"lids\", \"lids\", \"lids\", \"lids\", \"lids\", \"lids\", \"lids\", \"lids\", \"lids\", \"lids\", \"like\", \"like\", \"like\", \"like\", \"like\", \"like\", \"like\", \"like\", \"like\", \"like\", \"little\", \"little\", \"little\", \"little\", \"little\", \"little\", \"little\", \"little\", \"little\", \"little\", \"local\", \"local\", \"local\", \"local\", \"local\", \"local\", \"local\", \"local\", \"local\", \"local\", \"love\", \"love\", \"love\", \"love\", \"love\", \"love\", \"love\", \"love\", \"love\", \"love\", \"loves\", \"loves\", \"loves\", \"loves\", \"loves\", \"loves\", \"loves\", \"loves\", \"loves\", \"loves\", \"low\", \"low\", \"low\", \"low\", \"low\", \"low\", \"low\", \"low\", \"low\", \"low\", \"mac\", \"mac\", \"mac\", \"mac\", \"mac\", \"mac\", \"mac\", \"mac\", \"mac\", \"mac\", \"machine\", \"machine\", \"machine\", \"machine\", \"machine\", \"machine\", \"machine\", \"machine\", \"machine\", \"machine\", \"magnesium\", \"magnesium\", \"magnesium\", \"magnesium\", \"magnesium\", \"magnesium\", \"magnesium\", \"magnesium\", \"magnesium\", \"magnesium\", \"make\", \"make\", \"make\", \"make\", \"make\", \"make\", \"make\", \"make\", \"make\", \"make\", \"makes\", \"makes\", \"makes\", \"makes\", \"makes\", \"makes\", \"makes\", \"makes\", \"makes\", \"makes\", \"maple\", \"maple\", \"maple\", \"maple\", \"maple\", \"maple\", \"maple\", \"maple\", \"maple\", \"maple\", \"maybe\", \"maybe\", \"maybe\", \"maybe\", \"maybe\", \"maybe\", \"maybe\", \"maybe\", \"maybe\", \"maybe\", \"meat\", \"meat\", \"meat\", \"meat\", \"meat\", \"meat\", \"meat\", \"meat\", \"meat\", \"meat\", \"medium\", \"medium\", \"medium\", \"medium\", \"medium\", \"medium\", \"medium\", \"medium\", \"medium\", \"medium\", \"melt\", \"melt\", \"melt\", \"melt\", \"melt\", \"melt\", \"melt\", \"melt\", \"melt\", \"melt\", \"melted\", \"melted\", \"melted\", \"melted\", \"melted\", \"melted\", \"melted\", \"melted\", \"melted\", \"melted\", \"mic\", \"mic\", \"mic\", \"mic\", \"mic\", \"mic\", \"mic\", \"mic\", \"mic\", \"mic\", \"microwave\", \"microwave\", \"microwave\", \"microwave\", \"microwave\", \"microwave\", \"microwave\", \"microwave\", \"microwave\", \"microwave\", \"middle\", \"middle\", \"middle\", \"middle\", \"middle\", \"middle\", \"middle\", \"middle\", \"middle\", \"middle\", \"milk\", \"milk\", \"milk\", \"milk\", \"milk\", \"milk\", \"milk\", \"milk\", \"milk\", \"milk\", \"mix\", \"mix\", \"mix\", \"mix\", \"mix\", \"mix\", \"mix\", \"mix\", \"mix\", \"mix\", \"mom\", \"mom\", \"mom\", \"mom\", \"mom\", \"mom\", \"mom\", \"mom\", \"mom\", \"mom\", \"month\", \"month\", \"month\", \"month\", \"month\", \"month\", \"month\", \"month\", \"month\", \"month\", \"morning\", \"morning\", \"morning\", \"morning\", \"morning\", \"morning\", \"morning\", \"morning\", \"morning\", \"morning\", \"mother\", \"mother\", \"mother\", \"mother\", \"mother\", \"mother\", \"mother\", \"mother\", \"mother\", \"mother\", \"mountain\", \"mountain\", \"mountain\", \"mountain\", \"mountain\", \"mountain\", \"mountain\", \"mountain\", \"mountain\", \"mountain\", \"msg\", \"msg\", \"msg\", \"msg\", \"msg\", \"msg\", \"msg\", \"msg\", \"msg\", \"msg\", \"natural\", \"natural\", \"natural\", \"natural\", \"natural\", \"natural\", \"natural\", \"natural\", \"natural\", \"natural\", \"newman\", \"newman\", \"newman\", \"newman\", \"newman\", \"newman\", \"newman\", \"newman\", \"newman\", \"newman\", \"nice\", \"nice\", \"nice\", \"nice\", \"nice\", \"nice\", \"nice\", \"nice\", \"nice\", \"nice\", \"noodles\", \"noodles\", \"noodles\", \"noodles\", \"noodles\", \"noodles\", \"noodles\", \"noodles\", \"noodles\", \"noodles\", \"nose\", \"nose\", \"nose\", \"nose\", \"nose\", \"nose\", \"nose\", \"nose\", \"nose\", \"nose\", \"noticed\", \"noticed\", \"noticed\", \"noticed\", \"noticed\", \"noticed\", \"noticed\", \"noticed\", \"noticed\", \"noticed\", \"nutritional\", \"nutritional\", \"nutritional\", \"nutritional\", \"nutritional\", \"nutritional\", \"nutritional\", \"nutritional\", \"nutritional\", \"nutritional\", \"nuts\", \"nuts\", \"nuts\", \"nuts\", \"nuts\", \"nuts\", \"nuts\", \"nuts\", \"nuts\", \"nuts\", \"offer\", \"offer\", \"offer\", \"offer\", \"offer\", \"offer\", \"offer\", \"offer\", \"offer\", \"offer\", \"oil\", \"oil\", \"oil\", \"oil\", \"oil\", \"oil\", \"oil\", \"oil\", \"oil\", \"oil\", \"oils\", \"oils\", \"oils\", \"oils\", \"oils\", \"oils\", \"oils\", \"oils\", \"oils\", \"oils\", \"old\", \"old\", \"old\", \"old\", \"old\", \"old\", \"old\", \"old\", \"old\", \"old\", \"olive\", \"olive\", \"olive\", \"olive\", \"olive\", \"olive\", \"olive\", \"olive\", \"olive\", \"olive\", \"olives\", \"olives\", \"olives\", \"olives\", \"olives\", \"olives\", \"olives\", \"olives\", \"olives\", \"olives\", \"onion\", \"onion\", \"onion\", \"onion\", \"onion\", \"onion\", \"onion\", \"onion\", \"onion\", \"onion\", \"online\", \"online\", \"online\", \"online\", \"online\", \"online\", \"online\", \"online\", \"online\", \"online\", \"opened\", \"opened\", \"opened\", \"opened\", \"opened\", \"opened\", \"opened\", \"opened\", \"opened\", \"opened\", \"orange\", \"orange\", \"orange\", \"orange\", \"orange\", \"orange\", \"orange\", \"orange\", \"orange\", \"orange\", \"order\", \"order\", \"order\", \"order\", \"order\", \"order\", \"order\", \"order\", \"order\", \"order\", \"ordered\", \"ordered\", \"ordered\", \"ordered\", \"ordered\", \"ordered\", \"ordered\", \"ordered\", \"ordered\", \"ordered\", \"organic\", \"organic\", \"organic\", \"organic\", \"organic\", \"organic\", \"organic\", \"organic\", \"organic\", \"organic\", \"orzo\", \"orzo\", \"orzo\", \"orzo\", \"orzo\", \"orzo\", \"orzo\", \"orzo\", \"orzo\", \"orzo\", \"ounce\", \"ounce\", \"ounce\", \"ounce\", \"ounce\", \"ounce\", \"ounce\", \"ounce\", \"ounce\", \"ounce\", \"pack\", \"pack\", \"pack\", \"pack\", \"pack\", \"pack\", \"pack\", \"pack\", \"pack\", \"pack\", \"packages\", \"packages\", \"packages\", \"packages\", \"packages\", \"packages\", \"packages\", \"packages\", \"packages\", \"packages\", \"packaging\", \"packaging\", \"packaging\", \"packaging\", \"packaging\", \"packaging\", \"packaging\", \"packaging\", \"packaging\", \"packaging\", \"packing\", \"packing\", \"packing\", \"packing\", \"packing\", \"packing\", \"packing\", \"packing\", \"packing\", \"packing\", \"pamela\", \"pamela\", \"pamela\", \"pamela\", \"pamela\", \"pamela\", \"pamela\", \"pamela\", \"pamela\", \"pamela\", \"pancakes\", \"pancakes\", \"pancakes\", \"pancakes\", \"pancakes\", \"pancakes\", \"pancakes\", \"pancakes\", \"pancakes\", \"pancakes\", \"party\", \"party\", \"party\", \"party\", \"party\", \"party\", \"party\", \"party\", \"party\", \"party\", \"pass\", \"pass\", \"pass\", \"pass\", \"pass\", \"pass\", \"pass\", \"pass\", \"pass\", \"pass\", \"pasta\", \"pasta\", \"pasta\", \"pasta\", \"pasta\", \"pasta\", \"pasta\", \"pasta\", \"pasta\", \"pasta\", \"pastas\", \"pastas\", \"pastas\", \"pastas\", \"pastas\", \"pastas\", \"pastas\", \"pastas\", \"pastas\", \"pastas\", \"peanut\", \"peanut\", \"peanut\", \"peanut\", \"peanut\", \"peanut\", \"peanut\", \"peanut\", \"peanut\", \"peanut\", \"peanuts\", \"peanuts\", \"peanuts\", \"peanuts\", \"peanuts\", \"peanuts\", \"peanuts\", \"peanuts\", \"peanuts\", \"peanuts\", \"pepper\", \"pepper\", \"pepper\", \"pepper\", \"pepper\", \"pepper\", \"pepper\", \"pepper\", \"pepper\", \"pepper\", \"peppermint\", \"peppermint\", \"peppermint\", \"peppermint\", \"peppermint\", \"peppermint\", \"peppermint\", \"peppermint\", \"peppermint\", \"peppermint\", \"pet\", \"pet\", \"pet\", \"pet\", \"pet\", \"pet\", \"pet\", \"pet\", \"pet\", \"pet\", \"picky\", \"picky\", \"picky\", \"picky\", \"picky\", \"picky\", \"picky\", \"picky\", \"picky\", \"picky\", \"pieces\", \"pieces\", \"pieces\", \"pieces\", \"pieces\", \"pieces\", \"pieces\", \"pieces\", \"pieces\", \"pieces\", \"pill\", \"pill\", \"pill\", \"pill\", \"pill\", \"pill\", \"pill\", \"pill\", \"pill\", \"pill\", \"pineapple\", \"pineapple\", \"pineapple\", \"pineapple\", \"pineapple\", \"pineapple\", \"pineapple\", \"pineapple\", \"pineapple\", \"pineapple\", \"pink\", \"pink\", \"pink\", \"pink\", \"pink\", \"pink\", \"pink\", \"pink\", \"pink\", \"pink\", \"pizza\", \"pizza\", \"pizza\", \"pizza\", \"pizza\", \"pizza\", \"pizza\", \"pizza\", \"pizza\", \"pizza\", \"plant\", \"plant\", \"plant\", \"plant\", \"plant\", \"plant\", \"plant\", \"plant\", \"plant\", \"plant\", \"plastic\", \"plastic\", \"plastic\", \"plastic\", \"plastic\", \"plastic\", \"plastic\", \"plastic\", \"plastic\", \"plastic\", \"play\", \"play\", \"play\", \"play\", \"play\", \"play\", \"play\", \"play\", \"play\", \"play\", \"pocket\", \"pocket\", \"pocket\", \"pocket\", \"pocket\", \"pocket\", \"pocket\", \"pocket\", \"pocket\", \"pocket\", \"pockets\", \"pockets\", \"pockets\", \"pockets\", \"pockets\", \"pockets\", \"pockets\", \"pockets\", \"pockets\", \"pockets\", \"popchips\", \"popchips\", \"popchips\", \"popchips\", \"popchips\", \"popchips\", \"popchips\", \"popchips\", \"popchips\", \"popchips\", \"popcorn\", \"popcorn\", \"popcorn\", \"popcorn\", \"popcorn\", \"popcorn\", \"popcorn\", \"popcorn\", \"popcorn\", \"popcorn\", \"pork\", \"pork\", \"pork\", \"pork\", \"pork\", \"pork\", \"pork\", \"pork\", \"pork\", \"pork\", \"potato\", \"potato\", \"potato\", \"potato\", \"potato\", \"potato\", \"potato\", \"potato\", \"potato\", \"potato\", \"powder\", \"powder\", \"powder\", \"powder\", \"powder\", \"powder\", \"powder\", \"powder\", \"powder\", \"powder\", \"pretzels\", \"pretzels\", \"pretzels\", \"pretzels\", \"pretzels\", \"pretzels\", \"pretzels\", \"pretzels\", \"pretzels\", \"pretzels\", \"price\", \"price\", \"price\", \"price\", \"price\", \"price\", \"price\", \"price\", \"price\", \"price\", \"problems\", \"problems\", \"problems\", \"problems\", \"problems\", \"problems\", \"problems\", \"problems\", \"problems\", \"problems\", \"product\", \"product\", \"product\", \"product\", \"product\", \"product\", \"product\", \"product\", \"product\", \"product\", \"products\", \"products\", \"products\", \"products\", \"products\", \"products\", \"products\", \"products\", \"products\", \"products\", \"protein\", \"protein\", \"protein\", \"protein\", \"protein\", \"protein\", \"protein\", \"protein\", \"protein\", \"protein\", \"puck\", \"puck\", \"puck\", \"puck\", \"puck\", \"puck\", \"puck\", \"puck\", \"puck\", \"puck\", \"puppy\", \"puppy\", \"puppy\", \"puppy\", \"puppy\", \"puppy\", \"puppy\", \"puppy\", \"puppy\", \"puppy\", \"purchased\", \"purchased\", \"purchased\", \"purchased\", \"purchased\", \"purchased\", \"purchased\", \"purchased\", \"purchased\", \"purchased\", \"quickly\", \"quickly\", \"quickly\", \"quickly\", \"quickly\", \"quickly\", \"quickly\", \"quickly\", \"quickly\", \"quickly\", \"raspberry\", \"raspberry\", \"raspberry\", \"raspberry\", \"raspberry\", \"raspberry\", \"raspberry\", \"raspberry\", \"raspberry\", \"raspberry\", \"rda\", \"rda\", \"rda\", \"rda\", \"rda\", \"rda\", \"rda\", \"rda\", \"rda\", \"rda\", \"ready\", \"ready\", \"ready\", \"ready\", \"ready\", \"ready\", \"ready\", \"ready\", \"ready\", \"ready\", \"really\", \"really\", \"really\", \"really\", \"really\", \"really\", \"really\", \"really\", \"really\", \"really\", \"reasonable\", \"reasonable\", \"reasonable\", \"reasonable\", \"reasonable\", \"reasonable\", \"reasonable\", \"reasonable\", \"reasonable\", \"reasonable\", \"received\", \"received\", \"received\", \"received\", \"received\", \"received\", \"received\", \"received\", \"received\", \"received\", \"recipe\", \"recipe\", \"recipe\", \"recipe\", \"recipe\", \"recipe\", \"recipe\", \"recipe\", \"recipe\", \"recipe\", \"recipes\", \"recipes\", \"recipes\", \"recipes\", \"recipes\", \"recipes\", \"recipes\", \"recipes\", \"recipes\", \"recipes\", \"red\", \"red\", \"red\", \"red\", \"red\", \"red\", \"red\", \"red\", \"red\", \"red\", \"refreshing\", \"refreshing\", \"refreshing\", \"refreshing\", \"refreshing\", \"refreshing\", \"refreshing\", \"refreshing\", \"refreshing\", \"refreshing\", \"remember\", \"remember\", \"remember\", \"remember\", \"remember\", \"remember\", \"remember\", \"remember\", \"remember\", \"remember\", \"rich\", \"rich\", \"rich\", \"rich\", \"rich\", \"rich\", \"rich\", \"rich\", \"rich\", \"rich\", \"ridiculous\", \"ridiculous\", \"ridiculous\", \"ridiculous\", \"ridiculous\", \"ridiculous\", \"ridiculous\", \"ridiculous\", \"ridiculous\", \"ridiculous\", \"rinds\", \"rinds\", \"rinds\", \"rinds\", \"rinds\", \"rinds\", \"rinds\", \"rinds\", \"rinds\", \"rinds\", \"roast\", \"roast\", \"roast\", \"roast\", \"roast\", \"roast\", \"roast\", \"roast\", \"roast\", \"roast\", \"roasted\", \"roasted\", \"roasted\", \"roasted\", \"roasted\", \"roasted\", \"roasted\", \"roasted\", \"roasted\", \"roasted\", \"rose\", \"rose\", \"rose\", \"rose\", \"rose\", \"rose\", \"rose\", \"rose\", \"rose\", \"rose\", \"round\", \"round\", \"round\", \"round\", \"round\", \"round\", \"round\", \"round\", \"round\", \"round\", \"royal\", \"royal\", \"royal\", \"royal\", \"royal\", \"royal\", \"royal\", \"royal\", \"royal\", \"royal\", \"salads\", \"salads\", \"salads\", \"salads\", \"salads\", \"salads\", \"salads\", \"salads\", \"salads\", \"salads\", \"salmon\", \"salmon\", \"salmon\", \"salmon\", \"salmon\", \"salmon\", \"salmon\", \"salmon\", \"salmon\", \"salmon\", \"salsa\", \"salsa\", \"salsa\", \"salsa\", \"salsa\", \"salsa\", \"salsa\", \"salsa\", \"salsa\", \"salsa\", \"salt\", \"salt\", \"salt\", \"salt\", \"salt\", \"salt\", \"salt\", \"salt\", \"salt\", \"salt\", \"salted\", \"salted\", \"salted\", \"salted\", \"salted\", \"salted\", \"salted\", \"salted\", \"salted\", \"salted\", \"salty\", \"salty\", \"salty\", \"salty\", \"salty\", \"salty\", \"salty\", \"salty\", \"salty\", \"salty\", \"sardines\", \"sardines\", \"sardines\", \"sardines\", \"sardines\", \"sardines\", \"sardines\", \"sardines\", \"sardines\", \"sardines\", \"satisfy\", \"satisfy\", \"satisfy\", \"satisfy\", \"satisfy\", \"satisfy\", \"satisfy\", \"satisfy\", \"satisfy\", \"satisfy\", \"sauce\", \"sauce\", \"sauce\", \"sauce\", \"sauce\", \"sauce\", \"sauce\", \"sauce\", \"sauce\", \"sauce\", \"sauces\", \"sauces\", \"sauces\", \"sauces\", \"sauces\", \"sauces\", \"sauces\", \"sauces\", \"sauces\", \"sauces\", \"saved\", \"saved\", \"saved\", \"saved\", \"saved\", \"saved\", \"saved\", \"saved\", \"saved\", \"saved\", \"science\", \"science\", \"science\", \"science\", \"science\", \"science\", \"science\", \"science\", \"science\", \"science\", \"sea\", \"sea\", \"sea\", \"sea\", \"sea\", \"sea\", \"sea\", \"sea\", \"sea\", \"sea\", \"seafood\", \"seafood\", \"seafood\", \"seafood\", \"seafood\", \"seafood\", \"seafood\", \"seafood\", \"seafood\", \"seafood\", \"seasoning\", \"seasoning\", \"seasoning\", \"seasoning\", \"seasoning\", \"seasoning\", \"seasoning\", \"seasoning\", \"seasoning\", \"seasoning\", \"seed\", \"seed\", \"seed\", \"seed\", \"seed\", \"seed\", \"seed\", \"seed\", \"seed\", \"seed\", \"seeds\", \"seeds\", \"seeds\", \"seeds\", \"seeds\", \"seeds\", \"seeds\", \"seeds\", \"seeds\", \"seeds\", \"seller\", \"seller\", \"seller\", \"seller\", \"seller\", \"seller\", \"seller\", \"seller\", \"seller\", \"seller\", \"service\", \"service\", \"service\", \"service\", \"service\", \"service\", \"service\", \"service\", \"service\", \"service\", \"serving\", \"serving\", \"serving\", \"serving\", \"serving\", \"serving\", \"serving\", \"serving\", \"serving\", \"serving\", \"shape\", \"shape\", \"shape\", \"shape\", \"shape\", \"shape\", \"shape\", \"shape\", \"shape\", \"shape\", \"shipping\", \"shipping\", \"shipping\", \"shipping\", \"shipping\", \"shipping\", \"shipping\", \"shipping\", \"shipping\", \"shipping\", \"similac\", \"similac\", \"similac\", \"similac\", \"similac\", \"similac\", \"similac\", \"similac\", \"similac\", \"similac\", \"sip\", \"sip\", \"sip\", \"sip\", \"sip\", \"sip\", \"sip\", \"sip\", \"sip\", \"sip\", \"skin\", \"skin\", \"skin\", \"skin\", \"skin\", \"skin\", \"skin\", \"skin\", \"skin\", \"skin\", \"slight\", \"slight\", \"slight\", \"slight\", \"slight\", \"slight\", \"slight\", \"slight\", \"slight\", \"slight\", \"smell\", \"smell\", \"smell\", \"smell\", \"smell\", \"smell\", \"smell\", \"smell\", \"smell\", \"smell\", \"smoked\", \"smoked\", \"smoked\", \"smoked\", \"smoked\", \"smoked\", \"smoked\", \"smoked\", \"smoked\", \"smoked\", \"smooth\", \"smooth\", \"smooth\", \"smooth\", \"smooth\", \"smooth\", \"smooth\", \"smooth\", \"smooth\", \"smooth\", \"snack\", \"snack\", \"snack\", \"snack\", \"snack\", \"snack\", \"snack\", \"snack\", \"snack\", \"snack\", \"snacking\", \"snacking\", \"snacking\", \"snacking\", \"snacking\", \"snacking\", \"snacking\", \"snacking\", \"snacking\", \"snacking\", \"snacks\", \"snacks\", \"snacks\", \"snacks\", \"snacks\", \"snacks\", \"snacks\", \"snacks\", \"snacks\", \"snacks\", \"soda\", \"soda\", \"soda\", \"soda\", \"soda\", \"soda\", \"soda\", \"soda\", \"soda\", \"soda\", \"sodium\", \"sodium\", \"sodium\", \"sodium\", \"sodium\", \"sodium\", \"sodium\", \"sodium\", \"sodium\", \"sodium\", \"sound\", \"sound\", \"sound\", \"sound\", \"sound\", \"sound\", \"sound\", \"sound\", \"sound\", \"sound\", \"soup\", \"soup\", \"soup\", \"soup\", \"soup\", \"soup\", \"soup\", \"soup\", \"soup\", \"soup\", \"soups\", \"soups\", \"soups\", \"soups\", \"soups\", \"soups\", \"soups\", \"soups\", \"soups\", \"soups\", \"sour\", \"sour\", \"sour\", \"sour\", \"sour\", \"sour\", \"sour\", \"sour\", \"sour\", \"sour\", \"source\", \"source\", \"source\", \"source\", \"source\", \"source\", \"source\", \"source\", \"source\", \"source\", \"soy\", \"soy\", \"soy\", \"soy\", \"soy\", \"soy\", \"soy\", \"soy\", \"soy\", \"soy\", \"sparkling\", \"sparkling\", \"sparkling\", \"sparkling\", \"sparkling\", \"sparkling\", \"sparkling\", \"sparkling\", \"sparkling\", \"sparkling\", \"spice\", \"spice\", \"spice\", \"spice\", \"spice\", \"spice\", \"spice\", \"spice\", \"spice\", \"spice\", \"spicy\", \"spicy\", \"spicy\", \"spicy\", \"spicy\", \"spicy\", \"spicy\", \"spicy\", \"spicy\", \"spicy\", \"spot\", \"spot\", \"spot\", \"spot\", \"spot\", \"spot\", \"spot\", \"spot\", \"spot\", \"spot\", \"stale\", \"stale\", \"stale\", \"stale\", \"stale\", \"stale\", \"stale\", \"stale\", \"stale\", \"stale\", \"starbucks\", \"starbucks\", \"starbucks\", \"starbucks\", \"starbucks\", \"starbucks\", \"starbucks\", \"starbucks\", \"starbucks\", \"starbucks\", \"states\", \"states\", \"states\", \"states\", \"states\", \"states\", \"states\", \"states\", \"states\", \"states\", \"stick\", \"stick\", \"stick\", \"stick\", \"stick\", \"stick\", \"stick\", \"stick\", \"stick\", \"stick\", \"sticks\", \"sticks\", \"sticks\", \"sticks\", \"sticks\", \"sticks\", \"sticks\", \"sticks\", \"sticks\", \"sticks\", \"stomach\", \"stomach\", \"stomach\", \"stomach\", \"stomach\", \"stomach\", \"stomach\", \"stomach\", \"stomach\", \"stomach\", \"stop\", \"stop\", \"stop\", \"stop\", \"stop\", \"stop\", \"stop\", \"stop\", \"stop\", \"stop\", \"stopped\", \"stopped\", \"stopped\", \"stopped\", \"stopped\", \"stopped\", \"stopped\", \"stopped\", \"stopped\", \"stopped\", \"store\", \"store\", \"store\", \"store\", \"store\", \"store\", \"store\", \"store\", \"store\", \"store\", \"strong\", \"strong\", \"strong\", \"strong\", \"strong\", \"strong\", \"strong\", \"strong\", \"strong\", \"strong\", \"sugar\", \"sugar\", \"sugar\", \"sugar\", \"sugar\", \"sugar\", \"sugar\", \"sugar\", \"sugar\", \"sugar\", \"sweet\", \"sweet\", \"sweet\", \"sweet\", \"sweet\", \"sweet\", \"sweet\", \"sweet\", \"sweet\", \"sweet\", \"switching\", \"switching\", \"switching\", \"switching\", \"switching\", \"switching\", \"switching\", \"switching\", \"switching\", \"switching\", \"syrup\", \"syrup\", \"syrup\", \"syrup\", \"syrup\", \"syrup\", \"syrup\", \"syrup\", \"syrup\", \"syrup\", \"tangerine\", \"tangerine\", \"tangerine\", \"tangerine\", \"tangerine\", \"tangerine\", \"tangerine\", \"tangerine\", \"tangerine\", \"tangerine\", \"tart\", \"tart\", \"tart\", \"tart\", \"tart\", \"tart\", \"tart\", \"tart\", \"tart\", \"tart\", \"taste\", \"taste\", \"taste\", \"taste\", \"taste\", \"taste\", \"taste\", \"taste\", \"taste\", \"taste\", \"tastes\", \"tastes\", \"tastes\", \"tastes\", \"tastes\", \"tastes\", \"tastes\", \"tastes\", \"tastes\", \"tastes\", \"tasting\", \"tasting\", \"tasting\", \"tasting\", \"tasting\", \"tasting\", \"tasting\", \"tasting\", \"tasting\", \"tasting\", \"tea\", \"tea\", \"tea\", \"tea\", \"tea\", \"tea\", \"tea\", \"tea\", \"tea\", \"tea\", \"terrier\", \"terrier\", \"terrier\", \"terrier\", \"terrier\", \"terrier\", \"terrier\", \"terrier\", \"terrier\", \"terrier\", \"terrific\", \"terrific\", \"terrific\", \"terrific\", \"terrific\", \"terrific\", \"terrific\", \"terrific\", \"terrific\", \"terrific\", \"texture\", \"texture\", \"texture\", \"texture\", \"texture\", \"texture\", \"texture\", \"texture\", \"texture\", \"texture\", \"thank\", \"thank\", \"thank\", \"thank\", \"thank\", \"thank\", \"thank\", \"thank\", \"thank\", \"thank\", \"throw\", \"throw\", \"throw\", \"throw\", \"throw\", \"throw\", \"throw\", \"throw\", \"throw\", \"throw\", \"time\", \"time\", \"time\", \"time\", \"time\", \"time\", \"time\", \"time\", \"time\", \"time\", \"times\", \"times\", \"times\", \"times\", \"times\", \"times\", \"times\", \"times\", \"times\", \"times\", \"tofu\", \"tofu\", \"tofu\", \"tofu\", \"tofu\", \"tofu\", \"tofu\", \"tofu\", \"tofu\", \"tofu\", \"tooth\", \"tooth\", \"tooth\", \"tooth\", \"tooth\", \"tooth\", \"tooth\", \"tooth\", \"tooth\", \"tooth\", \"toy\", \"toy\", \"toy\", \"toy\", \"toy\", \"toy\", \"toy\", \"toy\", \"toy\", \"toy\", \"tray\", \"tray\", \"tray\", \"tray\", \"tray\", \"tray\", \"tray\", \"tray\", \"tray\", \"tray\", \"trays\", \"trays\", \"trays\", \"trays\", \"trays\", \"trays\", \"trays\", \"trays\", \"trays\", \"trays\", \"treat\", \"treat\", \"treat\", \"treat\", \"treat\", \"treat\", \"treat\", \"treat\", \"treat\", \"treat\", \"treats\", \"treats\", \"treats\", \"treats\", \"treats\", \"treats\", \"treats\", \"treats\", \"treats\", \"treats\", \"tree\", \"tree\", \"tree\", \"tree\", \"tree\", \"tree\", \"tree\", \"tree\", \"tree\", \"tree\", \"tried\", \"tried\", \"tried\", \"tried\", \"tried\", \"tried\", \"tried\", \"tried\", \"tried\", \"tried\", \"trouble\", \"trouble\", \"trouble\", \"trouble\", \"trouble\", \"trouble\", \"trouble\", \"trouble\", \"trouble\", \"trouble\", \"truffle\", \"truffle\", \"truffle\", \"truffle\", \"truffle\", \"truffle\", \"truffle\", \"truffle\", \"truffle\", \"truffle\", \"truffles\", \"truffles\", \"truffles\", \"truffles\", \"truffles\", \"truffles\", \"truffles\", \"truffles\", \"truffles\", \"truffles\", \"truly\", \"truly\", \"truly\", \"truly\", \"truly\", \"truly\", \"truly\", \"truly\", \"truly\", \"truly\", \"try\", \"try\", \"try\", \"try\", \"try\", \"try\", \"try\", \"try\", \"try\", \"try\", \"tummy\", \"tummy\", \"tummy\", \"tummy\", \"tummy\", \"tummy\", \"tummy\", \"tummy\", \"tummy\", \"tummy\", \"ups\", \"ups\", \"ups\", \"ups\", \"ups\", \"ups\", \"ups\", \"ups\", \"ups\", \"ups\", \"usb\", \"usb\", \"usb\", \"usb\", \"usb\", \"usb\", \"usb\", \"usb\", \"usb\", \"usb\", \"use\", \"use\", \"use\", \"use\", \"use\", \"use\", \"use\", \"use\", \"use\", \"use\", \"uses\", \"uses\", \"uses\", \"uses\", \"uses\", \"uses\", \"uses\", \"uses\", \"uses\", \"uses\", \"vanilla\", \"vanilla\", \"vanilla\", \"vanilla\", \"vanilla\", \"vanilla\", \"vanilla\", \"vanilla\", \"vanilla\", \"vanilla\", \"vegan\", \"vegan\", \"vegan\", \"vegan\", \"vegan\", \"vegan\", \"vegan\", \"vegan\", \"vegan\", \"vegan\", \"vendor\", \"vendor\", \"vendor\", \"vendor\", \"vendor\", \"vendor\", \"vendor\", \"vendor\", \"vendor\", \"vendor\", \"vet\", \"vet\", \"vet\", \"vet\", \"vet\", \"vet\", \"vet\", \"vet\", \"vet\", \"vet\", \"vinegar\", \"vinegar\", \"vinegar\", \"vinegar\", \"vinegar\", \"vinegar\", \"vinegar\", \"vinegar\", \"vinegar\", \"vinegar\", \"vita\", \"vita\", \"vita\", \"vita\", \"vita\", \"vita\", \"vita\", \"vita\", \"vita\", \"vita\", \"vitamin\", \"vitamin\", \"vitamin\", \"vitamin\", \"vitamin\", \"vitamin\", \"vitamin\", \"vitamin\", \"vitamin\", \"vitamin\", \"waffle\", \"waffle\", \"waffle\", \"waffle\", \"waffle\", \"waffle\", \"waffle\", \"waffle\", \"waffle\", \"waffle\", \"waffles\", \"waffles\", \"waffles\", \"waffles\", \"waffles\", \"waffles\", \"waffles\", \"waffles\", \"waffles\", \"waffles\", \"walmart\", \"walmart\", \"walmart\", \"walmart\", \"walmart\", \"walmart\", \"walmart\", \"walmart\", \"walmart\", \"walmart\", \"warm\", \"warm\", \"warm\", \"warm\", \"warm\", \"warm\", \"warm\", \"warm\", \"warm\", \"warm\", \"wasn\", \"wasn\", \"wasn\", \"wasn\", \"wasn\", \"wasn\", \"wasn\", \"wasn\", \"wasn\", \"wasn\", \"water\", \"water\", \"water\", \"water\", \"water\", \"water\", \"water\", \"water\", \"water\", \"water\", \"ways\", \"ways\", \"ways\", \"ways\", \"ways\", \"ways\", \"ways\", \"ways\", \"ways\", \"ways\", \"website\", \"website\", \"website\", \"website\", \"website\", \"website\", \"website\", \"website\", \"website\", \"website\", \"wheat\", \"wheat\", \"wheat\", \"wheat\", \"wheat\", \"wheat\", \"wheat\", \"wheat\", \"wheat\", \"wheat\", \"white\", \"white\", \"white\", \"white\", \"white\", \"white\", \"white\", \"white\", \"white\", \"white\", \"wholesome\", \"wholesome\", \"wholesome\", \"wholesome\", \"wholesome\", \"wholesome\", \"wholesome\", \"wholesome\", \"wholesome\", \"wholesome\", \"wild\", \"wild\", \"wild\", \"wild\", \"wild\", \"wild\", \"wild\", \"wild\", \"wild\", \"wild\", \"wolfgang\", \"wolfgang\", \"wolfgang\", \"wolfgang\", \"wolfgang\", \"wolfgang\", \"wolfgang\", \"wolfgang\", \"wolfgang\", \"wolfgang\", \"wonderful\", \"wonderful\", \"wonderful\", \"wonderful\", \"wonderful\", \"wonderful\", \"wonderful\", \"wonderful\", \"wonderful\", \"wonderful\", \"wrapped\", \"wrapped\", \"wrapped\", \"wrapped\", \"wrapped\", \"wrapped\", \"wrapped\", \"wrapped\", \"wrapped\", \"wrapped\", \"www\", \"www\", \"www\", \"www\", \"www\", \"www\", \"www\", \"www\", \"www\", \"www\", \"year\", \"year\", \"year\", \"year\", \"year\", \"year\", \"year\", \"year\", \"year\", \"year\", \"years\", \"years\", \"years\", \"years\", \"years\", \"years\", \"years\", \"years\", \"years\", \"years\", \"yum\", \"yum\", \"yum\", \"yum\", \"yum\", \"yum\", \"yum\", \"yum\", \"yum\", \"yum\"]}, \"R\": 30, \"lambda.step\": 0.01, \"plot.opts\": {\"xlab\": \"PC1\", \"ylab\": \"PC2\"}, \"topic.order\": [8, 10, 4, 9, 5, 6, 1, 7, 3, 2]};\n",
       "\n",
       "function LDAvis_load_lib(url, callback){\n",
       "  var s = document.createElement('script');\n",
       "  s.src = url;\n",
       "  s.async = true;\n",
       "  s.onreadystatechange = s.onload = callback;\n",
       "  s.onerror = function(){console.warn(\"failed to load library \" + url);};\n",
       "  document.getElementsByTagName(\"head\")[0].appendChild(s);\n",
       "}\n",
       "\n",
       "if(typeof(LDAvis) !== \"undefined\"){\n",
       "   // already loaded: just create the visualization\n",
       "   !function(LDAvis){\n",
       "       new LDAvis(\"#\" + \"ldavis_el251031141877075204606882876\", ldavis_el251031141877075204606882876_data);\n",
       "   }(LDAvis);\n",
       "}else if(typeof define === \"function\" && define.amd){\n",
       "   // require.js is available: use it to load d3/LDAvis\n",
       "   require.config({paths: {d3: \"https://cdnjs.cloudflare.com/ajax/libs/d3/3.5.5/d3.min\"}});\n",
       "   require([\"d3\"], function(d3){\n",
       "      window.d3 = d3;\n",
       "      LDAvis_load_lib(\"https://cdn.rawgit.com/bmabey/pyLDAvis/files/ldavis.v1.0.0.js\", function(){\n",
       "        new LDAvis(\"#\" + \"ldavis_el251031141877075204606882876\", ldavis_el251031141877075204606882876_data);\n",
       "      });\n",
       "    });\n",
       "}else{\n",
       "    // require.js not available: dynamically load d3 & LDAvis\n",
       "    LDAvis_load_lib(\"https://cdnjs.cloudflare.com/ajax/libs/d3/3.5.5/d3.min.js\", function(){\n",
       "         LDAvis_load_lib(\"https://cdn.rawgit.com/bmabey/pyLDAvis/files/ldavis.v1.0.0.js\", function(){\n",
       "                 new LDAvis(\"#\" + \"ldavis_el251031141877075204606882876\", ldavis_el251031141877075204606882876_data);\n",
       "            })\n",
       "         });\n",
       "}\n",
       "</script>"
      ],
      "text/plain": [
       "PreparedData(topic_coordinates=              x         y  topics  cluster       Freq\n",
       "topic                                                \n",
       "7      0.287252  0.008296       1        1  44.348459\n",
       "9      0.258843 -0.053561       2        1  22.439171\n",
       "3      0.143434  0.128429       3        1   7.221231\n",
       "8      0.143282 -0.020240       4        1   6.993679\n",
       "4     -0.034091 -0.241101       5        1   4.349269\n",
       "5     -0.101068  0.236203       6        1   3.938845\n",
       "0     -0.137048  0.131366       7        1   3.576908\n",
       "6     -0.199630 -0.013106       8        1   2.596081\n",
       "2     -0.143919 -0.154011       9        1   2.508942\n",
       "1     -0.217056 -0.022274      10        1   2.027416, topic_info=      Category           Freq         Term          Total  loglift  logprob\n",
       "term                                                                       \n",
       "18925  Default  154533.000000      product  154533.000000  30.0000  30.0000\n",
       "776    Default   96008.000000       amazon   96008.000000  29.0000  29.0000\n",
       "4604   Default  207576.000000       coffee  207576.000000  28.0000  28.0000\n",
       "9473   Default  100195.000000         food  100195.000000  27.0000  27.0000\n",
       "26794  Default   49049.000000        water   49049.000000  26.0000  26.0000\n",
       "7448   Default   46472.000000        drink   46472.000000  25.0000  25.0000\n",
       "7209   Default   77920.000000          dog   77920.000000  24.0000  24.0000\n",
       "10678  Default  159978.000000        great  159978.000000  23.0000  23.0000\n",
       "2700   Default   43803.000000          box   43803.000000  22.0000  22.0000\n",
       "25326  Default   65747.000000       treats   65747.000000  21.0000  21.0000\n",
       "15424  Default   44723.000000          mix   44723.000000  20.0000  20.0000\n",
       "17181  Default   36543.000000         pack   36543.000000  19.0000  19.0000\n",
       "5288   Default   35179.000000      cookies   35179.000000  18.0000  18.0000\n",
       "23810  Default   53441.000000        sugar   53441.000000  17.0000  17.0000\n",
       "14510  Default   72339.000000         make   72339.000000  16.0000  16.0000\n",
       "21042  Default   27317.000000         salt   27317.000000  15.0000  15.0000\n",
       "4141   Default   38387.000000        chips   38387.000000  14.0000  14.0000\n",
       "13086  Default   25490.000000        juice   25490.000000  13.0000  13.0000\n",
       "4179   Default   56591.000000    chocolate   56591.000000  12.0000  12.0000\n",
       "16832  Default   43227.000000        order   43227.000000  11.0000  11.0000\n",
       "14259  Default  117785.000000         love  117785.000000  10.0000  10.0000\n",
       "9691   Default   49402.000000         free   49402.000000   9.0000   9.0000\n",
       "26142  Default   79455.000000          use   79455.000000   8.0000   8.0000\n",
       "16853  Default   42234.000000      organic   42234.000000   7.0000   7.0000\n",
       "15249  Default   36459.000000         milk   36459.000000   6.0000   6.0000\n",
       "16655  Default   22774.000000          oil   22774.000000   5.0000   5.0000\n",
       "4725   Default   19883.000000          com   19883.000000   4.0000   4.0000\n",
       "24387  Default  164684.000000        taste  164684.000000   3.0000   3.0000\n",
       "10362  Default   27701.000000       gluten   27701.000000   2.0000   2.0000\n",
       "22484  Default   27608.000000        snack   27608.000000   1.0000   1.0000\n",
       "...        ...            ...          ...            ...      ...      ...\n",
       "13342  Topic10    2372.254623          kit    2404.269708   3.8850  -5.1383\n",
       "10991  Topic10    2119.336312         hair    2151.355188   3.8834  -5.2510\n",
       "17430  Topic10    2075.978421         pass    2107.995992   3.8831  -5.2717\n",
       "26323  Topic10    1986.020971       vendor    2018.038053   3.8824  -5.3160\n",
       "15165  Topic10    1964.099655          mic    1996.111474   3.8822  -5.3271\n",
       "27072  Topic10    1947.802186    wholesome    1979.822914   3.8821  -5.3354\n",
       "11965  Topic10    1909.094062       icicle    1941.106217   3.8818  -5.3555\n",
       "7044   Topic10    1858.712408   disposable    1890.760771   3.8813  -5.3822\n",
       "9972   Topic10    1777.166162         gain    1809.193973   3.8805  -5.4271\n",
       "5489   Topic10    1760.862383          cow    1792.881793   3.8804  -5.4363\n",
       "22092  Topic10    1742.452195      similac    1774.465403   3.8802  -5.4468\n",
       "10410  Topic10    1568.224478        goats    1600.244292   3.8782  -5.5522\n",
       "10619  Topic10    1483.530448   grapefruit    1515.548452   3.8771  -5.6077\n",
       "20584  Topic10    1479.687325   ridiculous    1511.707987   3.8770  -5.6103\n",
       "5597   Topic10    1474.740298      created    1506.761177   3.8769  -5.6136\n",
       "26529  Topic10    1465.263610         vita    1497.279896   3.8768  -5.6201\n",
       "4953   Topic10    1280.673987     concerns    1312.693294   3.8737  -5.7547\n",
       "25188  Topic10    1276.710162          toy    1308.730034   3.8736  -5.7578\n",
       "26139  Topic10    1274.545582          usb    1306.557428   3.8736  -5.7595\n",
       "26095  Topic10    1274.272244          ups    1306.290469   3.8736  -5.7597\n",
       "1695   Topic10    1235.487257         ball    1267.504531   3.8728  -5.7906\n",
       "1854   Topic10    1145.477040         bath    1177.495767   3.8708  -5.8663\n",
       "24157  Topic10    1126.219988    switching    1158.236708   3.8704  -5.8832\n",
       "11579  Topic10    1090.506226       holder    1122.522573   3.8695  -5.9155\n",
       "190    Topic10    1082.497724        acids    1114.512740   3.8693  -5.9228\n",
       "22772  Topic10    1581.191404        sound    2296.706178   3.5251  -5.5439\n",
       "16449  Topic10    1701.186777  nutritional    3860.447447   3.0790  -5.4708\n",
       "22783  Topic10    1962.114023       source    6169.322161   2.7528  -5.3281\n",
       "18931  Topic10    2531.086710     products   34452.636482   1.2875  -5.0735\n",
       "3282   Topic10    1332.887348      calcium    2465.432940   3.2834  -5.7148\n",
       "\n",
       "[533 rows x 6 columns], token_table=       Topic      Freq        Term\n",
       "term                              \n",
       "49         1  0.000272  absolutely\n",
       "49         2  0.000272  absolutely\n",
       "49         3  0.997842  absolutely\n",
       "49         4  0.000272  absolutely\n",
       "49         5  0.000272  absolutely\n",
       "49         6  0.000204  absolutely\n",
       "49         7  0.000204  absolutely\n",
       "49         8  0.000272  absolutely\n",
       "49         9  0.000204  absolutely\n",
       "49        10  0.000204  absolutely\n",
       "190        1  0.003589       acids\n",
       "190        2  0.003589       acids\n",
       "190        3  0.002692       acids\n",
       "190        4  0.003589       acids\n",
       "190        5  0.003589       acids\n",
       "190        6  0.002692       acids\n",
       "190        7  0.002692       acids\n",
       "190        8  0.003589       acids\n",
       "190        9  0.002692       acids\n",
       "190       10  0.970828       acids\n",
       "258        1  0.521418         add\n",
       "258        2  0.005504         add\n",
       "258        3  0.472204         add\n",
       "258        4  0.000130         add\n",
       "258        5  0.000130         add\n",
       "258        6  0.000098         add\n",
       "258        7  0.000163         add\n",
       "258        8  0.000130         add\n",
       "258        9  0.000098         add\n",
       "258       10  0.000098         add\n",
       "...      ...       ...         ...\n",
       "27483      1  0.190082        year\n",
       "27483      2  0.805845        year\n",
       "27483      3  0.000128        year\n",
       "27483      4  0.002997        year\n",
       "27483      5  0.000171        year\n",
       "27483      6  0.000128        year\n",
       "27483      7  0.000128        year\n",
       "27483      8  0.000214        year\n",
       "27483      9  0.000128        year\n",
       "27483     10  0.000128        year\n",
       "27488      1  0.426305       years\n",
       "27488      2  0.563233       years\n",
       "27488      3  0.000091       years\n",
       "27488      4  0.002013       years\n",
       "27488      5  0.006282       years\n",
       "27488      6  0.000091       years\n",
       "27488      7  0.000091       years\n",
       "27488      8  0.001677       years\n",
       "27488      9  0.000091       years\n",
       "27488     10  0.000091       years\n",
       "27587      1  0.001325         yum\n",
       "27587      2  0.001325         yum\n",
       "27587      3  0.000993         yum\n",
       "27587      4  0.001325         yum\n",
       "27587      5  0.001325         yum\n",
       "27587      6  0.000993         yum\n",
       "27587      7  0.989440         yum\n",
       "27587      8  0.001325         yum\n",
       "27587      9  0.000993         yum\n",
       "27587     10  0.000993         yum\n",
       "\n",
       "[4610 rows x 3 columns], R=30, lambda_step=0.01, plot_opts={'xlab': 'PC1', 'ylab': 'PC2'}, topic_order=[8, 10, 4, 9, 5, 6, 1, 7, 3, 2])"
      ]
     },
     "execution_count": 218,
     "metadata": {},
     "output_type": "execute_result"
    }
   ],
   "source": [
    "import pyLDAvis\n",
    "import pyLDAvis.sklearn\n",
    "pyLDAvis.enable_notebook()\n",
    "\n",
    "pyLDAvis.sklearn.prepare(lda_tf, dtm_tf, tf_vectorizer)"
   ]
  },
  {
   "cell_type": "code",
   "execution_count": 219,
   "metadata": {},
   "outputs": [
    {
     "name": "stderr",
     "output_type": "stream",
     "text": [
      "/Users/iris/anaconda3/lib/python3.6/site-packages/pyLDAvis/_prepare.py:387: DeprecationWarning: \n",
      ".ix is deprecated. Please use\n",
      ".loc for label based indexing or\n",
      ".iloc for positional indexing\n",
      "\n",
      "See the documentation here:\n",
      "http://pandas.pydata.org/pandas-docs/stable/indexing.html#ix-indexer-is-deprecated\n",
      "  topic_term_dists = topic_term_dists.ix[topic_order]\n",
      "/Users/iris/anaconda3/lib/python3.6/site-packages/pyLDAvis/_prepare.py:257: FutureWarning: Sorting because non-concatenation axis is not aligned. A future version\n",
      "of pandas will change to not sort by default.\n",
      "\n",
      "To accept the future behavior, pass 'sort=True'.\n",
      "\n",
      "To retain the current behavior and silence the warning, pass sort=False\n",
      "\n",
      "  return pd.concat([default_term_info] + list(topic_dfs))\n"
     ]
    },
    {
     "data": {
      "text/html": [
       "\n",
       "<link rel=\"stylesheet\" type=\"text/css\" href=\"https://cdn.rawgit.com/bmabey/pyLDAvis/files/ldavis.v1.0.0.css\">\n",
       "\n",
       "\n",
       "<div id=\"ldavis_el251031141877087204893645969\"></div>\n",
       "<script type=\"text/javascript\">\n",
       "\n",
       "var ldavis_el251031141877087204893645969_data = {\"mdsDat\": {\"x\": [0.2872523866300446, 0.25884250704639344, 0.14343415582556798, 0.14328151191981867, -0.03409077918590077, -0.10106756852228496, -0.13704760949666595, -0.19962999409340157, -0.1439189406602807, -0.21705566946329058], \"y\": [0.008296211524129125, -0.05356130619022736, 0.12842879340749286, -0.02023981115558184, -0.2411010486970796, 0.23620291588648937, 0.13136592273602377, -0.01310620534089934, -0.15401131841175034, -0.022274153758596472], \"topics\": [1, 2, 3, 4, 5, 6, 7, 8, 9, 10], \"cluster\": [1, 1, 1, 1, 1, 1, 1, 1, 1, 1], \"Freq\": [44.3484586852724, 22.43917109632355, 7.2212305142678925, 6.993678733778539, 4.349269171312498, 3.9388449381339785, 3.57690769172117, 2.596081202623559, 2.508941684188896, 2.0274162823775033]}, \"tinfo\": {\"Category\": [\"Default\", \"Default\", \"Default\", \"Default\", \"Default\", \"Default\", \"Default\", \"Default\", \"Default\", \"Default\", \"Default\", \"Default\", \"Default\", \"Default\", \"Default\", \"Default\", \"Default\", \"Default\", \"Default\", \"Default\", \"Default\", \"Default\", \"Default\", \"Default\", \"Default\", \"Default\", \"Default\", \"Default\", \"Default\", \"Default\", \"Topic1\", \"Topic1\", \"Topic1\", \"Topic1\", \"Topic1\", \"Topic1\", \"Topic1\", \"Topic1\", \"Topic1\", \"Topic1\", \"Topic1\", \"Topic1\", \"Topic1\", \"Topic1\", \"Topic1\", \"Topic1\", \"Topic1\", \"Topic1\", \"Topic1\", \"Topic1\", \"Topic1\", \"Topic1\", \"Topic1\", \"Topic1\", \"Topic1\", \"Topic1\", \"Topic1\", \"Topic1\", \"Topic1\", \"Topic1\", \"Topic1\", \"Topic1\", \"Topic1\", \"Topic1\", \"Topic1\", \"Topic1\", \"Topic1\", \"Topic1\", \"Topic1\", \"Topic1\", \"Topic1\", \"Topic1\", \"Topic1\", \"Topic1\", \"Topic1\", \"Topic1\", \"Topic1\", \"Topic1\", \"Topic1\", \"Topic1\", \"Topic1\", \"Topic1\", \"Topic1\", \"Topic1\", \"Topic1\", \"Topic1\", \"Topic1\", \"Topic1\", \"Topic1\", \"Topic1\", \"Topic1\", \"Topic1\", \"Topic1\", \"Topic1\", \"Topic1\", \"Topic1\", \"Topic1\", \"Topic1\", \"Topic2\", \"Topic2\", \"Topic2\", \"Topic2\", \"Topic2\", \"Topic2\", \"Topic2\", \"Topic2\", \"Topic2\", \"Topic2\", \"Topic2\", \"Topic2\", \"Topic2\", \"Topic2\", \"Topic2\", \"Topic2\", \"Topic2\", \"Topic2\", \"Topic2\", \"Topic2\", \"Topic2\", \"Topic2\", \"Topic2\", \"Topic2\", \"Topic2\", \"Topic2\", \"Topic2\", \"Topic2\", \"Topic2\", \"Topic2\", \"Topic2\", \"Topic2\", \"Topic2\", \"Topic2\", \"Topic2\", \"Topic2\", \"Topic2\", \"Topic2\", \"Topic2\", \"Topic2\", \"Topic2\", \"Topic2\", \"Topic2\", \"Topic2\", \"Topic2\", \"Topic2\", \"Topic2\", \"Topic2\", \"Topic2\", \"Topic2\", \"Topic2\", \"Topic2\", \"Topic2\", \"Topic2\", \"Topic2\", \"Topic2\", \"Topic2\", \"Topic2\", \"Topic2\", \"Topic2\", \"Topic2\", \"Topic2\", \"Topic2\", \"Topic2\", \"Topic2\", \"Topic2\", \"Topic2\", \"Topic2\", \"Topic2\", \"Topic2\", \"Topic3\", \"Topic3\", \"Topic3\", \"Topic3\", \"Topic3\", \"Topic3\", \"Topic3\", \"Topic3\", \"Topic3\", \"Topic3\", \"Topic3\", \"Topic3\", \"Topic3\", \"Topic3\", \"Topic3\", \"Topic3\", \"Topic3\", \"Topic3\", \"Topic3\", \"Topic3\", \"Topic3\", \"Topic3\", \"Topic3\", \"Topic3\", \"Topic3\", \"Topic3\", \"Topic3\", \"Topic3\", \"Topic3\", \"Topic3\", \"Topic3\", \"Topic3\", \"Topic3\", \"Topic3\", \"Topic3\", \"Topic3\", \"Topic3\", \"Topic3\", \"Topic3\", \"Topic3\", \"Topic3\", \"Topic3\", \"Topic3\", \"Topic3\", \"Topic3\", \"Topic3\", \"Topic3\", \"Topic3\", \"Topic3\", \"Topic3\", \"Topic3\", \"Topic3\", \"Topic3\", \"Topic3\", \"Topic4\", \"Topic4\", \"Topic4\", \"Topic4\", \"Topic4\", \"Topic4\", \"Topic4\", \"Topic4\", \"Topic4\", \"Topic4\", \"Topic4\", \"Topic4\", \"Topic4\", \"Topic4\", \"Topic4\", \"Topic4\", \"Topic4\", \"Topic4\", \"Topic4\", \"Topic4\", \"Topic4\", \"Topic4\", \"Topic4\", \"Topic4\", \"Topic4\", \"Topic4\", \"Topic4\", \"Topic4\", \"Topic4\", \"Topic4\", \"Topic4\", \"Topic4\", \"Topic4\", \"Topic4\", \"Topic4\", \"Topic4\", \"Topic4\", \"Topic4\", \"Topic4\", \"Topic4\", \"Topic4\", \"Topic4\", \"Topic4\", \"Topic4\", \"Topic4\", \"Topic4\", \"Topic4\", \"Topic4\", \"Topic4\", \"Topic4\", \"Topic4\", \"Topic4\", \"Topic4\", \"Topic4\", \"Topic4\", \"Topic4\", \"Topic4\", \"Topic4\", \"Topic4\", \"Topic4\", \"Topic4\", \"Topic5\", \"Topic5\", \"Topic5\", \"Topic5\", \"Topic5\", \"Topic5\", \"Topic5\", \"Topic5\", \"Topic5\", \"Topic5\", \"Topic5\", \"Topic5\", \"Topic5\", \"Topic5\", \"Topic5\", \"Topic5\", \"Topic5\", \"Topic5\", \"Topic5\", \"Topic5\", \"Topic5\", \"Topic5\", \"Topic5\", \"Topic5\", \"Topic5\", \"Topic5\", \"Topic5\", \"Topic5\", \"Topic5\", \"Topic5\", \"Topic5\", \"Topic5\", \"Topic5\", \"Topic5\", \"Topic5\", \"Topic5\", \"Topic5\", \"Topic5\", \"Topic5\", \"Topic5\", \"Topic5\", \"Topic5\", \"Topic5\", \"Topic5\", \"Topic5\", \"Topic5\", \"Topic5\", \"Topic5\", \"Topic5\", \"Topic5\", \"Topic5\", \"Topic5\", \"Topic5\", \"Topic6\", \"Topic6\", \"Topic6\", \"Topic6\", \"Topic6\", \"Topic6\", \"Topic6\", \"Topic6\", \"Topic6\", \"Topic6\", \"Topic6\", \"Topic6\", \"Topic6\", \"Topic6\", \"Topic6\", \"Topic6\", \"Topic6\", \"Topic6\", \"Topic6\", \"Topic6\", \"Topic6\", \"Topic6\", \"Topic6\", \"Topic6\", \"Topic6\", \"Topic6\", \"Topic6\", \"Topic6\", \"Topic6\", \"Topic6\", \"Topic6\", \"Topic6\", \"Topic6\", \"Topic6\", \"Topic6\", \"Topic6\", \"Topic6\", \"Topic6\", \"Topic6\", \"Topic6\", \"Topic6\", \"Topic6\", \"Topic6\", \"Topic6\", \"Topic6\", \"Topic7\", \"Topic7\", \"Topic7\", \"Topic7\", \"Topic7\", \"Topic7\", \"Topic7\", \"Topic7\", \"Topic7\", \"Topic7\", \"Topic7\", \"Topic7\", \"Topic7\", \"Topic7\", \"Topic7\", \"Topic7\", \"Topic7\", \"Topic7\", \"Topic7\", \"Topic7\", \"Topic7\", \"Topic7\", \"Topic7\", \"Topic7\", \"Topic7\", \"Topic7\", \"Topic7\", \"Topic7\", \"Topic7\", \"Topic7\", \"Topic7\", \"Topic7\", \"Topic7\", \"Topic7\", \"Topic7\", \"Topic7\", \"Topic7\", \"Topic7\", \"Topic7\", \"Topic7\", \"Topic7\", \"Topic7\", \"Topic7\", \"Topic8\", \"Topic8\", \"Topic8\", \"Topic8\", \"Topic8\", \"Topic8\", \"Topic8\", \"Topic8\", \"Topic8\", \"Topic8\", \"Topic8\", \"Topic8\", \"Topic8\", \"Topic8\", \"Topic8\", \"Topic8\", \"Topic8\", \"Topic8\", \"Topic8\", \"Topic8\", \"Topic8\", \"Topic8\", \"Topic8\", \"Topic8\", \"Topic8\", \"Topic8\", \"Topic8\", \"Topic8\", \"Topic8\", \"Topic8\", \"Topic8\", \"Topic8\", \"Topic8\", \"Topic8\", \"Topic8\", \"Topic9\", \"Topic9\", \"Topic9\", \"Topic9\", \"Topic9\", \"Topic9\", \"Topic9\", \"Topic9\", \"Topic9\", \"Topic9\", \"Topic9\", \"Topic9\", \"Topic9\", \"Topic9\", \"Topic9\", \"Topic9\", \"Topic9\", \"Topic9\", \"Topic9\", \"Topic9\", \"Topic9\", \"Topic9\", \"Topic9\", \"Topic9\", \"Topic9\", \"Topic9\", \"Topic9\", \"Topic9\", \"Topic9\", \"Topic9\", \"Topic9\", \"Topic9\", \"Topic9\", \"Topic9\", \"Topic9\", \"Topic9\", \"Topic9\", \"Topic9\", \"Topic9\", \"Topic10\", \"Topic10\", \"Topic10\", \"Topic10\", \"Topic10\", \"Topic10\", \"Topic10\", \"Topic10\", \"Topic10\", \"Topic10\", \"Topic10\", \"Topic10\", \"Topic10\", \"Topic10\", \"Topic10\", \"Topic10\", \"Topic10\", \"Topic10\", \"Topic10\", \"Topic10\", \"Topic10\", \"Topic10\", \"Topic10\", \"Topic10\", \"Topic10\", \"Topic10\", \"Topic10\", \"Topic10\", \"Topic10\", \"Topic10\", \"Topic10\", \"Topic10\", \"Topic10\", \"Topic10\", \"Topic10\"], \"Freq\": [154533.0, 96008.0, 207576.0, 100195.0, 49049.0, 46472.0, 77920.0, 159978.0, 43803.0, 65747.0, 44723.0, 36543.0, 35179.0, 53441.0, 72339.0, 27317.0, 38387.0, 25490.0, 56591.0, 43227.0, 117785.0, 49402.0, 79455.0, 42234.0, 36459.0, 22774.0, 19883.0, 164684.0, 27701.0, 27608.0, 207545.1300428987, 89451.20082706997, 76359.82660166296, 31175.823077932386, 23872.896843733477, 22165.672937576914, 21242.077188277126, 20772.877617350456, 20751.424419570627, 19730.305938848905, 19413.372357256867, 19133.722731653932, 18794.816042395712, 18536.119721306044, 15594.81627883556, 14600.3349470026, 14321.211586912214, 13934.598268957012, 13897.32748236983, 13701.856084926781, 13242.358558043945, 12141.170799323507, 12304.82643368036, 11579.221469569784, 11429.63556636409, 11079.939684543162, 10790.925916694792, 10748.16700495094, 10607.402816180855, 10454.966094490897, 42080.04812700339, 22710.376334390734, 15709.597817754371, 18241.13993692461, 14773.458683066578, 23101.618686456346, 14082.337076245734, 129093.76979157828, 150904.7899193675, 21043.529969184485, 35709.2093886512, 39186.947186224534, 198936.60092420917, 36078.58945029595, 38276.08953388651, 21047.14758530125, 21902.46765950484, 144928.5373560423, 62858.78194162401, 58060.43180160194, 35458.74982555423, 107374.99464608917, 39023.51797364224, 68762.23776679115, 55299.894288327705, 89789.93006306085, 40321.15345014263, 52060.06609101409, 57891.05836282156, 48618.26927049053, 41152.014392321784, 51441.61558599107, 47754.836865642224, 47027.52145996094, 68507.70246987886, 54240.86947233193, 44337.1649823992, 41257.89186716558, 100163.76448430769, 77888.73515484767, 65716.2098061065, 48118.25238562915, 20692.06661881852, 20825.455097671937, 9811.647630431311, 13736.486692037088, 8707.905767382823, 8699.729678596874, 7634.507475516725, 7331.333380170228, 7338.491313727762, 6727.354613406438, 6405.162130201947, 6242.548514189622, 6169.977852555729, 6150.596750732028, 6198.866405559648, 6085.214422205261, 5908.677661004012, 5300.720791974409, 5147.205512921689, 5022.744699397549, 4941.118588853509, 4786.888860555808, 4734.373668033407, 4709.824863009845, 4603.255605625458, 4630.89435707462, 12241.216271830348, 32377.618797510382, 15962.713546703231, 9685.214789396634, 29488.912771848827, 15019.179258097747, 9630.951317988909, 32301.91972153127, 8585.593385365552, 45084.680070757546, 10810.0300163824, 18818.63729619594, 8193.616741957776, 7232.207291866508, 10204.59370919694, 22270.48934961773, 23404.56908992451, 17154.930076013767, 11099.478246570494, 19213.158398310334, 18164.692095035334, 17556.460577369267, 24116.614234645363, 37280.2001026069, 32741.62762759027, 46038.43916116743, 18469.21180548939, 16713.860092326286, 33442.24343953951, 17299.75299844591, 25848.904665480914, 38903.96856190765, 35320.417637075014, 32808.99588663397, 24365.75850962015, 24060.376858373504, 23977.75374464752, 22264.539452592322, 20829.42331699279, 24797.413314933565, 27662.592562339265, 20502.119841093794, 17660.06225667728, 14676.686431544527, 10263.192848351626, 10049.911087551514, 8436.304244142546, 8096.217419620142, 6403.5206389203695, 6218.206459374083, 7320.12697499692, 6116.070917450733, 4887.350793099226, 4871.828057350726, 4824.421650941267, 4554.788001730114, 4366.835656559893, 4349.929449476341, 4325.968691470491, 4275.015557182484, 4150.624456800934, 4108.325483871549, 3972.657993323221, 3786.565921759373, 4904.528503950236, 3455.546149191502, 3370.798584239094, 3195.8673320362273, 3928.7302132393575, 3169.422916943893, 14512.24015543071, 8349.062243525868, 7799.111141664787, 4713.621179586036, 10354.707312687382, 35292.771119375575, 28488.909154407116, 20453.40424910896, 9935.156290609393, 14498.00608121091, 20829.826899409385, 18805.673535330123, 12092.809837710654, 9341.2990677181, 13521.88853105784, 10086.36152651661, 16479.854636615546, 13522.866500003815, 5942.622095695669, 13742.640232917633, 11694.32496107598, 8234.970522245509, 7987.106780339798, 8030.959494355353, 35147.41992550982, 20746.580779906773, 16842.018214596585, 16735.815200321787, 11186.87495194368, 10095.66178683915, 9650.458142038233, 6741.196299824606, 6669.649367990019, 6114.746853440449, 4587.737950162377, 3913.0496551148926, 3879.4728369751883, 2885.721850906365, 2766.3548538629666, 2732.8130836734754, 2502.051054101246, 2323.2227258409607, 2298.463317041748, 2264.102928784433, 2203.9666916629617, 2077.446428523059, 2067.864507955343, 2031.8406583903302, 1982.2302787043457, 1970.2824678740976, 1863.7705553122453, 1846.9724320263936, 1844.9384443299152, 1798.8536661186754, 5072.52168893827, 25807.498316695575, 12121.282777867134, 34224.30541138216, 15946.530487967657, 31117.85043062586, 8717.234515741862, 9527.8663559698, 6012.3397886467155, 5004.519422503046, 8917.034308277172, 5953.847393520236, 7795.447796535532, 7070.428680417631, 6835.392408512082, 6425.086639806538, 7547.348278511551, 10209.027483886628, 10360.407008469507, 26531.154186631586, 15411.604411119532, 11157.701731021161, 18068.712883573102, 11186.785261182109, 13380.518751151645, 11560.609418155387, 12186.187490234948, 9227.733000071774, 8379.19538443534, 8709.853139999132, 7681.045586000173, 18030.89928630389, 17580.271604417274, 12462.16124144597, 11485.746556657497, 8575.741727061648, 5835.983521156221, 5768.433673363391, 5338.649724709209, 5098.0955125508035, 4962.477727508767, 3893.1580707991625, 3522.137276292852, 3332.2791066637083, 3300.779954907642, 3197.292746276004, 3171.1175592951545, 3061.478535797522, 2946.799165812888, 2909.3503489592213, 2609.9216800583317, 2570.879549880879, 2550.5748270937193, 2512.5598556801415, 2510.032063299306, 2498.0574154599312, 2386.5816491958517, 2289.3366052062897, 2273.29525955418, 2170.839596447512, 2121.875224318049, 2582.2054831038895, 3361.0080035663723, 15584.527034681347, 6142.558745890726, 5095.2575053906985, 4155.575937937765, 8362.395198299308, 12861.168455536272, 4656.904837653791, 13419.945701472558, 15434.693518418528, 6095.562711975829, 16280.840925236249, 6038.599659722787, 4830.952487644767, 4504.215652025724, 4474.320151682878, 5084.734911681653, 6009.804002688449, 3957.895960553728, 5173.213256966875, 4093.701332795145, 4094.946467043642, 27285.488791600004, 22735.63260187086, 15605.966478010343, 11929.23615493639, 11829.023356038748, 10297.362337825785, 9432.320947607715, 9381.782042063325, 6574.4866065914985, 6536.1424661931815, 6217.920077923663, 7212.627738284097, 5592.860359047794, 5847.4259885691345, 4881.760657260941, 4774.621873918796, 3810.5198112939697, 3718.452055401065, 3575.248921550275, 3492.6894792383746, 3333.9813852912857, 3150.4298000420995, 2990.1360475667, 3035.692293468848, 2760.7080146168023, 2723.335951965395, 2643.4954071079737, 2427.2996933475843, 2644.763762849672, 2369.950124800965, 5919.499035621548, 2973.9952837283454, 11201.78504098736, 5447.413348212368, 5023.823892666147, 7132.88824106986, 5702.956498596855, 4919.024407859572, 4581.917185414922, 4996.896517834554, 4565.873895384717, 3983.8817789113778, 4342.888051670865, 4134.687918289066, 3818.7315910632406, 25458.05443701788, 20152.59713273014, 12087.122383476173, 8961.511716782268, 7276.4947191309975, 7192.432458851112, 6982.122601926695, 6738.126048903066, 5879.24202784133, 5787.167295630617, 5434.518242161516, 5330.965650708313, 4606.7314350191755, 4123.685553837658, 3994.7144125618647, 3943.643509993955, 3464.2445291270424, 3191.074336110859, 2987.750736079927, 2976.587316720998, 2761.168575122592, 2498.855036140571, 2461.2033178339834, 2445.912926741436, 2314.588513516906, 2139.50599258612, 2114.229210651824, 2083.1216304047894, 2033.4589091963323, 1846.1822648167351, 11625.843110637723, 6806.368680532391, 13815.93637189739, 3628.330173946692, 10831.526075855181, 20626.95650893173, 19541.314708396025, 8642.162580740258, 3153.292525899135, 8487.573639961001, 6524.713185014586, 3888.8155733442727, 3612.0584049720096, 13057.101249818545, 10838.724348104977, 9240.160632798375, 8867.4472575228, 6450.601757773268, 5763.04452013236, 5136.405859158902, 4336.9015511278085, 4303.963376164952, 4010.746783223741, 3982.233529721538, 3493.5671699759164, 3332.1811282443537, 3433.711754563587, 3097.2407258972567, 2979.2302326789795, 2780.77355522156, 2763.6608562340743, 2653.7312034260513, 2474.9309908753276, 2467.963491282495, 2405.4499029743456, 2374.4005678018684, 2198.8112107952456, 2111.894817855723, 2088.212088488769, 1962.2422894741485, 1948.0200974867844, 1765.1454266943942, 1739.6926628926458, 4740.276589714888, 8394.714139505733, 3242.7824303467028, 3206.9215312526935, 2846.5925611002253, 19851.511888884543, 14480.104316561139, 14464.334177162447, 13946.003807757079, 9205.550333684643, 9200.399138161623, 4996.983263261761, 4715.994235205797, 4685.120615112449, 4345.447781086075, 3858.7344614025037, 3471.3270586852623, 4686.6849810274525, 2915.323297440679, 2746.5282432625454, 2597.697363821862, 2519.851190670393, 2294.569071209267, 2259.3862316606837, 2186.876858726856, 2132.988795178117, 2052.0814338836767, 1858.3433485794937, 1648.113642363055, 1565.6529206018115, 1474.7862838525486, 1455.6830971886507, 1299.0168732103193, 1282.7041455983447, 1250.360001794109, 10236.25181113819, 26445.657959976346, 12163.57149205745, 3262.5398319263645, 3638.7114354856553, 21169.874167132522, 4104.4266066532755, 2694.978255387149, 3018.7642196791126, 5466.359203612936, 4107.848238231758, 3882.6368267429334, 3240.8401426554688, 2407.610058138363, 2372.254623072955, 2119.336311711659, 2075.978421023945, 1986.0209709667408, 1964.099655338418, 1947.802186320259, 1909.0940623387248, 1858.7124082976172, 1777.1661623390962, 1760.8623831295947, 1742.4521946775799, 1568.2244782798998, 1483.5304482218019, 1479.6873245048453, 1474.7402981941261, 1465.2636101336109, 1280.673986659353, 1276.7101620029243, 1274.5455818829291, 1274.2722444455842, 1235.4872574901726, 1145.4770403895905, 1126.2199877851567, 1090.5062257115671, 1082.497724281307, 1581.19140381988, 1701.1867768348905, 1962.1140234956506, 2531.0867098307262, 1332.8873477336333], \"Term\": [\"product\", \"amazon\", \"coffee\", \"food\", \"water\", \"drink\", \"dog\", \"great\", \"box\", \"treats\", \"mix\", \"pack\", \"cookies\", \"sugar\", \"make\", \"salt\", \"chips\", \"juice\", \"chocolate\", \"order\", \"love\", \"free\", \"use\", \"organic\", \"milk\", \"oil\", \"com\", \"taste\", \"gluten\", \"snack\", \"coffee\", \"tea\", \"cup\", \"strong\", \"roast\", \"tasting\", \"bold\", \"beans\", \"vanilla\", \"bitter\", \"smell\", \"blend\", \"large\", \"smooth\", \"cocoa\", \"drinking\", \"rich\", \"medium\", \"coffees\", \"french\", \"wasn\", \"brew\", \"ground\", \"opened\", \"aroma\", \"alternative\", \"end\", \"aftertaste\", \"starbucks\", \"honey\", \"cups\", \"green\", \"maybe\", \"morning\", \"microwave\", \"wonderful\", \"powder\", \"flavor\", \"taste\", \"keurig\", \"tastes\", \"organic\", \"like\", \"nice\", \"bit\", \"added\", \"dark\", \"good\", \"tried\", \"better\", \"favorite\", \"just\", \"hot\", \"really\", \"little\", \"great\", \"sugar\", \"best\", \"don\", \"try\", \"chocolate\", \"use\", \"price\", \"buy\", \"product\", \"love\", \"time\", \"make\", \"food\", \"dog\", \"treats\", \"dogs\", \"cat\", \"baby\", \"stomach\", \"cats\", \"pet\", \"feed\", \"lamb\", \"chew\", \"issues\", \"eats\", \"website\", \"bed\", \"feeding\", \"stop\", \"stopped\", \"vet\", \"allergies\", \"changed\", \"fed\", \"awful\", \"puppy\", \"middle\", \"trouble\", \"bone\", \"bones\", \"skin\", \"break\", \"loves\", \"newman\", \"jerky\", \"old\", \"times\", \"formula\", \"treat\", \"china\", \"eat\", \"problems\", \"year\", \"picky\", \"noticed\", \"month\", \"ingredients\", \"hard\", \"foods\", \"meat\", \"eating\", \"chicken\", \"local\", \"store\", \"amazon\", \"time\", \"product\", \"years\", \"happy\", \"love\", \"healthy\", \"price\", \"like\", \"good\", \"just\", \"buy\", \"don\", \"really\", \"little\", \"bag\", \"great\", \"gluten\", \"sauce\", \"butter\", \"absolutely\", \"cake\", \"peanut\", \"pancakes\", \"orzo\", \"jar\", \"seller\", \"flour\", \"noodles\", \"ready\", \"forward\", \"bisquick\", \"eggs\", \"crispy\", \"tofu\", \"mom\", \"dairy\", \"directions\", \"pizza\", \"pamela\", \"brownies\", \"goat\", \"soups\", \"vegan\", \"sauces\", \"uses\", \"follow\", \"seeds\", \"baking\", \"bread\", \"egg\", \"soup\", \"mix\", \"free\", \"milk\", \"wheat\", \"add\", \"make\", \"use\", \"easy\", \"chicken\", \"best\", \"delicious\", \"just\", \"great\", \"cook\", \"good\", \"love\", \"makes\", \"hot\", \"try\", \"cookies\", \"crackers\", \"cheese\", \"cookie\", \"daughter\", \"chip\", \"fiber\", \"cracker\", \"spice\", \"espresso\", \"carbs\", \"italian\", \"tray\", \"cents\", \"cheddar\", \"dip\", \"melted\", \"walmart\", \"tummy\", \"mac\", \"exact\", \"asian\", \"disappointment\", \"saved\", \"round\", \"introduced\", \"terrific\", \"kinda\", \"pastas\", \"afraid\", \"crisp\", \"snack\", \"pasta\", \"chips\", \"fat\", \"box\", \"potato\", \"fan\", \"packages\", \"bars\", \"boxes\", \"calorie\", \"serving\", \"enjoyed\", \"crunchy\", \"snacks\", \"spicy\", \"calories\", \"low\", \"great\", \"chocolate\", \"pack\", \"love\", \"delicious\", \"eat\", \"bag\", \"amazon\", \"order\", \"bags\", \"flavors\", \"texture\", \"item\", \"arrived\", \"candy\", \"gift\", \"service\", \"remember\", \"licorice\", \"plant\", \"chili\", \"stale\", \"kept\", \"states\", \"wrapped\", \"kid\", \"candies\", \"sip\", \"salmon\", \"chestnuts\", \"craving\", \"business\", \"packing\", \"olives\", \"described\", \"birthday\", \"popchips\", \"individually\", \"satisfy\", \"raspberry\", \"discount\", \"ways\", \"expiration\", \"pink\", \"received\", \"customer\", \"condition\", \"party\", \"quickly\", \"shipping\", \"date\", \"ordered\", \"order\", \"broken\", \"product\", \"company\", \"thank\", \"plastic\", \"expected\", \"days\", \"bought\", \"online\", \"great\", \"packaging\", \"purchased\", \"salt\", \"oil\", \"soda\", \"pork\", \"popcorn\", \"rinds\", \"almonds\", \"nuts\", \"vinegar\", \"olive\", \"seasoning\", \"pepper\", \"sour\", \"chia\", \"filling\", \"magnesium\", \"bigger\", \"onion\", \"grape\", \"seed\", \"salads\", \"sea\", \"msg\", \"rose\", \"doubt\", \"tart\", \"colors\", \"salted\", \"rda\", \"dressing\", \"vitamin\", \"oils\", \"protein\", \"sodium\", \"peanuts\", \"corn\", \"salty\", \"soy\", \"recipe\", \"white\", \"spicy\", \"contains\", \"sugar\", \"chips\", \"roasted\", \"juice\", \"orange\", \"ice\", \"tangerine\", \"lemon\", \"pill\", \"recipes\", \"carbonated\", \"hazelnut\", \"refreshing\", \"truly\", \"warm\", \"beverage\", \"pineapple\", \"waffles\", \"jelly\", \"offer\", \"drop\", \"yum\", \"juices\", \"pocket\", \"nose\", \"sparkling\", \"guy\", \"melt\", \"waffle\", \"lemons\", \"lids\", \"salsa\", \"delight\", \"syrup\", \"apple\", \"fruit\", \"banana\", \"coconut\", \"drink\", \"water\", \"natural\", \"maple\", \"sugar\", \"sweet\", \"cream\", \"bottle\", \"pieces\", \"machine\", \"beef\", \"cereal\", \"christmas\", \"shape\", \"drinker\", \"complaint\", \"mother\", \"sardines\", \"peppermint\", \"carrying\", \"celiac\", \"tree\", \"disease\", \"buffalo\", \"pretzels\", \"girl\", \"firm\", \"enjoyable\", \"wild\", \"royal\", \"floor\", \"fondant\", \"terrier\", \"dad\", \"science\", \"seafood\", \"play\", \"law\", \"sticks\", \"stick\", \"red\", \"fan\", \"products\", \"com\", \"http\", \"www\", \"href\", \"wolfgang\", \"puck\", \"reasonable\", \"truffle\", \"delivered\", \"grass\", \"cherry\", \"emeril\", \"diamond\", \"pockets\", \"truffles\", \"grade\", \"trays\", \"apparently\", \"tooth\", \"brewers\", \"smoked\", \"spot\", \"snacking\", \"grove\", \"dented\", \"currently\", \"hawaiian\", \"basket\", \"guilt\", \"diabetic\", \"ounce\", \"amazon\", \"pack\", \"gum\", \"mountain\", \"product\", \"cans\", \"black\", \"organic\", \"throw\", \"carbonation\", \"slight\", \"grains\", \"babies\", \"kit\", \"hair\", \"pass\", \"vendor\", \"mic\", \"wholesome\", \"icicle\", \"disposable\", \"gain\", \"cow\", \"similac\", \"goats\", \"grapefruit\", \"ridiculous\", \"created\", \"vita\", \"concerns\", \"toy\", \"usb\", \"ups\", \"ball\", \"bath\", \"switching\", \"holder\", \"acids\", \"sound\", \"nutritional\", \"source\", \"products\", \"calcium\"], \"Total\": [154533.0, 96008.0, 207576.0, 100195.0, 49049.0, 46472.0, 77920.0, 159978.0, 43803.0, 65747.0, 44723.0, 36543.0, 35179.0, 53441.0, 72339.0, 27317.0, 38387.0, 25490.0, 56591.0, 43227.0, 117785.0, 49402.0, 79455.0, 42234.0, 36459.0, 22774.0, 19883.0, 164684.0, 27701.0, 27608.0, 207576.8718561355, 89482.94254306667, 76392.0549580941, 31207.66762886915, 23904.639179641817, 22197.419181184596, 21273.820278282546, 20804.621844752004, 20783.16708512086, 19762.047260770734, 19445.120102067453, 19165.46582877306, 18826.568046620596, 18567.86424745699, 15626.557743861878, 14632.078240899342, 14352.955508697749, 13966.364376937454, 13929.06842271108, 13733.612973299632, 13274.61115201651, 12172.911431338058, 12337.963650379885, 11610.971745070237, 11461.378438219026, 11111.686272234188, 10822.679018306866, 10779.909516413389, 10639.145270916722, 10486.71202264818, 42235.01065680784, 22796.5404300885, 15759.563653067564, 18334.710314798907, 14832.156793721142, 23465.57707137471, 14174.419027981456, 137594.40980789546, 164684.55884353214, 21601.749340754475, 37912.61731330163, 42234.37048291889, 248741.02685033294, 39129.72135401364, 42565.422729239406, 22039.965977308242, 23162.344343864075, 198707.82704322579, 78498.6605520013, 71998.9180116983, 41792.84134959881, 164120.19593333916, 47216.404766287, 99881.92385413458, 81053.93960660233, 159978.89359256387, 53441.80392289235, 77134.16051232794, 89600.69704013038, 70311.76009060912, 56591.79036353709, 79455.39636061934, 74831.15578561086, 79047.66345575666, 154533.21413934446, 117785.39776896052, 83061.04544794721, 72339.1158590141, 100195.43832217222, 77920.35394639231, 65747.82914614781, 48149.87164625814, 20723.685960562863, 20860.82715111968, 9843.27291932746, 13782.531418474073, 8739.524961157258, 8731.353511717007, 7666.127314786493, 7363.917574940575, 7372.885861477567, 6758.97476431145, 6436.792547104174, 6274.183662438144, 6201.597093380928, 6182.223209235464, 6230.85147905945, 6116.884727452957, 5940.301860783028, 5332.348090387942, 5178.993012396901, 5054.3740839897155, 4972.7375081086875, 4818.518327313893, 4765.998699941082, 4741.448647359147, 4634.877018275992, 4663.234624758997, 12371.095627549728, 33941.4947239789, 16505.878307840754, 9955.661524756086, 32228.81350357302, 15878.62053744758, 10017.233010125115, 37694.589030155024, 9023.719390057004, 62298.967905258076, 11900.973141128186, 23353.13510421283, 8824.932280396319, 7566.668776081952, 12076.045567416004, 34862.23838201481, 37407.45025770241, 24496.16082862266, 13549.052110950794, 29561.40606839505, 27534.243141300616, 28004.715144178015, 46235.02950755015, 96008.2187655661, 83061.04544794721, 154533.21413934446, 32791.07546321808, 27949.513328597553, 117785.39776896052, 31699.23982261606, 74831.15578561086, 248741.02685033294, 198707.82704322579, 164120.19593333916, 79047.66345575666, 89600.69704013038, 99881.92385413458, 81053.93960660233, 62077.237952018055, 159978.89359256387, 27701.00041869028, 20534.812239835537, 17693.483786770852, 14708.743538026827, 10295.292695592174, 10082.00818117704, 8468.558710725265, 8129.675818990526, 6435.5734310839025, 6250.263384565371, 7358.13593477935, 6148.125538685006, 4919.407498734621, 4903.88385169591, 4856.470382043916, 4586.8381339869675, 4398.887230481704, 4381.97865018119, 4358.02367953669, 4307.06951873254, 4182.678591916223, 4140.373323805161, 4004.7051397582054, 3818.6385813652264, 4946.716491112496, 3487.614875413848, 3402.848378186022, 3227.915307673009, 3968.2118885315335, 3201.4788124088313, 14763.681458885767, 8455.271723431304, 7952.238954654381, 4781.671896810756, 10845.933781947711, 44723.77880136038, 49402.29811061995, 36459.30721501898, 15025.260611744325, 30702.82824785187, 72339.1158590141, 79455.39636061934, 35325.34288499623, 27534.243141300616, 77134.16051232794, 38353.15349588664, 164120.19593333916, 159978.89359256387, 9498.716917171561, 198707.82704322579, 117785.39776896052, 33718.24535485062, 47216.404766287, 70311.76009060912, 35179.24810016171, 20778.408440134594, 16873.8500929834, 16767.68649270046, 11218.708045742162, 10127.540774129126, 9682.29606712874, 6773.024487414494, 6701.483457593352, 6146.583195217645, 4619.573513818448, 3944.8830686561873, 3911.3055919418553, 2917.553315370846, 2798.1823306596016, 2764.7298833694003, 2535.0357066396778, 2355.053594355196, 2330.3029260633075, 2295.935000133318, 2235.804465403155, 2109.2784192436584, 2099.70454627729, 2063.674955721006, 2014.0660622766238, 2002.1193397860914, 1895.6037312944025, 1878.8095566804282, 1876.768743129993, 1830.7006288933503, 5246.840658307894, 27608.609018901454, 12840.930515598842, 38387.84164728289, 18636.88885143249, 43803.60561958185, 11413.364239066981, 12763.173802883999, 7530.496123350179, 6107.552236101266, 13204.257190002027, 8281.538903301389, 11879.63801250652, 10471.195790419002, 10397.119917492571, 9574.438979898434, 12141.697162503311, 19452.464825158062, 20784.55129781029, 159978.89359256387, 56591.79036353709, 36543.63625696932, 117785.39776896052, 38353.15349588664, 62298.967905258076, 62077.237952018055, 96008.2187655661, 43227.53881249016, 26099.896014022703, 36950.550648285454, 21884.910701663346, 18062.64696707151, 17614.309959314392, 12493.907815993594, 11517.492525131996, 8608.16823844092, 5867.73687063634, 5802.311616811136, 5370.396711455005, 5129.866937835877, 4994.251890533589, 3924.9108506409157, 3553.887961853374, 3364.0246578538186, 3332.530864949082, 3229.038212742882, 3202.8680801122027, 3093.2304331917535, 2978.546616648064, 2941.1017209278316, 2641.6712008036106, 2602.6449794638625, 2582.3222316351453, 2544.3101604042854, 2541.7790246348295, 2529.8054949708453, 2418.3313042720774, 2321.0867654536332, 2305.046791001775, 2202.591793746969, 2153.626943090342, 2621.8976365227077, 3442.367219809144, 17516.242237320545, 6603.717500277988, 5573.568204187667, 4488.844086688612, 12324.718030439491, 25382.339416439732, 6072.852884269084, 32553.171611584243, 43227.53881249016, 10152.589982339725, 154533.21413934446, 17574.789123364546, 10729.788953956784, 9623.494465194219, 10352.670202564423, 16493.244607853707, 49796.16272354214, 9182.671724021386, 159978.89359256387, 15896.701322278168, 22390.55913751823, 27317.609789513866, 22774.28232154881, 15638.091240047223, 11961.526214393936, 11861.940462664581, 10329.483447763094, 9464.441907953977, 9413.905330366, 6606.60781112767, 6568.289123751745, 6250.044120110128, 7252.73196464895, 5624.983973981688, 5883.255106611079, 4913.888305685724, 4806.7417641554175, 3842.652358159649, 3750.601447109722, 3607.3744737693733, 3524.812306589029, 3366.741768775752, 3182.5504378925893, 3022.277936687252, 3068.7252656797027, 2792.839822804557, 2755.461686831969, 2675.6255397481304, 2459.4204555836614, 2679.7650496592505, 2402.0724571937762, 6098.521731066047, 3063.939319578463, 17534.094606324325, 7695.162364017153, 6891.1258026539035, 14837.441805819928, 10412.819943292636, 8873.738186749959, 11032.886978327737, 15868.58484212579, 12141.697162503311, 7916.864322760732, 53441.80392289235, 38387.84164728289, 8995.391110941535, 25490.199160867887, 20184.822784191543, 12119.26828045089, 8993.645122656482, 7308.631306559987, 7224.572037429485, 7014.267254040834, 6770.261643738043, 5911.38110708659, 5819.302337520728, 5466.659561083905, 5363.105880756052, 4638.866113976946, 4155.819204774656, 4026.8500749919363, 3975.78000505709, 3496.387475705743, 3223.2165269633647, 3019.8908492634223, 3008.721796215224, 2793.307071445184, 2530.999872500373, 2493.3389076499197, 2478.0586531193308, 2346.729528802273, 2171.642502094811, 2146.3646460178397, 2115.2638371057697, 2065.5977173646697, 1878.3225988122426, 11998.142696470704, 7577.895926004303, 16445.12639359356, 3974.304420304507, 15803.379679388747, 46472.77829404438, 49049.969609021704, 23889.243942339323, 3967.79228453549, 53441.80392289235, 42072.525596404244, 14922.759095572403, 10035.435798075743, 13088.7484966428, 10870.368945642747, 9271.806531010636, 8899.333183259869, 6482.248572683125, 5794.691913442422, 5168.053041305693, 4368.55058938021, 4335.608714505426, 4042.3959068551894, 4013.8767239175677, 3525.221185120936, 3363.8265625899667, 3467.050097136873, 3128.8867619894245, 3010.875712266282, 2812.4175957422003, 2795.307685278883, 2685.380754953845, 2506.5792221236984, 2499.610883073626, 2437.096230800444, 2406.0481896656606, 2230.45842739084, 2143.5435734515827, 2119.8578538789548, 1993.8860771942602, 1979.695337875526, 1796.7962645286702, 1771.3901899399116, 4853.294133790745, 8764.093057223663, 9236.970312719017, 12763.173802883999, 34452.63648213362, 19883.894390385052, 14512.485280252973, 14496.71513498077, 13978.384653396983, 9237.931400794423, 9232.779932996915, 5029.374220998694, 4748.377083538875, 4717.505590083846, 4377.998680925268, 3891.1203667051595, 3503.7092347195558, 4735.828886496517, 2947.7541539929753, 2778.9112493953544, 2630.082561858565, 2552.239021903924, 2326.960326913737, 2291.7774064139203, 2219.258054378063, 2165.379455208649, 2084.4746860279784, 1890.7325627990135, 1680.4962322302217, 1598.035619969816, 1507.1748009449195, 1488.0717832980233, 1331.4026790237472, 1315.0933114907934, 1282.7483586124226, 12450.619390331742, 96008.2187655661, 36543.63625696932, 5706.484023771932, 7087.601707808779, 154533.21413934446, 11380.439797167404, 16758.530058063825, 42234.37048291889, 5498.377495499564, 4139.872884446231, 3914.65625293711, 3272.859448239521, 2439.6254377639384, 2404.2697077245352, 2151.355187564017, 2107.995992239753, 2018.038052627524, 1996.111473812973, 1979.822913754015, 1941.106216549123, 1890.7607707565812, 1809.1939726665494, 1792.8817926054799, 1774.4654030954568, 1600.2442924936956, 1515.5484519628908, 1511.707987481183, 1506.7611774106933, 1497.2798961463482, 1312.6932939837025, 1308.730034343432, 1306.5574279420803, 1306.2904691044312, 1267.5045312654615, 1177.4957669669234, 1158.2367080821848, 1122.5225725330247, 1114.512739889181, 2296.706177644986, 3860.4474473451373, 6169.322160772377, 34452.63648213362, 2465.4329395224613], \"loglift\": [30.0, 29.0, 28.0, 27.0, 26.0, 25.0, 24.0, 23.0, 22.0, 21.0, 20.0, 19.0, 18.0, 17.0, 16.0, 15.0, 14.0, 13.0, 12.0, 11.0, 10.0, 9.0, 8.0, 7.0, 6.0, 5.0, 4.0, 3.0, 2.0, 1.0, 0.8129, 0.8127, 0.8127, 0.8121, 0.8118, 0.8117, 0.8116, 0.8116, 0.8116, 0.8115, 0.8115, 0.8114, 0.8114, 0.8114, 0.8111, 0.8109, 0.8109, 0.8108, 0.8108, 0.8108, 0.8107, 0.8105, 0.8104, 0.8104, 0.8103, 0.8102, 0.8102, 0.8101, 0.8101, 0.8101, 0.8094, 0.8093, 0.8099, 0.808, 0.8091, 0.7975, 0.8066, 0.7493, 0.7257, 0.7869, 0.7532, 0.7382, 0.5897, 0.7319, 0.7069, 0.767, 0.7572, 0.4975, 0.5909, 0.5979, 0.6487, 0.3888, 0.6225, 0.4398, 0.4307, 0.2355, 0.5314, 0.4199, 0.3763, 0.4442, 0.4945, 0.3783, 0.3639, 0.2938, -0.0004, 0.0377, 0.1853, 0.2516, 1.494, 1.494, 1.4939, 1.4937, 1.4928, 1.4927, 1.4911, 1.491, 1.4907, 1.4907, 1.4902, 1.4899, 1.4897, 1.4897, 1.4894, 1.4893, 1.4893, 1.4892, 1.4892, 1.4892, 1.489, 1.4884, 1.4882, 1.4881, 1.488, 1.4878, 1.4877, 1.4877, 1.4875, 1.4874, 1.4838, 1.4472, 1.4609, 1.4668, 1.4055, 1.4387, 1.455, 1.34, 1.4446, 1.171, 1.3982, 1.2785, 1.4201, 1.4492, 1.326, 1.0462, 1.0254, 1.1381, 1.2949, 1.0635, 1.0784, 1.0274, 0.8435, 0.5484, 0.5634, 0.2834, 0.9203, 0.9802, 0.2353, 0.8888, 0.4314, -0.361, -0.233, -0.1155, 0.3175, 0.1796, 0.0675, 0.2022, 0.4023, -0.3699, 2.6268, 2.6266, 2.6263, 2.626, 2.625, 2.625, 2.6243, 2.624, 2.6232, 2.623, 2.623, 2.6229, 2.6216, 2.6216, 2.6215, 2.6211, 2.6208, 2.6208, 2.6208, 2.6207, 2.6205, 2.6204, 2.6201, 2.6197, 2.6196, 2.6189, 2.6187, 2.6182, 2.6181, 2.6181, 2.611, 2.6155, 2.6087, 2.6138, 2.5818, 2.3913, 2.0777, 2.0501, 2.2145, 1.8778, 1.3832, 1.1871, 1.5562, 1.5472, 0.8869, 1.2925, 0.3297, 0.1575, 2.1591, -0.0432, 0.3184, 1.2185, 0.8512, 0.4585, 2.6593, 2.6586, 2.6583, 2.6583, 2.6573, 2.657, 2.6569, 2.6555, 2.6554, 2.655, 2.6532, 2.6521, 2.652, 2.6492, 2.6487, 2.6486, 2.6471, 2.6466, 2.6464, 2.6462, 2.6458, 2.645, 2.6449, 2.6446, 2.6442, 2.6441, 2.6432, 2.6431, 2.6431, 2.6426, 2.6264, 2.5927, 2.6025, 2.5454, 2.5043, 2.3182, 2.3907, 2.3678, 2.435, 2.461, 2.2676, 2.3302, 2.2389, 2.2675, 2.2407, 2.2613, 2.1847, 2.0155, 1.9639, 0.8634, 1.3594, 1.4738, 0.7855, 1.4281, 1.122, 0.9794, 0.596, 1.1159, 1.524, 1.215, 1.6131, 3.1334, 3.1332, 3.1326, 3.1324, 3.1314, 3.1297, 3.1293, 3.1292, 3.1289, 3.1288, 3.127, 3.1262, 3.1257, 3.1256, 3.1253, 3.1252, 3.1248, 3.1244, 3.1243, 3.1231, 3.1229, 3.1228, 3.1226, 3.1226, 3.1225, 3.1219, 3.1214, 3.1213, 3.1206, 3.1203, 3.1199, 3.1112, 3.0183, 3.0628, 3.0454, 3.058, 2.7473, 2.4553, 2.8697, 2.249, 2.1053, 2.625, 0.8847, 2.0669, 2.3372, 2.376, 2.2963, 1.9585, 1.0206, 2.2936, -0.2964, 1.7785, 1.4363, 3.2331, 3.2326, 3.2322, 3.2316, 3.2315, 3.2312, 3.2309, 3.2309, 3.2294, 3.2294, 3.2291, 3.2287, 3.2286, 3.2282, 3.2277, 3.2276, 3.2259, 3.2257, 3.2253, 3.2251, 3.2245, 3.2241, 3.2236, 3.2235, 3.2227, 3.2226, 3.2222, 3.2211, 3.2211, 3.2208, 3.2045, 3.2045, 2.7862, 2.8888, 2.9182, 2.5018, 2.6322, 2.6443, 2.3555, 2.0788, 2.2562, 2.5475, 0.7242, 1.006, 2.3775, 3.3294, 3.3291, 3.328, 3.3271, 3.3263, 3.3262, 3.3261, 3.3259, 3.3252, 3.3251, 3.3248, 3.3247, 3.3237, 3.3229, 3.3227, 3.3226, 3.3214, 3.3206, 3.32, 3.3199, 3.3191, 3.3179, 3.3177, 3.3176, 3.3169, 3.3158, 3.3156, 3.3154, 3.315, 3.3134, 3.2992, 3.2233, 3.1565, 3.2396, 2.9529, 2.5184, 2.4104, 2.3139, 3.1009, 1.4907, 1.4669, 1.9859, 2.3088, 3.6487, 3.6483, 3.6477, 3.6476, 3.6463, 3.6457, 3.645, 3.6439, 3.6438, 3.6433, 3.6433, 3.6421, 3.6417, 3.6415, 3.641, 3.6406, 3.6399, 3.6398, 3.6393, 3.6385, 3.6384, 3.6381, 3.6379, 3.6369, 3.6363, 3.6361, 3.6352, 3.635, 3.6334, 3.6331, 3.6276, 3.6081, 2.6044, 2.2699, 1.1577, 3.6837, 3.6831, 3.6831, 3.683, 3.6818, 3.6818, 3.6788, 3.6785, 3.6784, 3.6778, 3.677, 3.676, 3.6749, 3.6742, 3.6736, 3.6729, 3.6725, 3.6713, 3.6711, 3.6706, 3.6702, 3.6696, 3.668, 3.6659, 3.6648, 3.6636, 3.6633, 3.6607, 3.6604, 3.6597, 3.4895, 2.396, 2.5852, 3.1262, 3.0186, 1.6975, 2.6655, 1.8578, 1.0469, 3.8926, 3.8906, 3.8902, 3.8886, 3.8852, 3.885, 3.8834, 3.8831, 3.8824, 3.8822, 3.8821, 3.8818, 3.8813, 3.8805, 3.8804, 3.8802, 3.8782, 3.8771, 3.877, 3.8769, 3.8768, 3.8737, 3.8736, 3.8736, 3.8736, 3.8728, 3.8708, 3.8704, 3.8695, 3.8693, 3.5251, 3.079, 2.7528, 1.2875, 3.2834], \"logprob\": [30.0, 29.0, 28.0, 27.0, 26.0, 25.0, 24.0, 23.0, 22.0, 21.0, 20.0, 19.0, 18.0, 17.0, 16.0, 15.0, 14.0, 13.0, 12.0, 11.0, 10.0, 9.0, 8.0, 7.0, 6.0, 5.0, 4.0, 3.0, 2.0, 1.0, -3.7521, -4.5937, -4.752, -5.6478, -5.9147, -5.9889, -6.0314, -6.0538, -6.0548, -6.1053, -6.1215, -6.136, -6.1538, -6.1677, -6.3405, -6.4064, -6.4257, -6.4531, -6.4557, -6.4699, -6.504, -6.5908, -6.5774, -6.6382, -6.6512, -6.6823, -6.7087, -6.7127, -6.7259, -6.7403, -5.3479, -5.9646, -6.3332, -6.1837, -6.3946, -5.9475, -6.4425, -4.2269, -4.0708, -6.0408, -5.512, -5.4191, -3.7944, -5.5017, -5.4426, -6.0407, -6.0008, -4.1112, -4.9465, -5.0259, -5.5191, -4.4111, -5.4233, -4.8568, -5.0747, -4.59, -5.3905, -5.135, -5.0289, -5.2034, -5.3702, -5.147, -5.2213, -5.2367, -4.8605, -5.094, -5.2956, -5.3676, -3.7993, -4.0509, -4.2208, -4.5325, -5.3764, -5.37, -6.1226, -5.7861, -6.2419, -6.2429, -6.3735, -6.414, -6.413, -6.5, -6.5491, -6.5748, -6.5865, -6.5896, -6.5818, -6.6003, -6.6297, -6.7383, -6.7677, -6.7922, -6.8086, -6.8403, -6.8513, -6.8565, -6.8794, -6.8734, -5.9013, -4.9287, -5.6359, -6.1356, -5.0221, -5.6968, -6.1412, -4.931, -6.2561, -4.5976, -6.0257, -5.4713, -6.3028, -6.4276, -6.0833, -5.3029, -5.2532, -5.5639, -5.9993, -5.4506, -5.5067, -5.5407, -5.2233, -4.7877, -4.9175, -4.5767, -5.4901, -5.5899, -4.8963, -5.5555, -5.1539, -4.7451, -4.8417, -4.9155, -5.213, -5.2256, -5.229, -5.3032, -5.3698, -5.1954, -3.9523, -4.2518, -4.4011, -4.5861, -4.9438, -4.9648, -5.1398, -5.181, -5.4155, -5.4449, -5.2817, -5.4615, -5.6857, -5.6889, -5.6987, -5.7562, -5.7983, -5.8022, -5.8077, -5.8196, -5.8491, -5.8594, -5.8929, -5.9409, -5.6822, -6.0324, -6.0572, -6.1105, -5.9041, -6.1188, -4.5974, -5.1502, -5.2184, -5.7219, -4.9349, -3.7087, -3.9229, -4.2542, -4.9763, -4.5984, -4.236, -4.3382, -4.7798, -5.0379, -4.6681, -4.9612, -4.4702, -4.668, -5.4902, -4.6519, -4.8133, -5.164, -5.1945, -5.1891, -3.6808, -4.208, -4.4165, -4.4228, -4.8256, -4.9282, -4.9733, -5.3321, -5.3428, -5.4297, -5.717, -5.876, -5.8847, -6.1806, -6.2228, -6.235, -6.3232, -6.3974, -6.4081, -6.4232, -6.4501, -6.5092, -6.5138, -6.5314, -6.5561, -6.5622, -6.6178, -6.6268, -6.6279, -6.6532, -5.6165, -3.9897, -4.7454, -3.7074, -4.4711, -3.8026, -5.0751, -4.9861, -5.4465, -5.63, -5.0524, -5.4563, -5.1868, -5.2844, -5.3182, -5.3801, -5.2192, -4.9171, -4.9024, -3.962, -4.5052, -4.8282, -4.3462, -4.8256, -4.6466, -4.7928, -4.7401, -5.0181, -5.1146, -5.0759, -5.2016, -3.8733, -3.8986, -4.2427, -4.3242, -4.6164, -5.0013, -5.013, -5.0904, -5.1365, -5.1635, -5.4061, -5.5063, -5.5617, -5.5712, -5.6031, -5.6113, -5.6465, -5.6846, -5.6974, -5.806, -5.8211, -5.829, -5.8441, -5.8451, -5.8498, -5.8955, -5.9371, -5.9441, -5.9902, -6.0131, -5.8167, -5.5531, -4.0191, -4.9501, -5.137, -5.3409, -4.6416, -4.2111, -5.227, -4.1686, -4.0287, -4.9578, -3.9754, -4.9672, -5.1903, -5.2603, -5.267, -5.1391, -4.972, -5.3896, -5.1219, -5.3559, -5.3556, -3.3599, -3.5423, -3.9186, -4.1872, -4.1957, -4.3343, -4.4221, -4.4275, -4.783, -4.7889, -4.8388, -4.6904, -4.9447, -4.9002, -5.0807, -5.1029, -5.3285, -5.3529, -5.3922, -5.4156, -5.4621, -5.5187, -5.5709, -5.5558, -5.6507, -5.6644, -5.6941, -5.7795, -5.6937, -5.8034, -4.888, -5.5763, -4.2502, -4.9711, -5.052, -4.7015, -4.9253, -5.0731, -5.1441, -5.0574, -5.1476, -5.284, -5.1977, -5.2468, -5.3263, -3.3328, -3.5665, -4.0777, -4.3769, -4.5852, -4.5968, -4.6265, -4.6621, -4.7984, -4.8142, -4.8771, -4.8963, -5.0423, -5.1531, -5.1849, -5.1977, -5.3274, -5.4095, -5.4753, -5.4791, -5.5542, -5.654, -5.6692, -5.6754, -5.7306, -5.8093, -5.8212, -5.836, -5.8601, -5.9567, -4.1166, -4.652, -3.944, -5.2811, -4.1874, -3.5432, -3.5973, -4.4132, -5.4214, -4.4312, -4.6942, -5.2117, -5.2856, -3.68, -3.8662, -4.0258, -4.067, -4.3852, -4.4979, -4.613, -4.7822, -4.7898, -4.8604, -4.8675, -4.9984, -5.0457, -5.0157, -5.1188, -5.1577, -5.2266, -5.2328, -5.2734, -5.3431, -5.346, -5.3716, -5.3846, -5.4614, -5.5018, -5.513, -5.5753, -5.5825, -5.6811, -5.6956, -4.6933, -4.1217, -5.0729, -5.084, -5.2032, -3.2269, -3.5424, -3.5435, -3.58, -3.9954, -3.996, -4.6064, -4.6642, -4.6708, -4.7461, -4.8649, -4.9707, -4.6705, -5.1452, -5.2049, -5.2606, -5.291, -5.3847, -5.4001, -5.4327, -5.4577, -5.4964, -5.5955, -5.7156, -5.7669, -5.8267, -5.8397, -5.9536, -5.9662, -5.9918, -3.8893, -2.9401, -3.7168, -5.0327, -4.9236, -3.1626, -4.8031, -5.2238, -5.1104, -4.3035, -4.5892, -4.6456, -4.8263, -5.1235, -5.1383, -5.251, -5.2717, -5.316, -5.3271, -5.3354, -5.3555, -5.3822, -5.4271, -5.4363, -5.4468, -5.5522, -5.6077, -5.6103, -5.6136, -5.6201, -5.7547, -5.7578, -5.7595, -5.7597, -5.7906, -5.8663, -5.8832, -5.9155, -5.9228, -5.5439, -5.4708, -5.3281, -5.0735, -5.7148]}, \"token.table\": {\"Topic\": [1, 2, 3, 4, 5, 6, 7, 8, 9, 10, 1, 2, 3, 4, 5, 6, 7, 8, 9, 10, 1, 2, 3, 4, 5, 6, 7, 8, 9, 10, 1, 2, 3, 4, 5, 6, 7, 8, 9, 10, 1, 2, 3, 4, 5, 6, 7, 8, 9, 10, 1, 2, 3, 4, 5, 6, 7, 8, 9, 10, 1, 2, 3, 4, 5, 6, 7, 8, 9, 10, 1, 2, 3, 4, 5, 6, 7, 8, 9, 10, 1, 2, 3, 4, 5, 6, 7, 8, 9, 10, 1, 2, 3, 4, 5, 6, 7, 8, 9, 10, 1, 2, 3, 4, 5, 6, 7, 8, 9, 10, 1, 2, 3, 4, 5, 6, 7, 8, 9, 10, 1, 2, 3, 4, 5, 6, 7, 8, 9, 10, 1, 2, 3, 4, 5, 6, 7, 8, 9, 10, 1, 2, 3, 4, 5, 6, 7, 8, 9, 10, 1, 2, 3, 4, 5, 6, 7, 8, 9, 10, 1, 2, 3, 4, 5, 6, 7, 8, 9, 10, 1, 2, 3, 4, 5, 6, 7, 8, 9, 10, 1, 2, 3, 4, 5, 6, 7, 8, 9, 10, 1, 2, 3, 4, 5, 6, 7, 8, 9, 10, 1, 2, 3, 4, 5, 6, 7, 8, 9, 10, 1, 2, 3, 4, 5, 6, 7, 8, 9, 10, 1, 2, 3, 4, 5, 6, 7, 8, 9, 10, 1, 2, 3, 4, 5, 6, 7, 8, 9, 10, 1, 2, 3, 4, 5, 6, 7, 8, 9, 10, 1, 2, 3, 4, 5, 6, 7, 8, 9, 10, 1, 2, 3, 4, 5, 6, 7, 8, 9, 10, 1, 2, 3, 4, 5, 6, 7, 8, 9, 10, 1, 2, 3, 4, 5, 6, 7, 8, 9, 10, 1, 2, 3, 4, 5, 6, 7, 8, 9, 10, 1, 2, 3, 4, 5, 6, 7, 8, 9, 10, 1, 2, 3, 4, 5, 6, 7, 8, 9, 10, 1, 2, 3, 4, 5, 6, 7, 8, 9, 10, 1, 2, 3, 4, 5, 6, 7, 8, 9, 10, 1, 2, 3, 4, 5, 6, 7, 8, 9, 10, 1, 2, 3, 4, 5, 6, 7, 8, 9, 10, 1, 2, 3, 4, 5, 6, 7, 8, 9, 10, 1, 2, 3, 4, 5, 6, 7, 8, 9, 10, 1, 2, 3, 4, 5, 6, 7, 8, 9, 10, 1, 2, 3, 4, 5, 6, 7, 8, 9, 10, 1, 2, 3, 4, 5, 6, 7, 8, 9, 10, 1, 2, 3, 4, 5, 6, 7, 8, 9, 10, 1, 2, 3, 4, 5, 6, 7, 8, 9, 10, 1, 2, 3, 4, 5, 6, 7, 8, 9, 10, 1, 2, 3, 4, 5, 6, 7, 8, 9, 10, 1, 2, 3, 4, 5, 6, 7, 8, 9, 10, 1, 2, 3, 4, 5, 6, 7, 8, 9, 10, 1, 2, 3, 4, 5, 6, 7, 8, 9, 10, 1, 2, 3, 4, 5, 6, 7, 8, 9, 10, 1, 2, 3, 4, 5, 6, 7, 8, 9, 10, 1, 2, 3, 4, 5, 6, 7, 8, 9, 10, 1, 2, 3, 4, 5, 6, 7, 8, 9, 10, 1, 2, 3, 4, 5, 6, 7, 8, 9, 10, 1, 2, 3, 4, 5, 6, 7, 8, 9, 10, 1, 2, 3, 4, 5, 6, 7, 8, 9, 10, 1, 2, 3, 4, 5, 6, 7, 8, 9, 10, 1, 2, 3, 4, 5, 6, 7, 8, 9, 10, 1, 2, 3, 4, 5, 6, 7, 8, 9, 10, 1, 2, 3, 4, 5, 6, 7, 8, 9, 10, 1, 2, 3, 4, 5, 6, 7, 8, 9, 10, 1, 2, 3, 4, 5, 6, 7, 8, 9, 10, 1, 2, 3, 4, 5, 6, 7, 8, 9, 10, 1, 2, 3, 4, 5, 6, 7, 8, 9, 10, 1, 2, 3, 4, 5, 6, 7, 8, 9, 10, 1, 2, 3, 4, 5, 6, 7, 8, 9, 10, 1, 2, 3, 4, 5, 6, 7, 8, 9, 10, 1, 2, 3, 4, 5, 6, 7, 8, 9, 10, 1, 2, 3, 4, 5, 6, 7, 8, 9, 10, 1, 2, 3, 4, 5, 6, 7, 8, 9, 10, 1, 2, 3, 4, 5, 6, 7, 8, 9, 10, 1, 2, 3, 4, 5, 6, 7, 8, 9, 10, 1, 2, 3, 4, 5, 6, 7, 8, 9, 10, 1, 2, 3, 4, 5, 6, 7, 8, 9, 10, 1, 2, 3, 4, 5, 6, 7, 8, 9, 10, 1, 2, 3, 4, 5, 6, 7, 8, 9, 10, 1, 2, 3, 4, 5, 6, 7, 8, 9, 10, 1, 2, 3, 4, 5, 6, 7, 8, 9, 10, 1, 2, 3, 4, 5, 6, 7, 8, 9, 10, 1, 2, 3, 4, 5, 6, 7, 8, 9, 10, 1, 2, 3, 4, 5, 6, 7, 8, 9, 10, 1, 2, 3, 4, 5, 6, 7, 8, 9, 10, 1, 2, 3, 4, 5, 6, 7, 8, 9, 10, 1, 2, 3, 4, 5, 6, 7, 8, 9, 10, 1, 2, 3, 4, 5, 6, 7, 8, 9, 10, 1, 2, 3, 4, 5, 6, 7, 8, 9, 10, 1, 2, 3, 4, 5, 6, 7, 8, 9, 10, 1, 2, 3, 4, 5, 6, 7, 8, 9, 10, 1, 2, 3, 4, 5, 6, 7, 8, 9, 10, 1, 2, 3, 4, 5, 6, 7, 8, 9, 10, 1, 2, 3, 4, 5, 6, 7, 8, 9, 10, 1, 2, 3, 4, 5, 6, 7, 8, 9, 10, 1, 2, 3, 4, 5, 6, 7, 8, 9, 10, 1, 2, 3, 4, 5, 6, 7, 8, 9, 10, 1, 2, 3, 4, 5, 6, 7, 8, 9, 10, 1, 2, 3, 4, 5, 6, 7, 8, 9, 10, 1, 2, 3, 4, 5, 6, 7, 8, 9, 10, 1, 2, 3, 4, 5, 6, 7, 8, 9, 10, 1, 2, 3, 4, 5, 6, 7, 8, 9, 10, 1, 2, 3, 4, 5, 6, 7, 8, 9, 10, 1, 2, 3, 4, 5, 6, 7, 8, 9, 10, 1, 2, 3, 4, 5, 6, 7, 8, 9, 10, 1, 2, 3, 4, 5, 6, 7, 8, 9, 10, 1, 2, 3, 4, 5, 6, 7, 8, 9, 10, 1, 2, 3, 4, 5, 6, 7, 8, 9, 10, 1, 2, 3, 4, 5, 6, 7, 8, 9, 10, 1, 2, 3, 4, 5, 6, 7, 8, 9, 10, 1, 2, 3, 4, 5, 6, 7, 8, 9, 10, 1, 2, 3, 4, 5, 6, 7, 8, 9, 10, 1, 2, 3, 4, 5, 6, 7, 8, 9, 10, 1, 2, 3, 4, 5, 6, 7, 8, 9, 10, 1, 2, 3, 4, 5, 6, 7, 8, 9, 10, 1, 2, 3, 4, 5, 6, 7, 8, 9, 10, 1, 2, 3, 4, 5, 6, 7, 8, 9, 10, 1, 2, 3, 4, 5, 6, 7, 8, 9, 10, 1, 2, 3, 4, 5, 6, 7, 8, 9, 10, 1, 2, 3, 4, 5, 6, 7, 8, 9, 10, 1, 2, 3, 4, 5, 6, 7, 8, 9, 10, 1, 2, 3, 4, 5, 6, 7, 8, 9, 10, 1, 2, 3, 4, 5, 6, 7, 8, 9, 10, 1, 2, 3, 4, 5, 6, 7, 8, 9, 10, 1, 2, 3, 4, 5, 6, 7, 8, 9, 10, 1, 2, 3, 4, 5, 6, 7, 8, 9, 10, 1, 2, 3, 4, 5, 6, 7, 8, 9, 10, 1, 2, 3, 4, 5, 6, 7, 8, 9, 10, 1, 2, 3, 4, 5, 6, 7, 8, 9, 10, 1, 2, 3, 4, 5, 6, 7, 8, 9, 10, 1, 2, 3, 4, 5, 6, 7, 8, 9, 10, 1, 2, 3, 4, 5, 6, 7, 8, 9, 10, 1, 2, 3, 4, 5, 6, 7, 8, 9, 10, 1, 2, 3, 4, 5, 6, 7, 8, 9, 10, 1, 2, 3, 4, 5, 6, 7, 8, 9, 10, 1, 2, 3, 4, 5, 6, 7, 8, 9, 10, 1, 2, 3, 4, 5, 6, 7, 8, 9, 10, 1, 2, 3, 4, 5, 6, 7, 8, 9, 10, 1, 2, 3, 4, 5, 6, 7, 8, 9, 10, 1, 2, 3, 4, 5, 6, 7, 8, 9, 10, 1, 2, 3, 4, 5, 6, 7, 8, 9, 10, 1, 2, 3, 4, 5, 6, 7, 8, 9, 10, 1, 2, 3, 4, 5, 6, 7, 8, 9, 10, 1, 2, 3, 4, 5, 6, 7, 8, 9, 10, 1, 2, 3, 4, 5, 6, 7, 8, 9, 10, 1, 2, 3, 4, 5, 6, 7, 8, 9, 10, 1, 2, 3, 4, 5, 6, 7, 8, 9, 10, 1, 2, 3, 4, 5, 6, 7, 8, 9, 10, 1, 2, 3, 4, 5, 6, 7, 8, 9, 10, 1, 2, 3, 4, 5, 6, 7, 8, 9, 10, 1, 2, 3, 4, 5, 6, 7, 8, 9, 10, 1, 2, 3, 4, 5, 6, 7, 8, 9, 10, 1, 2, 3, 4, 5, 6, 7, 8, 9, 10, 1, 2, 3, 4, 5, 6, 7, 8, 9, 10, 1, 2, 3, 4, 5, 6, 7, 8, 9, 10, 1, 2, 3, 4, 5, 6, 7, 8, 9, 10, 1, 2, 3, 4, 5, 6, 7, 8, 9, 10, 1, 2, 3, 4, 5, 6, 7, 8, 9, 10, 1, 2, 3, 4, 5, 6, 7, 8, 9, 10, 1, 2, 3, 4, 5, 6, 7, 8, 9, 10, 1, 2, 3, 4, 5, 6, 7, 8, 9, 10, 1, 2, 3, 4, 5, 6, 7, 8, 9, 10, 1, 2, 3, 4, 5, 6, 7, 8, 9, 10, 1, 2, 3, 4, 5, 6, 7, 8, 9, 10, 1, 2, 3, 4, 5, 6, 7, 8, 9, 10, 1, 2, 3, 4, 5, 6, 7, 8, 9, 10, 1, 2, 3, 4, 5, 6, 7, 8, 9, 10, 1, 2, 3, 4, 5, 6, 7, 8, 9, 10, 1, 2, 3, 4, 5, 6, 7, 8, 9, 10, 1, 2, 3, 4, 5, 6, 7, 8, 9, 10, 1, 2, 3, 4, 5, 6, 7, 8, 9, 10, 1, 2, 3, 4, 5, 6, 7, 8, 9, 10, 1, 2, 3, 4, 5, 6, 7, 8, 9, 10, 1, 2, 3, 4, 5, 6, 7, 8, 9, 10, 1, 2, 3, 4, 5, 6, 7, 8, 9, 10, 1, 2, 3, 4, 5, 6, 7, 8, 9, 10, 1, 2, 3, 4, 5, 6, 7, 8, 9, 10, 1, 2, 3, 4, 5, 6, 7, 8, 9, 10, 1, 2, 3, 4, 5, 6, 7, 8, 9, 10, 1, 2, 3, 4, 5, 6, 7, 8, 9, 10, 1, 2, 3, 4, 5, 6, 7, 8, 9, 10, 1, 2, 3, 4, 5, 6, 7, 8, 9, 10, 1, 2, 3, 4, 5, 6, 7, 8, 9, 10, 1, 2, 3, 4, 5, 6, 7, 8, 9, 10, 1, 2, 3, 4, 5, 6, 7, 8, 9, 10, 1, 2, 3, 4, 5, 6, 7, 8, 9, 10, 1, 2, 3, 4, 5, 6, 7, 8, 9, 10, 1, 2, 3, 4, 5, 6, 7, 8, 9, 10, 1, 2, 3, 4, 5, 6, 7, 8, 9, 10, 1, 2, 3, 4, 5, 6, 7, 8, 9, 10, 1, 2, 3, 4, 5, 6, 7, 8, 9, 10, 1, 2, 3, 4, 5, 6, 7, 8, 9, 10, 1, 2, 3, 4, 5, 6, 7, 8, 9, 10, 1, 2, 3, 4, 5, 6, 7, 8, 9, 10, 1, 2, 3, 4, 5, 6, 7, 8, 9, 10, 1, 2, 3, 4, 5, 6, 7, 8, 9, 10, 1, 2, 3, 4, 5, 6, 7, 8, 9, 10, 1, 2, 3, 4, 5, 6, 7, 8, 9, 10, 1, 2, 3, 4, 5, 6, 7, 8, 9, 10, 1, 2, 3, 4, 5, 6, 7, 8, 9, 10, 1, 2, 3, 4, 5, 6, 7, 8, 9, 10, 1, 2, 3, 4, 5, 6, 7, 8, 9, 10, 1, 2, 3, 4, 5, 6, 7, 8, 9, 10, 1, 2, 3, 4, 5, 6, 7, 8, 9, 10, 1, 2, 3, 4, 5, 6, 7, 8, 9, 10, 1, 2, 3, 4, 5, 6, 7, 8, 9, 10, 1, 2, 3, 4, 5, 6, 7, 8, 9, 10, 1, 2, 3, 4, 5, 6, 7, 8, 9, 10, 1, 2, 3, 4, 5, 6, 7, 8, 9, 10, 1, 2, 3, 4, 5, 6, 7, 8, 9, 10, 1, 2, 3, 4, 5, 6, 7, 8, 9, 10, 1, 2, 3, 4, 5, 6, 7, 8, 9, 10, 1, 2, 3, 4, 5, 6, 7, 8, 9, 10, 1, 2, 3, 4, 5, 6, 7, 8, 9, 10, 1, 2, 3, 4, 5, 6, 7, 8, 9, 10, 1, 2, 3, 4, 5, 6, 7, 8, 9, 10, 1, 2, 3, 4, 5, 6, 7, 8, 9, 10, 1, 2, 3, 4, 5, 6, 7, 8, 9, 10, 1, 2, 3, 4, 5, 6, 7, 8, 9, 10, 1, 2, 3, 4, 5, 6, 7, 8, 9, 10, 1, 2, 3, 4, 5, 6, 7, 8, 9, 10, 1, 2, 3, 4, 5, 6, 7, 8, 9, 10, 1, 2, 3, 4, 5, 6, 7, 8, 9, 10, 1, 2, 3, 4, 5, 6, 7, 8, 9, 10, 1, 2, 3, 4, 5, 6, 7, 8, 9, 10, 1, 2, 3, 4, 5, 6, 7, 8, 9, 10, 1, 2, 3, 4, 5, 6, 7, 8, 9, 10, 1, 2, 3, 4, 5, 6, 7, 8, 9, 10, 1, 2, 3, 4, 5, 6, 7, 8, 9, 10, 1, 2, 3, 4, 5, 6, 7, 8, 9, 10, 1, 2, 3, 4, 5, 6, 7, 8, 9, 10, 1, 2, 3, 4, 5, 6, 7, 8, 9, 10, 1, 2, 3, 4, 5, 6, 7, 8, 9, 10, 1, 2, 3, 4, 5, 6, 7, 8, 9, 10, 1, 2, 3, 4, 5, 6, 7, 8, 9, 10, 1, 2, 3, 4, 5, 6, 7, 8, 9, 10, 1, 2, 3, 4, 5, 6, 7, 8, 9, 10, 1, 2, 3, 4, 5, 6, 7, 8, 9, 10, 1, 2, 3, 4, 5, 6, 7, 8, 9, 10, 1, 2, 3, 4, 5, 6, 7, 8, 9, 10, 1, 2, 3, 4, 5, 6, 7, 8, 9, 10, 1, 2, 3, 4, 5, 6, 7, 8, 9, 10, 1, 2, 3, 4, 5, 6, 7, 8, 9, 10, 1, 2, 3, 4, 5, 6, 7, 8, 9, 10, 1, 2, 3, 4, 5, 6, 7, 8, 9, 10, 1, 2, 3, 4, 5, 6, 7, 8, 9, 10, 1, 2, 3, 4, 5, 6, 7, 8, 9, 10, 1, 2, 3, 4, 5, 6, 7, 8, 9, 10, 1, 2, 3, 4, 5, 6, 7, 8, 9, 10, 1, 2, 3, 4, 5, 6, 7, 8, 9, 10, 1, 2, 3, 4, 5, 6, 7, 8, 9, 10, 1, 2, 3, 4, 5, 6, 7, 8, 9, 10, 1, 2, 3, 4, 5, 6, 7, 8, 9, 10, 1, 2, 3, 4, 5, 6, 7, 8, 9, 10, 1, 2, 3, 4, 5, 6, 7, 8, 9, 10, 1, 2, 3, 4, 5, 6, 7, 8, 9, 10, 1, 2, 3, 4, 5, 6, 7, 8, 9, 10, 1, 2, 3, 4, 5, 6, 7, 8, 9, 10, 1, 2, 3, 4, 5, 6, 7, 8, 9, 10, 1, 2, 3, 4, 5, 6, 7, 8, 9, 10, 1, 2, 3, 4, 5, 6, 7, 8, 9, 10, 1, 2, 3, 4, 5, 6, 7, 8, 9, 10, 1, 2, 3, 4, 5, 6, 7, 8, 9, 10, 1, 2, 3, 4, 5, 6, 7, 8, 9, 10, 1, 2, 3, 4, 5, 6, 7, 8, 9, 10, 1, 2, 3, 4, 5, 6, 7, 8, 9, 10, 1, 2, 3, 4, 5, 6, 7, 8, 9, 10, 1, 2, 3, 4, 5, 6, 7, 8, 9, 10, 1, 2, 3, 4, 5, 6, 7, 8, 9, 10, 1, 2, 3, 4, 5, 6, 7, 8, 9, 10, 1, 2, 3, 4, 5, 6, 7, 8, 9, 10, 1, 2, 3, 4, 5, 6, 7, 8, 9, 10, 1, 2, 3, 4, 5, 6, 7, 8, 9, 10, 1, 2, 3, 4, 5, 6, 7, 8, 9, 10, 1, 2, 3, 4, 5, 6, 7, 8, 9, 10, 1, 2, 3, 4, 5, 6, 7, 8, 9, 10, 1, 2, 3, 4, 5, 6, 7, 8, 9, 10, 1, 2, 3, 4, 5, 6, 7, 8, 9, 10, 1, 2, 3, 4, 5, 6, 7, 8, 9, 10, 1, 2, 3, 4, 5, 6, 7, 8, 9, 10, 1, 2, 3, 4, 5, 6, 7, 8, 9, 10, 1, 2, 3, 4, 5, 6, 7, 8, 9, 10, 1, 2, 3, 4, 5, 6, 7, 8, 9, 10, 1, 2, 3, 4, 5, 6, 7, 8, 9, 10, 1, 2, 3, 4, 5, 6, 7, 8, 9, 10, 1, 2, 3, 4, 5, 6, 7, 8, 9, 10, 1, 2, 3, 4, 5, 6, 7, 8, 9, 10, 1, 2, 3, 4, 5, 6, 7, 8, 9, 10, 1, 2, 3, 4, 5, 6, 7, 8, 9, 10, 1, 2, 3, 4, 5, 6, 7, 8, 9, 10, 1, 2, 3, 4, 5, 6, 7, 8, 9, 10, 1, 2, 3, 4, 5, 6, 7, 8, 9, 10, 1, 2, 3, 4, 5, 6, 7, 8, 9, 10, 1, 2, 3, 4, 5, 6, 7, 8, 9, 10, 1, 2, 3, 4, 5, 6, 7, 8, 9, 10, 1, 2, 3, 4, 5, 6, 7, 8, 9, 10, 1, 2, 3, 4, 5, 6, 7, 8, 9, 10, 1, 2, 3, 4, 5, 6, 7, 8, 9, 10, 1, 2, 3, 4, 5, 6, 7, 8, 9, 10, 1, 2, 3, 4, 5, 6, 7, 8, 9, 10, 1, 2, 3, 4, 5, 6, 7, 8, 9, 10, 1, 2, 3, 4, 5, 6, 7, 8, 9, 10, 1, 2, 3, 4, 5, 6, 7, 8, 9, 10, 1, 2, 3, 4, 5, 6, 7, 8, 9, 10, 1, 2, 3, 4, 5, 6, 7, 8, 9, 10, 1, 2, 3, 4, 5, 6, 7, 8, 9, 10, 1, 2, 3, 4, 5, 6, 7, 8, 9, 10, 1, 2, 3, 4, 5, 6, 7, 8, 9, 10, 1, 2, 3, 4, 5, 6, 7, 8, 9, 10, 1, 2, 3, 4, 5, 6, 7, 8, 9, 10, 1, 2, 3, 4, 5, 6, 7, 8, 9, 10, 1, 2, 3, 4, 5, 6, 7, 8, 9, 10, 1, 2, 3, 4, 5, 6, 7, 8, 9, 10, 1, 2, 3, 4, 5, 6, 7, 8, 9, 10, 1, 2, 3, 4, 5, 6, 7, 8, 9, 10, 1, 2, 3, 4, 5, 6, 7, 8, 9, 10, 1, 2, 3, 4, 5, 6, 7, 8, 9, 10, 1, 2, 3, 4, 5, 6, 7, 8, 9, 10, 1, 2, 3, 4, 5, 6, 7, 8, 9, 10, 1, 2, 3, 4, 5, 6, 7, 8, 9, 10, 1, 2, 3, 4, 5, 6, 7, 8, 9, 10, 1, 2, 3, 4, 5, 6, 7, 8, 9, 10, 1, 2, 3, 4, 5, 6, 7, 8, 9, 10, 1, 2, 3, 4, 5, 6, 7, 8, 9, 10, 1, 2, 3, 4, 5, 6, 7, 8, 9, 10, 1, 2, 3, 4, 5, 6, 7, 8, 9, 10, 1, 2, 3, 4, 5, 6, 7, 8, 9, 10, 1, 2, 3, 4, 5, 6, 7, 8, 9, 10, 1, 2, 3, 4, 5, 6, 7, 8, 9, 10, 1, 2, 3, 4, 5, 6, 7, 8, 9, 10, 1, 2, 3, 4, 5, 6, 7, 8, 9, 10, 1, 2, 3, 4, 5, 6, 7, 8, 9, 10, 1, 2, 3, 4, 5, 6, 7, 8, 9, 10, 1, 2, 3, 4, 5, 6, 7, 8, 9, 10, 1, 2, 3, 4, 5, 6, 7, 8, 9, 10, 1, 2, 3, 4, 5, 6, 7, 8, 9, 10, 1, 2, 3, 4, 5, 6, 7, 8, 9, 10, 1, 2, 3, 4, 5, 6, 7, 8, 9, 10, 1, 2, 3, 4, 5, 6, 7, 8, 9, 10, 1, 2, 3, 4, 5, 6, 7, 8, 9, 10, 1, 2, 3, 4, 5, 6, 7, 8, 9, 10, 1, 2, 3, 4, 5, 6, 7, 8, 9, 10, 1, 2, 3, 4, 5, 6, 7, 8, 9, 10, 1, 2, 3, 4, 5, 6, 7, 8, 9, 10, 1, 2, 3, 4, 5, 6, 7, 8, 9, 10, 1, 2, 3, 4, 5, 6, 7, 8, 9, 10, 1, 2, 3, 4, 5, 6, 7, 8, 9, 10, 1, 2, 3, 4, 5, 6, 7, 8, 9, 10, 1, 2, 3, 4, 5, 6, 7, 8, 9, 10, 1, 2, 3, 4, 5, 6, 7, 8, 9, 10, 1, 2, 3, 4, 5, 6, 7, 8, 9, 10, 1, 2, 3, 4, 5, 6, 7, 8, 9, 10, 1, 2, 3, 4, 5, 6, 7, 8, 9, 10, 1, 2, 3, 4, 5, 6, 7, 8, 9, 10, 1, 2, 3, 4, 5, 6, 7, 8, 9, 10, 1, 2, 3, 4, 5, 6, 7, 8, 9, 10, 1, 2, 3, 4, 5, 6, 7, 8, 9, 10, 1, 2, 3, 4, 5, 6, 7, 8, 9, 10, 1, 2, 3, 4, 5, 6, 7, 8, 9, 10, 1, 2, 3, 4, 5, 6, 7, 8, 9, 10, 1, 2, 3, 4, 5, 6, 7, 8, 9, 10, 1, 2, 3, 4, 5, 6, 7, 8, 9, 10, 1, 2, 3, 4, 5, 6, 7, 8, 9, 10, 1, 2, 3, 4, 5, 6, 7, 8, 9, 10, 1, 2, 3, 4, 5, 6, 7, 8, 9, 10, 1, 2, 3, 4, 5, 6, 7, 8, 9, 10, 1, 2, 3, 4, 5, 6, 7, 8, 9, 10, 1, 2, 3, 4, 5, 6, 7, 8, 9, 10, 1, 2, 3, 4, 5, 6, 7, 8, 9, 10, 1, 2, 3, 4, 5, 6, 7, 8, 9, 10, 1, 2, 3, 4, 5, 6, 7, 8, 9, 10, 1, 2, 3, 4, 5, 6, 7, 8, 9, 10, 1, 2, 3, 4, 5, 6, 7, 8, 9, 10, 1, 2, 3, 4, 5, 6, 7, 8, 9, 10, 1, 2, 3, 4, 5, 6, 7, 8, 9, 10, 1, 2, 3, 4, 5, 6, 7, 8, 9, 10, 1, 2, 3, 4, 5, 6, 7, 8, 9, 10, 1, 2, 3, 4, 5, 6, 7, 8, 9, 10, 1, 2, 3, 4, 5, 6, 7, 8, 9, 10, 1, 2, 3, 4, 5, 6, 7, 8, 9, 10, 1, 2, 3, 4, 5, 6, 7, 8, 9, 10, 1, 2, 3, 4, 5, 6, 7, 8, 9, 10, 1, 2, 3, 4, 5, 6, 7, 8, 9, 10, 1, 2, 3, 4, 5, 6, 7, 8, 9, 10, 1, 2, 3, 4, 5, 6, 7, 8, 9, 10, 1, 2, 3, 4, 5, 6, 7, 8, 9, 10, 1, 2, 3, 4, 5, 6, 7, 8, 9, 10, 1, 2, 3, 4, 5, 6, 7, 8, 9, 10, 1, 2, 3, 4, 5, 6, 7, 8, 9, 10, 1, 2, 3, 4, 5, 6, 7, 8, 9, 10, 1, 2, 3, 4, 5, 6, 7, 8, 9, 10, 1, 2, 3, 4, 5, 6, 7, 8, 9, 10, 1, 2, 3, 4, 5, 6, 7, 8, 9, 10, 1, 2, 3, 4, 5, 6, 7, 8, 9, 10, 1, 2, 3, 4, 5, 6, 7, 8, 9, 10, 1, 2, 3, 4, 5, 6, 7, 8, 9, 10, 1, 2, 3, 4, 5, 6, 7, 8, 9, 10, 1, 2, 3, 4, 5, 6, 7, 8, 9, 10, 1, 2, 3, 4, 5, 6, 7, 8, 9, 10, 1, 2, 3, 4, 5, 6, 7, 8, 9, 10, 1, 2, 3, 4, 5, 6, 7, 8, 9, 10, 1, 2, 3, 4, 5, 6, 7, 8, 9, 10, 1, 2, 3, 4, 5, 6, 7, 8, 9, 10, 1, 2, 3, 4, 5, 6, 7, 8, 9, 10, 1, 2, 3, 4, 5, 6, 7, 8, 9, 10, 1, 2, 3, 4, 5, 6, 7, 8, 9, 10, 1, 2, 3, 4, 5, 6, 7, 8, 9, 10, 1, 2, 3, 4, 5, 6, 7, 8, 9, 10, 1, 2, 3, 4, 5, 6, 7, 8, 9, 10, 1, 2, 3, 4, 5, 6, 7, 8, 9, 10, 1, 2, 3, 4, 5, 6, 7, 8, 9, 10, 1, 2, 3, 4, 5, 6, 7, 8, 9, 10, 1, 2, 3, 4, 5, 6, 7, 8, 9, 10, 1, 2, 3, 4, 5, 6, 7, 8, 9, 10, 1, 2, 3, 4, 5, 6, 7, 8, 9, 10, 1, 2, 3, 4, 5, 6, 7, 8, 9, 10, 1, 2, 3, 4, 5, 6, 7, 8, 9, 10, 1, 2, 3, 4, 5, 6, 7, 8, 9, 10, 1, 2, 3, 4, 5, 6, 7, 8, 9, 10, 1, 2, 3, 4, 5, 6, 7, 8, 9, 10, 1, 2, 3, 4, 5, 6, 7, 8, 9, 10, 1, 2, 3, 4, 5, 6, 7, 8, 9, 10, 1, 2, 3, 4, 5, 6, 7, 8, 9, 10, 1, 2, 3, 4, 5, 6, 7, 8, 9, 10, 1, 2, 3, 4, 5, 6, 7, 8, 9, 10, 1, 2, 3, 4, 5, 6, 7, 8, 9, 10, 1, 2, 3, 4, 5, 6, 7, 8, 9, 10, 1, 2, 3, 4, 5, 6, 7, 8, 9, 10, 1, 2, 3, 4, 5, 6, 7, 8, 9, 10, 1, 2, 3, 4, 5, 6, 7, 8, 9, 10, 1, 2, 3, 4, 5, 6, 7, 8, 9, 10, 1, 2, 3, 4, 5, 6, 7, 8, 9, 10, 1, 2, 3, 4, 5, 6, 7, 8, 9, 10, 1, 2, 3, 4, 5, 6, 7, 8, 9, 10, 1, 2, 3, 4, 5, 6, 7, 8, 9, 10, 1, 2, 3, 4, 5, 6, 7, 8, 9, 10, 1, 2, 3, 4, 5, 6, 7, 8, 9, 10, 1, 2, 3, 4, 5, 6, 7, 8, 9, 10, 1, 2, 3, 4, 5, 6, 7, 8, 9, 10, 1, 2, 3, 4, 5, 6, 7, 8, 9, 10, 1, 2, 3, 4, 5, 6, 7, 8, 9, 10, 1, 2, 3, 4, 5, 6, 7, 8, 9, 10, 1, 2, 3, 4, 5, 6, 7, 8, 9, 10, 1, 2, 3, 4, 5, 6, 7, 8, 9, 10, 1, 2, 3, 4, 5, 6, 7, 8, 9, 10, 1, 2, 3, 4, 5, 6, 7, 8, 9, 10, 1, 2, 3, 4, 5, 6, 7, 8, 9, 10, 1, 2, 3, 4, 5, 6, 7, 8, 9, 10, 1, 2, 3, 4, 5, 6, 7, 8, 9, 10, 1, 2, 3, 4, 5, 6, 7, 8, 9, 10, 1, 2, 3, 4, 5, 6, 7, 8, 9, 10, 1, 2, 3, 4, 5, 6, 7, 8, 9, 10, 1, 2, 3, 4, 5, 6, 7, 8, 9, 10, 1, 2, 3, 4, 5, 6, 7, 8, 9, 10, 1, 2, 3, 4, 5, 6, 7, 8, 9, 10, 1, 2, 3, 4, 5, 6, 7, 8, 9, 10, 1, 2, 3, 4, 5, 6, 7, 8, 9, 10, 1, 2, 3, 4, 5, 6, 7, 8, 9, 10, 1, 2, 3, 4, 5, 6, 7, 8, 9, 10, 1, 2, 3, 4, 5, 6, 7, 8, 9, 10, 1, 2, 3, 4, 5, 6, 7, 8, 9, 10, 1, 2, 3, 4, 5, 6, 7, 8, 9, 10, 1, 2, 3, 4, 5, 6, 7, 8, 9, 10, 1, 2, 3, 4, 5, 6, 7, 8, 9, 10, 1, 2, 3, 4, 5, 6, 7, 8, 9, 10], \"Freq\": [0.0002719470898148924, 0.0002719470898148924, 0.997841859303294, 0.0002719470898148924, 0.0002719470898148924, 0.00020396031736116932, 0.00020396031736116932, 0.0002719470898148924, 0.00020396031736116932, 0.00020396031736116932, 0.003589012361041051, 0.003589012361041051, 0.002691759270780788, 0.003589012361041051, 0.003589012361041051, 0.002691759270780788, 0.002691759270780788, 0.003589012361041051, 0.002691759270780788, 0.9708278436616044, 0.5214177622584354, 0.005504378900723066, 0.47220405504546165, 0.0001302811574135637, 0.0001302811574135637, 9.771086806017279e-05, 0.00016285144676695464, 0.0001302811574135637, 9.771086806017279e-05, 9.771086806017279e-05, 0.9549470276709786, 0.043784096626716125, 0.00013611636257010193, 0.0001814884834268026, 0.0001814884834268026, 0.00013611636257010193, 0.00013611636257010193, 0.0001814884834268026, 0.00013611636257010193, 0.00013611636257010193, 0.0021849558233985973, 0.0021849558233985973, 0.001638716867548948, 0.982683881573519, 0.0021849558233985973, 0.001638716867548948, 0.001638716867548948, 0.0021849558233985973, 0.001638716867548948, 0.001638716867548948, 0.997039908696376, 0.0003710606284690644, 0.00027829547135179827, 0.0003710606284690644, 0.0003710606284690644, 0.00027829547135179827, 0.00027829547135179827, 0.0003710606284690644, 0.00027829547135179827, 0.00027829547135179827, 0.0006733664540530159, 0.9947305942498178, 0.000505024840539762, 0.0006733664540530159, 0.0006733664540530159, 0.000505024840539762, 0.000505024840539762, 0.0006733664540530159, 0.000505024840539762, 0.000505024840539762, 0.00042263453449255944, 0.00042263453449255944, 0.0003169759008694196, 0.00042263453449255944, 0.00042263453449255944, 0.9965722323334552, 0.0003169759008694196, 0.00042263453449255944, 0.0003169759008694196, 0.0003169759008694196, 0.9971483831114485, 0.00035998136574420526, 0.00026998602430815396, 0.00035998136574420526, 0.00035998136574420526, 0.00026998602430815396, 0.00026998602430815396, 0.00035998136574420526, 0.00026998602430815396, 0.00026998602430815396, 0.2090966821186356, 0.38830009013114497, 3.1247324849609303e-05, 0.12692663353911302, 4.1663099799479076e-05, 3.1247324849609303e-05, 3.1247324849609303e-05, 4.1663099799479076e-05, 0.27545558432425593, 3.1247324849609303e-05, 0.001718980746571312, 0.001718980746571312, 0.0012892355599284841, 0.001718980746571312, 0.001718980746571312, 0.0012892355599284841, 0.0012892355599284841, 0.001718980746571312, 0.9862652033452903, 0.0012892355599284841, 0.0005278510075961327, 0.0005278510075961327, 0.09804832466098164, 0.0005278510075961327, 0.0005278510075961327, 0.0003958882556970995, 0.8981384894248197, 0.0005278510075961327, 0.0003958882556970995, 0.0003958882556970995, 0.9972622456898909, 0.00034899816122130914, 0.00026174862091598184, 0.00034899816122130914, 0.00034899816122130914, 0.00026174862091598184, 0.00026174862091598184, 0.00034899816122130914, 0.00026174862091598184, 0.00026174862091598184, 0.00022708808969747988, 0.0003406321345462198, 0.0001703160672731099, 0.00022708808969747988, 0.998052154220424, 0.0001703160672731099, 0.0001703160672731099, 0.00022708808969747988, 0.0001703160672731099, 0.0001703160672731099, 0.0018963831249144973, 0.0018963831249144973, 0.0014222873436858729, 0.9846969376118527, 0.0018963831249144973, 0.0014222873436858729, 0.0014222873436858729, 0.0018963831249144973, 0.0014222873436858729, 0.0014222873436858729, 0.0007913937380833047, 0.9937926865981099, 0.0005935453035624785, 0.0007913937380833047, 0.0007913937380833047, 0.0005935453035624785, 0.0005935453035624785, 0.0007913937380833047, 0.0005935453035624785, 0.0005935453035624785, 0.001639595955216075, 0.001639595955216075, 0.0012296969664120562, 0.001639595955216075, 0.001639595955216075, 0.0012296969664120562, 0.0012296969664120562, 0.001639595955216075, 0.0012296969664120562, 0.9870367650400772, 0.0002396836886562109, 0.9982825632531184, 0.00014381021319372653, 0.0001917469509249687, 0.0001917469509249687, 0.00014381021319372653, 0.00014381021319372653, 0.0001917469509249687, 0.00014381021319372653, 0.00028762042638745306, 0.47784020324692444, 0.33553361404545023, 4.832689241616739e-05, 0.18623573440777041, 6.443585655488986e-05, 4.832689241616739e-05, 4.832689241616739e-05, 6.443585655488986e-05, 4.832689241616739e-05, 4.832689241616739e-05, 0.4790440541710399, 0.14789330953372903, 0.00011494298668424536, 0.32103576180909726, 0.04160936117969682, 0.00011494298668424536, 0.00011494298668424536, 0.0001532573155789938, 0.009731839539266107, 0.00011494298668424536, 0.0004730776408894316, 0.0004730776408894316, 0.9874313059464661, 0.0004730776408894316, 0.0004730776408894316, 0.009106744587121558, 0.00035480823066707373, 0.0004730776408894316, 0.00035480823066707373, 0.00035480823066707373, 0.0031558072585400917, 0.0031558072585400917, 0.0023668554439050687, 0.0031558072585400917, 0.0031558072585400917, 0.0023668554439050687, 0.0023668554439050687, 0.0031558072585400917, 0.0023668554439050687, 0.9743554910742532, 0.0010064654281549787, 0.0800140015383208, 0.000754849071116234, 0.0010064654281549787, 0.0010064654281549787, 0.000754849071116234, 0.9128641433365656, 0.0010064654281549787, 0.000754849071116234, 0.000754849071116234, 0.0006549268586449921, 0.1308216400143372, 0.0456811483904882, 0.8194772318795465, 0.0006549268586449921, 0.0004911951439837441, 0.0004911951439837441, 0.0006549268586449921, 0.0004911951439837441, 0.0004911951439837441, 0.003004350271349165, 0.003004350271349165, 0.0022532627035118736, 0.003004350271349165, 0.003004350271349165, 0.0022532627035118736, 0.0022532627035118736, 0.003004350271349165, 0.9756627506206413, 0.0022532627035118736, 0.0033970398129782513, 0.0033970398129782513, 0.0025477798597336883, 0.0033970398129782513, 0.0033970398129782513, 0.0025477798597336883, 0.0025477798597336883, 0.0033970398129782513, 0.0025477798597336883, 0.9724026464650244, 0.998480056739893, 0.0001922649702478974, 0.00014419872768592302, 0.0001922649702478974, 0.0001922649702478974, 0.00014419872768592302, 0.00014419872768592302, 0.0001922649702478974, 0.00014419872768592302, 0.00014419872768592302, 0.0006375331382067962, 0.9950298454562572, 0.00047814985365509716, 0.0006375331382067962, 0.0006375331382067962, 0.00047814985365509716, 0.00047814985365509716, 0.0006375331382067962, 0.00047814985365509716, 0.00047814985365509716, 0.0004314153867017754, 0.0004314153867017754, 0.00032356154002633153, 0.0004314153867017754, 0.0004314153867017754, 0.00032356154002633153, 0.00032356154002633153, 0.9965695432811011, 0.00032356154002633153, 0.00032356154002633153, 0.674927939245278, 0.14728882669545917, 0.17530494803063099, 5.185769798273362e-05, 5.185769798273362e-05, 0.0022039521642661787, 3.8893273487050215e-05, 5.185769798273362e-05, 3.8893273487050215e-05, 3.8893273487050215e-05, 0.8064010071730033, 0.17201647388628394, 0.0027361522289542136, 0.009847370204713388, 0.002263922910251456, 0.00652787587618518, 4.166729282671391e-05, 5.555639043561855e-05, 4.166729282671391e-05, 4.166729282671391e-05, 0.000862279682517235, 0.000862279682517235, 0.0006467097618879262, 0.000862279682517235, 0.000862279682517235, 0.0006467097618879262, 0.9931306243392253, 0.000862279682517235, 0.0006467097618879262, 0.0006467097618879262, 0.001040947665095499, 0.001040947665095499, 0.0007807107488216243, 0.001040947665095499, 0.001040947665095499, 0.9917628879197368, 0.0007807107488216243, 0.001040947665095499, 0.0007807107488216243, 0.0007807107488216243, 0.001573700924129181, 0.001573700924129181, 0.0011802756930968858, 0.001573700924129181, 0.9874973298910612, 0.0011802756930968858, 0.0011802756930968858, 0.001573700924129181, 0.0011802756930968858, 0.0011802756930968858, 0.0008236434458221779, 0.0008236434458221779, 0.9933139956615465, 0.0008236434458221779, 0.0008236434458221779, 0.0006177325843666334, 0.0006177325843666334, 0.0008236434458221779, 0.0006177325843666334, 0.0006177325843666334, 0.8992275313104577, 0.07195981629229628, 7.047974171625492e-05, 9.397298895500656e-05, 9.397298895500656e-05, 0.02821538993374072, 7.047974171625492e-05, 0.0001174662361937582, 7.047974171625492e-05, 7.047974171625492e-05, 0.9983783430761067, 0.00020240817903215545, 0.00015180613427411658, 0.00020240817903215545, 0.00020240817903215545, 0.00015180613427411658, 0.00015180613427411658, 0.00020240817903215545, 0.00015180613427411658, 0.00015180613427411658, 0.8157636709564408, 0.0002386844183911757, 0.00017901331379338177, 0.0002386844183911757, 0.02189929538739037, 0.00017901331379338177, 0.00017901331379338177, 0.0002386844183911757, 0.16081362689105463, 0.00017901331379338177, 0.9983582017231316, 0.00020870872827911187, 0.0001565315462093339, 0.00020870872827911187, 0.00020870872827911187, 0.0001565315462093339, 0.0001565315462093339, 0.00020870872827911187, 0.0001565315462093339, 0.0001565315462093339, 0.9985042518049742, 0.0001880245272205958, 0.00014101839541544686, 0.0001880245272205958, 0.0001880245272205958, 0.00014101839541544686, 0.00014101839541544686, 0.0001880245272205958, 0.00014101839541544686, 0.00014101839541544686, 0.0008436240266417074, 0.9933672913706103, 0.0006327180199812805, 0.0008436240266417074, 0.0008436240266417074, 0.0006327180199812805, 0.0006327180199812805, 0.0008436240266417074, 0.0006327180199812805, 0.0006327180199812805, 0.0008630218200455849, 0.9931223594174569, 0.0006472663650341887, 0.0008630218200455849, 0.0008630218200455849, 0.0006472663650341887, 0.0006472663650341887, 0.0008630218200455849, 0.0006472663650341887, 0.0006472663650341887, 0.2024824871471579, 0.003985875731243265, 0.25370099029363385, 0.0003985875731243266, 0.178168645186574, 0.00029894067984324494, 0.3599245785312669, 0.0003985875731243266, 0.00029894067984324494, 0.00029894067984324494, 0.4863828591464841, 0.24256889164452444, 0.021467517606424093, 0.1285440413458565, 0.12069203069654705, 0.00010040934334155329, 6.0245606004931976e-05, 8.032747467324263e-05, 6.0245606004931976e-05, 6.0245606004931976e-05, 0.28061616906040754, 0.007761918115891521, 6.848751278727812e-05, 0.7103981409715069, 9.131668371637084e-05, 6.848751278727812e-05, 0.0007533626406600593, 9.131668371637084e-05, 6.848751278727812e-05, 6.848751278727812e-05, 0.3209570927782988, 0.000302932602905426, 0.001817595617432556, 0.6753125050269209, 0.000302932602905426, 0.0002271994521790695, 0.0002271994521790695, 0.000302932602905426, 0.0002271994521790695, 0.0002271994521790695, 0.0005030029935982787, 0.01571884354994621, 0.9807300867682439, 0.0005030029935982787, 0.0005030029935982787, 0.000377252245198709, 0.000377252245198709, 0.0005030029935982787, 0.000377252245198709, 0.000377252245198709, 0.008245025587939986, 0.9894839041369939, 0.0002425007525864702, 0.0003233343367819603, 0.0003233343367819603, 0.0002425007525864702, 0.0002425007525864702, 0.0003233343367819603, 0.0002425007525864702, 0.0002425007525864702, 0.9973784881687462, 0.000328598464103038, 0.0002464488480772785, 0.000328598464103038, 0.000328598464103038, 0.0002464488480772785, 0.0002464488480772785, 0.000328598464103038, 0.0002464488480772785, 0.0002464488480772785, 0.001802404182834421, 0.001802404182834421, 0.0013518031371258156, 0.001802404182834421, 0.001802404182834421, 0.0013518031371258156, 0.0013518031371258156, 0.001802404182834421, 0.9854644869647197, 0.0013518031371258156, 0.001181964407197948, 0.39408663276658257, 0.002265431780462734, 0.0003939881357326494, 0.6004379188565576, 0.000295491101799487, 0.000295491101799487, 0.0003939881357326494, 0.000295491101799487, 0.000295491101799487, 0.001047493737563908, 0.001047493737563908, 0.9917146960386298, 0.001047493737563908, 0.001047493737563908, 0.0007856203031729309, 0.0007856203031729309, 0.001047493737563908, 0.0007856203031729309, 0.0007856203031729309, 0.0013285171432696587, 0.0013285171432696587, 0.000996387857452244, 0.0013285171432696587, 0.0013285171432696587, 0.000996387857452244, 0.000996387857452244, 0.9894131424500784, 0.000996387857452244, 0.000996387857452244, 0.0015141929846466807, 0.0015141929846466807, 0.0011356447384850104, 0.0015141929846466807, 0.9880109224819591, 0.0011356447384850104, 0.0011356447384850104, 0.0015141929846466807, 0.0011356447384850104, 0.0011356447384850104, 0.0002825899105148769, 0.0002260719284119015, 0.9981075639385452, 0.0002260719284119015, 0.0002260719284119015, 0.0002260719284119015, 0.00016955394630892613, 0.0002260719284119015, 0.00016955394630892613, 0.00016955394630892613, 0.5949321958937065, 0.3082444051447234, 0.005009635739855145, 0.08951561236165405, 0.002087348224939644, 3.795178590799352e-05, 5.0602381210658026e-05, 5.0602381210658026e-05, 3.795178590799352e-05, 3.795178590799352e-05, 0.00038852707914876084, 0.00038852707914876084, 0.9968633533259331, 0.00038852707914876084, 0.00038852707914876084, 0.00029139530936157066, 0.00029139530936157066, 0.00038852707914876084, 0.00029139530936157066, 0.00029139530936157066, 0.0016224330971966224, 0.0016224330971966224, 0.0012168248228974668, 0.0016224330971966224, 0.0016224330971966224, 0.44779153482626777, 0.0012168248228974668, 0.0016224330971966224, 0.0012168248228974668, 0.5406758296407744, 0.27772616018058166, 0.0004830020177053594, 0.00036225151327901956, 0.7189485033544274, 0.0004830020177053594, 0.00036225151327901956, 0.00036225151327901956, 0.0004830020177053594, 0.00036225151327901956, 0.00036225151327901956, 0.47161118564960347, 0.0003084442025177263, 0.002210516784710372, 0.5248178105839112, 0.00020562946834515083, 0.00015422210125886314, 0.00015422210125886314, 0.00020562946834515083, 0.00015422210125886314, 0.00015422210125886314, 0.0012387589543581866, 0.0012387589543581866, 0.0009290692157686399, 0.0012387589543581866, 0.9900780942707805, 0.0009290692157686399, 0.0009290692157686399, 0.0012387589543581866, 0.0009290692157686399, 0.0009290692157686399, 0.00032015603595854565, 0.00032015603595854565, 0.00024011702696890926, 0.00032015603595854565, 0.9974461300288491, 0.00024011702696890926, 0.00024011702696890926, 0.00032015603595854565, 0.00024011702696890926, 0.00024011702696890926, 0.17802475441276638, 0.3974363100735155, 0.000263610199031737, 0.00035148026537564934, 0.00035148026537564934, 0.062036266838802104, 0.000263610199031737, 0.00035148026537564934, 0.3606187522754162, 0.000263610199031737, 0.0005908191160824167, 0.0005908191160824167, 0.00044311433706181253, 0.0005908191160824167, 0.0005908191160824167, 0.00044311433706181253, 0.995234801040831, 0.0005908191160824167, 0.00044311433706181253, 0.00044311433706181253, 0.0009662132417225315, 0.0009662132417225315, 0.0007246599312918986, 0.0009662132417225315, 0.0009662132417225315, 0.0007246599312918986, 0.0007246599312918986, 0.0009662132417225315, 0.0007246599312918986, 0.9923009992490398, 0.0008658807978777415, 0.0008658807978777415, 0.0006494105984083062, 0.9931652751657696, 0.0008658807978777415, 0.0006494105984083062, 0.0006494105984083062, 0.0008658807978777415, 0.0006494105984083062, 0.0006494105984083062, 0.0011346805746212422, 0.0011346805746212422, 0.0008510104309659317, 0.0011346805746212422, 0.0011346805746212422, 0.0008510104309659317, 0.0008510104309659317, 0.9911434819316551, 0.0008510104309659317, 0.0008510104309659317, 0.00019301585671641582, 0.9984710267940191, 0.00014476189253731189, 0.00019301585671641582, 0.00019301585671641582, 0.00014476189253731189, 0.00014476189253731189, 0.00019301585671641582, 0.00014476189253731189, 0.00014476189253731189, 0.0002902224474263421, 0.9966238844620589, 0.00021766683556975657, 0.0002902224474263421, 0.0002902224474263421, 0.00021766683556975657, 0.00021766683556975657, 0.0013060010134185395, 0.00021766683556975657, 0.00021766683556975657, 0.001189121949533633, 0.001189121949533633, 0.0008918414621502247, 0.001189121949533633, 0.001189121949533633, 0.0008918414621502247, 0.0008918414621502247, 0.9905385839615162, 0.0008918414621502247, 0.0008918414621502247, 0.001371011792287184, 0.001371011792287184, 0.0010282588442153881, 0.9891850081352034, 0.001371011792287184, 0.0010282588442153881, 0.0010282588442153881, 0.001371011792287184, 0.0010282588442153881, 0.0010282588442153881, 0.00044947187813174793, 0.00044947187813174793, 0.00033710390859881094, 0.00044947187813174793, 0.00044947187813174793, 0.00044947187813174793, 0.00033710390859881094, 0.9963667858485522, 0.00033710390859881094, 0.00033710390859881094, 0.0007501385753886502, 0.9941211470338087, 0.0005626039315414877, 0.0007501385753886502, 0.0007501385753886502, 0.0005626039315414877, 0.0005626039315414877, 0.0007501385753886502, 0.0005626039315414877, 0.0005626039315414877, 0.0014294994133056012, 0.0014294994133056012, 0.0010721245599792009, 0.9884988443008231, 0.0014294994133056012, 0.0010721245599792009, 0.0010721245599792009, 0.0014294994133056012, 0.0010721245599792009, 0.0010721245599792009, 0.00023705319046678667, 0.00023705319046678667, 0.00017778989285009, 0.9981124584604053, 0.00023705319046678667, 0.00017778989285009, 0.00017778989285009, 0.00023705319046678667, 0.00017778989285009, 0.00017778989285009, 0.0010279815639286007, 0.0010279815639286007, 0.0007709861729464505, 0.0010279815639286007, 0.0010279815639286007, 0.0007709861729464505, 0.0007709861729464505, 0.0010279815639286007, 0.9917452138001175, 0.0007709861729464505, 0.0013429368463272326, 0.0013429368463272326, 0.0010072026347454244, 0.0013429368463272326, 0.9894087215315887, 0.0010072026347454244, 0.0010072026347454244, 0.0013429368463272326, 0.0010072026347454244, 0.0010072026347454244, 0.0005431891325905124, 0.9955298827552614, 0.00040739184944288425, 0.0005431891325905124, 0.0005431891325905124, 0.00040739184944288425, 0.00040739184944288425, 0.0006789864157381404, 0.00040739184944288425, 0.00040739184944288425, 0.000679895725668118, 0.001359791451336236, 0.0005099217942510884, 0.000679895725668118, 0.000679895725668118, 0.9938375769953713, 0.0005099217942510884, 0.000679895725668118, 0.0005099217942510884, 0.0005099217942510884, 0.00014527364995917062, 0.6597239628770836, 0.33925029106715315, 0.00014527364995917062, 0.00014527364995917062, 0.00010895523746937796, 0.00010895523746937796, 0.00014527364995917062, 0.00010895523746937796, 0.00010895523746937796, 0.000779747320636638, 0.000779747320636638, 0.0005848104904774785, 0.000779747320636638, 0.9937879601513951, 0.0005848104904774785, 0.0005848104904774785, 0.000779747320636638, 0.0005848104904774785, 0.0005848104904774785, 0.00044327619544635814, 0.9514923535256078, 0.0003324571465847686, 0.00044327619544635814, 0.04543581003325171, 0.0003324571465847686, 0.0003324571465847686, 0.00044327619544635814, 0.0003324571465847686, 0.0003324571465847686, 0.00039496261621755485, 0.00039496261621755485, 0.00029622196216316614, 0.9968856433331084, 0.00039496261621755485, 0.00029622196216316614, 0.00029622196216316614, 0.00039496261621755485, 0.00029622196216316614, 0.00029622196216316614, 0.00010419965875531639, 0.00010419965875531639, 7.81497440664873e-05, 0.891532280310487, 0.00010419965875531639, 0.10771639723830832, 7.81497440664873e-05, 0.00010419965875531639, 7.81497440664873e-05, 7.81497440664873e-05, 0.727172611710034, 7.068163022064872e-05, 5.301122266548654e-05, 0.2723363212401595, 7.068163022064872e-05, 5.301122266548654e-05, 5.301122266548654e-05, 7.068163022064872e-05, 5.301122266548654e-05, 5.301122266548654e-05, 0.0006170698261798259, 0.0006170698261798259, 0.0004628023696348694, 0.0006170698261798259, 0.0006170698261798259, 0.0004628023696348694, 0.0004628023696348694, 0.9951793621715141, 0.0004628023696348694, 0.0004628023696348694, 0.9979805057275475, 0.00025597448046875215, 0.00019198086035156412, 0.00025597448046875215, 0.00025597448046875215, 0.00019198086035156412, 0.00019198086035156412, 0.00025597448046875215, 0.00019198086035156412, 0.00019198086035156412, 0.3127811961922811, 0.0002531104156927219, 0.00018983281176954142, 0.0002531104156927219, 0.0002531104156927219, 0.00018983281176954142, 0.685423005695891, 0.0002531104156927219, 0.00018983281176954142, 0.00018983281176954142, 0.9998464575756899, 1.926996955023132e-05, 1.4452477162673492e-05, 1.926996955023132e-05, 1.926996955023132e-05, 1.4452477162673492e-05, 1.4452477162673492e-05, 1.926996955023132e-05, 1.4452477162673492e-05, 1.4452477162673492e-05, 0.9976977338514044, 0.000287169240512745, 0.00021537693038455876, 0.000287169240512745, 0.000287169240512745, 0.00021537693038455876, 0.00021537693038455876, 0.000287169240512745, 0.00021537693038455876, 0.00021537693038455876, 0.0014949775073445214, 0.0014949775073445214, 0.0011212331305083911, 0.0014949775073445214, 0.0014949775073445214, 0.9878063879778926, 0.0011212331305083911, 0.0014949775073445214, 0.0011212331305083911, 0.0011212331305083911, 0.00020116783571000148, 0.00020116783571000148, 0.0001508758767825011, 0.00020116783571000148, 0.00020116783571000148, 0.0001508758767825011, 0.0001508758767825011, 0.00020116783571000148, 0.9983959686287373, 0.0001508758767825011, 0.33622025041224346, 0.3188089461939076, 0.0001706990609640769, 0.00022759874795210251, 0.34361720972068677, 0.0001706990609640769, 0.0001706990609640769, 0.00022759874795210251, 0.0001706990609640769, 0.0001706990609640769, 0.0009156354992715105, 0.0009156354992715105, 0.0006867266244536328, 0.0009156354992715105, 0.0009156354992715105, 0.0006867266244536328, 0.0006867266244536328, 0.9927777900851352, 0.0006867266244536328, 0.0006867266244536328, 0.0030471702859553584, 0.0030471702859553584, 0.002285377714466519, 0.0030471702859553584, 0.0030471702859553584, 0.002285377714466519, 0.002285377714466519, 0.0030471702859553584, 0.002285377714466519, 0.9758562840772035, 0.010406260025027064, 0.07104963741225374, 0.0005382548288807102, 0.0007176731051742803, 0.9141361177157394, 0.0005382548288807102, 0.0005382548288807102, 0.0007176731051742803, 0.0005382548288807102, 0.0005382548288807102, 0.3449598084115781, 0.13414401923584618, 0.0003789379074458932, 0.0005052505432611909, 0.0005052505432611909, 0.5032295410881461, 0.0003789379074458932, 0.01503120366202043, 0.0003789379074458932, 0.0003789379074458932, 0.27498450820005876, 0.09674990927865773, 0.6256634503188933, 0.00042110950719763976, 0.00042110950719763976, 0.0003158321303982298, 0.0003158321303982298, 0.00042110950719763976, 0.0003158321303982298, 0.0003158321303982298, 0.00023855407850935994, 0.00023855407850935994, 0.00017891555888201996, 0.998110264483162, 0.00023855407850935994, 0.00017891555888201996, 0.00017891555888201996, 0.00023855407850935994, 0.00017891555888201996, 0.00017891555888201996, 0.0001137033966334719, 0.0001137033966334719, 8.527754747510392e-05, 0.9990833203691593, 0.0001137033966334719, 8.527754747510392e-05, 8.527754747510392e-05, 0.0001137033966334719, 8.527754747510392e-05, 8.527754747510392e-05, 0.026150060440190474, 0.45236908679009913, 0.03929248772327589, 0.00026958825196072656, 0.00026958825196072656, 0.4807432503089656, 0.0002021911889705449, 0.00026958825196072656, 0.0002021911889705449, 0.0002021911889705449, 0.0022310450228774184, 0.0022310450228774184, 0.0016732837671580639, 0.0022310450228774184, 0.0022310450228774184, 0.0016732837671580639, 0.0016732837671580639, 0.0022310450228774184, 0.0016732837671580639, 0.9822175713217836, 0.0005905781098876469, 0.0005905781098876469, 0.00044293358241573517, 0.9952717596881568, 0.0005905781098876469, 0.00044293358241573517, 0.00044293358241573517, 0.0005905781098876469, 0.00044293358241573517, 0.00044293358241573517, 0.00019250752585428, 0.00019250752585428, 0.00014438064439071, 0.9984884097246868, 0.00019250752585428, 0.00014438064439071, 0.00014438064439071, 0.00019250752585428, 0.00014438064439071, 0.00014438064439071, 0.0013600345651214392, 0.0013600345651214392, 0.0010200259238410795, 0.0013600345651214392, 0.9890851374845667, 0.0010200259238410795, 0.0010200259238410795, 0.0013600345651214392, 0.0010200259238410795, 0.0010200259238410795, 0.4970260494388488, 0.0002680469459020352, 0.00020103520942652643, 0.17664293734944123, 0.0002680469459020352, 0.06426425528001295, 0.26060864315325377, 0.0002680469459020352, 0.00020103520942652643, 0.00020103520942652643, 0.002654700731587626, 0.002654700731587626, 0.001991025548690719, 0.002654700731587626, 0.002654700731587626, 0.001991025548690719, 0.001991025548690719, 0.002654700731587626, 0.001991025548690719, 0.978920894772937, 0.02744508731592394, 0.001143545304830164, 0.000571772652415082, 0.9668675552339038, 0.0007623635365534428, 0.000571772652415082, 0.000571772652415082, 0.0007623635365534428, 0.000571772652415082, 0.000571772652415082, 0.0009093208783081207, 0.0009093208783081207, 0.9927510688928908, 0.0009093208783081207, 0.0009093208783081207, 0.0006819906587310906, 0.0006819906587310906, 0.0009093208783081207, 0.0006819906587310906, 0.0006819906587310906, 0.006636453224311799, 0.12099504574180062, 0.000480902407558826, 0.6573935911329152, 0.000480902407558826, 0.21275122510402464, 0.0002885414445352956, 0.0003847219260470608, 0.0002885414445352956, 0.0002885414445352956, 0.9995803888491849, 5.236146615239313e-05, 3.9271099614294844e-05, 5.236146615239313e-05, 5.236146615239313e-05, 3.9271099614294844e-05, 3.9271099614294844e-05, 5.236146615239313e-05, 3.9271099614294844e-05, 3.9271099614294844e-05, 0.9963298066131101, 9.470815652215875e-05, 7.103111739161907e-05, 0.0030069839695785403, 9.470815652215875e-05, 7.103111739161907e-05, 7.103111739161907e-05, 9.470815652215875e-05, 7.103111739161907e-05, 7.103111739161907e-05, 0.0026539721852383742, 0.0026539721852383742, 0.0019904791389287807, 0.0026539721852383742, 0.0026539721852383742, 0.0019904791389287807, 0.0019904791389287807, 0.0026539721852383742, 0.9786522433066506, 0.0019904791389287807, 0.0006057194299773752, 0.0006057194299773752, 0.06541769843755653, 0.0006057194299773752, 0.930233614587754, 0.00045428957248303144, 0.00045428957248303144, 0.0006057194299773752, 0.00045428957248303144, 0.00045428957248303144, 0.0018869189708549216, 0.0018869189708549216, 0.0014151892281411911, 0.0018869189708549216, 0.0018869189708549216, 0.0014151892281411911, 0.0014151892281411911, 0.9849717027862691, 0.0014151892281411911, 0.0014151892281411911, 0.0009287056971342077, 0.0009287056971342077, 0.9925542138121844, 0.0009287056971342077, 0.0009287056971342077, 0.0006965292728506558, 0.0006965292728506558, 0.0009287056971342077, 0.0006965292728506558, 0.0006965292728506558, 0.9455864948230962, 0.0001726940909182899, 0.0001726940909182899, 0.0001726940909182899, 0.0001726940909182899, 0.00012952056818871742, 0.00012952056818871742, 0.0001726940909182899, 0.05310343295737414, 0.00012952056818871742, 0.0006586690104681223, 0.22855814663243845, 0.0004940017578510918, 0.0006586690104681223, 0.7668553954375114, 0.0004940017578510918, 0.0004940017578510918, 0.0006586690104681223, 0.0004940017578510918, 0.0004940017578510918, 0.0003565472943667627, 0.0003565472943667627, 0.00026741047077507207, 0.9971736455202437, 0.0003565472943667627, 0.00026741047077507207, 0.00026741047077507207, 0.0003565472943667627, 0.00026741047077507207, 0.00026741047077507207, 0.2299123119895, 0.46037030193467127, 0.0001818926518904272, 0.00024252353585390294, 0.3083080449542741, 0.0001818926518904272, 0.0001818926518904272, 0.00024252353585390294, 0.0001818926518904272, 0.0001818926518904272, 0.4260405862519873, 0.0016426289433216156, 0.2629770717832034, 0.2916839680783955, 0.00010429390116327718, 0.017208493691940736, 7.822042587245788e-05, 0.00010429390116327718, 7.822042587245788e-05, 7.822042587245788e-05, 0.0021295596414212343, 0.0021295596414212343, 0.0015971697310659255, 0.0021295596414212343, 0.0021295596414212343, 0.0015971697310659255, 0.9827917745158995, 0.0021295596414212343, 0.0015971697310659255, 0.0015971697310659255, 0.0008479057255190039, 0.0008479057255190039, 0.0006359292941392529, 0.0008479057255190039, 0.0008479057255190039, 0.0006359292941392529, 0.0006359292941392529, 0.0008479057255190039, 0.9931095810141333, 0.0006359292941392529, 0.0025030731167779304, 0.0025030731167779304, 0.001877304837583448, 0.0025030731167779304, 0.0025030731167779304, 0.001877304837583448, 0.001877304837583448, 0.0025030731167779304, 0.9799531252185598, 0.001877304837583448, 0.0015721353717993284, 0.0015721353717993284, 0.0011791015288494962, 0.0015721353717993284, 0.9876940473329281, 0.0011791015288494962, 0.0011791015288494962, 0.0015721353717993284, 0.0011791015288494962, 0.0011791015288494962, 0.0031183045163487005, 0.0031183045163487005, 0.0023387283872615254, 0.0031183045163487005, 0.0031183045163487005, 0.0023387283872615254, 0.0023387283872615254, 0.0031183045163487005, 0.9744701613589689, 0.0023387283872615254, 0.004223125556125328, 0.0008446251112250657, 0.0006334688334187993, 0.0008446251112250657, 0.0008446251112250657, 0.0006334688334187993, 0.0006334688334187993, 0.0008446251112250657, 0.9896894740779708, 0.0006334688334187993, 0.0014467959506862078, 0.0014467959506862078, 0.0010850969630146559, 0.9885233333063514, 0.0014467959506862078, 0.0010850969630146559, 0.0010850969630146559, 0.0014467959506862078, 0.0010850969630146559, 0.0010850969630146559, 0.0009563249750365036, 0.0009563249750365036, 0.9924262428441316, 0.0009563249750365036, 0.0009563249750365036, 0.0007172437312773777, 0.0007172437312773777, 0.0009563249750365036, 0.0007172437312773777, 0.0007172437312773777, 0.001905029927706674, 0.001905029927706674, 0.0014287724457800054, 0.9849004726243504, 0.001905029927706674, 0.0014287724457800054, 0.0014287724457800054, 0.001905029927706674, 0.0014287724457800054, 0.0014287724457800054, 0.001816042360348281, 0.001816042360348281, 0.0013620317702612108, 0.001816042360348281, 0.9856569910790296, 0.0013620317702612108, 0.0013620317702612108, 0.001816042360348281, 0.0013620317702612108, 0.0013620317702612108, 0.0012784099599234776, 0.0012784099599234776, 0.0009588074699426083, 0.0012784099599234776, 0.0012784099599234776, 0.0009588074699426083, 0.0009588074699426083, 0.9898089114707526, 0.0009588074699426083, 0.0009588074699426083, 0.0021155505560861696, 0.0021155505560861696, 0.0015866629170646271, 0.0021155505560861696, 0.0021155505560861696, 0.0015866629170646271, 0.0015866629170646271, 0.0021155505560861696, 0.0015866629170646271, 0.9832021209410473, 5.1334469075332e-05, 0.9995976154521337, 3.8500851806499e-05, 5.1334469075332e-05, 5.1334469075332e-05, 3.8500851806499e-05, 3.8500851806499e-05, 5.1334469075332e-05, 3.8500851806499e-05, 3.8500851806499e-05, 8.307394938426281e-05, 0.9993380741179895, 6.230546203819711e-05, 8.307394938426281e-05, 8.307394938426281e-05, 6.230546203819711e-05, 6.230546203819711e-05, 8.307394938426281e-05, 6.230546203819711e-05, 6.230546203819711e-05, 0.6460998844023698, 0.26852469673560686, 0.03559124097630301, 0.04739918483109403, 0.0005022282357897884, 0.0011830265109715017, 0.0005803526280237555, 4.464250984798119e-05, 3.348188238598589e-05, 3.348188238598589e-05, 0.0014322339460138527, 0.0014322339460138527, 0.0010741754595103895, 0.0014322339460138527, 0.0014322339460138527, 0.9885994812360618, 0.0010741754595103895, 0.0014322339460138527, 0.0010741754595103895, 0.0010741754595103895, 0.0016652287019988583, 0.0016652287019988583, 0.0012489215264991436, 0.0016652287019988583, 0.0016652287019988583, 0.9866480059343236, 0.0012489215264991436, 0.0016652287019988583, 0.0012489215264991436, 0.0012489215264991436, 0.555529515292795, 8.607189298412597e-05, 6.455391973809447e-05, 8.607189298412597e-05, 8.607189298412597e-05, 6.455391973809447e-05, 0.44385123414589156, 8.607189298412597e-05, 6.455391973809447e-05, 6.455391973809447e-05, 0.0007739858643148546, 0.0007739858643148546, 0.000580489398236141, 0.0007739858643148546, 0.0007739858643148546, 0.000580489398236141, 0.000580489398236141, 0.9937978497802733, 0.000580489398236141, 0.000580489398236141, 0.9978076770523494, 0.0002733719663157122, 0.00020502897473678413, 0.0002733719663157122, 0.0002733719663157122, 0.00020502897473678413, 0.00020502897473678413, 0.0002733719663157122, 0.00020502897473678413, 0.00020502897473678413, 0.0012409963669950692, 0.0012409963669950692, 0.0009307472752463019, 0.0012409963669950692, 0.0012409963669950692, 0.0009307472752463019, 0.9900048517703164, 0.0012409963669950692, 0.0009307472752463019, 0.0009307472752463019, 0.38083140604741045, 0.23116548441114648, 0.3423321336007831, 0.045095103681968694, 0.00011323315425478643, 8.492486569108982e-05, 8.492486569108982e-05, 0.00011323315425478643, 8.492486569108982e-05, 8.492486569108982e-05, 0.03470362467782594, 0.7236877514337569, 4.815489085729778e-05, 0.21478686485383386, 0.0021188151977211025, 0.024446632925221506, 4.815489085729778e-05, 6.420652114306371e-05, 4.815489085729778e-05, 4.815489085729778e-05, 0.07107239740690953, 0.649935255296979, 0.098439160615948, 0.17979523665765074, 0.00013531156098412097, 0.00010148367073809072, 0.00010148367073809072, 0.0001691394512301512, 0.00010148367073809072, 0.00010148367073809072, 0.0005918057308218828, 0.9952692878097013, 0.000443854298116412, 0.0005918057308218828, 0.0005918057308218828, 0.000443854298116412, 0.000443854298116412, 0.0005918057308218828, 0.000443854298116412, 0.000443854298116412, 0.0012547912381863414, 0.007947011175180162, 0.9858476494684022, 0.0008365274921242275, 0.0008365274921242275, 0.0006273956190931707, 0.0006273956190931707, 0.0008365274921242275, 0.0006273956190931707, 0.0006273956190931707, 0.0008720604222680785, 0.0008720604222680785, 0.9930588058577744, 0.0008720604222680785, 0.0008720604222680785, 0.0006540453167010588, 0.0006540453167010588, 0.0008720604222680785, 0.0006540453167010588, 0.0006540453167010588, 0.0011416472463989062, 0.0011416472463989062, 0.0008562354347991797, 0.0011416472463989062, 0.0011416472463989062, 0.0008562354347991797, 0.0008562354347991797, 0.0011416472463989062, 0.9906643980626509, 0.0008562354347991797, 0.9970729041992948, 0.00036959425602791024, 0.0002771956920209327, 0.00036959425602791024, 0.00036959425602791024, 0.0002771956920209327, 0.0002771956920209327, 0.00036959425602791024, 0.0002771956920209327, 0.0002771956920209327, 0.0015958003500128758, 0.0015958003500128758, 0.001196850262509657, 0.0015958003500128758, 0.0015958003500128758, 0.001196850262509657, 0.001196850262509657, 0.9874014665704669, 0.001196850262509657, 0.001196850262509657, 0.0003820003063699701, 0.2784782233437082, 0.04393003523254656, 0.6751855415089222, 0.0003820003063699701, 0.00028650022977747756, 0.00028650022977747756, 0.0003820003063699701, 0.00028650022977747756, 0.00028650022977747756, 0.0006507680564890432, 0.0006507680564890432, 0.0004880760423667824, 0.9948616663576247, 0.0006507680564890432, 0.0004880760423667824, 0.0004880760423667824, 0.0006507680564890432, 0.0004880760423667824, 0.0004880760423667824, 0.0017890652165231853, 0.0017890652165231853, 0.001341798912392389, 0.9857749343042751, 0.0017890652165231853, 0.001341798912392389, 0.001341798912392389, 0.0017890652165231853, 0.001341798912392389, 0.001341798912392389, 0.5650716081490664, 0.00038637374916175484, 0.00038637374916175484, 0.00038637374916175484, 0.4321590384374228, 0.00028978031187131616, 0.00028978031187131616, 0.00038637374916175484, 0.00028978031187131616, 0.00028978031187131616, 0.0015256125732295944, 0.004576837719688784, 0.001144209429922196, 0.0015256125732295944, 0.9847829160197032, 0.001144209429922196, 0.001144209429922196, 0.0015256125732295944, 0.001144209429922196, 0.001144209429922196, 0.0003134016712282136, 0.0003134016712282136, 0.0003134016712282136, 0.7465227808656049, 0.0003134016712282136, 0.0002350512534211602, 0.0002350512534211602, 0.25126978990722026, 0.0002350512534211602, 0.0002350512534211602, 0.11214318101378579, 0.0002146280976340398, 0.030638160937259178, 0.8556685682425081, 0.0002146280976340398, 0.00016097107322552985, 0.00016097107322552985, 0.0004292561952680796, 0.00016097107322552985, 0.00016097107322552985, 0.8484467400381809, 9.571017118792757e-05, 0.1393779367924195, 9.571017118792757e-05, 0.011604858256536217, 7.178262839094567e-05, 7.178262839094567e-05, 9.571017118792757e-05, 7.178262839094567e-05, 7.178262839094567e-05, 0.0007723509165633633, 0.9938225418879076, 0.0005792631874225225, 0.0007723509165633633, 0.0007723509165633633, 0.0005792631874225225, 0.0005792631874225225, 0.0007723509165633633, 0.0005792631874225225, 0.0005792631874225225, 0.00045811912146635856, 0.9964090891893299, 0.0003435893410997689, 0.00045811912146635856, 0.00045811912146635856, 0.0003435893410997689, 0.0003435893410997689, 0.00045811912146635856, 0.0003435893410997689, 0.0003435893410997689, 0.0006449951423431344, 0.9949050070642849, 0.0004837463567573508, 0.0006449951423431344, 0.0006449951423431344, 0.0004837463567573508, 0.0004837463567573508, 0.0006449951423431344, 0.0004837463567573508, 0.0004837463567573508, 0.000413125148442831, 0.000413125148442831, 0.00030984386133212327, 0.9966644206183299, 0.000413125148442831, 0.00030984386133212327, 0.00030984386133212327, 0.000413125148442831, 0.00030984386133212327, 0.00030984386133212327, 0.0008140193165098423, 0.0008140193165098423, 0.0006105144873823817, 0.0008140193165098423, 0.0008140193165098423, 0.9935105758002625, 0.0006105144873823817, 0.0008140193165098423, 0.0006105144873823817, 0.0006105144873823817, 0.0014895466844398197, 0.0014895466844398197, 0.0011171600133298648, 0.0014895466844398197, 0.0014895466844398197, 0.0011171600133298648, 0.0011171600133298648, 0.9883142251258203, 0.0011171600133298648, 0.0011171600133298648, 0.9382212560832709, 5.087415985702586e-05, 0.02207211764082679, 0.031592853271213056, 7.267737122432265e-05, 0.007834620617981982, 2.1803211367296798e-05, 2.907094848972906e-05, 7.994510834675492e-05, 2.1803211367296798e-05, 0.7563892691622679, 0.00533144964130977, 0.0001353159807439028, 0.2357204384558787, 0.00010825278459512225, 0.0019485501227122005, 8.118958844634169e-05, 0.00010825278459512225, 8.118958844634169e-05, 8.118958844634169e-05, 0.0016624770930111052, 0.0016624770930111052, 0.001246857819758329, 0.0016624770930111052, 0.0016624770930111052, 0.001246857819758329, 0.001246857819758329, 0.986680154702091, 0.001246857819758329, 0.001246857819758329, 0.0005436159423330834, 0.0013590398558327086, 0.9948171744695428, 0.0005436159423330834, 0.0005436159423330834, 0.00040771195674981257, 0.00040771195674981257, 0.0005436159423330834, 0.00040771195674981257, 0.00040771195674981257, 0.0012494226057333648, 0.0012494226057333648, 0.9898550593922582, 0.0012494226057333648, 0.0012494226057333648, 0.0009370669543000235, 0.0009370669543000235, 0.0012494226057333648, 0.0009370669543000235, 0.0009370669543000235, 0.0017933533083955059, 0.0017933533083955059, 0.0013450149812966295, 0.0017933533083955059, 0.0017933533083955059, 0.0013450149812966295, 0.0013450149812966295, 0.9858959812904293, 0.0013450149812966295, 0.0013450149812966295, 3.992197715766508e-05, 0.9996862300050913, 2.994148286824881e-05, 3.992197715766508e-05, 3.992197715766508e-05, 2.994148286824881e-05, 2.994148286824881e-05, 3.992197715766508e-05, 2.994148286824881e-05, 2.994148286824881e-05, 0.00016329089394800922, 0.7003138214195245, 0.22913794693254394, 0.06956192082185192, 0.00016329089394800922, 0.00012246817046100692, 0.00012246817046100692, 0.00016329089394800922, 0.00012246817046100692, 0.00016329089394800922, 0.00039931186545794843, 0.9614431440563753, 0.0002994838990934613, 0.00039931186545794843, 0.00039931186545794843, 0.0002994838990934613, 0.0002994838990934613, 0.035738411958486385, 0.0002994838990934613, 0.0002994838990934613, 0.0008156800040475428, 0.0008156800040475428, 0.9934982449299071, 0.0008156800040475428, 0.0008156800040475428, 0.0006117600030356572, 0.0006117600030356572, 0.0008156800040475428, 0.0006117600030356572, 0.0006117600030356572, 0.09833550635887689, 0.2116095890234045, 0.576673577739408, 0.10473196992606608, 8.09678932555594e-05, 6.072591994166955e-05, 6.072591994166955e-05, 8.09678932555594e-05, 0.008278967085380949, 6.072591994166955e-05, 0.9976981313394303, 0.0002912562053246038, 0.00021844215399345284, 0.0002912562053246038, 0.0002912562053246038, 0.00021844215399345284, 0.00021844215399345284, 0.0002912562053246038, 0.00021844215399345284, 0.00021844215399345284, 0.02189098407539411, 0.008817201919255961, 0.10252277541976242, 0.0002432331563932679, 0.0002432331563932679, 0.025539481421293128, 0.8401273221823473, 0.0002432331563932679, 0.0001824248672949509, 0.0001824248672949509, 0.002210929320146058, 0.002210929320146058, 0.0016581969901095436, 0.002210929320146058, 0.002210929320146058, 0.0016581969901095436, 0.0016581969901095436, 0.002210929320146058, 0.0016581969901095436, 0.9822053504748863, 0.00034729781601956436, 0.00034729781601956436, 0.0002604733620146733, 0.00034729781601956436, 0.9972656787001791, 0.0002604733620146733, 0.0002604733620146733, 0.00034729781601956436, 0.0002604733620146733, 0.0002604733620146733, 0.0014309694854221125, 0.0014309694854221125, 0.0010732271140665845, 0.0014309694854221125, 0.0014309694854221125, 0.0010732271140665845, 0.0010732271140665845, 0.9887999144266798, 0.0010732271140665845, 0.0010732271140665845, 0.0001443991169828343, 0.0001443991169828343, 0.9986281932740364, 0.0003609977924570858, 0.0001443991169828343, 0.00010829933773712573, 0.00010829933773712573, 0.0001443991169828343, 0.00010829933773712573, 0.00010829933773712573, 0.0008086171922701833, 0.0008086171922701833, 0.9915668320213122, 0.0028301601729456417, 0.0008086171922701833, 0.0006064628942026375, 0.0006064628942026375, 0.0008086171922701833, 0.0006064628942026375, 0.0006064628942026375, 0.0024996183512498034, 0.0024996183512498034, 0.0018747137634373527, 0.0024996183512498034, 0.0024996183512498034, 0.0018747137634373527, 0.0018747137634373527, 0.0024996183512498034, 0.0018747137634373527, 0.979850393689923, 0.7293572787571824, 0.17774840843243023, 0.06916184533088586, 0.02227894122679413, 0.00039253612281227513, 0.000991405335820746, 2.013005758011667e-05, 2.013005758011667e-05, 1.5097543185087505e-05, 1.5097543185087505e-05, 0.0015208648040209711, 0.0015208648040209711, 0.0011406486030157282, 0.0015208648040209711, 0.0015208648040209711, 0.0011406486030157282, 0.0011406486030157282, 0.0015208648040209711, 0.9878016902116207, 0.0011406486030157282, 0.0012221728623731795, 0.0012221728623731795, 0.0009166296467798845, 0.0012221728623731795, 0.0012221728623731795, 0.0009166296467798845, 0.0009166296467798845, 0.0012221728623731795, 0.0009166296467798845, 0.9902655617378686, 0.0011088396918827142, 0.0011088396918827142, 0.0008316297689120357, 0.0011088396918827142, 0.0011088396918827142, 0.9910254746201758, 0.0008316297689120357, 0.0011088396918827142, 0.0008316297689120357, 0.0008316297689120357, 0.0026393085584425395, 0.0026393085584425395, 0.001979481418831905, 0.0026393085584425395, 0.0026393085584425395, 0.001979481418831905, 0.001979481418831905, 0.0026393085584425395, 0.001979481418831905, 0.9791834751821823, 0.0009136594803986146, 0.0009136594803986146, 0.0006852446102989609, 0.0009136594803986146, 0.0009136594803986146, 0.0006852446102989609, 0.0006852446102989609, 0.0009136594803986146, 0.992462610582995, 0.0006852446102989609, 0.5612615388419815, 0.15500169705607098, 0.08452990076578812, 0.16584062687400167, 0.03233551554103541, 0.00040630359755795516, 0.0005563233874255079, 2.500329831125878e-05, 1.8752473733444084e-05, 1.8752473733444084e-05, 0.9962037910816381, 0.00017546522079817494, 0.0025442457015735363, 0.00017546522079817494, 0.00017546522079817494, 0.0001315989155986312, 0.0001315989155986312, 0.00017546522079817494, 0.0001315989155986312, 0.0001315989155986312, 0.9973282746396428, 0.0003242026085785105, 0.00024315195643388285, 0.0003242026085785105, 0.0003242026085785105, 0.00040525326072313807, 0.00024315195643388285, 0.0003242026085785105, 0.00024315195643388285, 0.00024315195643388285, 0.00238024931165214, 0.00238024931165214, 0.001785186983739105, 0.00238024931165214, 0.00238024931165214, 0.001785186983739105, 0.001785186983739105, 0.00238024931165214, 0.9806627164006817, 0.001785186983739105, 0.0030416092645666254, 0.0030416092645666254, 0.002281206948424969, 0.0030416092645666254, 0.0030416092645666254, 0.002281206948424969, 0.002281206948424969, 0.0030416092645666254, 0.975596171609745, 0.002281206948424969, 0.42320279701820807, 0.0007009570136947545, 0.0005257177602710659, 0.0007009570136947545, 0.0007009570136947545, 0.0005257177602710659, 0.0005257177602710659, 0.0007009570136947545, 0.571805683921496, 0.0005257177602710659, 0.0016141667974504477, 0.0016141667974504477, 0.0012106250980878357, 0.0016141667974504477, 0.0016141667974504477, 0.0012106250980878357, 0.9870629966409488, 0.0016141667974504477, 0.0012106250980878357, 0.0012106250980878357, 0.0018592931669870873, 0.0018592931669870873, 0.0013944698752403155, 0.0018592931669870873, 0.0018592931669870873, 0.0013944698752403155, 0.0013944698752403155, 0.0018592931669870873, 0.0013944698752403155, 0.9849605552114095, 0.33861054712235605, 0.5980068348059022, 0.00010733639490353636, 0.06250556063215934, 0.00014311519320471514, 0.00010733639490353636, 0.00010733639490353636, 0.00014311519320471514, 0.00010733639490353636, 0.00010733639490353636, 0.28141452912397924, 0.6256775011063679, 0.02702670171410117, 0.053999938142912325, 0.00010693057058002441, 0.011414838409417606, 8.019792793501831e-05, 0.00010693057058002441, 8.019792793501831e-05, 8.019792793501831e-05, 0.002688042367912369, 0.002688042367912369, 0.0020160317759342766, 0.002688042367912369, 0.002688042367912369, 0.0020160317759342766, 0.0020160317759342766, 0.002688042367912369, 0.9784474219201023, 0.0020160317759342766, 0.000676660822156227, 0.000676660822156227, 0.0005074956166171703, 0.000676660822156227, 0.000676660822156227, 0.0005074956166171703, 0.9945222433641148, 0.000676660822156227, 0.0005074956166171703, 0.0005074956166171703, 0.1913610557838099, 0.5457544123079313, 9.463949346380312e-05, 0.15801640758672994, 0.00012618599128507083, 0.10422962880146851, 9.463949346380312e-05, 0.00012618599128507083, 9.463949346380312e-05, 9.463949346380312e-05, 0.0035634027304892522, 0.0035634027304892522, 0.002672552047866939, 0.0035634027304892522, 0.0035634027304892522, 0.002672552047866939, 0.002672552047866939, 0.0035634027304892522, 0.002672552047866939, 0.9719180947409436, 0.9969759804045643, 0.00038143509532455826, 0.0002860763214934187, 0.00038143509532455826, 0.00038143509532455826, 0.0002860763214934187, 0.0002860763214934187, 0.00038143509532455826, 0.0002860763214934187, 0.0002860763214934187, 0.8264924064668205, 8.471631882603737e-05, 0.16915730961589012, 0.003833413426878191, 8.471631882603737e-05, 6.353723911952802e-05, 6.353723911952802e-05, 8.471631882603737e-05, 6.353723911952802e-05, 6.353723911952802e-05, 0.000286156097373378, 0.000286156097373378, 0.00021461707303003353, 0.000286156097373378, 0.000286156097373378, 0.00021461707303003353, 0.00021461707303003353, 0.000286156097373378, 0.9976832334922825, 0.00021461707303003353, 0.00027562474123179776, 0.00027562474123179776, 0.00020671855592384835, 0.00027562474123179776, 0.00027562474123179776, 0.00020671855592384835, 0.00020671855592384835, 0.00027562474123179776, 0.9977615632591079, 0.00020671855592384835, 0.0003300529295528709, 0.0003300529295528709, 0.00024753969716465317, 0.0003300529295528709, 0.0003300529295528709, 0.00024753969716465317, 0.9973374398763876, 0.0003300529295528709, 0.00024753969716465317, 0.00024753969716465317, 0.0020606806396772843, 0.0020606806396772843, 0.0015455104797579633, 0.0020606806396772843, 0.0020606806396772843, 0.0015455104797579633, 0.0015455104797579633, 0.0020606806396772843, 0.0015455104797579633, 0.9834598352859839, 0.0016540330900624916, 0.0016540330900624916, 0.0012405248175468688, 0.0016540330900624916, 0.9870442464947919, 0.0012405248175468688, 0.0012405248175468688, 0.0016540330900624916, 0.0012405248175468688, 0.0012405248175468688, 0.2405754876693975, 0.6388000608557866, 0.0743211027246225, 0.00011473732570377846, 0.00011473732570377846, 8.605299427783385e-05, 0.04566545563010383, 0.00011473732570377846, 8.605299427783385e-05, 8.605299427783385e-05, 0.001997882903637185, 0.001997882903637185, 0.0014984121777278888, 0.9839573300413136, 0.001997882903637185, 0.0014984121777278888, 0.0014984121777278888, 0.001997882903637185, 0.0014984121777278888, 0.0014984121777278888, 0.0005425284040947269, 0.9952683573117764, 0.00040689630307104516, 0.0005425284040947269, 0.0005425284040947269, 0.00040689630307104516, 0.00040689630307104516, 0.0005425284040947269, 0.00040689630307104516, 0.0008137926061420903, 0.0010139717528719016, 0.0010139717528719016, 0.0007604788146539261, 0.9919178672469376, 0.0010139717528719016, 0.0007604788146539261, 0.0007604788146539261, 0.0010139717528719016, 0.0007604788146539261, 0.0007604788146539261, 0.00022145148533833737, 0.00022145148533833737, 0.00016608861400375303, 0.00022145148533833737, 0.9982479330338903, 0.00016608861400375303, 0.00016608861400375303, 0.00022145148533833737, 0.00016608861400375303, 0.00016608861400375303, 0.0006215452349094408, 0.0006215452349094408, 0.9950939210900147, 0.0006215452349094408, 0.0006215452349094408, 0.00046615892618208056, 0.00046615892618208056, 0.0006215452349094408, 0.00046615892618208056, 0.00046615892618208056, 0.0010060918850922594, 0.0010060918850922594, 0.0007545689138191945, 0.0010060918850922594, 0.0010060918850922594, 0.0007545689138191945, 0.9920065987009677, 0.0010060918850922594, 0.0007545689138191945, 0.0007545689138191945, 0.0004017814376325937, 0.9728133058679175, 0.0003013360782244453, 0.0004017814376325937, 0.024408222336180067, 0.0003013360782244453, 0.0003013360782244453, 0.0004017814376325937, 0.0003013360782244453, 0.0003013360782244453, 0.00015692305794694342, 0.00015692305794694342, 0.00011769229346020756, 0.00015692305794694342, 0.00015692305794694342, 0.00011769229346020756, 0.9987368023033214, 0.00015692305794694342, 0.00011769229346020756, 0.00011769229346020756, 0.0013294682163807034, 0.0013294682163807034, 0.0009971011622855275, 0.0013294682163807034, 0.0013294682163807034, 0.0009971011622855275, 0.9894567200413384, 0.0013294682163807034, 0.0009971011622855275, 0.0009971011622855275, 0.6542461114512232, 0.19990836480189228, 0.1004142110986371, 0.03470017792516616, 0.007969768696420954, 0.0024372381334620656, 0.00026200309934717206, 2.4372381334620656e-05, 1.827928600096549e-05, 1.827928600096549e-05, 0.0010191314280034725, 0.0010191314280034725, 0.0007643485710026043, 0.0010191314280034725, 0.9918696623043796, 0.0007643485710026043, 0.0007643485710026043, 0.0010191314280034725, 0.0007643485710026043, 0.0007643485710026043, 0.9741803623421271, 0.0001851701886223393, 0.00013887764146675448, 0.00023146273577792414, 0.0001851701886223393, 0.00013887764146675448, 0.00013887764146675448, 0.0001851701886223393, 0.024488757445304373, 0.00013887764146675448, 0.0012002889581822721, 0.0012002889581822721, 0.0009002167186367041, 0.0012002889581822721, 0.9905384627399201, 0.0009002167186367041, 0.0009002167186367041, 0.0012002889581822721, 0.0009002167186367041, 0.0009002167186367041, 0.0021290076930774154, 0.0021290076930774154, 0.0015967557698080615, 0.9830693022784965, 0.0021290076930774154, 0.0015967557698080615, 0.0015967557698080615, 0.0021290076930774154, 0.0015967557698080615, 0.0015967557698080615, 0.0016637068574913362, 0.0016637068574913362, 0.0012477801431185023, 0.0016637068574913362, 0.0016637068574913362, 0.0012477801431185023, 0.0012477801431185023, 0.0016637068574913362, 0.0012477801431185023, 0.9865781664923624, 0.0005217758374929106, 0.995939629814593, 0.0003913318781196829, 0.0005217758374929106, 0.0005217758374929106, 0.0003913318781196829, 0.0003913318781196829, 0.0005217758374929106, 0.0003913318781196829, 0.0003913318781196829, 0.9983232182019355, 0.00021246570219780485, 0.00015934927664835362, 0.00021246570219780485, 0.00021246570219780485, 0.00015934927664835362, 0.00015934927664835362, 0.00021246570219780485, 0.00015934927664835362, 0.00015934927664835362, 0.0022581134426039057, 0.0022581134426039057, 0.0016935850819529293, 0.0022581134426039057, 0.0022581134426039057, 0.0016935850819529293, 0.0016935850819529293, 0.982279347532699, 0.0016935850819529293, 0.0016935850819529293, 0.0005472980962125879, 0.0005472980962125879, 0.00041047357215944093, 0.0005472980962125879, 0.0005472980962125879, 0.00041047357215944093, 0.9955352370106975, 0.0005472980962125879, 0.00041047357215944093, 0.00041047357215944093, 0.0018636162347442772, 0.0018636162347442772, 0.001397712176058208, 0.0018636162347442772, 0.0018636162347442772, 0.001397712176058208, 0.9849211800623505, 0.0018636162347442772, 0.001397712176058208, 0.001397712176058208, 0.0006893804166619959, 0.0006893804166619959, 0.0005170353124964969, 0.0006893804166619959, 0.994086560826598, 0.0005170353124964969, 0.0005170353124964969, 0.0010340706249929938, 0.0005170353124964969, 0.0005170353124964969, 0.001891017058880484, 0.001891017058880484, 0.0014182627941603631, 0.001891017058880484, 0.001891017058880484, 0.0014182627941603631, 0.9847471334120121, 0.001891017058880484, 0.0014182627941603631, 0.0014182627941603631, 0.799775583943778, 0.156403631892251, 0.027699491665062963, 0.014203527438703548, 0.00046634848086317903, 0.00024121473148095468, 0.0011739116932073129, 1.608098209873031e-05, 1.2060736574047735e-05, 1.2060736574047735e-05, 0.6822617169307275, 0.27469361894145833, 3.701238970691107e-05, 0.03486567110391023, 4.93498529425481e-05, 0.007846626617865147, 3.701238970691107e-05, 0.00012337463235637024, 3.701238970691107e-05, 3.701238970691107e-05, 0.2861660959142466, 0.6268944322274161, 0.00010712481753715245, 0.06141822872130074, 0.0247815411235946, 0.00010712481753715245, 0.00010712481753715245, 0.0001428330900495366, 0.00010712481753715245, 0.00010712481753715245, 0.46050699855338006, 0.2839231401637532, 0.09928225587808533, 0.1534061126612899, 0.002733785393598724, 2.5470050250919787e-05, 2.5470050250919787e-05, 3.3960067001226385e-05, 2.5470050250919787e-05, 2.5470050250919787e-05, 0.00011784984817342443, 0.9539355960397841, 8.838738613006831e-05, 0.04525434169859498, 0.00011784984817342443, 8.838738613006831e-05, 8.838738613006831e-05, 0.00011784984817342443, 8.838738613006831e-05, 8.838738613006831e-05, 0.4863708556972799, 0.012942304894902393, 0.001202816440046691, 0.4984471327553487, 0.00019245063040747054, 0.00014433797280560292, 0.00014433797280560292, 0.00019245063040747054, 0.00014433797280560292, 0.00014433797280560292, 0.001742209600780393, 0.001742209600780393, 0.0013066572005852948, 0.9860906340417025, 0.001742209600780393, 0.0013066572005852948, 0.0013066572005852948, 0.001742209600780393, 0.0013066572005852948, 0.0013066572005852948, 0.0003679727909882351, 0.0003679727909882351, 0.0002759795932411763, 0.0003679727909882351, 0.0003679727909882351, 0.0002759795932411763, 0.0002759795932411763, 0.99711427038037, 0.0002759795932411763, 0.0002759795932411763, 0.000832164529792008, 0.000832164529792008, 0.000624123397344006, 0.000832164529792008, 0.000832164529792008, 0.9933964074392095, 0.000624123397344006, 0.000832164529792008, 0.000624123397344006, 0.000624123397344006, 0.5703415021053079, 0.137366898696506, 0.2879493307686646, 0.003428297361047951, 5.529511872657985e-05, 8.294267808986978e-05, 0.0006358938653556683, 5.529511872657985e-05, 4.147133904493489e-05, 4.147133904493489e-05, 0.6847924545598674, 0.06942828653636421, 0.24422979052838925, 0.00011863013504718361, 0.0001482876688089795, 0.000889726012853877, 8.89726012853877e-05, 0.00011863013504718361, 8.89726012853877e-05, 8.89726012853877e-05, 0.001008117288697304, 0.001008117288697304, 0.1978430179068459, 0.00126014661087163, 0.001008117288697304, 0.000756087966522978, 0.7946484528156499, 0.001008117288697304, 0.000756087966522978, 0.000756087966522978, 0.9968550110803407, 0.0002538141339478907, 0.000190360600460918, 0.0013959777367133987, 0.0002538141339478907, 0.0002538141339478907, 0.000190360600460918, 0.0002538141339478907, 0.000190360600460918, 0.000190360600460918, 0.00029522360437060147, 0.8191716962273264, 0.0002214177032779511, 0.00029522360437060147, 0.07823425515820939, 0.10074505499146776, 0.0002214177032779511, 0.00029522360437060147, 0.0002214177032779511, 0.0002214177032779511, 0.9977542919480716, 0.00028640238017885086, 0.00021480178513413813, 0.00028640238017885086, 0.00028640238017885086, 0.00021480178513413813, 0.00021480178513413813, 0.00028640238017885086, 0.00021480178513413813, 0.00021480178513413813, 0.0017044997946744744, 0.0017044997946744744, 0.0012783748460058557, 0.0017044997946744744, 0.0017044997946744744, 0.0012783748460058557, 0.986479256167852, 0.0017044997946744744, 0.0012783748460058557, 0.0012783748460058557, 0.0019723588061912396, 0.0015778870449529917, 0.0011834152837147437, 0.9869683466180962, 0.0015778870449529917, 0.0011834152837147437, 0.0011834152837147437, 0.0015778870449529917, 0.0011834152837147437, 0.0011834152837147437, 0.0020038961012328626, 0.0020038961012328626, 0.001502922075924647, 0.0020038961012328626, 0.0020038961012328626, 0.001502922075924647, 0.001502922075924647, 0.0020038961012328626, 0.001502922075924647, 0.9839129857053356, 0.9960115851966866, 0.00026968431197365103, 0.00020226323398023826, 0.00026968431197365103, 0.00026968431197365103, 0.00020226323398023826, 0.00020226323398023826, 0.00026968431197365103, 0.0020226323398023827, 0.00020226323398023826, 0.0008301307016569594, 0.9934589172079661, 0.0006225980262427195, 0.0008301307016569594, 0.0008301307016569594, 0.0006225980262427195, 0.0006225980262427195, 0.0008301307016569594, 0.0006225980262427195, 0.0006225980262427195, 0.43615749213823135, 0.00010971135508445009, 0.5609815863855644, 0.0003839897427955753, 0.00010971135508445009, 8.228351631333757e-05, 0.0011793970671578385, 0.0008228351631333757, 8.228351631333757e-05, 8.228351631333757e-05, 0.08027049807094569, 0.10347962815385423, 0.7891327822891048, 8.943788085899241e-05, 8.943788085899241e-05, 6.707841064424431e-05, 0.02663012902576499, 8.943788085899241e-05, 6.707841064424431e-05, 6.707841064424431e-05, 0.0009178472385962913, 0.0009178472385962913, 0.9926517885418892, 0.0009178472385962913, 0.0009178472385962913, 0.0006883854289472186, 0.0006883854289472186, 0.0009178472385962913, 0.0006883854289472186, 0.0006883854289472186, 0.15269899320151153, 0.8450614021808164, 0.0002484256939287064, 0.00033123425857160854, 0.00033123425857160854, 0.0002484256939287064, 0.0002484256939287064, 0.00033123425857160854, 0.0002484256939287064, 0.0002484256939287064, 0.9948889121676895, 0.00021816543219509664, 0.0032724814829264495, 0.0004908722224389675, 0.00021816543219509664, 0.00016362407414632248, 0.00016362407414632248, 0.00021816543219509664, 0.00016362407414632248, 0.00016362407414632248, 0.0009225924808706567, 0.0009225924808706567, 0.0006919443606529925, 0.0009225924808706567, 0.0009225924808706567, 0.0006919443606529925, 0.0006919443606529925, 0.9927095094168267, 0.0006919443606529925, 0.0006919443606529925, 0.48253275804592805, 0.0005643657988841264, 0.00042327434916309477, 0.0005643657988841264, 0.0005643657988841264, 0.00042327434916309477, 0.00042327434916309477, 0.0005643657988841264, 0.5134317855348339, 0.00042327434916309477, 0.0013235050130380923, 0.0013235050130380923, 0.0009926287597785692, 0.0013235050130380923, 0.0013235050130380923, 0.989319997245974, 0.0009926287597785692, 0.0013235050130380923, 0.0009926287597785692, 0.0009926287597785692, 0.2740145320546713, 0.3632178574149683, 0.00012557952889764954, 0.00016743937186353272, 0.00016743937186353272, 0.00012557952889764954, 0.36175276291116243, 0.00016743937186353272, 0.00012557952889764954, 0.00012557952889764954, 0.031079836554732784, 0.967110001799609, 0.00018175343014463618, 0.00024233790685951488, 0.00024233790685951488, 0.00018175343014463618, 0.0003029223835743936, 0.00024233790685951488, 0.00018175343014463618, 0.00018175343014463618, 0.9220356995028608, 0.00010222408597830991, 0.05949441803937637, 0.00010222408597830991, 0.00010222408597830991, 7.666806448373243e-05, 0.01786365902470966, 0.00010222408597830991, 7.666806448373243e-05, 7.666806448373243e-05, 0.0006506048022004999, 0.0006506048022004999, 0.9947747425645642, 0.0006506048022004999, 0.0006506048022004999, 0.0004879536016503749, 0.0004879536016503749, 0.0006506048022004999, 0.0004879536016503749, 0.0004879536016503749, 0.001580403082378824, 0.001580403082378824, 0.0011853023117841181, 0.001580403082378824, 0.001580403082378824, 0.0011853023117841181, 0.9873568257161703, 0.001580403082378824, 0.0011853023117841181, 0.0011853023117841181, 0.0005286342138622346, 0.9557706586629202, 0.04044051736046095, 0.0005286342138622346, 0.0005286342138622346, 0.00039647566039667596, 0.00039647566039667596, 0.0005286342138622346, 0.00039647566039667596, 0.00039647566039667596, 0.3564353663061226, 0.033156778261034664, 0.1642296673241873, 0.0010361493206573332, 0.0010361493206573332, 0.0007771119904929998, 0.0007771119904929998, 0.0010361493206573332, 0.0007771119904929998, 0.44062249860953095, 0.00042490335940572764, 0.00042490335940572764, 0.00031867751955429576, 0.00042490335940572764, 0.00042490335940572764, 0.9966108294861342, 0.00031867751955429576, 0.00042490335940572764, 0.00031867751955429576, 0.00031867751955429576, 0.0011440379614083257, 0.0011440379614083257, 0.0008580284710562443, 0.0011440379614083257, 0.0011440379614083257, 0.0008580284710562443, 0.99073687457961, 0.0011440379614083257, 0.0008580284710562443, 0.0008580284710562443, 0.0004390917728519636, 0.00017563670914078544, 0.00013172753185558908, 0.00017563670914078544, 0.00017563670914078544, 0.9983190547562244, 0.00013172753185558908, 0.00017563670914078544, 0.00013172753185558908, 0.00013172753185558908, 0.020235387693164228, 0.00130550888342995, 0.0009791316625724627, 0.00130550888342995, 0.00130550888342995, 0.9706458548301679, 0.0009791316625724627, 0.00130550888342995, 0.0009791316625724627, 0.0009791316625724627, 0.0841483041161083, 0.9149886947197335, 9.30844072080844e-05, 0.00012411254294411253, 0.00012411254294411253, 9.30844072080844e-05, 9.30844072080844e-05, 0.00012411254294411253, 9.30844072080844e-05, 9.30844072080844e-05, 0.0006089865906687185, 0.0006089865906687185, 0.0004567399430015389, 0.0006089865906687185, 0.0006089865906687185, 0.9950840891526861, 0.0004567399430015389, 0.0006089865906687185, 0.0004567399430015389, 0.0004567399430015389, 0.001548993363801531, 0.001548993363801531, 0.0011617450228511483, 0.001548993363801531, 0.9878705177644264, 0.0011617450228511483, 0.0011617450228511483, 0.001548993363801531, 0.0011617450228511483, 0.0011617450228511483, 0.0010664956158118236, 0.0010664956158118236, 0.0007998717118588678, 0.0010664956158118236, 0.0010664956158118236, 0.9913076748970902, 0.0007998717118588678, 0.0010664956158118236, 0.0007998717118588678, 0.0007998717118588678, 0.4889644468346175, 0.00043560307067671937, 0.00032670230300753953, 0.07742844581278686, 0.4310292384346138, 0.00032670230300753953, 0.00032670230300753953, 0.00043560307067671937, 0.00032670230300753953, 0.00032670230300753953, 0.9972464195269606, 0.0003445017426468471, 0.00025837630698513533, 0.0003445017426468471, 0.0003445017426468471, 0.00025837630698513533, 0.00025837630698513533, 0.0003445017426468471, 0.00025837630698513533, 0.00025837630698513533, 0.0001981686954979234, 0.0001981686954979234, 0.00014862652162344253, 0.0001981686954979234, 0.0001981686954979234, 0.00014862652162344253, 0.9984234300924125, 0.0001981686954979234, 0.00014862652162344253, 0.00014862652162344253, 0.29872161022197546, 0.13026418238673768, 9.253360496305287e-05, 0.21347502664976298, 0.35706404815118026, 6.940020372228965e-05, 6.940020372228965e-05, 9.253360496305287e-05, 6.940020372228965e-05, 6.940020372228965e-05, 0.29305900247842925, 0.11181706174229376, 9.215691901837398e-05, 0.16311774666252196, 0.41224861774219296, 9.215691901837398e-05, 9.215691901837398e-05, 0.00012287589202449864, 0.019199358128827913, 9.215691901837398e-05, 0.9278461961650084, 9.470959207543404e-05, 7.103219405657553e-05, 9.470959207543404e-05, 9.470959207543404e-05, 7.103219405657553e-05, 7.103219405657553e-05, 9.470959207543404e-05, 0.07148206461893385, 7.103219405657553e-05, 0.0004920245393618519, 0.0004920245393618519, 0.9958576676683883, 0.0004920245393618519, 0.000615030674202315, 0.00036901840452138897, 0.00036901840452138897, 0.0004920245393618519, 0.00036901840452138897, 0.00036901840452138897, 0.0003212691573485985, 0.0003212691573485985, 0.0002409518680114489, 0.0003212691573485985, 0.0003212691573485985, 0.0002409518680114489, 0.17549327720167193, 0.0003212691573485985, 0.8221277736550636, 0.0002409518680114489, 0.3608836271044288, 0.00010945818231860139, 8.209363673895104e-05, 0.30533359957773853, 0.0003557390925354545, 8.209363673895104e-05, 8.209363673895104e-05, 0.00010945818231860139, 0.3328623324308668, 8.209363673895104e-05, 0.0005311735023137457, 0.0005311735023137457, 0.00039838012673530936, 0.7983537739775599, 0.0005311735023137457, 0.00039838012673530936, 0.00039838012673530936, 0.0005311735023137457, 0.19772933623629188, 0.00039838012673530936, 0.3821547550551442, 0.1278252612793503, 0.0003145306625968265, 0.2211779619380884, 0.25753770653428154, 0.0001887183975580959, 0.010190793468137178, 0.0002516245300774612, 0.0001887183975580959, 0.0001887183975580959, 0.001536898052389761, 0.001536898052389761, 0.0011526735392923208, 0.001536898052389761, 0.987841223173519, 0.0011526735392923208, 0.0011526735392923208, 0.001536898052389761, 0.0011526735392923208, 0.0011526735392923208, 0.0009988250970810577, 0.0009988250970810577, 0.9920830276757605, 0.0009988250970810577, 0.0009988250970810577, 0.0007491188228107932, 0.0007491188228107932, 0.0009988250970810577, 0.0007491188228107932, 0.0007491188228107932, 0.00047233539220010106, 0.00047233539220010106, 0.9961553421500131, 0.00047233539220010106, 0.00047233539220010106, 0.0003542515441500758, 0.0003542515441500758, 0.00047233539220010106, 0.0003542515441500758, 0.0003542515441500758, 0.0008910980026821941, 0.0679462227045173, 0.0006683235020116455, 0.0008910980026821941, 0.9258508247867997, 0.0006683235020116455, 0.0006683235020116455, 0.0008910980026821941, 0.0006683235020116455, 0.0006683235020116455, 0.0018975368144556984, 0.0018975368144556984, 0.0014231526108417739, 0.0018975368144556984, 0.0018975368144556984, 0.0014231526108417739, 0.0014231526108417739, 0.0018975368144556984, 0.0014231526108417739, 0.9848216067025075, 0.022350405186863955, 0.031773398314426805, 0.00023362792878255006, 0.943934708257763, 0.00031150390504340006, 0.00023362792878255006, 0.00023362792878255006, 0.00031150390504340006, 0.00023362792878255006, 0.00023362792878255006, 0.002131322793307488, 0.002131322793307488, 0.001598492094980616, 0.9830726384130788, 0.002131322793307488, 0.001598492094980616, 0.001598492094980616, 0.002131322793307488, 0.001598492094980616, 0.001598492094980616, 0.000396746355301312, 0.000396746355301312, 0.9968252176945464, 0.000396746355301312, 0.000396746355301312, 0.000297559766475984, 0.000297559766475984, 0.000396746355301312, 0.000297559766475984, 0.000297559766475984, 0.000580456679293175, 0.000580456679293175, 0.00043534250946988123, 0.000580456679293175, 0.000580456679293175, 0.7290535891922278, 0.2668649583050372, 0.000580456679293175, 0.00043534250946988123, 0.00043534250946988123, 0.0016545489421765538, 0.0005515163140588512, 0.00041363723554413846, 0.0005515163140588512, 0.0005515163140588512, 0.9945217933266236, 0.00041363723554413846, 0.0005515163140588512, 0.00041363723554413846, 0.00041363723554413846, 0.0009965428126292768, 0.0009965428126292768, 0.0007474071094719576, 0.0009965428126292768, 0.0009965428126292768, 0.0007474071094719576, 0.0007474071094719576, 0.992058369972445, 0.0007474071094719576, 0.0007474071094719576, 0.00045769078042318833, 0.996392828981281, 0.00034326808531739126, 0.00045769078042318833, 0.00045769078042318833, 0.00034326808531739126, 0.00034326808531739126, 0.00045769078042318833, 0.00034326808531739126, 0.00034326808531739126, 0.06832913622912468, 0.9285057085596147, 0.00033994595138868, 0.00045326126851824003, 0.00045326126851824003, 0.00033994595138868, 0.00033994595138868, 0.00045326126851824003, 0.00033994595138868, 0.00033994595138868, 0.000305605994417723, 0.000305605994417723, 0.00022920449581329225, 0.000305605994417723, 0.000305605994417723, 0.00022920449581329225, 0.00022920449581329225, 0.9975743672780524, 0.00022920449581329225, 0.00022920449581329225, 0.0005536660136097427, 0.0005536660136097427, 0.00041524951020730703, 0.0005536660136097427, 0.0005536660136097427, 0.00041524951020730703, 0.9954914924703174, 0.0005536660136097427, 0.00041524951020730703, 0.00041524951020730703, 0.0009625057787413769, 0.0009625057787413769, 0.0007218793340560327, 0.0009625057787413769, 0.0009625057787413769, 0.0007218793340560327, 0.9923434578823596, 0.0009625057787413769, 0.0007218793340560327, 0.0007218793340560327, 0.0011619910789824953, 0.0011619910789824953, 0.0011619910789824953, 0.0011619910789824953, 0.9763630041150417, 0.0008714933092368716, 0.015396381796518064, 0.0011619910789824953, 0.0008714933092368716, 0.0008714933092368716, 0.000966096457293336, 0.000966096457293336, 0.992181061640256, 0.000966096457293336, 0.000966096457293336, 0.0007245723429700019, 0.0007245723429700019, 0.000966096457293336, 0.0007245723429700019, 0.0007245723429700019, 0.0007448239329262284, 0.0007448239329262284, 0.0005586179496946713, 0.0007448239329262284, 0.9941537444732833, 0.0005586179496946713, 0.0005586179496946713, 0.0007448239329262284, 0.0005586179496946713, 0.0005586179496946713, 0.4259367545567841, 0.0901959265565476, 0.000311737073352123, 0.013612518869709371, 0.46802125945932066, 0.000311737073352123, 0.000311737073352123, 0.000415649431136164, 0.000311737073352123, 0.000311737073352123, 0.002226184503477509, 0.002226184503477509, 0.0016696383776081314, 0.002226184503477509, 0.002226184503477509, 0.0016696383776081314, 0.0016696383776081314, 0.9823039121594507, 0.0016696383776081314, 0.0016696383776081314, 0.0014319943700033325, 0.0014319943700033325, 0.0010739957775024993, 0.0014319943700033325, 0.0014319943700033325, 0.0010739957775024993, 0.9884341138948002, 0.0014319943700033325, 0.0010739957775024993, 0.0010739957775024993, 0.001356965266110022, 0.001356965266110022, 0.0010177239495825165, 0.001356965266110022, 0.001356965266110022, 0.0010177239495825165, 0.0010177239495825165, 0.001356965266110022, 0.9888884376776784, 0.0010177239495825165, 0.0015811492258799517, 0.0015811492258799517, 0.0011858619194099638, 0.0015811492258799517, 0.9874276915620298, 0.0011858619194099638, 0.0011858619194099638, 0.0015811492258799517, 0.0011858619194099638, 0.0011858619194099638, 0.000337212955383648, 0.00042151619422956, 0.000252909716537736, 0.000337212955383648, 0.000337212955383648, 0.997223012308293, 0.000252909716537736, 0.000337212955383648, 0.000252909716537736, 0.000252909716537736, 0.00033440548708463214, 0.00033440548708463214, 0.0002508041153134741, 0.00033440548708463214, 0.00033440548708463214, 0.9972807638581441, 0.0002508041153134741, 0.00033440548708463214, 0.0002508041153134741, 0.0002508041153134741, 0.004556062429166012, 0.0003504663407050778, 0.00026284975552880836, 0.7637537729815409, 0.0003504663407050778, 0.2294678365766497, 0.00026284975552880836, 0.0003504663407050778, 0.00026284975552880836, 0.00026284975552880836, 0.9934798718875876, 0.00028219851495173625, 0.0002116488862138022, 0.00028219851495173625, 0.00028219851495173625, 0.0002116488862138022, 0.00451517623922778, 0.00028219851495173625, 0.0002116488862138022, 0.0002116488862138022, 0.0014222638935468598, 0.0014222638935468598, 0.0010666979201601448, 0.0014222638935468598, 0.0014222638935468598, 0.0010666979201601448, 0.0010666979201601448, 0.9888289719884542, 0.0010666979201601448, 0.0010666979201601448, 0.6381700175367694, 0.34543098698163444, 0.0010690734248338719, 5.3453671241693594e-05, 5.3453671241693594e-05, 4.0090253431270196e-05, 0.00018708784934592758, 5.3453671241693594e-05, 0.014913574276432511, 4.0090253431270196e-05, 0.08327050134877083, 0.9083290813120208, 0.00025208022608104187, 0.0003361069681080558, 0.0003361069681080558, 0.00025208022608104187, 0.00025208022608104187, 0.00638603239405306, 0.00025208022608104187, 0.00025208022608104187, 0.44332217110443006, 0.2979165369490534, 1.9413302290437472e-05, 0.009318385099409986, 0.10535599153020415, 2.588440305391663e-05, 0.0069434911192131354, 2.588440305391663e-05, 0.13699320316285377, 7.765320916174989e-05, 0.7493475866030784, 0.0001161014194682695, 8.707606460120213e-05, 0.0001161014194682695, 0.09395507370469709, 8.707606460120213e-05, 8.707606460120213e-05, 0.08263518530654082, 8.707606460120213e-05, 0.07346317316854753, 0.10060399693313778, 0.2536771986159846, 0.00017109523287948603, 0.005589110940729876, 0.00022812697717264802, 0.6388695995720007, 0.00022812697717264802, 0.00022812697717264802, 0.00017109523287948603, 0.00017109523287948603, 0.00043323896259071993, 0.00043323896259071993, 0.00032492922194303996, 0.00043323896259071993, 0.00043323896259071993, 0.00032492922194303996, 0.00032492922194303996, 0.00043323896259071993, 0.9964496139586558, 0.00032492922194303996, 0.0008043859128855054, 0.9936176988918206, 0.000603289434664129, 0.0008043859128855054, 0.0008043859128855054, 0.000603289434664129, 0.000603289434664129, 0.0008043859128855054, 0.000603289434664129, 0.000603289434664129, 0.5030691699487636, 0.2595736874771142, 0.0001339850417122062, 0.05354935500431175, 0.18288958193716148, 0.0001339850417122062, 0.0001339850417122062, 0.00017864672228294162, 0.0001339850417122062, 0.0001339850417122062, 0.0003245510355791371, 0.31919594349208136, 0.00024341327668435283, 0.0003245510355791371, 0.6784739398781862, 0.00024341327668435283, 0.00024341327668435283, 0.0003245510355791371, 0.00024341327668435283, 0.00024341327668435283, 0.001735322690894963, 0.001735322690894963, 0.0013014920181712224, 0.001735322690894963, 0.9860971191010628, 0.0013014920181712224, 0.0013014920181712224, 0.001735322690894963, 0.0013014920181712224, 0.0013014920181712224, 0.001492668172722316, 0.001492668172722316, 0.001119501129541737, 0.001492668172722316, 0.001492668172722316, 0.9870268292126315, 0.002239002259083474, 0.001492668172722316, 0.001119501129541737, 0.001119501129541737, 0.0008131060500738935, 0.0008131060500738935, 0.9934123166777794, 0.0008131060500738935, 0.0008131060500738935, 0.0006098295375554201, 0.0006098295375554201, 0.0008131060500738935, 0.0006098295375554201, 0.0006098295375554201, 0.6884328750056772, 0.24006345767845796, 0.057307666684105994, 0.01341584090787946, 4.004728629217749e-05, 3.003546471913312e-05, 0.0006007092943826624, 4.004728629217749e-05, 3.003546471913312e-05, 3.003546471913312e-05, 0.00079532757441257, 0.00079532757441257, 0.0005964956808094274, 0.00079532757441257, 0.00079532757441257, 0.0005964956808094274, 0.0005964956808094274, 0.00079532757441257, 0.9935629723349031, 0.0005964956808094274, 0.0002283594817772901, 0.0002283594817772901, 0.00017126961133296758, 0.0002283594817772901, 0.8897456308747665, 0.00017126961133296758, 0.00017126961133296758, 0.0002283594817772901, 0.10864202345554576, 0.00017126961133296758, 0.00036255243145854135, 0.5821685668145528, 0.000271914323593906, 0.00036255243145854135, 0.00036255243145854135, 0.4153038102357591, 0.000271914323593906, 0.00036255243145854135, 0.000271914323593906, 0.000271914323593906, 0.0005702662666147556, 0.0005702662666147556, 0.00042769969996106673, 0.0005702662666147556, 0.0005702662666147556, 0.00042769969996106673, 0.9953997683760559, 0.0005702662666147556, 0.00042769969996106673, 0.00042769969996106673, 0.4556688889867211, 0.00043304242241551063, 0.000324781816811633, 0.00043304242241551063, 0.19064692646842857, 0.000324781816811633, 0.000324781816811633, 0.35108914397337526, 0.000324781816811633, 0.000324781816811633, 0.0006873676203776984, 0.0006873676203776984, 0.0005155257152832738, 0.0006873676203776984, 0.0006873676203776984, 0.0005155257152832738, 0.994449104781435, 0.0006873676203776984, 0.0005155257152832738, 0.0005155257152832738, 0.0006816938264592308, 0.0006816938264592308, 0.0005112703698444232, 0.0006816938264592308, 0.9945912928040179, 0.0005112703698444232, 0.0005112703698444232, 0.0006816938264592308, 0.0005112703698444232, 0.0005112703698444232, 0.997773593830317, 0.0002786882463041176, 0.0002090161847280882, 0.0002786882463041176, 0.0002786882463041176, 0.0002090161847280882, 0.0002090161847280882, 0.0002786882463041176, 0.0002090161847280882, 0.0002090161847280882, 0.0026460136700506716, 0.0026460136700506716, 0.001984510252538004, 0.0026460136700506716, 0.0026460136700506716, 0.001984510252538004, 0.001984510252538004, 0.0026460136700506716, 0.001984510252538004, 0.9790250579187486, 0.00038724104842495505, 0.00038724104842495505, 0.0002904307863187163, 0.00038724104842495505, 0.00038724104842495505, 0.9968552689079405, 0.0002904307863187163, 0.00038724104842495505, 0.0002904307863187163, 0.0002904307863187163, 0.9986764418653613, 0.00016733153635745173, 0.0001254986522680888, 0.00016733153635745173, 0.00016733153635745173, 0.0001254986522680888, 0.0001254986522680888, 0.00016733153635745173, 0.0001254986522680888, 0.0001254986522680888, 0.572181902545566, 0.0004446721605172458, 0.0005558402006465572, 0.0004446721605172458, 0.0004446721605172458, 0.4245507452538404, 0.0003335041203879343, 0.0004446721605172458, 0.0003335041203879343, 0.0003335041203879343, 0.001629341034832759, 0.0013034728278662072, 0.0009776046208996554, 0.0013034728278662072, 0.0013034728278662072, 0.9893358763504513, 0.0009776046208996554, 0.0013034728278662072, 0.0009776046208996554, 0.0009776046208996554, 0.001986032173879417, 0.001986032173879417, 0.0014895241304095626, 0.984078942157251, 0.001986032173879417, 0.0014895241304095626, 0.0014895241304095626, 0.001986032173879417, 0.0014895241304095626, 0.0014895241304095626, 0.0016412975201583373, 0.0016412975201583373, 0.001230973140118753, 0.0016412975201583373, 0.0016412975201583373, 0.001230973140118753, 0.001230973140118753, 0.9868301339952004, 0.001230973140118753, 0.001230973140118753, 0.001188092308444113, 0.001188092308444113, 0.0008910692313330849, 0.001188092308444113, 0.001188092308444113, 0.9902749390881683, 0.0008910692313330849, 0.001188092308444113, 0.0008910692313330849, 0.0008910692313330849, 0.0012931464649636837, 0.0012931464649636837, 0.0009698598487227627, 0.0012931464649636837, 0.989580332313459, 0.0009698598487227627, 0.0009698598487227627, 0.0012931464649636837, 0.0009698598487227627, 0.0009698598487227627, 0.0019364854861978057, 0.0019364854861978057, 0.0014523641146483542, 0.0019364854861978057, 0.0019364854861978057, 0.0014523641146483542, 0.9842187483600348, 0.0019364854861978057, 0.0014523641146483542, 0.0014523641146483542, 0.00014642569503044294, 0.00014642569503044294, 0.0001098192712728322, 0.00014642569503044294, 0.00014642569503044294, 0.9988062722264089, 0.0001098192712728322, 0.00014642569503044294, 0.0001098192712728322, 0.0001098192712728322, 0.0016263994189845564, 0.0016263994189845564, 0.0012197995642384174, 0.0016263994189845564, 0.0016263994189845564, 0.9868178474688797, 0.0012197995642384174, 0.0016263994189845564, 0.0012197995642384174, 0.0012197995642384174, 0.050034477004051094, 0.0003841418579965535, 0.00028810639349741515, 0.3846220353190492, 0.015653780713359555, 0.5476902540385862, 0.00028810639349741515, 0.0003841418579965535, 0.00028810639349741515, 0.00028810639349741515, 0.0009895121834100184, 0.0009895121834100184, 0.0007421341375575139, 0.0009895121834100184, 0.0009895121834100184, 0.0007421341375575139, 0.0007421341375575139, 0.9922333419143959, 0.0007421341375575139, 0.0007421341375575139, 0.0017233306654170853, 0.0017233306654170853, 0.001292497999062814, 0.0017233306654170853, 0.9861759732849271, 0.001292497999062814, 0.001292497999062814, 0.0017233306654170853, 0.001292497999062814, 0.001292497999062814, 0.00019479116503633715, 0.00019479116503633715, 0.998402116393746, 0.00019479116503633715, 0.00019479116503633715, 0.00014609337377725285, 0.00014609337377725285, 0.00019479116503633715, 0.00014609337377725285, 0.00014609337377725285, 0.001239189885339211, 0.001239189885339211, 0.9901127183860295, 0.001239189885339211, 0.001239189885339211, 0.0009293924140044083, 0.0009293924140044083, 0.001239189885339211, 0.0009293924140044083, 0.0009293924140044083, 0.0019382897432132094, 0.0019382897432132094, 0.001453717307409907, 0.9846511895523103, 0.0019382897432132094, 0.001453717307409907, 0.001453717307409907, 0.0019382897432132094, 0.001453717307409907, 0.001453717307409907, 0.0020061326701416595, 0.0020061326701416595, 0.0015045995026062445, 0.0020061326701416595, 0.0020061326701416595, 0.0015045995026062445, 0.0015045995026062445, 0.9840080747044839, 0.0015045995026062445, 0.0015045995026062445, 0.0012568536078406056, 0.0012568536078406056, 0.0009426402058804542, 0.0012568536078406056, 0.0012568536078406056, 0.9897722161744769, 0.0009426402058804542, 0.0012568536078406056, 0.0009426402058804542, 0.0009426402058804542, 0.0020205129160391555, 0.0020205129160391555, 0.0015153846870293664, 0.0020205129160391555, 0.0020205129160391555, 0.0015153846870293664, 0.0015153846870293664, 0.9839897901110686, 0.0015153846870293664, 0.0015153846870293664, 0.0006399954821326156, 0.0006399954821326156, 0.00047999661159946167, 0.0006399954821326156, 0.0006399954821326156, 0.9948729769751509, 0.00047999661159946167, 0.0006399954821326156, 0.00047999661159946167, 0.00047999661159946167, 0.0011348121976658698, 0.0011348121976658698, 0.0008511091482494024, 0.0011348121976658698, 0.0011348121976658698, 0.9909747516117209, 0.0008511091482494024, 0.0011348121976658698, 0.0008511091482494024, 0.0008511091482494024, 0.0002709351330248685, 0.013411289084730991, 0.982952662614223, 0.0002709351330248685, 0.001964279714430297, 0.00020320134976865137, 0.00020320134976865137, 0.0002709351330248685, 0.00020320134976865137, 0.00020320134976865137, 0.0006399730305570396, 0.0006399730305570396, 0.9948380760009181, 0.0006399730305570396, 0.0006399730305570396, 0.0004799797729177797, 0.0004799797729177797, 0.0006399730305570396, 0.0004799797729177797, 0.0004799797729177797, 0.00046467493306386233, 0.00046467493306386233, 0.00046467493306386233, 0.00046467493306386233, 0.9962630564889209, 0.00034850619979789676, 0.00034850619979789676, 0.00046467493306386233, 0.00034850619979789676, 0.00034850619979789676, 0.14066085163881442, 0.00033671059638256, 0.00025253294728692, 0.6561647747005137, 0.00033671059638256, 0.20110040368948395, 0.00025253294728692, 0.00033671059638256, 0.00025253294728692, 0.00025253294728692, 0.0006902869142569722, 0.0006902869142569722, 0.0005177151856927292, 0.0006902869142569722, 0.0006902869142569722, 0.0005177151856927292, 0.0005177151856927292, 0.9945308717157327, 0.0005177151856927292, 0.0005177151856927292, 0.07564314575182329, 0.2371727799093626, 0.00011819241523722389, 0.17969186863232606, 0.5066908841219788, 0.00011819241523722389, 0.00011819241523722389, 0.00015758988698296518, 0.00011819241523722389, 0.00011819241523722389, 0.0022542000497852597, 0.0022542000497852597, 0.0016906500373389448, 0.0022542000497852597, 0.0022542000497852597, 0.0016906500373389448, 0.0016906500373389448, 0.0022542000497852597, 0.0016906500373389448, 0.9817041216814807, 0.0012488806594431676, 0.0012488806594431676, 0.0009366604945823757, 0.0012488806594431676, 0.9900501427735712, 0.0009366604945823757, 0.0009366604945823757, 0.0012488806594431676, 0.0009366604945823757, 0.0009366604945823757, 0.0008577736961298031, 0.9930874966942795, 0.0006433302720973524, 0.0008577736961298031, 0.0008577736961298031, 0.0006433302720973524, 0.0006433302720973524, 0.0008577736961298031, 0.0006433302720973524, 0.0006433302720973524, 0.001021801083300445, 0.001021801083300445, 0.0007663508124753338, 0.001021801083300445, 0.001021801083300445, 0.0007663508124753338, 0.0007663508124753338, 0.001021801083300445, 0.0007663508124753338, 0.9919134016139071, 0.9983481664346193, 0.00020570713778079007, 0.00015428035333559255, 0.00020570713778079007, 0.00020570713778079007, 0.00015428035333559255, 0.00015428035333559255, 0.00020570713778079007, 0.00015428035333559255, 0.00015428035333559255, 0.0018472512937066604, 0.0018472512937066604, 0.0013854384702799954, 0.0018472512937066604, 0.0018472512937066604, 0.0013854384702799954, 0.0013854384702799954, 0.0018472512937066604, 0.9850467523690767, 0.0013854384702799954, 0.998283903467177, 0.00021542596104168687, 0.00016156947078126515, 0.00021542596104168687, 0.00021542596104168687, 0.00016156947078126515, 0.00016156947078126515, 0.00021542596104168687, 0.00016156947078126515, 0.00016156947078126515, 0.06421909915078176, 0.00014488234438980656, 0.00010866175829235493, 0.9347446654169345, 0.00014488234438980656, 0.00010866175829235493, 0.00010866175829235493, 0.00014488234438980656, 0.00010866175829235493, 0.00010866175829235493, 0.002115582118117465, 0.002115582118117465, 0.0015866865885880987, 0.002115582118117465, 0.002115582118117465, 0.0015866865885880987, 0.0015866865885880987, 0.002115582118117465, 0.9826878938655625, 0.0015866865885880987, 0.008146691431608814, 0.27395861057833226, 0.0003133342858311082, 0.6710575954882901, 0.0004177790477748109, 0.044702358111904775, 0.0003133342858311082, 0.0004177790477748109, 0.0003133342858311082, 0.0003133342858311082, 0.00025578569267817634, 0.00025578569267817634, 0.00019183926950863223, 0.00025578569267817634, 0.00025578569267817634, 0.9979478799839049, 0.00019183926950863223, 0.00025578569267817634, 0.00019183926950863223, 0.00019183926950863223, 0.0009096624176160653, 0.0005198070957806088, 0.0003898553218354566, 0.28797313106245725, 0.0005198070957806088, 0.707847312679244, 0.0003898553218354566, 0.0005198070957806088, 0.0003898553218354566, 0.0003898553218354566, 0.29912402669828725, 0.0017416246095970146, 0.0013062184571977608, 0.0017416246095970146, 0.0017416246095970146, 0.0013062184571977608, 0.0013062184571977608, 0.0017416246095970146, 0.0013062184571977608, 0.68837712694322, 0.00036880180908514457, 0.019546495881512662, 0.954735683269168, 0.00036880180908514457, 0.00036880180908514457, 0.02351111532917797, 0.0002766013568138584, 0.00036880180908514457, 0.0002766013568138584, 0.0002766013568138584, 0.0011469156265498928, 0.0011469156265498928, 0.9909351013391074, 0.0011469156265498928, 0.0011469156265498928, 0.0008601867199124196, 0.0008601867199124196, 0.0011469156265498928, 0.0008601867199124196, 0.0008601867199124196, 0.0007111131371221614, 0.0007111131371221614, 0.000533334852841621, 0.0007111131371221614, 0.0007111131371221614, 0.9943139439810621, 0.000533334852841621, 0.0007111131371221614, 0.000533334852841621, 0.000533334852841621, 0.05138327870371949, 0.2896590506105575, 0.0004862770855241592, 0.0006483694473655456, 0.0006483694473655456, 0.3374762973537665, 0.0004862770855241592, 0.0006483694473655456, 0.0004862770855241592, 0.31802521393280014, 0.04237222150203098, 0.0004507683138513934, 0.40050764685696305, 0.0004507683138513934, 0.0004507683138513934, 0.554332333958751, 0.00033807623538854506, 0.0004507683138513934, 0.00033807623538854506, 0.00033807623538854506, 0.0016042744882083333, 0.0016042744882083333, 0.00120320586615625, 0.0016042744882083333, 0.0016042744882083333, 0.00120320586615625, 0.9870298788701771, 0.0016042744882083333, 0.00120320586615625, 0.00120320586615625, 0.0005968827686156054, 0.0005968827686156054, 0.0004476620764617041, 0.9953020166665221, 0.0005968827686156054, 0.0004476620764617041, 0.0004476620764617041, 0.0005968827686156054, 0.0004476620764617041, 0.0004476620764617041, 0.0003294432356913851, 0.0003294432356913851, 0.00024708242676853883, 0.6215770249407209, 0.0003294432356913851, 0.3760594535417161, 0.00024708242676853883, 0.0003294432356913851, 0.00024708242676853883, 0.00024708242676853883, 0.0019189487053076694, 0.0019189487053076694, 0.0014392115289807521, 0.0019189487053076694, 0.0019189487053076694, 0.0014392115289807521, 0.0014392115289807521, 0.0019189487053076694, 0.9844206858228345, 0.0014392115289807521, 0.000800920756035923, 0.000800920756035923, 0.0006006905670269423, 0.000800920756035923, 0.9935421978625625, 0.0006006905670269423, 0.0006006905670269423, 0.000800920756035923, 0.0006006905670269423, 0.0006006905670269423, 0.996978585206032, 0.0003759700519302468, 0.00028197753894768513, 0.0003759700519302468, 0.0003759700519302468, 0.00028197753894768513, 0.00028197753894768513, 0.0003759700519302468, 0.00028197753894768513, 0.00028197753894768513, 0.0011255278846533968, 0.0011255278846533968, 0.0008441459134900477, 0.0011255278846533968, 0.991027302437316, 0.0008441459134900477, 0.0008441459134900477, 0.0011255278846533968, 0.0008441459134900477, 0.0008441459134900477, 0.038908760755219984, 0.0004564077507943693, 0.000342305813095777, 0.0004564077507943693, 0.0004564077507943693, 0.000342305813095777, 0.000342305813095777, 0.9578857669796826, 0.000342305813095777, 0.000342305813095777, 0.007829733569088152, 0.010096235391718932, 0.0010302281011958095, 0.0008241824809566476, 0.0008241824809566476, 0.0006181368607174857, 0.0006181368607174857, 0.9766562399336274, 0.0006181368607174857, 0.0006181368607174857, 0.00040636890115541965, 0.9968229145342444, 0.00030477667586656474, 0.00040636890115541965, 0.00040636890115541965, 0.00030477667586656474, 0.00030477667586656474, 0.00040636890115541965, 0.00030477667586656474, 0.00030477667586656474, 0.0006470164315685825, 0.9949495176445877, 0.00048526232367643687, 0.0006470164315685825, 0.0006470164315685825, 0.00048526232367643687, 0.00048526232367643687, 0.0006470164315685825, 0.00048526232367643687, 0.00048526232367643687, 0.0006419668344596462, 0.9948881017038368, 0.0004814751258447347, 0.0006419668344596462, 0.0006419668344596462, 0.0004814751258447347, 0.0004814751258447347, 0.0006419668344596462, 0.0004814751258447347, 0.0004814751258447347, 0.4179731300235083, 0.5216174890958317, 6.488586753275679e-05, 0.05487181531020132, 0.005104354912576867, 6.488586753275679e-05, 6.488586753275679e-05, 8.651449004367571e-05, 6.488586753275679e-05, 6.488586753275679e-05, 0.998985261274705, 0.0001281736285956768, 9.613022144675761e-05, 0.0001281736285956768, 0.0001281736285956768, 9.613022144675761e-05, 9.613022144675761e-05, 0.0001281736285956768, 9.613022144675761e-05, 9.613022144675761e-05, 0.75448426213637, 9.355971604577888e-05, 0.004921241064007969, 0.00013098360246409043, 7.48477728366231e-05, 0.08126596935736353, 0.15882697395931422, 7.48477728366231e-05, 5.613582962746733e-05, 5.613582962746733e-05, 0.6786614208499121, 0.001640025147572722, 0.13859400921009482, 0.025622421870773834, 9.507392159841868e-05, 7.130544119881401e-05, 0.15508933460742047, 9.507392159841868e-05, 7.130544119881401e-05, 7.130544119881401e-05, 0.0034535254944761886, 0.0034535254944761886, 0.0025901441208571415, 0.0034535254944761886, 0.0034535254944761886, 0.0025901441208571415, 0.0025901441208571415, 0.0034535254944761886, 0.0025901441208571415, 0.9721674266950471, 0.003167156864301825, 0.00033338493308440265, 0.0004167311663555033, 0.00033338493308440265, 0.00033338493308440265, 0.025670639847499004, 0.9689833080098162, 0.00033338493308440265, 0.000250038699813302, 0.000250038699813302, 0.0004447584872926926, 0.0004447584872926926, 0.00033356886546951947, 0.0004447584872926926, 0.0004447584872926926, 0.00033356886546951947, 0.9964813907792778, 0.0004447584872926926, 0.00033356886546951947, 0.00033356886546951947, 0.0014516623544851067, 0.0014516623544851067, 0.00108874676586383, 0.0014516623544851067, 0.0014516623544851067, 0.9882191478157364, 0.00108874676586383, 0.0014516623544851067, 0.00108874676586383, 0.00108874676586383, 0.9163275601532006, 0.0023742359499016033, 0.024896080293085866, 0.03847355237487611, 5.464993235067629e-05, 0.0038740729821923857, 0.013935732749422454, 2.4288858822522794e-05, 1.8216644116892097e-05, 1.8216644116892097e-05, 0.941876412934211, 0.0003956466491364408, 0.05035263021343103, 0.00010550577310305088, 0.00010550577310305088, 0.0029805380901611876, 0.003930090048088646, 0.00010550577310305088, 7.912932982728816e-05, 7.912932982728816e-05, 0.9985845570186273, 0.00018020112912002658, 0.00013515084684001993, 0.00018020112912002658, 0.00018020112912002658, 0.00013515084684001993, 0.00013515084684001993, 0.00018020112912002658, 0.00013515084684001993, 0.00013515084684001993, 0.9996430320443329, 4.4701256868870464e-05, 3.352594265165284e-05, 4.4701256868870464e-05, 4.4701256868870464e-05, 3.352594265165284e-05, 3.352594265165284e-05, 4.4701256868870464e-05, 3.352594265165284e-05, 3.352594265165284e-05, 0.0018660689008337297, 0.0018660689008337297, 0.0013995516756252972, 0.0018660689008337297, 0.0018660689008337297, 0.0013995516756252972, 0.0013995516756252972, 0.9852843796402093, 0.0013995516756252972, 0.0013995516756252972, 0.0021101456670316967, 0.0021101456670316967, 0.0015826092502737724, 0.9833278808367707, 0.0021101456670316967, 0.0015826092502737724, 0.0015826092502737724, 0.0021101456670316967, 0.0015826092502737724, 0.0015826092502737724, 0.5687480369318562, 0.000182774334998588, 0.000137080751248941, 0.35097241678103863, 0.000182774334998588, 0.07914128705438861, 0.000137080751248941, 0.000182774334998588, 0.000137080751248941, 0.000137080751248941, 0.0003727939120857484, 0.4402696101732689, 0.10717824972465267, 0.0003727939120857484, 0.4502418473215627, 0.00027959543406431135, 0.00027959543406431135, 0.0003727939120857484, 0.00027959543406431135, 0.00027959543406431135, 0.0007274873366323084, 0.0007274873366323084, 0.0005456155024742312, 0.0007274873366323084, 0.0007274873366323084, 0.0005456155024742312, 0.0005456155024742312, 0.0007274873366323084, 0.0005456155024742312, 0.9941114455080494, 0.5337881284890058, 0.394192004488058, 0.04712196889518842, 0.024548210162822992, 4.8157351962379577e-05, 0.00014447205588713873, 3.611801397178468e-05, 4.8157351962379577e-05, 3.611801397178468e-05, 3.611801397178468e-05, 0.0002519110517545615, 0.9458630215754397, 0.00018893328881592112, 0.0002519110517545615, 0.0002519110517545615, 0.00018893328881592112, 0.05233452100201015, 0.0002519110517545615, 0.00018893328881592112, 0.00018893328881592112, 0.0009128296414302714, 0.0009128296414302714, 0.9927022350554202, 0.0009128296414302714, 0.0009128296414302714, 0.0006846222310727036, 0.0006846222310727036, 0.0009128296414302714, 0.0006846222310727036, 0.0006846222310727036, 0.0017453702042813297, 0.0017453702042813297, 0.0013090276532109974, 0.0017453702042813297, 0.0017453702042813297, 0.0013090276532109974, 0.0013090276532109974, 0.0017453702042813297, 0.985697822867881, 0.0013090276532109974, 0.0030563981073504845, 0.0030563981073504845, 0.0022922985805128634, 0.0030563981073504845, 0.0030563981073504845, 0.0022922985805128634, 0.0022922985805128634, 0.0030563981073504845, 0.0022922985805128634, 0.9757550957716422, 0.0010226764199250693, 0.0010226764199250693, 0.0007670073149438018, 0.9917404582223358, 0.0010226764199250693, 0.0007670073149438018, 0.0007670073149438018, 0.0010226764199250693, 0.0007670073149438018, 0.0007670073149438018, 0.0015672513293900163, 0.0015672513293900163, 0.0011754384970425124, 0.0015672513293900163, 0.0015672513293900163, 0.0011754384970425124, 0.0011754384970425124, 0.0015672513293900163, 0.9873683375157103, 0.0011754384970425124, 0.13962216157310245, 0.8569399701946333, 7.958701970725961e-05, 0.002812074696323173, 0.00010611602627634616, 7.958701970725961e-05, 7.958701970725961e-05, 0.00010611602627634616, 7.958701970725961e-05, 7.958701970725961e-05, 6.08385105933853e-05, 0.999515890538727, 4.562888294503897e-05, 6.08385105933853e-05, 6.08385105933853e-05, 4.562888294503897e-05, 4.562888294503897e-05, 6.08385105933853e-05, 4.562888294503897e-05, 4.562888294503897e-05, 0.0014421481835895748, 0.00115371854687166, 0.0008652889101537449, 0.00115371854687166, 0.00115371854687166, 0.0008652889101537449, 0.0008652889101537449, 0.9904673724893199, 0.0008652889101537449, 0.0008652889101537449, 0.8007652558397371, 0.1341424162648536, 0.06479091444663299, 5.0956283481425865e-05, 5.0956283481425865e-05, 3.82172126110694e-05, 3.82172126110694e-05, 5.0956283481425865e-05, 3.82172126110694e-05, 3.82172126110694e-05, 0.0008392784496666876, 0.9932860451805248, 0.0006294588372500157, 0.0008392784496666876, 0.0008392784496666876, 0.0006294588372500157, 0.0006294588372500157, 0.0008392784496666876, 0.0006294588372500157, 0.0006294588372500157, 0.0008423930807573682, 0.0008423930807573682, 0.0006317948105680262, 0.0008423930807573682, 0.0008423930807573682, 0.0006317948105680262, 0.0006317948105680262, 0.0008423930807573682, 0.9931814422129371, 0.0006317948105680262, 0.0014394126479823112, 0.0014394126479823112, 0.0010795594859867334, 0.0014394126479823112, 0.0014394126479823112, 0.0010795594859867334, 0.0010795594859867334, 0.0014394126479823112, 0.9885166360018522, 0.0010795594859867334, 0.0007317082681488397, 0.0007317082681488397, 0.0005487812011116298, 0.0007317082681488397, 0.0007317082681488397, 0.0005487812011116298, 0.9942086093472359, 0.0007317082681488397, 0.0005487812011116298, 0.0005487812011116298, 0.6914632763757744, 0.16337238585973343, 0.11421986862013749, 0.030649211415315188, 5.688948754582866e-05, 4.266711565937149e-05, 4.266711565937149e-05, 5.688948754582866e-05, 4.266711565937149e-05, 4.266711565937149e-05, 0.001716515031269944, 0.001716515031269944, 0.001287386273452458, 0.9861378854645828, 0.001716515031269944, 0.001287386273452458, 0.001287386273452458, 0.001716515031269944, 0.001287386273452458, 0.001287386273452458, 0.003062106089423072, 0.003062106089423072, 0.002296579567067304, 0.003062106089423072, 0.003062106089423072, 0.002296579567067304, 0.002296579567067304, 0.003062106089423072, 0.002296579567067304, 0.9752807894812484, 0.003061480432819766, 0.003061480432819766, 0.0022961103246148242, 0.003061480432819766, 0.003061480432819766, 0.0022961103246148242, 0.0022961103246148242, 0.003061480432819766, 0.0022961103246148242, 0.9758468879613004, 0.647432425691055, 0.09719918789339484, 0.2366862524308149, 6.292838786313274e-05, 0.003435889977327048, 0.004291716052265653, 0.002592649579961069, 5.0342710290506194e-05, 3.7757032717879646e-05, 0.008218447454925136, 0.0010080106890361215, 0.0010080106890361215, 0.9901184993057304, 0.0010080106890361215, 0.0010080106890361215, 0.002772029394849334, 0.0007560080167770911, 0.0010080106890361215, 0.0007560080167770911, 0.0007560080167770911, 0.9984522529704394, 0.00019246344811728387, 0.0001443475860879629, 0.00019246344811728387, 0.00019246344811728387, 0.0001443475860879629, 0.0001443475860879629, 0.00019246344811728387, 0.0001443475860879629, 0.0001443475860879629, 0.0011754858152487845, 0.0011754858152487845, 0.9906406708009131, 0.0011754858152487845, 0.0011754858152487845, 0.0008816143614365884, 0.0008816143614365884, 0.0011754858152487845, 0.0008816143614365884, 0.0008816143614365884, 0.0019821231788924513, 0.0019821231788924513, 0.0014865923841693386, 0.0019821231788924513, 0.0019821231788924513, 0.0014865923841693386, 0.0014865923841693386, 0.0019821231788924513, 0.0014865923841693386, 0.9841241583201021, 0.0006539276409849204, 0.9947874238483102, 0.0004904457307386903, 0.0006539276409849204, 0.0006539276409849204, 0.0004904457307386903, 0.0004904457307386903, 0.0006539276409849204, 0.0004904457307386903, 0.0004904457307386903, 0.0006054544350676762, 0.0006054544350676762, 0.00045409082630075713, 0.0006054544350676762, 0.0006054544350676762, 0.9950643640337258, 0.00045409082630075713, 0.0006054544350676762, 0.00045409082630075713, 0.00045409082630075713, 0.002671511191925487, 0.002671511191925487, 0.002003633393944115, 0.002671511191925487, 0.002671511191925487, 0.002003633393944115, 0.002003633393944115, 0.002671511191925487, 0.002003633393944115, 0.9784409740427096, 0.0021316641266977245, 0.023120357066490703, 0.0004919224907763979, 0.0006558966543685306, 0.0006558966543685306, 0.9705630743018331, 0.0004919224907763979, 0.0006558966543685306, 0.0004919224907763979, 0.0004919224907763979, 0.001841923795533343, 0.001841923795533343, 0.0013814428466500074, 0.001841923795533343, 0.001841923795533343, 0.0013814428466500074, 0.9854292306103385, 0.001841923795533343, 0.0013814428466500074, 0.0013814428466500074, 0.0009933322387245844, 0.0009933322387245844, 0.0007449991790434382, 0.0009933322387245844, 0.0009933322387245844, 0.0007449991790434382, 0.9920905734261786, 0.0009933322387245844, 0.0007449991790434382, 0.0007449991790434382, 0.001698475147057188, 0.001698475147057188, 0.0012738563602928909, 0.9863894416534619, 0.001698475147057188, 0.0012738563602928909, 0.0012738563602928909, 0.001698475147057188, 0.0012738563602928909, 0.0012738563602928909, 0.000745836477768011, 0.000745836477768011, 0.0005593773583260082, 0.000745836477768011, 0.000745836477768011, 0.0005593773583260082, 0.9940135657453166, 0.000745836477768011, 0.0005593773583260082, 0.0005593773583260082, 0.9975433440842026, 0.0003013270938179135, 0.00022599532036343513, 0.0003013270938179135, 0.0003013270938179135, 0.00022599532036343513, 0.0003013270938179135, 0.0003013270938179135, 0.00022599532036343513, 0.00022599532036343513, 0.601019740378754, 8.154948987500055e-05, 6.11621174062504e-05, 8.154948987500055e-05, 8.154948987500055e-05, 6.11621174062504e-05, 0.3983896454118464, 8.154948987500055e-05, 6.11621174062504e-05, 6.11621174062504e-05, 0.0018573318897376948, 0.0018573318897376948, 0.001392998917303271, 0.0018573318897376948, 0.9853145675058471, 0.001392998917303271, 0.001392998917303271, 0.0018573318897376948, 0.001392998917303271, 0.001392998917303271, 0.0006214275154478213, 0.9950608091108237, 0.0004660706365858659, 0.0006214275154478213, 0.0006214275154478213, 0.0004660706365858659, 0.0004660706365858659, 0.0006214275154478213, 0.0004660706365858659, 0.0004660706365858659, 0.0002662183441180012, 0.1967353563032029, 0.6612198122030855, 0.14036362193621613, 0.0002662183441180012, 0.0002662183441180012, 0.0001996637580885009, 0.0002662183441180012, 0.0001996637580885009, 0.0001996637580885009, 0.40577027277861644, 0.001260351833448102, 0.23310207159622645, 0.01285558870117064, 0.0002520703666896204, 0.3148989055870083, 0.0001890527750172153, 0.03125672546951293, 0.0001890527750172153, 0.0001890527750172153, 0.0020203827181772805, 0.0020203827181772805, 0.0015152870386329603, 0.0020203827181772805, 0.0020203827181772805, 0.0015152870386329603, 0.0015152870386329603, 0.0020203827181772805, 0.0015152870386329603, 0.9839263837523355, 0.0016002490736003808, 0.0016002490736003808, 0.0012001868052002856, 0.0016002490736003808, 0.0016002490736003808, 0.0012001868052002856, 0.0012001868052002856, 0.987353678411435, 0.0012001868052002856, 0.0012001868052002856, 0.0004329973699150891, 0.0004329973699150891, 0.0003247480274363168, 0.0004329973699150891, 0.0004329973699150891, 0.0003247480274363168, 0.0003247480274363168, 0.0004329973699150891, 0.9965434468595775, 0.0003247480274363168, 0.9845059394759895, 0.0001704624603023097, 0.00012784684522673225, 0.0001704624603023097, 0.0001704624603023097, 0.00012784684522673225, 0.014318846665394014, 0.0001704624603023097, 0.00012784684522673225, 0.00012784684522673225, 0.0011890519264362114, 0.0011890519264362114, 0.0008917889448271586, 0.0011890519264362114, 0.9904802547213641, 0.0008917889448271586, 0.0008917889448271586, 0.0011890519264362114, 0.0008917889448271586, 0.0008917889448271586, 0.00027592457758571427, 0.00027592457758571427, 0.00020694343318928573, 0.00027592457758571427, 0.00027592457758571427, 0.00020694343318928573, 0.00020694343318928573, 0.00027592457758571427, 0.9977432725499429, 0.00020694343318928573, 0.1900815449485075, 0.8058446934863625, 0.00012846240929162482, 0.002997456216804579, 0.0001712832123888331, 0.00012846240929162482, 0.00012846240929162482, 0.00021410401548604136, 0.00012846240929162482, 0.00012846240929162482, 0.42630501752467115, 0.5632325179671759, 9.14883076453261e-05, 0.0020127427681971744, 0.006282197124979059, 9.14883076453261e-05, 9.14883076453261e-05, 0.001677285640164312, 9.14883076453261e-05, 9.14883076453261e-05, 0.0013245511840189969, 0.0013245511840189969, 0.0009934133880142478, 0.0013245511840189969, 0.0013245511840189969, 0.0009934133880142478, 0.9894397344621907, 0.0013245511840189969, 0.0009934133880142478, 0.0009934133880142478], \"Term\": [\"absolutely\", \"absolutely\", \"absolutely\", \"absolutely\", \"absolutely\", \"absolutely\", \"absolutely\", \"absolutely\", \"absolutely\", \"absolutely\", \"acids\", \"acids\", \"acids\", \"acids\", \"acids\", \"acids\", \"acids\", \"acids\", \"acids\", \"acids\", \"add\", \"add\", \"add\", \"add\", \"add\", \"add\", \"add\", \"add\", \"add\", \"add\", \"added\", \"added\", \"added\", \"added\", \"added\", \"added\", \"added\", \"added\", \"added\", \"added\", \"afraid\", \"afraid\", \"afraid\", \"afraid\", \"afraid\", \"afraid\", \"afraid\", \"afraid\", \"afraid\", \"afraid\", \"aftertaste\", \"aftertaste\", \"aftertaste\", \"aftertaste\", \"aftertaste\", \"aftertaste\", \"aftertaste\", \"aftertaste\", \"aftertaste\", \"aftertaste\", \"allergies\", \"allergies\", \"allergies\", \"allergies\", \"allergies\", \"allergies\", \"allergies\", \"allergies\", \"allergies\", \"allergies\", \"almonds\", \"almonds\", \"almonds\", \"almonds\", \"almonds\", \"almonds\", \"almonds\", \"almonds\", \"almonds\", \"almonds\", \"alternative\", \"alternative\", \"alternative\", \"alternative\", \"alternative\", \"alternative\", \"alternative\", \"alternative\", \"alternative\", \"alternative\", \"amazon\", \"amazon\", \"amazon\", \"amazon\", \"amazon\", \"amazon\", \"amazon\", \"amazon\", \"amazon\", \"amazon\", \"apparently\", \"apparently\", \"apparently\", \"apparently\", \"apparently\", \"apparently\", \"apparently\", \"apparently\", \"apparently\", \"apparently\", \"apple\", \"apple\", \"apple\", \"apple\", \"apple\", \"apple\", \"apple\", \"apple\", \"apple\", \"apple\", \"aroma\", \"aroma\", \"aroma\", \"aroma\", \"aroma\", \"aroma\", \"aroma\", \"aroma\", \"aroma\", \"aroma\", \"arrived\", \"arrived\", \"arrived\", \"arrived\", \"arrived\", \"arrived\", \"arrived\", \"arrived\", \"arrived\", \"arrived\", \"asian\", \"asian\", \"asian\", \"asian\", \"asian\", \"asian\", \"asian\", \"asian\", \"asian\", \"asian\", \"awful\", \"awful\", \"awful\", \"awful\", \"awful\", \"awful\", \"awful\", \"awful\", \"awful\", \"awful\", \"babies\", \"babies\", \"babies\", \"babies\", \"babies\", \"babies\", \"babies\", \"babies\", \"babies\", \"babies\", \"baby\", \"baby\", \"baby\", \"baby\", \"baby\", \"baby\", \"baby\", \"baby\", \"baby\", \"baby\", \"bag\", \"bag\", \"bag\", \"bag\", \"bag\", \"bag\", \"bag\", \"bag\", \"bag\", \"bag\", \"bags\", \"bags\", \"bags\", \"bags\", \"bags\", \"bags\", \"bags\", \"bags\", \"bags\", \"bags\", \"baking\", \"baking\", \"baking\", \"baking\", \"baking\", \"baking\", \"baking\", \"baking\", \"baking\", \"baking\", \"ball\", \"ball\", \"ball\", \"ball\", \"ball\", \"ball\", \"ball\", \"ball\", \"ball\", \"ball\", \"banana\", \"banana\", \"banana\", \"banana\", \"banana\", \"banana\", \"banana\", \"banana\", \"banana\", \"banana\", \"bars\", \"bars\", \"bars\", \"bars\", \"bars\", \"bars\", \"bars\", \"bars\", \"bars\", \"bars\", \"basket\", \"basket\", \"basket\", \"basket\", \"basket\", \"basket\", \"basket\", \"basket\", \"basket\", \"basket\", \"bath\", \"bath\", \"bath\", \"bath\", \"bath\", \"bath\", \"bath\", \"bath\", \"bath\", \"bath\", \"beans\", \"beans\", \"beans\", \"beans\", \"beans\", \"beans\", \"beans\", \"beans\", \"beans\", \"beans\", \"bed\", \"bed\", \"bed\", \"bed\", \"bed\", \"bed\", \"bed\", \"bed\", \"bed\", \"bed\", \"beef\", \"beef\", \"beef\", \"beef\", \"beef\", \"beef\", \"beef\", \"beef\", \"beef\", \"beef\", \"best\", \"best\", \"best\", \"best\", \"best\", \"best\", \"best\", \"best\", \"best\", \"best\", \"better\", \"better\", \"better\", \"better\", \"better\", \"better\", \"better\", \"better\", \"better\", \"better\", \"beverage\", \"beverage\", \"beverage\", \"beverage\", \"beverage\", \"beverage\", \"beverage\", \"beverage\", \"beverage\", \"beverage\", \"bigger\", \"bigger\", \"bigger\", \"bigger\", \"bigger\", \"bigger\", \"bigger\", \"bigger\", \"bigger\", \"bigger\", \"birthday\", \"birthday\", \"birthday\", \"birthday\", \"birthday\", \"birthday\", \"birthday\", \"birthday\", \"birthday\", \"birthday\", \"bisquick\", \"bisquick\", \"bisquick\", \"bisquick\", \"bisquick\", \"bisquick\", \"bisquick\", \"bisquick\", \"bisquick\", \"bisquick\", \"bit\", \"bit\", \"bit\", \"bit\", \"bit\", \"bit\", \"bit\", \"bit\", \"bit\", \"bit\", \"bitter\", \"bitter\", \"bitter\", \"bitter\", \"bitter\", \"bitter\", \"bitter\", \"bitter\", \"bitter\", \"bitter\", \"black\", \"black\", \"black\", \"black\", \"black\", \"black\", \"black\", \"black\", \"black\", \"black\", \"blend\", \"blend\", \"blend\", \"blend\", \"blend\", \"blend\", \"blend\", \"blend\", \"blend\", \"blend\", \"bold\", \"bold\", \"bold\", \"bold\", \"bold\", \"bold\", \"bold\", \"bold\", \"bold\", \"bold\", \"bone\", \"bone\", \"bone\", \"bone\", \"bone\", \"bone\", \"bone\", \"bone\", \"bone\", \"bone\", \"bones\", \"bones\", \"bones\", \"bones\", \"bones\", \"bones\", \"bones\", \"bones\", \"bones\", \"bones\", \"bottle\", \"bottle\", \"bottle\", \"bottle\", \"bottle\", \"bottle\", \"bottle\", \"bottle\", \"bottle\", \"bottle\", \"bought\", \"bought\", \"bought\", \"bought\", \"bought\", \"bought\", \"bought\", \"bought\", \"bought\", \"bought\", \"box\", \"box\", \"box\", \"box\", \"box\", \"box\", \"box\", \"box\", \"box\", \"box\", \"boxes\", \"boxes\", \"boxes\", \"boxes\", \"boxes\", \"boxes\", \"boxes\", \"boxes\", \"boxes\", \"boxes\", \"bread\", \"bread\", \"bread\", \"bread\", \"bread\", \"bread\", \"bread\", \"bread\", \"bread\", \"bread\", \"break\", \"break\", \"break\", \"break\", \"break\", \"break\", \"break\", \"break\", \"break\", \"break\", \"brew\", \"brew\", \"brew\", \"brew\", \"brew\", \"brew\", \"brew\", \"brew\", \"brew\", \"brew\", \"brewers\", \"brewers\", \"brewers\", \"brewers\", \"brewers\", \"brewers\", \"brewers\", \"brewers\", \"brewers\", \"brewers\", \"broken\", \"broken\", \"broken\", \"broken\", \"broken\", \"broken\", \"broken\", \"broken\", \"broken\", \"broken\", \"brownies\", \"brownies\", \"brownies\", \"brownies\", \"brownies\", \"brownies\", \"brownies\", \"brownies\", \"brownies\", \"brownies\", \"buffalo\", \"buffalo\", \"buffalo\", \"buffalo\", \"buffalo\", \"buffalo\", \"buffalo\", \"buffalo\", \"buffalo\", \"buffalo\", \"business\", \"business\", \"business\", \"business\", \"business\", \"business\", \"business\", \"business\", \"business\", \"business\", \"butter\", \"butter\", \"butter\", \"butter\", \"butter\", \"butter\", \"butter\", \"butter\", \"butter\", \"butter\", \"buy\", \"buy\", \"buy\", \"buy\", \"buy\", \"buy\", \"buy\", \"buy\", \"buy\", \"buy\", \"cake\", \"cake\", \"cake\", \"cake\", \"cake\", \"cake\", \"cake\", \"cake\", \"cake\", \"cake\", \"calcium\", \"calcium\", \"calcium\", \"calcium\", \"calcium\", \"calcium\", \"calcium\", \"calcium\", \"calcium\", \"calcium\", \"calorie\", \"calorie\", \"calorie\", \"calorie\", \"calorie\", \"calorie\", \"calorie\", \"calorie\", \"calorie\", \"calorie\", \"calories\", \"calories\", \"calories\", \"calories\", \"calories\", \"calories\", \"calories\", \"calories\", \"calories\", \"calories\", \"candies\", \"candies\", \"candies\", \"candies\", \"candies\", \"candies\", \"candies\", \"candies\", \"candies\", \"candies\", \"candy\", \"candy\", \"candy\", \"candy\", \"candy\", \"candy\", \"candy\", \"candy\", \"candy\", \"candy\", \"cans\", \"cans\", \"cans\", \"cans\", \"cans\", \"cans\", \"cans\", \"cans\", \"cans\", \"cans\", \"carbonated\", \"carbonated\", \"carbonated\", \"carbonated\", \"carbonated\", \"carbonated\", \"carbonated\", \"carbonated\", \"carbonated\", \"carbonated\", \"carbonation\", \"carbonation\", \"carbonation\", \"carbonation\", \"carbonation\", \"carbonation\", \"carbonation\", \"carbonation\", \"carbonation\", \"carbonation\", \"carbs\", \"carbs\", \"carbs\", \"carbs\", \"carbs\", \"carbs\", \"carbs\", \"carbs\", \"carbs\", \"carbs\", \"carrying\", \"carrying\", \"carrying\", \"carrying\", \"carrying\", \"carrying\", \"carrying\", \"carrying\", \"carrying\", \"carrying\", \"cat\", \"cat\", \"cat\", \"cat\", \"cat\", \"cat\", \"cat\", \"cat\", \"cat\", \"cat\", \"cats\", \"cats\", \"cats\", \"cats\", \"cats\", \"cats\", \"cats\", \"cats\", \"cats\", \"cats\", \"celiac\", \"celiac\", \"celiac\", \"celiac\", \"celiac\", \"celiac\", \"celiac\", \"celiac\", \"celiac\", \"celiac\", \"cents\", \"cents\", \"cents\", \"cents\", \"cents\", \"cents\", \"cents\", \"cents\", \"cents\", \"cents\", \"cereal\", \"cereal\", \"cereal\", \"cereal\", \"cereal\", \"cereal\", \"cereal\", \"cereal\", \"cereal\", \"cereal\", \"changed\", \"changed\", \"changed\", \"changed\", \"changed\", \"changed\", \"changed\", \"changed\", \"changed\", \"changed\", \"cheddar\", \"cheddar\", \"cheddar\", \"cheddar\", \"cheddar\", \"cheddar\", \"cheddar\", \"cheddar\", \"cheddar\", \"cheddar\", \"cheese\", \"cheese\", \"cheese\", \"cheese\", \"cheese\", \"cheese\", \"cheese\", \"cheese\", \"cheese\", \"cheese\", \"cherry\", \"cherry\", \"cherry\", \"cherry\", \"cherry\", \"cherry\", \"cherry\", \"cherry\", \"cherry\", \"cherry\", \"chestnuts\", \"chestnuts\", \"chestnuts\", \"chestnuts\", \"chestnuts\", \"chestnuts\", \"chestnuts\", \"chestnuts\", \"chestnuts\", \"chestnuts\", \"chew\", \"chew\", \"chew\", \"chew\", \"chew\", \"chew\", \"chew\", \"chew\", \"chew\", \"chew\", \"chia\", \"chia\", \"chia\", \"chia\", \"chia\", \"chia\", \"chia\", \"chia\", \"chia\", \"chia\", \"chicken\", \"chicken\", \"chicken\", \"chicken\", \"chicken\", \"chicken\", \"chicken\", \"chicken\", \"chicken\", \"chicken\", \"chili\", \"chili\", \"chili\", \"chili\", \"chili\", \"chili\", \"chili\", \"chili\", \"chili\", \"chili\", \"china\", \"china\", \"china\", \"china\", \"china\", \"china\", \"china\", \"china\", \"china\", \"china\", \"chip\", \"chip\", \"chip\", \"chip\", \"chip\", \"chip\", \"chip\", \"chip\", \"chip\", \"chip\", \"chips\", \"chips\", \"chips\", \"chips\", \"chips\", \"chips\", \"chips\", \"chips\", \"chips\", \"chips\", \"chocolate\", \"chocolate\", \"chocolate\", \"chocolate\", \"chocolate\", \"chocolate\", \"chocolate\", \"chocolate\", \"chocolate\", \"chocolate\", \"christmas\", \"christmas\", \"christmas\", \"christmas\", \"christmas\", \"christmas\", \"christmas\", \"christmas\", \"christmas\", \"christmas\", \"cocoa\", \"cocoa\", \"cocoa\", \"cocoa\", \"cocoa\", \"cocoa\", \"cocoa\", \"cocoa\", \"cocoa\", \"cocoa\", \"coconut\", \"coconut\", \"coconut\", \"coconut\", \"coconut\", \"coconut\", \"coconut\", \"coconut\", \"coconut\", \"coconut\", \"coffee\", \"coffee\", \"coffee\", \"coffee\", \"coffee\", \"coffee\", \"coffee\", \"coffee\", \"coffee\", \"coffee\", \"coffees\", \"coffees\", \"coffees\", \"coffees\", \"coffees\", \"coffees\", \"coffees\", \"coffees\", \"coffees\", \"coffees\", \"colors\", \"colors\", \"colors\", \"colors\", \"colors\", \"colors\", \"colors\", \"colors\", \"colors\", \"colors\", \"com\", \"com\", \"com\", \"com\", \"com\", \"com\", \"com\", \"com\", \"com\", \"com\", \"company\", \"company\", \"company\", \"company\", \"company\", \"company\", \"company\", \"company\", \"company\", \"company\", \"complaint\", \"complaint\", \"complaint\", \"complaint\", \"complaint\", \"complaint\", \"complaint\", \"complaint\", \"complaint\", \"complaint\", \"concerns\", \"concerns\", \"concerns\", \"concerns\", \"concerns\", \"concerns\", \"concerns\", \"concerns\", \"concerns\", \"concerns\", \"condition\", \"condition\", \"condition\", \"condition\", \"condition\", \"condition\", \"condition\", \"condition\", \"condition\", \"condition\", \"contains\", \"contains\", \"contains\", \"contains\", \"contains\", \"contains\", \"contains\", \"contains\", \"contains\", \"contains\", \"cook\", \"cook\", \"cook\", \"cook\", \"cook\", \"cook\", \"cook\", \"cook\", \"cook\", \"cook\", \"cookie\", \"cookie\", \"cookie\", \"cookie\", \"cookie\", \"cookie\", \"cookie\", \"cookie\", \"cookie\", \"cookie\", \"cookies\", \"cookies\", \"cookies\", \"cookies\", \"cookies\", \"cookies\", \"cookies\", \"cookies\", \"cookies\", \"cookies\", \"corn\", \"corn\", \"corn\", \"corn\", \"corn\", \"corn\", \"corn\", \"corn\", \"corn\", \"corn\", \"cow\", \"cow\", \"cow\", \"cow\", \"cow\", \"cow\", \"cow\", \"cow\", \"cow\", \"cow\", \"cracker\", \"cracker\", \"cracker\", \"cracker\", \"cracker\", \"cracker\", \"cracker\", \"cracker\", \"cracker\", \"cracker\", \"crackers\", \"crackers\", \"crackers\", \"crackers\", \"crackers\", \"crackers\", \"crackers\", \"crackers\", \"crackers\", \"crackers\", \"craving\", \"craving\", \"craving\", \"craving\", \"craving\", \"craving\", \"craving\", \"craving\", \"craving\", \"craving\", \"cream\", \"cream\", \"cream\", \"cream\", \"cream\", \"cream\", \"cream\", \"cream\", \"cream\", \"cream\", \"created\", \"created\", \"created\", \"created\", \"created\", \"created\", \"created\", \"created\", \"created\", \"created\", \"crisp\", \"crisp\", \"crisp\", \"crisp\", \"crisp\", \"crisp\", \"crisp\", \"crisp\", \"crisp\", \"crisp\", \"crispy\", \"crispy\", \"crispy\", \"crispy\", \"crispy\", \"crispy\", \"crispy\", \"crispy\", \"crispy\", \"crispy\", \"crunchy\", \"crunchy\", \"crunchy\", \"crunchy\", \"crunchy\", \"crunchy\", \"crunchy\", \"crunchy\", \"crunchy\", \"crunchy\", \"cup\", \"cup\", \"cup\", \"cup\", \"cup\", \"cup\", \"cup\", \"cup\", \"cup\", \"cup\", \"cups\", \"cups\", \"cups\", \"cups\", \"cups\", \"cups\", \"cups\", \"cups\", \"cups\", \"cups\", \"currently\", \"currently\", \"currently\", \"currently\", \"currently\", \"currently\", \"currently\", \"currently\", \"currently\", \"currently\", \"customer\", \"customer\", \"customer\", \"customer\", \"customer\", \"customer\", \"customer\", \"customer\", \"customer\", \"customer\", \"dad\", \"dad\", \"dad\", \"dad\", \"dad\", \"dad\", \"dad\", \"dad\", \"dad\", \"dad\", \"dairy\", \"dairy\", \"dairy\", \"dairy\", \"dairy\", \"dairy\", \"dairy\", \"dairy\", \"dairy\", \"dairy\", \"dark\", \"dark\", \"dark\", \"dark\", \"dark\", \"dark\", \"dark\", \"dark\", \"dark\", \"dark\", \"date\", \"date\", \"date\", \"date\", \"date\", \"date\", \"date\", \"date\", \"date\", \"date\", \"daughter\", \"daughter\", \"daughter\", \"daughter\", \"daughter\", \"daughter\", \"daughter\", \"daughter\", \"daughter\", \"daughter\", \"days\", \"days\", \"days\", \"days\", \"days\", \"days\", \"days\", \"days\", \"days\", \"days\", \"delicious\", \"delicious\", \"delicious\", \"delicious\", \"delicious\", \"delicious\", \"delicious\", \"delicious\", \"delicious\", \"delicious\", \"delight\", \"delight\", \"delight\", \"delight\", \"delight\", \"delight\", \"delight\", \"delight\", \"delight\", \"delight\", \"delivered\", \"delivered\", \"delivered\", \"delivered\", \"delivered\", \"delivered\", \"delivered\", \"delivered\", \"delivered\", \"delivered\", \"dented\", \"dented\", \"dented\", \"dented\", \"dented\", \"dented\", \"dented\", \"dented\", \"dented\", \"dented\", \"described\", \"described\", \"described\", \"described\", \"described\", \"described\", \"described\", \"described\", \"described\", \"described\", \"diabetic\", \"diabetic\", \"diabetic\", \"diabetic\", \"diabetic\", \"diabetic\", \"diabetic\", \"diabetic\", \"diabetic\", \"diabetic\", \"diamond\", \"diamond\", \"diamond\", \"diamond\", \"diamond\", \"diamond\", \"diamond\", \"diamond\", \"diamond\", \"diamond\", \"dip\", \"dip\", \"dip\", \"dip\", \"dip\", \"dip\", \"dip\", \"dip\", \"dip\", \"dip\", \"directions\", \"directions\", \"directions\", \"directions\", \"directions\", \"directions\", \"directions\", \"directions\", \"directions\", \"directions\", \"disappointment\", \"disappointment\", \"disappointment\", \"disappointment\", \"disappointment\", \"disappointment\", \"disappointment\", \"disappointment\", \"disappointment\", \"disappointment\", \"discount\", \"discount\", \"discount\", \"discount\", \"discount\", \"discount\", \"discount\", \"discount\", \"discount\", \"discount\", \"disease\", \"disease\", \"disease\", \"disease\", \"disease\", \"disease\", \"disease\", \"disease\", \"disease\", \"disease\", \"disposable\", \"disposable\", \"disposable\", \"disposable\", \"disposable\", \"disposable\", \"disposable\", \"disposable\", \"disposable\", \"disposable\", \"dog\", \"dog\", \"dog\", \"dog\", \"dog\", \"dog\", \"dog\", \"dog\", \"dog\", \"dog\", \"dogs\", \"dogs\", \"dogs\", \"dogs\", \"dogs\", \"dogs\", \"dogs\", \"dogs\", \"dogs\", \"dogs\", \"don\", \"don\", \"don\", \"don\", \"don\", \"don\", \"don\", \"don\", \"don\", \"don\", \"doubt\", \"doubt\", \"doubt\", \"doubt\", \"doubt\", \"doubt\", \"doubt\", \"doubt\", \"doubt\", \"doubt\", \"dressing\", \"dressing\", \"dressing\", \"dressing\", \"dressing\", \"dressing\", \"dressing\", \"dressing\", \"dressing\", \"dressing\", \"drink\", \"drink\", \"drink\", \"drink\", \"drink\", \"drink\", \"drink\", \"drink\", \"drink\", \"drink\", \"drinker\", \"drinker\", \"drinker\", \"drinker\", \"drinker\", \"drinker\", \"drinker\", \"drinker\", \"drinker\", \"drinker\", \"drinking\", \"drinking\", \"drinking\", \"drinking\", \"drinking\", \"drinking\", \"drinking\", \"drinking\", \"drinking\", \"drinking\", \"drop\", \"drop\", \"drop\", \"drop\", \"drop\", \"drop\", \"drop\", \"drop\", \"drop\", \"drop\", \"easy\", \"easy\", \"easy\", \"easy\", \"easy\", \"easy\", \"easy\", \"easy\", \"easy\", \"easy\", \"eat\", \"eat\", \"eat\", \"eat\", \"eat\", \"eat\", \"eat\", \"eat\", \"eat\", \"eat\", \"eating\", \"eating\", \"eating\", \"eating\", \"eating\", \"eating\", \"eating\", \"eating\", \"eating\", \"eating\", \"eats\", \"eats\", \"eats\", \"eats\", \"eats\", \"eats\", \"eats\", \"eats\", \"eats\", \"eats\", \"egg\", \"egg\", \"egg\", \"egg\", \"egg\", \"egg\", \"egg\", \"egg\", \"egg\", \"egg\", \"eggs\", \"eggs\", \"eggs\", \"eggs\", \"eggs\", \"eggs\", \"eggs\", \"eggs\", \"eggs\", \"eggs\", \"emeril\", \"emeril\", \"emeril\", \"emeril\", \"emeril\", \"emeril\", \"emeril\", \"emeril\", \"emeril\", \"emeril\", \"end\", \"end\", \"end\", \"end\", \"end\", \"end\", \"end\", \"end\", \"end\", \"end\", \"enjoyable\", \"enjoyable\", \"enjoyable\", \"enjoyable\", \"enjoyable\", \"enjoyable\", \"enjoyable\", \"enjoyable\", \"enjoyable\", \"enjoyable\", \"enjoyed\", \"enjoyed\", \"enjoyed\", \"enjoyed\", \"enjoyed\", \"enjoyed\", \"enjoyed\", \"enjoyed\", \"enjoyed\", \"enjoyed\", \"espresso\", \"espresso\", \"espresso\", \"espresso\", \"espresso\", \"espresso\", \"espresso\", \"espresso\", \"espresso\", \"espresso\", \"exact\", \"exact\", \"exact\", \"exact\", \"exact\", \"exact\", \"exact\", \"exact\", \"exact\", \"exact\", \"expected\", \"expected\", \"expected\", \"expected\", \"expected\", \"expected\", \"expected\", \"expected\", \"expected\", \"expected\", \"expiration\", \"expiration\", \"expiration\", \"expiration\", \"expiration\", \"expiration\", \"expiration\", \"expiration\", \"expiration\", \"expiration\", \"fan\", \"fan\", \"fan\", \"fan\", \"fan\", \"fan\", \"fan\", \"fan\", \"fan\", \"fan\", \"fat\", \"fat\", \"fat\", \"fat\", \"fat\", \"fat\", \"fat\", \"fat\", \"fat\", \"fat\", \"favorite\", \"favorite\", \"favorite\", \"favorite\", \"favorite\", \"favorite\", \"favorite\", \"favorite\", \"favorite\", \"favorite\", \"fed\", \"fed\", \"fed\", \"fed\", \"fed\", \"fed\", \"fed\", \"fed\", \"fed\", \"fed\", \"feed\", \"feed\", \"feed\", \"feed\", \"feed\", \"feed\", \"feed\", \"feed\", \"feed\", \"feed\", \"feeding\", \"feeding\", \"feeding\", \"feeding\", \"feeding\", \"feeding\", \"feeding\", \"feeding\", \"feeding\", \"feeding\", \"fiber\", \"fiber\", \"fiber\", \"fiber\", \"fiber\", \"fiber\", \"fiber\", \"fiber\", \"fiber\", \"fiber\", \"filling\", \"filling\", \"filling\", \"filling\", \"filling\", \"filling\", \"filling\", \"filling\", \"filling\", \"filling\", \"firm\", \"firm\", \"firm\", \"firm\", \"firm\", \"firm\", \"firm\", \"firm\", \"firm\", \"firm\", \"flavor\", \"flavor\", \"flavor\", \"flavor\", \"flavor\", \"flavor\", \"flavor\", \"flavor\", \"flavor\", \"flavor\", \"flavors\", \"flavors\", \"flavors\", \"flavors\", \"flavors\", \"flavors\", \"flavors\", \"flavors\", \"flavors\", \"flavors\", \"floor\", \"floor\", \"floor\", \"floor\", \"floor\", \"floor\", \"floor\", \"floor\", \"floor\", \"floor\", \"flour\", \"flour\", \"flour\", \"flour\", \"flour\", \"flour\", \"flour\", \"flour\", \"flour\", \"flour\", \"follow\", \"follow\", \"follow\", \"follow\", \"follow\", \"follow\", \"follow\", \"follow\", \"follow\", \"follow\", \"fondant\", \"fondant\", \"fondant\", \"fondant\", \"fondant\", \"fondant\", \"fondant\", \"fondant\", \"fondant\", \"fondant\", \"food\", \"food\", \"food\", \"food\", \"food\", \"food\", \"food\", \"food\", \"food\", \"food\", \"foods\", \"foods\", \"foods\", \"foods\", \"foods\", \"foods\", \"foods\", \"foods\", \"foods\", \"foods\", \"formula\", \"formula\", \"formula\", \"formula\", \"formula\", \"formula\", \"formula\", \"formula\", \"formula\", \"formula\", \"forward\", \"forward\", \"forward\", \"forward\", \"forward\", \"forward\", \"forward\", \"forward\", \"forward\", \"forward\", \"free\", \"free\", \"free\", \"free\", \"free\", \"free\", \"free\", \"free\", \"free\", \"free\", \"french\", \"french\", \"french\", \"french\", \"french\", \"french\", \"french\", \"french\", \"french\", \"french\", \"fruit\", \"fruit\", \"fruit\", \"fruit\", \"fruit\", \"fruit\", \"fruit\", \"fruit\", \"fruit\", \"fruit\", \"gain\", \"gain\", \"gain\", \"gain\", \"gain\", \"gain\", \"gain\", \"gain\", \"gain\", \"gain\", \"gift\", \"gift\", \"gift\", \"gift\", \"gift\", \"gift\", \"gift\", \"gift\", \"gift\", \"gift\", \"girl\", \"girl\", \"girl\", \"girl\", \"girl\", \"girl\", \"girl\", \"girl\", \"girl\", \"girl\", \"gluten\", \"gluten\", \"gluten\", \"gluten\", \"gluten\", \"gluten\", \"gluten\", \"gluten\", \"gluten\", \"gluten\", \"goat\", \"goat\", \"goat\", \"goat\", \"goat\", \"goat\", \"goat\", \"goat\", \"goat\", \"goat\", \"goats\", \"goats\", \"goats\", \"goats\", \"goats\", \"goats\", \"goats\", \"goats\", \"goats\", \"goats\", \"good\", \"good\", \"good\", \"good\", \"good\", \"good\", \"good\", \"good\", \"good\", \"good\", \"grade\", \"grade\", \"grade\", \"grade\", \"grade\", \"grade\", \"grade\", \"grade\", \"grade\", \"grade\", \"grains\", \"grains\", \"grains\", \"grains\", \"grains\", \"grains\", \"grains\", \"grains\", \"grains\", \"grains\", \"grape\", \"grape\", \"grape\", \"grape\", \"grape\", \"grape\", \"grape\", \"grape\", \"grape\", \"grape\", \"grapefruit\", \"grapefruit\", \"grapefruit\", \"grapefruit\", \"grapefruit\", \"grapefruit\", \"grapefruit\", \"grapefruit\", \"grapefruit\", \"grapefruit\", \"grass\", \"grass\", \"grass\", \"grass\", \"grass\", \"grass\", \"grass\", \"grass\", \"grass\", \"grass\", \"great\", \"great\", \"great\", \"great\", \"great\", \"great\", \"great\", \"great\", \"great\", \"great\", \"green\", \"green\", \"green\", \"green\", \"green\", \"green\", \"green\", \"green\", \"green\", \"green\", \"ground\", \"ground\", \"ground\", \"ground\", \"ground\", \"ground\", \"ground\", \"ground\", \"ground\", \"ground\", \"grove\", \"grove\", \"grove\", \"grove\", \"grove\", \"grove\", \"grove\", \"grove\", \"grove\", \"grove\", \"guilt\", \"guilt\", \"guilt\", \"guilt\", \"guilt\", \"guilt\", \"guilt\", \"guilt\", \"guilt\", \"guilt\", \"gum\", \"gum\", \"gum\", \"gum\", \"gum\", \"gum\", \"gum\", \"gum\", \"gum\", \"gum\", \"guy\", \"guy\", \"guy\", \"guy\", \"guy\", \"guy\", \"guy\", \"guy\", \"guy\", \"guy\", \"hair\", \"hair\", \"hair\", \"hair\", \"hair\", \"hair\", \"hair\", \"hair\", \"hair\", \"hair\", \"happy\", \"happy\", \"happy\", \"happy\", \"happy\", \"happy\", \"happy\", \"happy\", \"happy\", \"happy\", \"hard\", \"hard\", \"hard\", \"hard\", \"hard\", \"hard\", \"hard\", \"hard\", \"hard\", \"hard\", \"hawaiian\", \"hawaiian\", \"hawaiian\", \"hawaiian\", \"hawaiian\", \"hawaiian\", \"hawaiian\", \"hawaiian\", \"hawaiian\", \"hawaiian\", \"hazelnut\", \"hazelnut\", \"hazelnut\", \"hazelnut\", \"hazelnut\", \"hazelnut\", \"hazelnut\", \"hazelnut\", \"hazelnut\", \"hazelnut\", \"healthy\", \"healthy\", \"healthy\", \"healthy\", \"healthy\", \"healthy\", \"healthy\", \"healthy\", \"healthy\", \"healthy\", \"holder\", \"holder\", \"holder\", \"holder\", \"holder\", \"holder\", \"holder\", \"holder\", \"holder\", \"holder\", \"honey\", \"honey\", \"honey\", \"honey\", \"honey\", \"honey\", \"honey\", \"honey\", \"honey\", \"honey\", \"hot\", \"hot\", \"hot\", \"hot\", \"hot\", \"hot\", \"hot\", \"hot\", \"hot\", \"hot\", \"href\", \"href\", \"href\", \"href\", \"href\", \"href\", \"href\", \"href\", \"href\", \"href\", \"http\", \"http\", \"http\", \"http\", \"http\", \"http\", \"http\", \"http\", \"http\", \"http\", \"ice\", \"ice\", \"ice\", \"ice\", \"ice\", \"ice\", \"ice\", \"ice\", \"ice\", \"ice\", \"icicle\", \"icicle\", \"icicle\", \"icicle\", \"icicle\", \"icicle\", \"icicle\", \"icicle\", \"icicle\", \"icicle\", \"individually\", \"individually\", \"individually\", \"individually\", \"individually\", \"individually\", \"individually\", \"individually\", \"individually\", \"individually\", \"ingredients\", \"ingredients\", \"ingredients\", \"ingredients\", \"ingredients\", \"ingredients\", \"ingredients\", \"ingredients\", \"ingredients\", \"ingredients\", \"introduced\", \"introduced\", \"introduced\", \"introduced\", \"introduced\", \"introduced\", \"introduced\", \"introduced\", \"introduced\", \"introduced\", \"issues\", \"issues\", \"issues\", \"issues\", \"issues\", \"issues\", \"issues\", \"issues\", \"issues\", \"issues\", \"italian\", \"italian\", \"italian\", \"italian\", \"italian\", \"italian\", \"italian\", \"italian\", \"italian\", \"italian\", \"item\", \"item\", \"item\", \"item\", \"item\", \"item\", \"item\", \"item\", \"item\", \"item\", \"jar\", \"jar\", \"jar\", \"jar\", \"jar\", \"jar\", \"jar\", \"jar\", \"jar\", \"jar\", \"jelly\", \"jelly\", \"jelly\", \"jelly\", \"jelly\", \"jelly\", \"jelly\", \"jelly\", \"jelly\", \"jelly\", \"jerky\", \"jerky\", \"jerky\", \"jerky\", \"jerky\", \"jerky\", \"jerky\", \"jerky\", \"jerky\", \"jerky\", \"juice\", \"juice\", \"juice\", \"juice\", \"juice\", \"juice\", \"juice\", \"juice\", \"juice\", \"juice\", \"juices\", \"juices\", \"juices\", \"juices\", \"juices\", \"juices\", \"juices\", \"juices\", \"juices\", \"juices\", \"just\", \"just\", \"just\", \"just\", \"just\", \"just\", \"just\", \"just\", \"just\", \"just\", \"kept\", \"kept\", \"kept\", \"kept\", \"kept\", \"kept\", \"kept\", \"kept\", \"kept\", \"kept\", \"keurig\", \"keurig\", \"keurig\", \"keurig\", \"keurig\", \"keurig\", \"keurig\", \"keurig\", \"keurig\", \"keurig\", \"kid\", \"kid\", \"kid\", \"kid\", \"kid\", \"kid\", \"kid\", \"kid\", \"kid\", \"kid\", \"kinda\", \"kinda\", \"kinda\", \"kinda\", \"kinda\", \"kinda\", \"kinda\", \"kinda\", \"kinda\", \"kinda\", \"kit\", \"kit\", \"kit\", \"kit\", \"kit\", \"kit\", \"kit\", \"kit\", \"kit\", \"kit\", \"lamb\", \"lamb\", \"lamb\", \"lamb\", \"lamb\", \"lamb\", \"lamb\", \"lamb\", \"lamb\", \"lamb\", \"large\", \"large\", \"large\", \"large\", \"large\", \"large\", \"large\", \"large\", \"large\", \"large\", \"law\", \"law\", \"law\", \"law\", \"law\", \"law\", \"law\", \"law\", \"law\", \"law\", \"lemon\", \"lemon\", \"lemon\", \"lemon\", \"lemon\", \"lemon\", \"lemon\", \"lemon\", \"lemon\", \"lemon\", \"lemons\", \"lemons\", \"lemons\", \"lemons\", \"lemons\", \"lemons\", \"lemons\", \"lemons\", \"lemons\", \"lemons\", \"licorice\", \"licorice\", \"licorice\", \"licorice\", \"licorice\", \"licorice\", \"licorice\", \"licorice\", \"licorice\", \"licorice\", \"lids\", \"lids\", \"lids\", \"lids\", \"lids\", \"lids\", \"lids\", \"lids\", \"lids\", \"lids\", \"like\", \"like\", \"like\", \"like\", \"like\", \"like\", \"like\", \"like\", \"like\", \"like\", \"little\", \"little\", \"little\", \"little\", \"little\", \"little\", \"little\", \"little\", \"little\", \"little\", \"local\", \"local\", \"local\", \"local\", \"local\", \"local\", \"local\", \"local\", \"local\", \"local\", \"love\", \"love\", \"love\", \"love\", \"love\", \"love\", \"love\", \"love\", \"love\", \"love\", \"loves\", \"loves\", \"loves\", \"loves\", \"loves\", \"loves\", \"loves\", \"loves\", \"loves\", \"loves\", \"low\", \"low\", \"low\", \"low\", \"low\", \"low\", \"low\", \"low\", \"low\", \"low\", \"mac\", \"mac\", \"mac\", \"mac\", \"mac\", \"mac\", \"mac\", \"mac\", \"mac\", \"mac\", \"machine\", \"machine\", \"machine\", \"machine\", \"machine\", \"machine\", \"machine\", \"machine\", \"machine\", \"machine\", \"magnesium\", \"magnesium\", \"magnesium\", \"magnesium\", \"magnesium\", \"magnesium\", \"magnesium\", \"magnesium\", \"magnesium\", \"magnesium\", \"make\", \"make\", \"make\", \"make\", \"make\", \"make\", \"make\", \"make\", \"make\", \"make\", \"makes\", \"makes\", \"makes\", \"makes\", \"makes\", \"makes\", \"makes\", \"makes\", \"makes\", \"makes\", \"maple\", \"maple\", \"maple\", \"maple\", \"maple\", \"maple\", \"maple\", \"maple\", \"maple\", \"maple\", \"maybe\", \"maybe\", \"maybe\", \"maybe\", \"maybe\", \"maybe\", \"maybe\", \"maybe\", \"maybe\", \"maybe\", \"meat\", \"meat\", \"meat\", \"meat\", \"meat\", \"meat\", \"meat\", \"meat\", \"meat\", \"meat\", \"medium\", \"medium\", \"medium\", \"medium\", \"medium\", \"medium\", \"medium\", \"medium\", \"medium\", \"medium\", \"melt\", \"melt\", \"melt\", \"melt\", \"melt\", \"melt\", \"melt\", \"melt\", \"melt\", \"melt\", \"melted\", \"melted\", \"melted\", \"melted\", \"melted\", \"melted\", \"melted\", \"melted\", \"melted\", \"melted\", \"mic\", \"mic\", \"mic\", \"mic\", \"mic\", \"mic\", \"mic\", \"mic\", \"mic\", \"mic\", \"microwave\", \"microwave\", \"microwave\", \"microwave\", \"microwave\", \"microwave\", \"microwave\", \"microwave\", \"microwave\", \"microwave\", \"middle\", \"middle\", \"middle\", \"middle\", \"middle\", \"middle\", \"middle\", \"middle\", \"middle\", \"middle\", \"milk\", \"milk\", \"milk\", \"milk\", \"milk\", \"milk\", \"milk\", \"milk\", \"milk\", \"milk\", \"mix\", \"mix\", \"mix\", \"mix\", \"mix\", \"mix\", \"mix\", \"mix\", \"mix\", \"mix\", \"mom\", \"mom\", \"mom\", \"mom\", \"mom\", \"mom\", \"mom\", \"mom\", \"mom\", \"mom\", \"month\", \"month\", \"month\", \"month\", \"month\", \"month\", \"month\", \"month\", \"month\", \"month\", \"morning\", \"morning\", \"morning\", \"morning\", \"morning\", \"morning\", \"morning\", \"morning\", \"morning\", \"morning\", \"mother\", \"mother\", \"mother\", \"mother\", \"mother\", \"mother\", \"mother\", \"mother\", \"mother\", \"mother\", \"mountain\", \"mountain\", \"mountain\", \"mountain\", \"mountain\", \"mountain\", \"mountain\", \"mountain\", \"mountain\", \"mountain\", \"msg\", \"msg\", \"msg\", \"msg\", \"msg\", \"msg\", \"msg\", \"msg\", \"msg\", \"msg\", \"natural\", \"natural\", \"natural\", \"natural\", \"natural\", \"natural\", \"natural\", \"natural\", \"natural\", \"natural\", \"newman\", \"newman\", \"newman\", \"newman\", \"newman\", \"newman\", \"newman\", \"newman\", \"newman\", \"newman\", \"nice\", \"nice\", \"nice\", \"nice\", \"nice\", \"nice\", \"nice\", \"nice\", \"nice\", \"nice\", \"noodles\", \"noodles\", \"noodles\", \"noodles\", \"noodles\", \"noodles\", \"noodles\", \"noodles\", \"noodles\", \"noodles\", \"nose\", \"nose\", \"nose\", \"nose\", \"nose\", \"nose\", \"nose\", \"nose\", \"nose\", \"nose\", \"noticed\", \"noticed\", \"noticed\", \"noticed\", \"noticed\", \"noticed\", \"noticed\", \"noticed\", \"noticed\", \"noticed\", \"nutritional\", \"nutritional\", \"nutritional\", \"nutritional\", \"nutritional\", \"nutritional\", \"nutritional\", \"nutritional\", \"nutritional\", \"nutritional\", \"nuts\", \"nuts\", \"nuts\", \"nuts\", \"nuts\", \"nuts\", \"nuts\", \"nuts\", \"nuts\", \"nuts\", \"offer\", \"offer\", \"offer\", \"offer\", \"offer\", \"offer\", \"offer\", \"offer\", \"offer\", \"offer\", \"oil\", \"oil\", \"oil\", \"oil\", \"oil\", \"oil\", \"oil\", \"oil\", \"oil\", \"oil\", \"oils\", \"oils\", \"oils\", \"oils\", \"oils\", \"oils\", \"oils\", \"oils\", \"oils\", \"oils\", \"old\", \"old\", \"old\", \"old\", \"old\", \"old\", \"old\", \"old\", \"old\", \"old\", \"olive\", \"olive\", \"olive\", \"olive\", \"olive\", \"olive\", \"olive\", \"olive\", \"olive\", \"olive\", \"olives\", \"olives\", \"olives\", \"olives\", \"olives\", \"olives\", \"olives\", \"olives\", \"olives\", \"olives\", \"onion\", \"onion\", \"onion\", \"onion\", \"onion\", \"onion\", \"onion\", \"onion\", \"onion\", \"onion\", \"online\", \"online\", \"online\", \"online\", \"online\", \"online\", \"online\", \"online\", \"online\", \"online\", \"opened\", \"opened\", \"opened\", \"opened\", \"opened\", \"opened\", \"opened\", \"opened\", \"opened\", \"opened\", \"orange\", \"orange\", \"orange\", \"orange\", \"orange\", \"orange\", \"orange\", \"orange\", \"orange\", \"orange\", \"order\", \"order\", \"order\", \"order\", \"order\", \"order\", \"order\", \"order\", \"order\", \"order\", \"ordered\", \"ordered\", \"ordered\", \"ordered\", \"ordered\", \"ordered\", \"ordered\", \"ordered\", \"ordered\", \"ordered\", \"organic\", \"organic\", \"organic\", \"organic\", \"organic\", \"organic\", \"organic\", \"organic\", \"organic\", \"organic\", \"orzo\", \"orzo\", \"orzo\", \"orzo\", \"orzo\", \"orzo\", \"orzo\", \"orzo\", \"orzo\", \"orzo\", \"ounce\", \"ounce\", \"ounce\", \"ounce\", \"ounce\", \"ounce\", \"ounce\", \"ounce\", \"ounce\", \"ounce\", \"pack\", \"pack\", \"pack\", \"pack\", \"pack\", \"pack\", \"pack\", \"pack\", \"pack\", \"pack\", \"packages\", \"packages\", \"packages\", \"packages\", \"packages\", \"packages\", \"packages\", \"packages\", \"packages\", \"packages\", \"packaging\", \"packaging\", \"packaging\", \"packaging\", \"packaging\", \"packaging\", \"packaging\", \"packaging\", \"packaging\", \"packaging\", \"packing\", \"packing\", \"packing\", \"packing\", \"packing\", \"packing\", \"packing\", \"packing\", \"packing\", \"packing\", \"pamela\", \"pamela\", \"pamela\", \"pamela\", \"pamela\", \"pamela\", \"pamela\", \"pamela\", \"pamela\", \"pamela\", \"pancakes\", \"pancakes\", \"pancakes\", \"pancakes\", \"pancakes\", \"pancakes\", \"pancakes\", \"pancakes\", \"pancakes\", \"pancakes\", \"party\", \"party\", \"party\", \"party\", \"party\", \"party\", \"party\", \"party\", \"party\", \"party\", \"pass\", \"pass\", \"pass\", \"pass\", \"pass\", \"pass\", \"pass\", \"pass\", \"pass\", \"pass\", \"pasta\", \"pasta\", \"pasta\", \"pasta\", \"pasta\", \"pasta\", \"pasta\", \"pasta\", \"pasta\", \"pasta\", \"pastas\", \"pastas\", \"pastas\", \"pastas\", \"pastas\", \"pastas\", \"pastas\", \"pastas\", \"pastas\", \"pastas\", \"peanut\", \"peanut\", \"peanut\", \"peanut\", \"peanut\", \"peanut\", \"peanut\", \"peanut\", \"peanut\", \"peanut\", \"peanuts\", \"peanuts\", \"peanuts\", \"peanuts\", \"peanuts\", \"peanuts\", \"peanuts\", \"peanuts\", \"peanuts\", \"peanuts\", \"pepper\", \"pepper\", \"pepper\", \"pepper\", \"pepper\", \"pepper\", \"pepper\", \"pepper\", \"pepper\", \"pepper\", \"peppermint\", \"peppermint\", \"peppermint\", \"peppermint\", \"peppermint\", \"peppermint\", \"peppermint\", \"peppermint\", \"peppermint\", \"peppermint\", \"pet\", \"pet\", \"pet\", \"pet\", \"pet\", \"pet\", \"pet\", \"pet\", \"pet\", \"pet\", \"picky\", \"picky\", \"picky\", \"picky\", \"picky\", \"picky\", \"picky\", \"picky\", \"picky\", \"picky\", \"pieces\", \"pieces\", \"pieces\", \"pieces\", \"pieces\", \"pieces\", \"pieces\", \"pieces\", \"pieces\", \"pieces\", \"pill\", \"pill\", \"pill\", \"pill\", \"pill\", \"pill\", \"pill\", \"pill\", \"pill\", \"pill\", \"pineapple\", \"pineapple\", \"pineapple\", \"pineapple\", \"pineapple\", \"pineapple\", \"pineapple\", \"pineapple\", \"pineapple\", \"pineapple\", \"pink\", \"pink\", \"pink\", \"pink\", \"pink\", \"pink\", \"pink\", \"pink\", \"pink\", \"pink\", \"pizza\", \"pizza\", \"pizza\", \"pizza\", \"pizza\", \"pizza\", \"pizza\", \"pizza\", \"pizza\", \"pizza\", \"plant\", \"plant\", \"plant\", \"plant\", \"plant\", \"plant\", \"plant\", \"plant\", \"plant\", \"plant\", \"plastic\", \"plastic\", \"plastic\", \"plastic\", \"plastic\", \"plastic\", \"plastic\", \"plastic\", \"plastic\", \"plastic\", \"play\", \"play\", \"play\", \"play\", \"play\", \"play\", \"play\", \"play\", \"play\", \"play\", \"pocket\", \"pocket\", \"pocket\", \"pocket\", \"pocket\", \"pocket\", \"pocket\", \"pocket\", \"pocket\", \"pocket\", \"pockets\", \"pockets\", \"pockets\", \"pockets\", \"pockets\", \"pockets\", \"pockets\", \"pockets\", \"pockets\", \"pockets\", \"popchips\", \"popchips\", \"popchips\", \"popchips\", \"popchips\", \"popchips\", \"popchips\", \"popchips\", \"popchips\", \"popchips\", \"popcorn\", \"popcorn\", \"popcorn\", \"popcorn\", \"popcorn\", \"popcorn\", \"popcorn\", \"popcorn\", \"popcorn\", \"popcorn\", \"pork\", \"pork\", \"pork\", \"pork\", \"pork\", \"pork\", \"pork\", \"pork\", \"pork\", \"pork\", \"potato\", \"potato\", \"potato\", \"potato\", \"potato\", \"potato\", \"potato\", \"potato\", \"potato\", \"potato\", \"powder\", \"powder\", \"powder\", \"powder\", \"powder\", \"powder\", \"powder\", \"powder\", \"powder\", \"powder\", \"pretzels\", \"pretzels\", \"pretzels\", \"pretzels\", \"pretzels\", \"pretzels\", \"pretzels\", \"pretzels\", \"pretzels\", \"pretzels\", \"price\", \"price\", \"price\", \"price\", \"price\", \"price\", \"price\", \"price\", \"price\", \"price\", \"problems\", \"problems\", \"problems\", \"problems\", \"problems\", \"problems\", \"problems\", \"problems\", \"problems\", \"problems\", \"product\", \"product\", \"product\", \"product\", \"product\", \"product\", \"product\", \"product\", \"product\", \"product\", \"products\", \"products\", \"products\", \"products\", \"products\", \"products\", \"products\", \"products\", \"products\", \"products\", \"protein\", \"protein\", \"protein\", \"protein\", \"protein\", \"protein\", \"protein\", \"protein\", \"protein\", \"protein\", \"puck\", \"puck\", \"puck\", \"puck\", \"puck\", \"puck\", \"puck\", \"puck\", \"puck\", \"puck\", \"puppy\", \"puppy\", \"puppy\", \"puppy\", \"puppy\", \"puppy\", \"puppy\", \"puppy\", \"puppy\", \"puppy\", \"purchased\", \"purchased\", \"purchased\", \"purchased\", \"purchased\", \"purchased\", \"purchased\", \"purchased\", \"purchased\", \"purchased\", \"quickly\", \"quickly\", \"quickly\", \"quickly\", \"quickly\", \"quickly\", \"quickly\", \"quickly\", \"quickly\", \"quickly\", \"raspberry\", \"raspberry\", \"raspberry\", \"raspberry\", \"raspberry\", \"raspberry\", \"raspberry\", \"raspberry\", \"raspberry\", \"raspberry\", \"rda\", \"rda\", \"rda\", \"rda\", \"rda\", \"rda\", \"rda\", \"rda\", \"rda\", \"rda\", \"ready\", \"ready\", \"ready\", \"ready\", \"ready\", \"ready\", \"ready\", \"ready\", \"ready\", \"ready\", \"really\", \"really\", \"really\", \"really\", \"really\", \"really\", \"really\", \"really\", \"really\", \"really\", \"reasonable\", \"reasonable\", \"reasonable\", \"reasonable\", \"reasonable\", \"reasonable\", \"reasonable\", \"reasonable\", \"reasonable\", \"reasonable\", \"received\", \"received\", \"received\", \"received\", \"received\", \"received\", \"received\", \"received\", \"received\", \"received\", \"recipe\", \"recipe\", \"recipe\", \"recipe\", \"recipe\", \"recipe\", \"recipe\", \"recipe\", \"recipe\", \"recipe\", \"recipes\", \"recipes\", \"recipes\", \"recipes\", \"recipes\", \"recipes\", \"recipes\", \"recipes\", \"recipes\", \"recipes\", \"red\", \"red\", \"red\", \"red\", \"red\", \"red\", \"red\", \"red\", \"red\", \"red\", \"refreshing\", \"refreshing\", \"refreshing\", \"refreshing\", \"refreshing\", \"refreshing\", \"refreshing\", \"refreshing\", \"refreshing\", \"refreshing\", \"remember\", \"remember\", \"remember\", \"remember\", \"remember\", \"remember\", \"remember\", \"remember\", \"remember\", \"remember\", \"rich\", \"rich\", \"rich\", \"rich\", \"rich\", \"rich\", \"rich\", \"rich\", \"rich\", \"rich\", \"ridiculous\", \"ridiculous\", \"ridiculous\", \"ridiculous\", \"ridiculous\", \"ridiculous\", \"ridiculous\", \"ridiculous\", \"ridiculous\", \"ridiculous\", \"rinds\", \"rinds\", \"rinds\", \"rinds\", \"rinds\", \"rinds\", \"rinds\", \"rinds\", \"rinds\", \"rinds\", \"roast\", \"roast\", \"roast\", \"roast\", \"roast\", \"roast\", \"roast\", \"roast\", \"roast\", \"roast\", \"roasted\", \"roasted\", \"roasted\", \"roasted\", \"roasted\", \"roasted\", \"roasted\", \"roasted\", \"roasted\", \"roasted\", \"rose\", \"rose\", \"rose\", \"rose\", \"rose\", \"rose\", \"rose\", \"rose\", \"rose\", \"rose\", \"round\", \"round\", \"round\", \"round\", \"round\", \"round\", \"round\", \"round\", \"round\", \"round\", \"royal\", \"royal\", \"royal\", \"royal\", \"royal\", \"royal\", \"royal\", \"royal\", \"royal\", \"royal\", \"salads\", \"salads\", \"salads\", \"salads\", \"salads\", \"salads\", \"salads\", \"salads\", \"salads\", \"salads\", \"salmon\", \"salmon\", \"salmon\", \"salmon\", \"salmon\", \"salmon\", \"salmon\", \"salmon\", \"salmon\", \"salmon\", \"salsa\", \"salsa\", \"salsa\", \"salsa\", \"salsa\", \"salsa\", \"salsa\", \"salsa\", \"salsa\", \"salsa\", \"salt\", \"salt\", \"salt\", \"salt\", \"salt\", \"salt\", \"salt\", \"salt\", \"salt\", \"salt\", \"salted\", \"salted\", \"salted\", \"salted\", \"salted\", \"salted\", \"salted\", \"salted\", \"salted\", \"salted\", \"salty\", \"salty\", \"salty\", \"salty\", \"salty\", \"salty\", \"salty\", \"salty\", \"salty\", \"salty\", \"sardines\", \"sardines\", \"sardines\", \"sardines\", \"sardines\", \"sardines\", \"sardines\", \"sardines\", \"sardines\", \"sardines\", \"satisfy\", \"satisfy\", \"satisfy\", \"satisfy\", \"satisfy\", \"satisfy\", \"satisfy\", \"satisfy\", \"satisfy\", \"satisfy\", \"sauce\", \"sauce\", \"sauce\", \"sauce\", \"sauce\", \"sauce\", \"sauce\", \"sauce\", \"sauce\", \"sauce\", \"sauces\", \"sauces\", \"sauces\", \"sauces\", \"sauces\", \"sauces\", \"sauces\", \"sauces\", \"sauces\", \"sauces\", \"saved\", \"saved\", \"saved\", \"saved\", \"saved\", \"saved\", \"saved\", \"saved\", \"saved\", \"saved\", \"science\", \"science\", \"science\", \"science\", \"science\", \"science\", \"science\", \"science\", \"science\", \"science\", \"sea\", \"sea\", \"sea\", \"sea\", \"sea\", \"sea\", \"sea\", \"sea\", \"sea\", \"sea\", \"seafood\", \"seafood\", \"seafood\", \"seafood\", \"seafood\", \"seafood\", \"seafood\", \"seafood\", \"seafood\", \"seafood\", \"seasoning\", \"seasoning\", \"seasoning\", \"seasoning\", \"seasoning\", \"seasoning\", \"seasoning\", \"seasoning\", \"seasoning\", \"seasoning\", \"seed\", \"seed\", \"seed\", \"seed\", \"seed\", \"seed\", \"seed\", \"seed\", \"seed\", \"seed\", \"seeds\", \"seeds\", \"seeds\", \"seeds\", \"seeds\", \"seeds\", \"seeds\", \"seeds\", \"seeds\", \"seeds\", \"seller\", \"seller\", \"seller\", \"seller\", \"seller\", \"seller\", \"seller\", \"seller\", \"seller\", \"seller\", \"service\", \"service\", \"service\", \"service\", \"service\", \"service\", \"service\", \"service\", \"service\", \"service\", \"serving\", \"serving\", \"serving\", \"serving\", \"serving\", \"serving\", \"serving\", \"serving\", \"serving\", \"serving\", \"shape\", \"shape\", \"shape\", \"shape\", \"shape\", \"shape\", \"shape\", \"shape\", \"shape\", \"shape\", \"shipping\", \"shipping\", \"shipping\", \"shipping\", \"shipping\", \"shipping\", \"shipping\", \"shipping\", \"shipping\", \"shipping\", \"similac\", \"similac\", \"similac\", \"similac\", \"similac\", \"similac\", \"similac\", \"similac\", \"similac\", \"similac\", \"sip\", \"sip\", \"sip\", \"sip\", \"sip\", \"sip\", \"sip\", \"sip\", \"sip\", \"sip\", \"skin\", \"skin\", \"skin\", \"skin\", \"skin\", \"skin\", \"skin\", \"skin\", \"skin\", \"skin\", \"slight\", \"slight\", \"slight\", \"slight\", \"slight\", \"slight\", \"slight\", \"slight\", \"slight\", \"slight\", \"smell\", \"smell\", \"smell\", \"smell\", \"smell\", \"smell\", \"smell\", \"smell\", \"smell\", \"smell\", \"smoked\", \"smoked\", \"smoked\", \"smoked\", \"smoked\", \"smoked\", \"smoked\", \"smoked\", \"smoked\", \"smoked\", \"smooth\", \"smooth\", \"smooth\", \"smooth\", \"smooth\", \"smooth\", \"smooth\", \"smooth\", \"smooth\", \"smooth\", \"snack\", \"snack\", \"snack\", \"snack\", \"snack\", \"snack\", \"snack\", \"snack\", \"snack\", \"snack\", \"snacking\", \"snacking\", \"snacking\", \"snacking\", \"snacking\", \"snacking\", \"snacking\", \"snacking\", \"snacking\", \"snacking\", \"snacks\", \"snacks\", \"snacks\", \"snacks\", \"snacks\", \"snacks\", \"snacks\", \"snacks\", \"snacks\", \"snacks\", \"soda\", \"soda\", \"soda\", \"soda\", \"soda\", \"soda\", \"soda\", \"soda\", \"soda\", \"soda\", \"sodium\", \"sodium\", \"sodium\", \"sodium\", \"sodium\", \"sodium\", \"sodium\", \"sodium\", \"sodium\", \"sodium\", \"sound\", \"sound\", \"sound\", \"sound\", \"sound\", \"sound\", \"sound\", \"sound\", \"sound\", \"sound\", \"soup\", \"soup\", \"soup\", \"soup\", \"soup\", \"soup\", \"soup\", \"soup\", \"soup\", \"soup\", \"soups\", \"soups\", \"soups\", \"soups\", \"soups\", \"soups\", \"soups\", \"soups\", \"soups\", \"soups\", \"sour\", \"sour\", \"sour\", \"sour\", \"sour\", \"sour\", \"sour\", \"sour\", \"sour\", \"sour\", \"source\", \"source\", \"source\", \"source\", \"source\", \"source\", \"source\", \"source\", \"source\", \"source\", \"soy\", \"soy\", \"soy\", \"soy\", \"soy\", \"soy\", \"soy\", \"soy\", \"soy\", \"soy\", \"sparkling\", \"sparkling\", \"sparkling\", \"sparkling\", \"sparkling\", \"sparkling\", \"sparkling\", \"sparkling\", \"sparkling\", \"sparkling\", \"spice\", \"spice\", \"spice\", \"spice\", \"spice\", \"spice\", \"spice\", \"spice\", \"spice\", \"spice\", \"spicy\", \"spicy\", \"spicy\", \"spicy\", \"spicy\", \"spicy\", \"spicy\", \"spicy\", \"spicy\", \"spicy\", \"spot\", \"spot\", \"spot\", \"spot\", \"spot\", \"spot\", \"spot\", \"spot\", \"spot\", \"spot\", \"stale\", \"stale\", \"stale\", \"stale\", \"stale\", \"stale\", \"stale\", \"stale\", \"stale\", \"stale\", \"starbucks\", \"starbucks\", \"starbucks\", \"starbucks\", \"starbucks\", \"starbucks\", \"starbucks\", \"starbucks\", \"starbucks\", \"starbucks\", \"states\", \"states\", \"states\", \"states\", \"states\", \"states\", \"states\", \"states\", \"states\", \"states\", \"stick\", \"stick\", \"stick\", \"stick\", \"stick\", \"stick\", \"stick\", \"stick\", \"stick\", \"stick\", \"sticks\", \"sticks\", \"sticks\", \"sticks\", \"sticks\", \"sticks\", \"sticks\", \"sticks\", \"sticks\", \"sticks\", \"stomach\", \"stomach\", \"stomach\", \"stomach\", \"stomach\", \"stomach\", \"stomach\", \"stomach\", \"stomach\", \"stomach\", \"stop\", \"stop\", \"stop\", \"stop\", \"stop\", \"stop\", \"stop\", \"stop\", \"stop\", \"stop\", \"stopped\", \"stopped\", \"stopped\", \"stopped\", \"stopped\", \"stopped\", \"stopped\", \"stopped\", \"stopped\", \"stopped\", \"store\", \"store\", \"store\", \"store\", \"store\", \"store\", \"store\", \"store\", \"store\", \"store\", \"strong\", \"strong\", \"strong\", \"strong\", \"strong\", \"strong\", \"strong\", \"strong\", \"strong\", \"strong\", \"sugar\", \"sugar\", \"sugar\", \"sugar\", \"sugar\", \"sugar\", \"sugar\", \"sugar\", \"sugar\", \"sugar\", \"sweet\", \"sweet\", \"sweet\", \"sweet\", \"sweet\", \"sweet\", \"sweet\", \"sweet\", \"sweet\", \"sweet\", \"switching\", \"switching\", \"switching\", \"switching\", \"switching\", \"switching\", \"switching\", \"switching\", \"switching\", \"switching\", \"syrup\", \"syrup\", \"syrup\", \"syrup\", \"syrup\", \"syrup\", \"syrup\", \"syrup\", \"syrup\", \"syrup\", \"tangerine\", \"tangerine\", \"tangerine\", \"tangerine\", \"tangerine\", \"tangerine\", \"tangerine\", \"tangerine\", \"tangerine\", \"tangerine\", \"tart\", \"tart\", \"tart\", \"tart\", \"tart\", \"tart\", \"tart\", \"tart\", \"tart\", \"tart\", \"taste\", \"taste\", \"taste\", \"taste\", \"taste\", \"taste\", \"taste\", \"taste\", \"taste\", \"taste\", \"tastes\", \"tastes\", \"tastes\", \"tastes\", \"tastes\", \"tastes\", \"tastes\", \"tastes\", \"tastes\", \"tastes\", \"tasting\", \"tasting\", \"tasting\", \"tasting\", \"tasting\", \"tasting\", \"tasting\", \"tasting\", \"tasting\", \"tasting\", \"tea\", \"tea\", \"tea\", \"tea\", \"tea\", \"tea\", \"tea\", \"tea\", \"tea\", \"tea\", \"terrier\", \"terrier\", \"terrier\", \"terrier\", \"terrier\", \"terrier\", \"terrier\", \"terrier\", \"terrier\", \"terrier\", \"terrific\", \"terrific\", \"terrific\", \"terrific\", \"terrific\", \"terrific\", \"terrific\", \"terrific\", \"terrific\", \"terrific\", \"texture\", \"texture\", \"texture\", \"texture\", \"texture\", \"texture\", \"texture\", \"texture\", \"texture\", \"texture\", \"thank\", \"thank\", \"thank\", \"thank\", \"thank\", \"thank\", \"thank\", \"thank\", \"thank\", \"thank\", \"throw\", \"throw\", \"throw\", \"throw\", \"throw\", \"throw\", \"throw\", \"throw\", \"throw\", \"throw\", \"time\", \"time\", \"time\", \"time\", \"time\", \"time\", \"time\", \"time\", \"time\", \"time\", \"times\", \"times\", \"times\", \"times\", \"times\", \"times\", \"times\", \"times\", \"times\", \"times\", \"tofu\", \"tofu\", \"tofu\", \"tofu\", \"tofu\", \"tofu\", \"tofu\", \"tofu\", \"tofu\", \"tofu\", \"tooth\", \"tooth\", \"tooth\", \"tooth\", \"tooth\", \"tooth\", \"tooth\", \"tooth\", \"tooth\", \"tooth\", \"toy\", \"toy\", \"toy\", \"toy\", \"toy\", \"toy\", \"toy\", \"toy\", \"toy\", \"toy\", \"tray\", \"tray\", \"tray\", \"tray\", \"tray\", \"tray\", \"tray\", \"tray\", \"tray\", \"tray\", \"trays\", \"trays\", \"trays\", \"trays\", \"trays\", \"trays\", \"trays\", \"trays\", \"trays\", \"trays\", \"treat\", \"treat\", \"treat\", \"treat\", \"treat\", \"treat\", \"treat\", \"treat\", \"treat\", \"treat\", \"treats\", \"treats\", \"treats\", \"treats\", \"treats\", \"treats\", \"treats\", \"treats\", \"treats\", \"treats\", \"tree\", \"tree\", \"tree\", \"tree\", \"tree\", \"tree\", \"tree\", \"tree\", \"tree\", \"tree\", \"tried\", \"tried\", \"tried\", \"tried\", \"tried\", \"tried\", \"tried\", \"tried\", \"tried\", \"tried\", \"trouble\", \"trouble\", \"trouble\", \"trouble\", \"trouble\", \"trouble\", \"trouble\", \"trouble\", \"trouble\", \"trouble\", \"truffle\", \"truffle\", \"truffle\", \"truffle\", \"truffle\", \"truffle\", \"truffle\", \"truffle\", \"truffle\", \"truffle\", \"truffles\", \"truffles\", \"truffles\", \"truffles\", \"truffles\", \"truffles\", \"truffles\", \"truffles\", \"truffles\", \"truffles\", \"truly\", \"truly\", \"truly\", \"truly\", \"truly\", \"truly\", \"truly\", \"truly\", \"truly\", \"truly\", \"try\", \"try\", \"try\", \"try\", \"try\", \"try\", \"try\", \"try\", \"try\", \"try\", \"tummy\", \"tummy\", \"tummy\", \"tummy\", \"tummy\", \"tummy\", \"tummy\", \"tummy\", \"tummy\", \"tummy\", \"ups\", \"ups\", \"ups\", \"ups\", \"ups\", \"ups\", \"ups\", \"ups\", \"ups\", \"ups\", \"usb\", \"usb\", \"usb\", \"usb\", \"usb\", \"usb\", \"usb\", \"usb\", \"usb\", \"usb\", \"use\", \"use\", \"use\", \"use\", \"use\", \"use\", \"use\", \"use\", \"use\", \"use\", \"uses\", \"uses\", \"uses\", \"uses\", \"uses\", \"uses\", \"uses\", \"uses\", \"uses\", \"uses\", \"vanilla\", \"vanilla\", \"vanilla\", \"vanilla\", \"vanilla\", \"vanilla\", \"vanilla\", \"vanilla\", \"vanilla\", \"vanilla\", \"vegan\", \"vegan\", \"vegan\", \"vegan\", \"vegan\", \"vegan\", \"vegan\", \"vegan\", \"vegan\", \"vegan\", \"vendor\", \"vendor\", \"vendor\", \"vendor\", \"vendor\", \"vendor\", \"vendor\", \"vendor\", \"vendor\", \"vendor\", \"vet\", \"vet\", \"vet\", \"vet\", \"vet\", \"vet\", \"vet\", \"vet\", \"vet\", \"vet\", \"vinegar\", \"vinegar\", \"vinegar\", \"vinegar\", \"vinegar\", \"vinegar\", \"vinegar\", \"vinegar\", \"vinegar\", \"vinegar\", \"vita\", \"vita\", \"vita\", \"vita\", \"vita\", \"vita\", \"vita\", \"vita\", \"vita\", \"vita\", \"vitamin\", \"vitamin\", \"vitamin\", \"vitamin\", \"vitamin\", \"vitamin\", \"vitamin\", \"vitamin\", \"vitamin\", \"vitamin\", \"waffle\", \"waffle\", \"waffle\", \"waffle\", \"waffle\", \"waffle\", \"waffle\", \"waffle\", \"waffle\", \"waffle\", \"waffles\", \"waffles\", \"waffles\", \"waffles\", \"waffles\", \"waffles\", \"waffles\", \"waffles\", \"waffles\", \"waffles\", \"walmart\", \"walmart\", \"walmart\", \"walmart\", \"walmart\", \"walmart\", \"walmart\", \"walmart\", \"walmart\", \"walmart\", \"warm\", \"warm\", \"warm\", \"warm\", \"warm\", \"warm\", \"warm\", \"warm\", \"warm\", \"warm\", \"wasn\", \"wasn\", \"wasn\", \"wasn\", \"wasn\", \"wasn\", \"wasn\", \"wasn\", \"wasn\", \"wasn\", \"water\", \"water\", \"water\", \"water\", \"water\", \"water\", \"water\", \"water\", \"water\", \"water\", \"ways\", \"ways\", \"ways\", \"ways\", \"ways\", \"ways\", \"ways\", \"ways\", \"ways\", \"ways\", \"website\", \"website\", \"website\", \"website\", \"website\", \"website\", \"website\", \"website\", \"website\", \"website\", \"wheat\", \"wheat\", \"wheat\", \"wheat\", \"wheat\", \"wheat\", \"wheat\", \"wheat\", \"wheat\", \"wheat\", \"white\", \"white\", \"white\", \"white\", \"white\", \"white\", \"white\", \"white\", \"white\", \"white\", \"wholesome\", \"wholesome\", \"wholesome\", \"wholesome\", \"wholesome\", \"wholesome\", \"wholesome\", \"wholesome\", \"wholesome\", \"wholesome\", \"wild\", \"wild\", \"wild\", \"wild\", \"wild\", \"wild\", \"wild\", \"wild\", \"wild\", \"wild\", \"wolfgang\", \"wolfgang\", \"wolfgang\", \"wolfgang\", \"wolfgang\", \"wolfgang\", \"wolfgang\", \"wolfgang\", \"wolfgang\", \"wolfgang\", \"wonderful\", \"wonderful\", \"wonderful\", \"wonderful\", \"wonderful\", \"wonderful\", \"wonderful\", \"wonderful\", \"wonderful\", \"wonderful\", \"wrapped\", \"wrapped\", \"wrapped\", \"wrapped\", \"wrapped\", \"wrapped\", \"wrapped\", \"wrapped\", \"wrapped\", \"wrapped\", \"www\", \"www\", \"www\", \"www\", \"www\", \"www\", \"www\", \"www\", \"www\", \"www\", \"year\", \"year\", \"year\", \"year\", \"year\", \"year\", \"year\", \"year\", \"year\", \"year\", \"years\", \"years\", \"years\", \"years\", \"years\", \"years\", \"years\", \"years\", \"years\", \"years\", \"yum\", \"yum\", \"yum\", \"yum\", \"yum\", \"yum\", \"yum\", \"yum\", \"yum\", \"yum\"]}, \"R\": 30, \"lambda.step\": 0.01, \"plot.opts\": {\"xlab\": \"PC1\", \"ylab\": \"PC2\"}, \"topic.order\": [8, 10, 4, 9, 5, 6, 1, 7, 3, 2]};\n",
       "\n",
       "function LDAvis_load_lib(url, callback){\n",
       "  var s = document.createElement('script');\n",
       "  s.src = url;\n",
       "  s.async = true;\n",
       "  s.onreadystatechange = s.onload = callback;\n",
       "  s.onerror = function(){console.warn(\"failed to load library \" + url);};\n",
       "  document.getElementsByTagName(\"head\")[0].appendChild(s);\n",
       "}\n",
       "\n",
       "if(typeof(LDAvis) !== \"undefined\"){\n",
       "   // already loaded: just create the visualization\n",
       "   !function(LDAvis){\n",
       "       new LDAvis(\"#\" + \"ldavis_el251031141877087204893645969\", ldavis_el251031141877087204893645969_data);\n",
       "   }(LDAvis);\n",
       "}else if(typeof define === \"function\" && define.amd){\n",
       "   // require.js is available: use it to load d3/LDAvis\n",
       "   require.config({paths: {d3: \"https://cdnjs.cloudflare.com/ajax/libs/d3/3.5.5/d3.min\"}});\n",
       "   require([\"d3\"], function(d3){\n",
       "      window.d3 = d3;\n",
       "      LDAvis_load_lib(\"https://cdn.rawgit.com/bmabey/pyLDAvis/files/ldavis.v1.0.0.js\", function(){\n",
       "        new LDAvis(\"#\" + \"ldavis_el251031141877087204893645969\", ldavis_el251031141877087204893645969_data);\n",
       "      });\n",
       "    });\n",
       "}else{\n",
       "    // require.js not available: dynamically load d3 & LDAvis\n",
       "    LDAvis_load_lib(\"https://cdnjs.cloudflare.com/ajax/libs/d3/3.5.5/d3.min.js\", function(){\n",
       "         LDAvis_load_lib(\"https://cdn.rawgit.com/bmabey/pyLDAvis/files/ldavis.v1.0.0.js\", function(){\n",
       "                 new LDAvis(\"#\" + \"ldavis_el251031141877087204893645969\", ldavis_el251031141877087204893645969_data);\n",
       "            })\n",
       "         });\n",
       "}\n",
       "</script>"
      ],
      "text/plain": [
       "PreparedData(topic_coordinates=              x         y  topics  cluster       Freq\n",
       "topic                                                \n",
       "7      0.287252  0.008296       1        1  44.348459\n",
       "9      0.258843 -0.053561       2        1  22.439171\n",
       "3      0.143434  0.128429       3        1   7.221231\n",
       "8      0.143282 -0.020240       4        1   6.993679\n",
       "4     -0.034091 -0.241101       5        1   4.349269\n",
       "5     -0.101068  0.236203       6        1   3.938845\n",
       "0     -0.137048  0.131366       7        1   3.576908\n",
       "6     -0.199630 -0.013106       8        1   2.596081\n",
       "2     -0.143919 -0.154011       9        1   2.508942\n",
       "1     -0.217056 -0.022274      10        1   2.027416, topic_info=      Category           Freq         Term          Total  loglift  logprob\n",
       "term                                                                       \n",
       "18925  Default  154533.000000      product  154533.000000  30.0000  30.0000\n",
       "776    Default   96008.000000       amazon   96008.000000  29.0000  29.0000\n",
       "4604   Default  207576.000000       coffee  207576.000000  28.0000  28.0000\n",
       "9473   Default  100195.000000         food  100195.000000  27.0000  27.0000\n",
       "26794  Default   49049.000000        water   49049.000000  26.0000  26.0000\n",
       "7448   Default   46472.000000        drink   46472.000000  25.0000  25.0000\n",
       "7209   Default   77920.000000          dog   77920.000000  24.0000  24.0000\n",
       "10678  Default  159978.000000        great  159978.000000  23.0000  23.0000\n",
       "2700   Default   43803.000000          box   43803.000000  22.0000  22.0000\n",
       "25326  Default   65747.000000       treats   65747.000000  21.0000  21.0000\n",
       "15424  Default   44723.000000          mix   44723.000000  20.0000  20.0000\n",
       "17181  Default   36543.000000         pack   36543.000000  19.0000  19.0000\n",
       "5288   Default   35179.000000      cookies   35179.000000  18.0000  18.0000\n",
       "23810  Default   53441.000000        sugar   53441.000000  17.0000  17.0000\n",
       "14510  Default   72339.000000         make   72339.000000  16.0000  16.0000\n",
       "21042  Default   27317.000000         salt   27317.000000  15.0000  15.0000\n",
       "4141   Default   38387.000000        chips   38387.000000  14.0000  14.0000\n",
       "13086  Default   25490.000000        juice   25490.000000  13.0000  13.0000\n",
       "4179   Default   56591.000000    chocolate   56591.000000  12.0000  12.0000\n",
       "16832  Default   43227.000000        order   43227.000000  11.0000  11.0000\n",
       "14259  Default  117785.000000         love  117785.000000  10.0000  10.0000\n",
       "9691   Default   49402.000000         free   49402.000000   9.0000   9.0000\n",
       "26142  Default   79455.000000          use   79455.000000   8.0000   8.0000\n",
       "16853  Default   42234.000000      organic   42234.000000   7.0000   7.0000\n",
       "15249  Default   36459.000000         milk   36459.000000   6.0000   6.0000\n",
       "16655  Default   22774.000000          oil   22774.000000   5.0000   5.0000\n",
       "4725   Default   19883.000000          com   19883.000000   4.0000   4.0000\n",
       "24387  Default  164684.000000        taste  164684.000000   3.0000   3.0000\n",
       "10362  Default   27701.000000       gluten   27701.000000   2.0000   2.0000\n",
       "22484  Default   27608.000000        snack   27608.000000   1.0000   1.0000\n",
       "...        ...            ...          ...            ...      ...      ...\n",
       "13342  Topic10    2372.254623          kit    2404.269708   3.8850  -5.1383\n",
       "10991  Topic10    2119.336312         hair    2151.355188   3.8834  -5.2510\n",
       "17430  Topic10    2075.978421         pass    2107.995992   3.8831  -5.2717\n",
       "26323  Topic10    1986.020971       vendor    2018.038053   3.8824  -5.3160\n",
       "15165  Topic10    1964.099655          mic    1996.111474   3.8822  -5.3271\n",
       "27072  Topic10    1947.802186    wholesome    1979.822914   3.8821  -5.3354\n",
       "11965  Topic10    1909.094062       icicle    1941.106217   3.8818  -5.3555\n",
       "7044   Topic10    1858.712408   disposable    1890.760771   3.8813  -5.3822\n",
       "9972   Topic10    1777.166162         gain    1809.193973   3.8805  -5.4271\n",
       "5489   Topic10    1760.862383          cow    1792.881793   3.8804  -5.4363\n",
       "22092  Topic10    1742.452195      similac    1774.465403   3.8802  -5.4468\n",
       "10410  Topic10    1568.224478        goats    1600.244292   3.8782  -5.5522\n",
       "10619  Topic10    1483.530448   grapefruit    1515.548452   3.8771  -5.6077\n",
       "20584  Topic10    1479.687325   ridiculous    1511.707987   3.8770  -5.6103\n",
       "5597   Topic10    1474.740298      created    1506.761177   3.8769  -5.6136\n",
       "26529  Topic10    1465.263610         vita    1497.279896   3.8768  -5.6201\n",
       "4953   Topic10    1280.673987     concerns    1312.693294   3.8737  -5.7547\n",
       "25188  Topic10    1276.710162          toy    1308.730034   3.8736  -5.7578\n",
       "26139  Topic10    1274.545582          usb    1306.557428   3.8736  -5.7595\n",
       "26095  Topic10    1274.272244          ups    1306.290469   3.8736  -5.7597\n",
       "1695   Topic10    1235.487257         ball    1267.504531   3.8728  -5.7906\n",
       "1854   Topic10    1145.477040         bath    1177.495767   3.8708  -5.8663\n",
       "24157  Topic10    1126.219988    switching    1158.236708   3.8704  -5.8832\n",
       "11579  Topic10    1090.506226       holder    1122.522573   3.8695  -5.9155\n",
       "190    Topic10    1082.497724        acids    1114.512740   3.8693  -5.9228\n",
       "22772  Topic10    1581.191404        sound    2296.706178   3.5251  -5.5439\n",
       "16449  Topic10    1701.186777  nutritional    3860.447447   3.0790  -5.4708\n",
       "22783  Topic10    1962.114023       source    6169.322161   2.7528  -5.3281\n",
       "18931  Topic10    2531.086710     products   34452.636482   1.2875  -5.0735\n",
       "3282   Topic10    1332.887348      calcium    2465.432940   3.2834  -5.7148\n",
       "\n",
       "[533 rows x 6 columns], token_table=       Topic      Freq        Term\n",
       "term                              \n",
       "49         1  0.000272  absolutely\n",
       "49         2  0.000272  absolutely\n",
       "49         3  0.997842  absolutely\n",
       "49         4  0.000272  absolutely\n",
       "49         5  0.000272  absolutely\n",
       "49         6  0.000204  absolutely\n",
       "49         7  0.000204  absolutely\n",
       "49         8  0.000272  absolutely\n",
       "49         9  0.000204  absolutely\n",
       "49        10  0.000204  absolutely\n",
       "190        1  0.003589       acids\n",
       "190        2  0.003589       acids\n",
       "190        3  0.002692       acids\n",
       "190        4  0.003589       acids\n",
       "190        5  0.003589       acids\n",
       "190        6  0.002692       acids\n",
       "190        7  0.002692       acids\n",
       "190        8  0.003589       acids\n",
       "190        9  0.002692       acids\n",
       "190       10  0.970828       acids\n",
       "258        1  0.521418         add\n",
       "258        2  0.005504         add\n",
       "258        3  0.472204         add\n",
       "258        4  0.000130         add\n",
       "258        5  0.000130         add\n",
       "258        6  0.000098         add\n",
       "258        7  0.000163         add\n",
       "258        8  0.000130         add\n",
       "258        9  0.000098         add\n",
       "258       10  0.000098         add\n",
       "...      ...       ...         ...\n",
       "27483      1  0.190082        year\n",
       "27483      2  0.805845        year\n",
       "27483      3  0.000128        year\n",
       "27483      4  0.002997        year\n",
       "27483      5  0.000171        year\n",
       "27483      6  0.000128        year\n",
       "27483      7  0.000128        year\n",
       "27483      8  0.000214        year\n",
       "27483      9  0.000128        year\n",
       "27483     10  0.000128        year\n",
       "27488      1  0.426305       years\n",
       "27488      2  0.563233       years\n",
       "27488      3  0.000091       years\n",
       "27488      4  0.002013       years\n",
       "27488      5  0.006282       years\n",
       "27488      6  0.000091       years\n",
       "27488      7  0.000091       years\n",
       "27488      8  0.001677       years\n",
       "27488      9  0.000091       years\n",
       "27488     10  0.000091       years\n",
       "27587      1  0.001325         yum\n",
       "27587      2  0.001325         yum\n",
       "27587      3  0.000993         yum\n",
       "27587      4  0.001325         yum\n",
       "27587      5  0.001325         yum\n",
       "27587      6  0.000993         yum\n",
       "27587      7  0.989440         yum\n",
       "27587      8  0.001325         yum\n",
       "27587      9  0.000993         yum\n",
       "27587     10  0.000993         yum\n",
       "\n",
       "[4610 rows x 3 columns], R=30, lambda_step=0.01, plot_opts={'xlab': 'PC1', 'ylab': 'PC2'}, topic_order=[8, 10, 4, 9, 5, 6, 1, 7, 3, 2])"
      ]
     },
     "execution_count": 219,
     "metadata": {},
     "output_type": "execute_result"
    }
   ],
   "source": [
    "pyLDAvis.sklearn.prepare(lda_tf, dtm_tf, tf_vectorizer)"
   ]
  },
  {
   "cell_type": "markdown",
   "metadata": {},
   "source": [
    "# Appendix "
   ]
  },
  {
   "cell_type": "markdown",
   "metadata": {},
   "source": [
    "Below is the code for performing LDA on all of the reviews. "
   ]
  },
  {
   "cell_type": "code",
   "execution_count": null,
   "metadata": {},
   "outputs": [],
   "source": [
    "# for TF DTM\n",
    "lda_tf = LatentDirichletAllocation(n_topics=10, random_state=0)\n",
    "lda_tf.fit(dtm_tf)\n",
    "\n",
    "# for TFIDF DTM\n",
    "lda_tfidf = LatentDirichletAllocation(n_topics=10, random_state=0)\n",
    "lda_tfidf.fit(dtm_tfidf)"
   ]
  },
  {
   "cell_type": "code",
   "execution_count": null,
   "metadata": {},
   "outputs": [],
   "source": [
    "pyLDAvis.sklearn.prepare(lda_tf, dtm_tf, tf_vectorizer)"
   ]
  },
  {
   "cell_type": "code",
   "execution_count": null,
   "metadata": {},
   "outputs": [],
   "source": [
    "pyLDAvis.sklearn.prepare(lda_tfidf, dtm_tfidf, tfidf_vectorizer)"
   ]
  }
 ],
 "metadata": {
  "kernelspec": {
   "display_name": "Python 3",
   "language": "python",
   "name": "python3"
  },
  "language_info": {
   "codemirror_mode": {
    "name": "ipython",
    "version": 3
   },
   "file_extension": ".py",
   "mimetype": "text/x-python",
   "name": "python",
   "nbconvert_exporter": "python",
   "pygments_lexer": "ipython3",
   "version": "3.6.5"
  }
 },
 "nbformat": 4,
 "nbformat_minor": 2
}
